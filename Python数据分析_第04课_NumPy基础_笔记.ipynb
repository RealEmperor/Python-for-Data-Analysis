{
 "cells": [
  {
   "cell_type": "markdown",
   "metadata": {},
   "source": [
    "# numpy"
   ]
  },
  {
   "cell_type": "code",
   "execution_count": 1,
   "metadata": {
    "collapsed": true
   },
   "outputs": [
    {
     "data": {
      "text/plain": [
       "array([ 0.        ,  1.        ,  1.41421356,  1.73205081,  2.        ,\n",
       "        2.23606798,  2.44948974,  2.64575131,  2.82842712,  3.        ])"
      ]
     },
     "execution_count": 1,
     "metadata": {},
     "output_type": "execute_result"
    }
   ],
   "source": [
    "import numpy as np\n",
    "from numpy.random import randn\n",
    "\n",
    "#通用函数\n",
    "arr = np.arange(10)\n",
    "np.sqrt(arr)"
   ]
  },
  {
   "cell_type": "code",
   "execution_count": 2,
   "metadata": {
    "collapsed": true
   },
   "outputs": [
    {
     "data": {
      "text/plain": [
       "array([  1.00000000e+00,   2.71828183e+00,   7.38905610e+00,\n",
       "         2.00855369e+01,   5.45981500e+01,   1.48413159e+02,\n",
       "         4.03428793e+02,   1.09663316e+03,   2.98095799e+03,\n",
       "         8.10308393e+03])"
      ]
     },
     "execution_count": 2,
     "metadata": {},
     "output_type": "execute_result"
    }
   ],
   "source": [
    "np.exp(arr)"
   ]
  },
  {
   "cell_type": "markdown",
   "metadata": {},
   "source": [
    "## np.maximum 元素级最大值"
   ]
  },
  {
   "cell_type": "code",
   "execution_count": 3,
   "metadata": {
    "collapsed": true
   },
   "outputs": [
    {
     "name": "stdout",
     "output_type": "stream",
     "text": [
      "[-1.03760196 -1.0035245  -0.19109603  2.27398057 -0.51605815 -1.25481649\n",
      " -1.95118717 -0.09423245]\n",
      "[-1.26195712 -0.70857631 -0.18729477  2.58847014  2.46277713 -1.04523397\n",
      "  1.13501218  1.3499591 ]\n"
     ]
    },
    {
     "data": {
      "text/plain": [
       "array([-1.03760196, -0.70857631, -0.18729477,  2.58847014,  2.46277713,\n",
       "       -1.04523397,  1.13501218,  1.3499591 ])"
      ]
     },
     "execution_count": 3,
     "metadata": {},
     "output_type": "execute_result"
    }
   ],
   "source": [
    "x = randn(8)\n",
    "y = randn(8)\n",
    "print(x)\n",
    "print(y)\n",
    "# 元素级最大值\n",
    "np.maximum(x, y)"
   ]
  },
  {
   "cell_type": "markdown",
   "metadata": {},
   "source": [
    "## np.modf 按元素返回数组的小数部分和整数部分"
   ]
  },
  {
   "cell_type": "code",
   "execution_count": 4,
   "metadata": {
    "collapsed": true
   },
   "outputs": [
    {
     "name": "stdout",
     "output_type": "stream",
     "text": [
      "[ 8.01175821  3.46248512 -4.11785287  1.34226648  0.40194097  5.81213218\n",
      " -0.40446832]\n"
     ]
    },
    {
     "data": {
      "text/plain": [
       "(array([ 0.01175821,  0.46248512, -0.11785287,  0.34226648,  0.40194097,\n",
       "         0.81213218, -0.40446832]), array([ 8.,  3., -4.,  1.,  0.,  5., -0.]))"
      ]
     },
     "execution_count": 4,
     "metadata": {},
     "output_type": "execute_result"
    }
   ],
   "source": [
    "arr = randn(7) * 5\n",
    "print(arr)\n",
    "# 按元素返回数组的小数部分和整数部分\n",
    "np.modf(arr)"
   ]
  },
  {
   "cell_type": "markdown",
   "metadata": {},
   "source": [
    "## np.meshgrid 从坐标向量返回坐标矩阵"
   ]
  },
  {
   "cell_type": "code",
   "execution_count": 5,
   "metadata": {
    "collapsed": true
   },
   "outputs": [
    {
     "name": "stdout",
     "output_type": "stream",
     "text": [
      "[[-5.   -5.   -5.   ..., -5.   -5.   -5.  ]\n",
      " [-4.99 -4.99 -4.99 ..., -4.99 -4.99 -4.99]\n",
      " [-4.98 -4.98 -4.98 ..., -4.98 -4.98 -4.98]\n",
      " ..., \n",
      " [ 4.97  4.97  4.97 ...,  4.97  4.97  4.97]\n",
      " [ 4.98  4.98  4.98 ...,  4.98  4.98  4.98]\n",
      " [ 4.99  4.99  4.99 ...,  4.99  4.99  4.99]]\n"
     ]
    }
   ],
   "source": [
    "###利用数组进行数据处理\n",
    "# 向量化\n",
    "points = np.arange(-5, 5, 0.01)  # 1000 equally spaced points\n",
    "# 从坐标向量返回坐标矩阵\n",
    "xs, ys = np.meshgrid(points, points)\n",
    "print(ys)\n"
   ]
  },
  {
   "cell_type": "code",
   "execution_count": 10,
   "metadata": {
    "collapsed": true
   },
   "outputs": [
    {
     "name": "stdout",
     "output_type": "stream",
     "text": [
      "[[ 7.07106781  7.06400028  7.05693985 ...,  7.04988652  7.05693985\n",
      "   7.06400028]\n",
      " [ 7.06400028  7.05692568  7.04985815 ...,  7.04279774  7.04985815\n",
      "   7.05692568]\n",
      " [ 7.05693985  7.04985815  7.04278354 ...,  7.03571603  7.04278354\n",
      "   7.04985815]\n",
      " ..., \n",
      " [ 7.04988652  7.04279774  7.03571603 ...,  7.0286414   7.03571603\n",
      "   7.04279774]\n",
      " [ 7.05693985  7.04985815  7.04278354 ...,  7.03571603  7.04278354\n",
      "   7.04985815]\n",
      " [ 7.06400028  7.05692568  7.04985815 ...,  7.04279774  7.04985815\n",
      "   7.05692568]]\n"
     ]
    }
   ],
   "source": [
    "import matplotlib.pyplot as plt\n",
    "\n",
    "z = np.sqrt(xs ** 2 + ys ** 2)\n",
    "print(z)\n",
    "plt.imshow(z, cmap=plt.cm.gray)\n",
    "plt.colorbar()\n",
    "plt.title(\"Image plot of $\\sqrt{x^2 + y^2}$ for a grid of values\")\n",
    "\n",
    "plt.draw()"
   ]
  },
  {
   "cell_type": "markdown",
   "metadata": {},
   "source": [
    "## np.where"
   ]
  },
  {
   "cell_type": "code",
   "execution_count": 11,
   "metadata": {
    "collapsed": true
   },
   "outputs": [
    {
     "name": "stdout",
     "output_type": "stream",
     "text": [
      "[1.1000000000000001, 2.2000000000000002, 1.3, 1.3999999999999999, 2.5]\n"
     ]
    }
   ],
   "source": [
    "# 将条件逻辑表达为数组运算\n",
    "xarr = np.array([1.1, 1.2, 1.3, 1.4, 1.5])\n",
    "yarr = np.array([2.1, 2.2, 2.3, 2.4, 2.5])\n",
    "cond = np.array([True, False, True, True, False])\n",
    "\n",
    "result = [(x if c else y)\n",
    "          for x, y, c in zip(xarr, yarr, cond)]\n",
    "print(result)"
   ]
  },
  {
   "cell_type": "code",
   "execution_count": 12,
   "metadata": {
    "collapsed": true
   },
   "outputs": [
    {
     "name": "stdout",
     "output_type": "stream",
     "text": [
      "[ 1.1  2.2  1.3  1.4  2.5]\n"
     ]
    }
   ],
   "source": [
    "result = np.where(cond, xarr, yarr)\n",
    "print(result)"
   ]
  },
  {
   "cell_type": "code",
   "execution_count": 13,
   "metadata": {
    "collapsed": true
   },
   "outputs": [
    {
     "name": "stdout",
     "output_type": "stream",
     "text": [
      "[[-0.09677059 -0.78473401 -0.00841639  1.39892368]\n",
      " [-1.14999224  0.33586593 -0.1844864   0.47664971]\n",
      " [-0.67508722  0.56130304 -0.8018509   0.07338623]\n",
      " [ 0.10375292  1.44174994  0.42788598 -0.66850794]]\n",
      "[[-2 -2 -2  2]\n",
      " [-2  2 -2  2]\n",
      " [-2  2 -2  2]\n",
      " [ 2  2  2 -2]]\n",
      "[[-0.09677059 -0.78473401 -0.00841639  2.        ]\n",
      " [-1.14999224  2.         -0.1844864   2.        ]\n",
      " [-0.67508722  2.         -0.8018509   2.        ]\n",
      " [ 2.          2.          2.         -0.66850794]]\n"
     ]
    }
   ],
   "source": [
    "arr = randn(4, 4)\n",
    "print(arr)\n",
    "print(np.where(arr > 0, 2, -2))\n",
    "print(np.where(arr > 0, 2, arr))  # set only positive values to 2"
   ]
  },
  {
   "cell_type": "code",
   "execution_count": 14,
   "metadata": {
    "collapsed": true
   },
   "outputs": [
    {
     "data": {
      "text/plain": [
       "'\\n# 多条件一般表示方法\\n# Not to be executed\\nresult = []\\nfor i in range(n):\\n    if cond1[i] and cond2[i]:\\n        result.append(0)\\n    elif cond1[i]:\\n        result.append(1)\\n    elif cond2[i]:\\n        result.append(2)\\n    else:\\n        result.append(3)\\n\\n# 多条件where表示方法\\n# Not to be executed\\nnp.where(cond1 & cond2, 0,\\n         np.where(cond1, 1,\\n                  np.where(cond2, 2, 3)))\\n\\n# Not to be executed\\nresult = 1 * cond1 + 2 * cond2 + 3 * -(cond1 | cond2)\\n'"
      ]
     },
     "execution_count": 14,
     "metadata": {},
     "output_type": "execute_result"
    }
   ],
   "source": [
    "\"\"\"\n",
    "# 多条件一般表示方法\n",
    "# Not to be executed\n",
    "result = []\n",
    "for i in range(n):\n",
    "    if cond1[i] and cond2[i]:\n",
    "        result.append(0)\n",
    "    elif cond1[i]:\n",
    "        result.append(1)\n",
    "    elif cond2[i]:\n",
    "        result.append(2)\n",
    "    else:\n",
    "        result.append(3)\n",
    "\n",
    "# 多条件where表示方法\n",
    "# Not to be executed\n",
    "np.where(cond1 & cond2, 0,\n",
    "         np.where(cond1, 1,\n",
    "                  np.where(cond2, 2, 3)))\n",
    "\n",
    "# Not to be executed\n",
    "result = 1 * cond1 + 2 * cond2 + 3 * -(cond1 | cond2)\n",
    "\"\"\""
   ]
  },
  {
   "cell_type": "markdown",
   "metadata": {},
   "source": [
    "# 数学与统计方法\n",
    "\n",
    "## randn 标准正态分布数据"
   ]
  },
  {
   "cell_type": "code",
   "execution_count": 15,
   "metadata": {
    "collapsed": true
   },
   "outputs": [
    {
     "name": "stdout",
     "output_type": "stream",
     "text": [
      "0.299738473867\n",
      "0.299738473867\n",
      "5.99476947734\n",
      "[ 0.33172725 -0.49981575  0.35973217  0.39621625  0.91083245]\n",
      "[ 4.58629248  2.22968175 -1.88744743  1.06624268]\n",
      "[[ 0  1  2]\n",
      " [ 3  5  7]\n",
      " [ 9 12 15]]\n",
      "[[  0   0   0]\n",
      " [  3  12  60]\n",
      " [  6  42 336]]\n"
     ]
    }
   ],
   "source": [
    "# 数学与统计方法\n",
    "\n",
    "arr = np.random.randn(5, 4)  # 标准正态分布数据\n",
    "print(arr.mean())\n",
    "print(np.mean(arr))\n",
    "print(arr.sum())\n",
    "\n",
    "print(arr.mean(axis=1))\n",
    "print(arr.sum(0))\n",
    "\n",
    "arr = np.array([[0, 1, 2], [3, 4, 5], [6, 7, 8]])\n",
    "print(arr.cumsum(0))\n",
    "print(arr.cumprod(1))"
   ]
  },
  {
   "cell_type": "markdown",
   "metadata": {},
   "source": [
    "## 用于布尔型数组的方法"
   ]
  },
  {
   "cell_type": "code",
   "execution_count": 16,
   "metadata": {
    "collapsed": true
   },
   "outputs": [
    {
     "name": "stdout",
     "output_type": "stream",
     "text": [
      "True\n",
      "False\n"
     ]
    }
   ],
   "source": [
    "# 用于布尔型数组的方法\n",
    "arr = randn(100)\n",
    "(arr > 0).sum()  # 正值的数量\n",
    "\n",
    "bools = np.array([False, False, True, False])\n",
    "print(bools.any())\n",
    "print(bools.all())"
   ]
  },
  {
   "cell_type": "markdown",
   "metadata": {},
   "source": [
    "## 排序"
   ]
  },
  {
   "cell_type": "code",
   "execution_count": 17,
   "metadata": {
    "collapsed": true
   },
   "outputs": [
    {
     "name": "stdout",
     "output_type": "stream",
     "text": [
      "[-0.17018254  1.29292169  1.87999871 -0.25529225  1.1058983  -0.27456269\n",
      " -1.17911236  0.30155365]\n",
      "[-1.17911236 -0.27456269 -0.25529225 -0.17018254  0.30155365  1.1058983\n",
      "  1.29292169  1.87999871]\n",
      "[[-0.31552106  0.95227657  0.08006334]\n",
      " [ 0.86493167  0.66028869  0.56929258]\n",
      " [-1.30046025 -1.03020373 -0.80371581]\n",
      " [-0.74412785  0.2413104  -0.81418268]\n",
      " [-1.16001837 -0.70517682 -0.5816708 ]]\n",
      "[[-0.31552106  0.08006334  0.95227657]\n",
      " [ 0.56929258  0.66028869  0.86493167]\n",
      " [-1.30046025 -1.03020373 -0.80371581]\n",
      " [-0.81418268 -0.74412785  0.2413104 ]\n",
      " [-1.16001837 -0.70517682 -0.5816708 ]]\n"
     ]
    }
   ],
   "source": [
    "# 排序\n",
    "arr = randn(8)\n",
    "print(arr)\n",
    "arr.sort()\n",
    "print(arr)\n",
    "\n",
    "arr = randn(5, 3)\n",
    "print(arr)\n",
    "arr.sort(1)\n",
    "print(arr)\n"
   ]
  },
  {
   "cell_type": "markdown",
   "metadata": {},
   "source": [
    "## 5%分位数"
   ]
  },
  {
   "cell_type": "code",
   "execution_count": 18,
   "metadata": {
    "collapsed": true
   },
   "outputs": [
    {
     "data": {
      "text/plain": [
       "-1.7061490455426676"
      ]
     },
     "execution_count": 18,
     "metadata": {},
     "output_type": "execute_result"
    }
   ],
   "source": [
    "large_arr = randn(1000)\n",
    "large_arr.sort()\n",
    "large_arr[int(0.05 * len(large_arr))]  # 5%分位数"
   ]
  },
  {
   "cell_type": "markdown",
   "metadata": {},
   "source": [
    "## np.unique 唯一化 以及其他的集合逻辑"
   ]
  },
  {
   "cell_type": "code",
   "execution_count": 19,
   "metadata": {
    "collapsed": true
   },
   "outputs": [
    {
     "data": {
      "text/plain": [
       "array(['Bob', 'Joe', 'Will'], \n",
       "      dtype='<U4')"
      ]
     },
     "execution_count": 19,
     "metadata": {},
     "output_type": "execute_result"
    }
   ],
   "source": [
    "# 唯一化以及其他的集合逻辑\n",
    "names = np.array(['Bob', 'Joe', 'Will', 'Bob', 'Will', 'Joe', 'Joe'])\n",
    "np.unique(names)"
   ]
  },
  {
   "cell_type": "code",
   "execution_count": 20,
   "metadata": {
    "collapsed": true
   },
   "outputs": [
    {
     "data": {
      "text/plain": [
       "array([1, 2, 3, 4])"
      ]
     },
     "execution_count": 20,
     "metadata": {},
     "output_type": "execute_result"
    }
   ],
   "source": [
    "ints = np.array([3, 3, 3, 2, 2, 1, 1, 4, 4])\n",
    "np.unique(ints)"
   ]
  },
  {
   "cell_type": "code",
   "execution_count": 21,
   "metadata": {
    "collapsed": true
   },
   "outputs": [
    {
     "data": {
      "text/plain": [
       "['Bob', 'Joe', 'Will']"
      ]
     },
     "execution_count": 21,
     "metadata": {},
     "output_type": "execute_result"
    }
   ],
   "source": [
    "sorted(set(names))"
   ]
  },
  {
   "cell_type": "code",
   "execution_count": 22,
   "metadata": {
    "collapsed": true
   },
   "outputs": [
    {
     "data": {
      "text/plain": [
       "array([ True, False, False,  True,  True, False,  True], dtype=bool)"
      ]
     },
     "execution_count": 22,
     "metadata": {},
     "output_type": "execute_result"
    }
   ],
   "source": [
    "values = np.array([6, 0, 0, 3, 2, 5, 6])\n",
    "np.in1d(values, [2, 3, 6])"
   ]
  },
  {
   "cell_type": "markdown",
   "metadata": {},
   "source": [
    "# 线性代数"
   ]
  },
  {
   "cell_type": "code",
   "execution_count": 23,
   "metadata": {
    "collapsed": true
   },
   "outputs": [
    {
     "name": "stdout",
     "output_type": "stream",
     "text": [
      "[[ 1.  2.  3.]\n",
      " [ 4.  5.  6.]]\n",
      "[[  6.  23.]\n",
      " [ -1.   7.]\n",
      " [  8.   9.]]\n",
      "[[  28.   64.]\n",
      " [  67.  181.]]\n",
      "[  6.  15.]\n",
      "[[ -6.92714002   7.38899524   6.12272905  -7.11625341  -4.92150833]\n",
      " [  0.          -3.97347612  -0.86707993   2.97472904  -5.74024113]\n",
      " [  0.           0.         -10.26810228   1.89090298   1.60790112]\n",
      " [  0.           0.           0.          -1.29964934   3.35772244]\n",
      " [  0.           0.           0.           0.           0.55705805]]\n"
     ]
    }
   ],
   "source": [
    "#线性代数\n",
    "x = np.array([[1., 2., 3.], [4., 5., 6.]])\n",
    "y = np.array([[6., 23.], [-1, 7], [8, 9]])\n",
    "print(x)\n",
    "print(y)\n",
    "print(x.dot(y))  # 等价于np.dot(x, y)\n",
    "\n",
    "print(np.dot(x, np.ones(3)))\n",
    "\n",
    "np.random.seed(12345)\n",
    "\n",
    "from numpy.linalg import inv, qr\n",
    "\n",
    "X = randn(5, 5)\n",
    "mat = X.T.dot(X)\n",
    "# 计算矩阵的逆矩阵\n",
    "inv(mat)\n",
    "mat.dot(inv(mat))\n",
    "# 计算矩阵的QR因子分解\n",
    "q, r = qr(mat)\n",
    "print(r)\n"
   ]
  },
  {
   "cell_type": "markdown",
   "metadata": {},
   "source": [
    "## 随机数生成"
   ]
  },
  {
   "cell_type": "code",
   "execution_count": 24,
   "metadata": {
    "collapsed": true
   },
   "outputs": [
    {
     "name": "stdout",
     "output_type": "stream",
     "text": [
      "[[  1.24121276e-01   3.02613562e-01   5.23772068e-01   9.40277775e-04]\n",
      " [  1.34380979e+00  -7.13543985e-01  -8.31153539e-01  -2.37023165e+00]\n",
      " [ -1.86076079e+00  -8.60757398e-01   5.60145293e-01  -1.26593449e+00]\n",
      " [  1.19827125e-01  -1.06351245e+00   3.32882716e-01  -2.35941881e+00]]\n"
     ]
    }
   ],
   "source": [
    "#随机数生成\n",
    "samples = np.random.normal(size=(4, 4))\n",
    "print(samples)"
   ]
  },
  {
   "cell_type": "markdown",
   "metadata": {},
   "source": [
    "# 范例：随机漫步"
   ]
  },
  {
   "cell_type": "code",
   "execution_count": 25,
   "metadata": {
    "collapsed": true
   },
   "outputs": [
    {
     "name": "stdout",
     "output_type": "stream",
     "text": [
      "[0, 1, 0, -1, 0, -1, 0, -1, -2, -1, 0, -1, 0, 1, 2, 1, 0, -1, -2, -1, -2, -3, -4, -5, -4, -3, -2, -3, -4, -5, -6, -5, -4, -3, -4, -3, -4, -5, -4, -5, -6, -7, -6, -5, -4, -5, -6, -7, -6, -7, -6, -7, -6, -5, -4, -3, -4, -3, -4, -3, -2, -3, -4, -3, -2, -3, -4, -5, -6, -7, -8, -9, -8, -9, -8, -9, -8, -7, -6, -5, -6, -5, -6, -7, -8, -9, -8, -7, -8, -9, -10, -11, -12, -13, -12, -11, -12, -11, -12, -11, -12, -11, -12, -11, -10, -11, -12, -11, -12, -13, -12, -11, -12, -11, -10, -11, -12, -13, -12, -11, -10, -9, -10, -9, -10, -11, -10, -11, -10, -9, -8, -9, -10, -11, -12, -13, -12, -13, -14, -15, -14, -13, -12, -13, -12, -11, -10, -9, -8, -9, -8, -9, -8, -9, -8, -9, -8, -9, -10, -9, -8, -7, -8, -9, -10, -11, -12, -11, -12, -11, -12, -13, -12, -13, -12, -11, -12, -11, -10, -9, -8, -7, -6, -7, -6, -7, -6, -5, -6, -5, -4, -5, -6, -7, -8, -7, -8, -7, -6, -7, -6, -7, -6, -5, -4, -3, -2, -1, 0, 1, 2, 1, 0, 1, 0, 1, 2, 1, 2, 1, 0, -1, 0, 1, 0, 1, 0, 1, 2, 1, 0, -1, -2, -3, -2, -3, -2, -3, -4, -3, -2, -1, -2, -3, -4, -3, -2, -3, -4, -3, -4, -5, -6, -7, -8, -9, -10, -9, -8, -7, -8, -7, -8, -7, -6, -7, -6, -7, -6, -7, -6, -5, -6, -5, -6, -5, -4, -5, -6, -5, -6, -7, -6, -7, -8, -7, -6, -7, -6, -5, -4, -3, -4, -5, -4, -5, -6, -5, -6, -5, -4, -3, -4, -3, -4, -5, -6, -5, -6, -5, -6, -5, -4, -3, -2, -1, -2, -1, -2, -1, -2, -3, -4, -3, -4, -3, -4, -3, -2, -1, -2, -1, 0, 1, 2, 1, 0, 1, 2, 1, 2, 1, 2, 3, 2, 3, 2, 3, 2, 1, 0, -1, 0, -1, 0, -1, 0, -1, 0, -1, -2, -1, 0, 1, 2, 3, 4, 5, 4, 5, 4, 3, 2, 3, 4, 5, 6, 5, 6, 7, 6, 5, 6, 5, 4, 5, 4, 5, 6, 7, 6, 5, 4, 5, 4, 3, 4, 5, 4, 5, 4, 3, 4, 5, 4, 5, 6, 7, 6, 7, 6, 7, 8, 9, 10, 9, 10, 9, 10, 9, 10, 9, 8, 9, 8, 7, 8, 9, 10, 11, 12, 13, 12, 11, 10, 11, 12, 13, 14, 15, 14, 15, 16, 15, 16, 15, 14, 13, 14, 13, 14, 13, 12, 11, 10, 9, 10, 11, 10, 11, 12, 11, 12, 11, 10, 9, 10, 9, 8, 9, 10, 9, 8, 7, 8, 7, 6, 5, 6, 7, 6, 7, 8, 9, 10, 11, 12, 13, 12, 13, 14, 13, 12, 13, 12, 13, 12, 11, 12, 11, 10, 11, 12, 13, 12, 11, 10, 9, 10, 11, 12, 13, 12, 13, 12, 13, 12, 13, 14, 15, 14, 13, 12, 13, 14, 15, 14, 15, 14, 15, 14, 15, 16, 17, 16, 17, 18, 17, 16, 17, 18, 19, 18, 19, 20, 21, 22, 21, 22, 21, 20, 19, 18, 17, 16, 15, 16, 15, 16, 17, 18, 19, 20, 19, 18, 19, 20, 19, 18, 19, 18, 19, 18, 17, 18, 19, 18, 17, 16, 15, 14, 13, 12, 13, 14, 15, 14, 13, 14, 13, 12, 13, 12, 13, 12, 11, 10, 11, 12, 13, 14, 15, 14, 13, 14, 13, 12, 13, 14, 15, 14, 13, 14, 15, 16, 17, 18, 19, 18, 19, 20, 19, 20, 19, 18, 19, 20, 21, 20, 21, 20, 19, 18, 19, 20, 19, 18, 17, 18, 19, 18, 17, 16, 15, 14, 15, 14, 13, 12, 11, 12, 11, 10, 11, 12, 11, 10, 9, 8, 9, 10, 9, 10, 9, 10, 11, 10, 11, 12, 13, 12, 13, 12, 13, 12, 13, 14, 13, 12, 13, 12, 13, 14, 13, 12, 13, 12, 13, 12, 13, 12, 13, 12, 11, 10, 11, 10, 11, 10, 9, 8, 7, 6, 5, 4, 3, 2, 3, 4, 3, 4, 5, 4, 5, 4, 5, 4, 5, 6, 7, 6, 7, 6, 5, 6, 7, 8, 9, 8, 9, 10, 9, 8, 9, 10, 11, 10, 11, 12, 13, 12, 11, 12, 13, 14, 15, 14, 15, 16, 17, 16, 15, 14, 15, 16, 15, 14, 13, 14, 15, 16, 15, 16, 17, 18, 17, 16, 15, 16, 17, 18, 17, 18, 19, 20, 19, 20, 19, 20, 19, 18, 19, 18, 17, 16, 15, 14, 13, 14, 15, 16, 15, 16, 17, 18, 19, 20, 21, 20, 19, 18, 17, 16, 15, 16, 17, 16, 15, 16, 15, 14, 13, 12, 11, 10, 11, 12, 11, 12, 11, 12, 11, 10, 9, 10, 9, 8, 7, 8, 7, 8, 7, 8, 7, 6, 7, 6, 5, 6, 5, 4, 3, 2, 1, 2, 1, 0, 1, 0, 1, 0, 1, 2, 3, 4, 3, 4, 5, 6, 5, 4, 5, 4, 3, 4, 3, 2, 3, 2, 3, 4, 3, 2, 3, 2, 3, 4, 3, 2, 1, 2, 1, 0, 1, 2, 3, 2, 3, 2, 1, 2, 3, 4, 3, 4, 3, 2, 3, 2, 3, 4, 5, 4, 3, 4, 3, 4, 5, 4, 5, 6, 5, 4, 5, 6, 7, 8, 9, 8, 9, 8, 7, 6, 7, 8, 7, 6, 7, 8, 9, 10, 9, 10, 11, 12, 13, 14, 13, 12, 11, 12, 11, 12, 13, 12, 11, 10, 11, 12, 11, 10, 11, 10, 9, 8, 7, 6, 5, 6, 5, 6, 7, 6, 5, 6, 5, 4, 3, 2, 1, 0, 1, 2, 3, 2, 1, 0, 1, 0, -1, 0, 1, 2, 1, 0, -1, -2, -3, -4, -5, -4, -3, -4, -3, -4, -3, -4, -5, -4, -5, -4]\n"
     ]
    }
   ],
   "source": [
    "# 范例：随机漫步\n",
    "import random\n",
    "\n",
    "position = 0\n",
    "walk = [position]\n",
    "steps = 1000\n",
    "for i in range(steps):\n",
    "    step = 1 if random.randint(0, 1) else -1\n",
    "    position += step\n",
    "    walk.append(position)\n",
    "    \n",
    "print(walk)"
   ]
  },
  {
   "cell_type": "code",
   "execution_count": 26,
   "metadata": {
    "collapsed": true
   },
   "outputs": [
    {
     "name": "stdout",
     "output_type": "stream",
     "text": [
      "[-1  0  1  2  1  2  1  0  1  0  1  2  1  2  3  2  3  4  5  4  3  2  3  4  5\n",
      "  4  5  4  3  4  5  6  7  8  7  8  9 10 11 12 13 12 11 12 13 12 11 12 13 14\n",
      " 15 14 15 16 17 18 17 18 19 18 19 18 17 18 19 20 19 18 19 18 19 18 17 16 17\n",
      " 18 17 16 15 14 13 12 13 12 11 10 11 10  9 10 11 12 13 14 15 14 13 12 13 12\n",
      " 11 12 11 12 11 12 11 10  9 10 11 10  9 10  9 10  9  8  9 10  9 10 11 10  9\n",
      " 10  9  8  9 10 11 12 11 10  9 10  9 10  9  8  9 10  9 10  9 10  9 10 11 12\n",
      " 11 12 11 10  9 10 11 10  9  8  7  6  5  6  7  8  7  6  7  6  7  6  7  6  5\n",
      "  6  7  6  7  8  7  8  9  8  7  8  7  6  7  8  9 10  9 10 11 10 11 12 13 12\n",
      " 11 10  9  8  9 10 11 10  9 10  9 10  9 10  9  8  7  6  7  6  5  6  7  8  7\n",
      "  6  5  6  7  6  7  8  7  8  7  6  5  4  3  4  3  2  3  4  5  6  7  6  5  4\n",
      "  5  4  3  2  3  4  5  6  5  6  5  6  7  6  7  8  7  6  7  6  7  8  9  8  9\n",
      "  8  9  8  7  6  5  4  3  2  1  0  1  0 -1 -2 -1 -2 -3 -2 -1  0  1  2  3  4\n",
      "  5  6  7  6  5  6  5  4  3  2  1  2  3  4  3  4  5  4  5  4  5  4  3  2  1\n",
      "  2  3  4  5  6  5  4  5  6  5  6  7  6  5  6  5  4  5  4  3  4  5  6  5  4\n",
      "  5  6  7  6  7  8  7  6  5  4  5  6  7  6  5  6  7  6  7  8  9 10 11 10 11\n",
      " 10 11 10  9 10 11 12 11 10 11 10 11 10 11 12 13 14 13 12 11 12 11 10  9  8\n",
      "  9  8  7  8  7  6  7  8  9  8  9  8  9 10 11 12 13 14 15 14 13 12 13 14 15\n",
      " 14 15 16 17 16 15 16 15 16 17 18 19 18 19 18 17 16 15 14 13 12 13 12 13 14\n",
      " 13 14 13 14 15 14 13 12 11 10 11 10 11 12 11 12 11 10 11 12 11 12 13 12 13\n",
      " 14 13 14 13 14 15 14 15 14 13 12 11 10  9  8  7  8  7  6  5  4  5  4  3  4\n",
      "  3  2  3  4  5  6  5  4  3  2  1  2  1  2  3  4  3  4  3  4  5  4  3  4  3\n",
      "  4  5  4  5  4  3  2  3  2  1  2  3  2  1  2  1  2  1  0  1  2  1  2  1  2\n",
      "  3  2  1  2  3  4  5  4  3  2  3  2  1  2  1  2  3  2  1  2  3  4  3  2  3\n",
      "  4  5  6  7  6  5  4  3  2  1  2  3  2  1  2  3  4  5  6  7  6  7  8  7  8\n",
      "  7  8  9  8  9  8  7  6  5  6  5  4  3  4  3  4  5  6  5  6  7  8  9  8  9\n",
      "  8  9 10  9 10 11 12 13 14 13 12 11 12 11 12 13 12 13 14 13 14 13 12 13 12\n",
      " 13 14 15 14 13 12 11 10  9 10  9  8  7  6  7  8  7  8  9  8  9 10  9 10 11\n",
      " 10 11 10 11 10 11 10  9 10 11 12 13 12 13 12 13 14 15 14 13 12 13 12 11 10\n",
      " 11 10  9  8  7  6  7  6  5  4  5  4  5  6  5  4  5  4  5  4  3  4  3  4  3\n",
      "  4  5  6  7  8  9  8  7  8  9 10 11 10  9  8  7  6  7  8  7  8  7  8  7  6\n",
      "  5  6  5  6  7  8  7  8  9 10  9  8  9  8  9 10  9 10  9  8  9  8  7  8  9\n",
      "  8  9  8  9  8  9  8  9 10 11 10 11 12 11 12 13 14 15 14 13 14 15 16 15 14\n",
      " 15 16 17 16 15 14 13 14 13 14 13 14 13 14 13 14 15 16 17 16 17 18 17 16 17\n",
      " 18 17 18 17 18 19 20 19 18 19 20 19 18 17 18 17 18 19 20 19 18 17 16 15 16\n",
      " 17 18 19 20 21 22 21 20 21 22 21 22 21 22 21 20 21 22 23 22 23 22 23 22 21\n",
      " 22 23 24 23 24 23 24 25 24 25 26 27 28 29 28 29 28 27 26 25 26 27 26 27 28\n",
      " 27 26 27 26 27 28 27 28 29 30 31 30 31 30 29 30 29 28 29 28 29 30 29 28 27\n",
      " 26 25 24 23 22 23 22 23 22 21 20 19 18 17 18 17 18 19 18 19 18 17 16 17 16\n",
      " 17 18 17 18 17 16 15 14 13 14 15 16 17 16 17 18 17 16 15 14 13 14 13 14 13\n",
      " 14 15 14 13 14 13 14 15 16 15 16 15 16 15 14 15 14 13 14 13 12 13 12 13 14]\n",
      "-3\n",
      "31\n",
      "37\n"
     ]
    }
   ],
   "source": [
    "np.random.seed(12345)\n",
    "\n",
    "nsteps = 1000\n",
    "draws = np.random.randint(0, 2, size=nsteps)\n",
    "steps = np.where(draws > 0, 1, -1)\n",
    "walk = steps.cumsum()\n",
    "print(walk)\n",
    "print(walk.min())\n",
    "print(walk.max())\n",
    "\n",
    "print((np.abs(walk) >= 10).argmax())"
   ]
  },
  {
   "cell_type": "code",
   "execution_count": 27,
   "metadata": {
    "collapsed": true
   },
   "outputs": [
    {
     "name": "stdout",
     "output_type": "stream",
     "text": [
      "[[  1   0   1 ...,   8   7   8]\n",
      " [  1   0  -1 ...,  34  33  32]\n",
      " [  1   0  -1 ...,   4   5   4]\n",
      " ..., \n",
      " [  1   2   1 ...,  24  25  26]\n",
      " [  1   2   3 ...,  14  13  14]\n",
      " [ -1  -2  -3 ..., -24 -23 -22]]\n",
      "138\n",
      "-133\n",
      "[False  True False ..., False  True False]\n",
      "3410\n",
      "498.88973607\n"
     ]
    }
   ],
   "source": [
    "# 一次模拟多个随机漫步\n",
    "nwalks = 5000\n",
    "nsteps = 1000\n",
    "draws = np.random.randint(0, 2, size=(nwalks, nsteps))  # 0 or 1\n",
    "steps = np.where(draws > 0, 1, -1)\n",
    "walks = steps.cumsum(1)\n",
    "print(walks)\n",
    "\n",
    "print(walks.max())\n",
    "print(walks.min())\n",
    "\n",
    "hits30 = (np.abs(walks) >= 30).any(1)\n",
    "print(hits30)\n",
    "print(hits30.sum())  # 到达30或-30的数量\n",
    "\n",
    "crossing_times = (np.abs(walks[hits30]) >= 30).argmax(1)\n",
    "print(crossing_times.mean())"
   ]
  },
  {
   "cell_type": "code",
   "execution_count": 28,
   "metadata": {
    "collapsed": true
   },
   "outputs": [
    {
     "name": "stdout",
     "output_type": "stream",
     "text": [
      "[[-0.02565707  0.36310961  0.41720151 ...,  0.15726638 -0.16256773\n",
      "   0.05423703]\n",
      " [-0.10456259  0.07877516  0.19110411 ...,  0.07678875 -0.18545695\n",
      "   0.0333151 ]\n",
      " [-0.16728617  0.12034941 -0.30427248 ..., -0.30982359 -0.17291787\n",
      "   0.02772071]\n",
      " ..., \n",
      " [ 0.27987403  0.05477886 -0.02167382 ...,  0.02795479  0.25268149\n",
      "   0.06510672]\n",
      " [ 0.31853634 -0.15109745 -0.1121375  ...,  0.14705719  0.18206871\n",
      "  -0.02473096]\n",
      " [-0.13101904 -0.24008233 -0.03925202 ..., -0.18320903 -0.20967376\n",
      "   0.20705573]]\n"
     ]
    }
   ],
   "source": [
    "steps = np.random.normal(loc=0, scale=0.25, size=(nwalks, nsteps))\n",
    "print(steps)"
   ]
  },
  {
   "cell_type": "markdown",
   "metadata": {},
   "source": [
    "# 利用NumPy进行历史股价分析"
   ]
  },
  {
   "cell_type": "code",
   "execution_count": 29,
   "metadata": {},
   "outputs": [
    {
     "name": "stdout",
     "output_type": "stream",
     "text": [
      "VWAP = 350.589549353\n",
      "mean = 351.037666667\n",
      "twap = 352.428321839\n",
      "highest = 364.9\n",
      "lowest = 333.53\n",
      "349.215\n",
      "Spread high price 24.86\n",
      "Spread low price 26.97\n"
     ]
    }
   ],
   "source": [
    "#利用NumPy进行历史股价分析\n",
    "import sys\n",
    "\n",
    "# 读入文件\n",
    "fname = 'data\\AAPL.csv'\n",
    "# c:价格，v:成交量\n",
    "c, v = np.loadtxt(fname, delimiter=',', usecols=(6, 7), unpack=True)\n",
    "\n",
    "# 计算成交量加权平均价格\n",
    "vwap = np.average(c, weights=v)\n",
    "print(\"vwap =\", vwap)\n",
    "\n",
    "# 算术平均值函数\n",
    "print(\"mean =\", np.mean(c))\n",
    "\n",
    "# 时间加权平均价格\n",
    "t = np.arange(len(c))\n",
    "print(\"twap =\", np.average(c, weights=t))\n",
    "\n",
    "# 寻找最大值和最小值\n",
    "h, l = np.loadtxt(fname, delimiter=',', usecols=(4, 5), unpack=True)\n",
    "print(\"highest =\", np.max(h))\n",
    "print(\"lowest =\", np.min(l))\n",
    "print((np.max(h) + np.min(l)) / 2)\n",
    "\n",
    "print(\"Spread high price\", np.ptp(h))\n",
    "print(\"Spread low price\", np.ptp(l))"
   ]
  },
  {
   "cell_type": "markdown",
   "metadata": {},
   "source": [
    "## 统计分析"
   ]
  },
  {
   "cell_type": "code",
   "execution_count": 30,
   "metadata": {},
   "outputs": [
    {
     "name": "stdout",
     "output_type": "stream",
     "text": [
      "median = 352.055\n",
      "sorted = [ 336.1   338.61  339.32  342.62  342.88  343.44  344.32  345.03  346.5\n",
      "  346.67  348.16  349.31  350.56  351.88  351.99  352.12  352.47  353.21\n",
      "  354.54  355.2   355.36  355.76  356.85  358.16  358.3   359.18  359.56\n",
      "  359.9   360.    363.13]\n",
      "middle = 351.99\n",
      "average middle = 352.055\n",
      "variance = 50.1265178889\n",
      "variance from definition = 50.1265178889\n"
     ]
    }
   ],
   "source": [
    "# 统计分析\n",
    "\n",
    "c = np.loadtxt(fname, delimiter=',', usecols=(6,), unpack=True)\n",
    "print(\"median =\", np.median(c))\n",
    "msorted = np.msort(c)\n",
    "print(\"sorted =\", msorted)\n",
    "\n",
    "N = len(c)\n",
    "print(\"middle =\", msorted[int((N - 1) / 2)])\n",
    "print(\"average middle =\", (msorted[int(N / 2)] + msorted[int((N - 1) / 2)]) / 2)\n",
    "\n",
    "print(\"variance =\", np.var(c))\n",
    "print(\"variance from definition =\", np.mean((c - c.mean()) ** 2))\n"
   ]
  },
  {
   "cell_type": "markdown",
   "metadata": {},
   "source": [
    "## 股票收益率"
   ]
  },
  {
   "cell_type": "code",
   "execution_count": 31,
   "metadata": {
    "scrolled": true
   },
   "outputs": [
    {
     "name": "stdout",
     "output_type": "stream",
     "text": [
      "Standard deviation = 0.0129221344368\n",
      "Indices with positive returns (array([ 0,  1,  4,  5,  6,  7,  9, 10, 11, 12, 16, 17, 18, 19, 21, 22, 23,\n",
      "       25, 28], dtype=int64),)\n",
      "Annual volatility 129.274789911\n",
      "Monthly volatility 37.3184173773\n"
     ]
    }
   ],
   "source": [
    "# 股票收益率\n",
    "c = np.loadtxt(fname, delimiter=',', usecols=(6,), unpack=True)\n",
    "\n",
    "returns = np.diff(c) / c[: -1]\n",
    "print(\"Standard deviation =\", np.std(returns))\n",
    "\n",
    "logreturns = np.diff(np.log(c))\n",
    "\n",
    "posretindices = np.where(returns > 0)\n",
    "print(\"Indices with positive returns\", posretindices)\n",
    "\n",
    "daily_volatility = np.std(logreturns) / np.mean(logreturns)\n",
    "annual_volatility = daily_volatility * np.sqrt(252.)\n",
    "print('Annual volatility', annual_volatility)\n",
    "print('Monthly volatility', annual_volatility / np.sqrt(12))"
   ]
  },
  {
   "cell_type": "markdown",
   "metadata": {},
   "source": [
    "## 日期分析"
   ]
  },
  {
   "cell_type": "code",
   "execution_count": 32,
   "metadata": {
    "collapsed": true
   },
   "outputs": [
    {
     "name": "stdout",
     "output_type": "stream",
     "text": [
      "Dates = [ 4.  0.  1.  2.  3.  4.  0.  1.  2.  3.  4.  0.  1.  2.  3.  4.  1.  2.\n",
      "  3.  4.  0.  1.  2.  3.  4.  0.  1.  2.  3.  4.]\n",
      "Day 0 prices [[ 339.32  351.88  359.18  353.21  355.36]] Average 351.79\n",
      "Day 1 prices [[ 345.03  355.2   359.9   338.61  349.31  355.76]] Average 350.635\n",
      "Day 2 prices [[ 344.32  358.16  363.13  342.62  352.12  352.47]] Average 352.136666667\n",
      "Day 3 prices [[ 343.44  354.54  358.3   342.88  359.56  346.67]] Average 350.898333333\n",
      "Day 4 prices [[ 336.1   346.5   356.85  350.56  348.16  360.    351.99]] Average 350.022857143\n",
      "Highest average 352.136666667\n",
      "Top day of the week 2\n",
      "Lowest average 350.022857143\n",
      "Bottom day of the week 4\n"
     ]
    }
   ],
   "source": [
    "# 日期分析\n",
    "from datetime import datetime\n",
    "\n",
    "\n",
    "# Monday 0\n",
    "# Tuesday 1\n",
    "# Wednesday 2\n",
    "# Thursday 3\n",
    "# Friday 4\n",
    "# Saturday 5\n",
    "# Sunday 6\n",
    "def datestr2num(s):\n",
    "    s = str(s, 'utf-8')\n",
    "    return datetime.strptime(s, \"%d-%m-%Y\").date().weekday()\n",
    "\n",
    "\n",
    "dates, close = np.loadtxt(fname, delimiter=',', usecols=(1, 6),\n",
    "                          converters={1: datestr2num},\n",
    "                          unpack=True)\n",
    "print(\"Dates =\", dates)\n",
    "\n",
    "averages = np.zeros(5)\n",
    "\n",
    "for i in range(5):\n",
    "    indices = np.where(dates == i)\n",
    "    prices = np.take(close, indices)\n",
    "    avg = np.mean(prices)\n",
    "    print(\"Day\", i, \"prices\", prices, \"Average\", avg)\n",
    "    averages[i] = avg\n",
    "\n",
    "top = np.max(averages)\n",
    "print(\"Highest average\", top)\n",
    "print(\"Top day of the week\", np.argmax(averages))\n",
    "\n",
    "bottom = np.min(averages)\n",
    "print(\"Lowest average\", bottom)\n",
    "print(\"Bottom day of the week\", np.argmin(averages))\n"
   ]
  },
  {
   "cell_type": "markdown",
   "metadata": {},
   "source": [
    "## 周汇总"
   ]
  },
  {
   "cell_type": "code",
   "execution_count": 33,
   "metadata": {
    "collapsed": true
   },
   "outputs": [
    {
     "name": "stdout",
     "output_type": "stream",
     "text": [
      "The first Monday index is 1\n",
      "The last Friday index is 15\n",
      "Weeks indices initial [ 1  2  3  4  5  6  7  8  9 10 11 12 13 14 15]\n",
      "Weeks indices after split [array([1, 2, 3, 4, 5], dtype=int64), array([ 6,  7,  8,  9, 10], dtype=int64), array([11, 12, 13, 14, 15], dtype=int64)]\n",
      "Week summary [['APPL' '335.8' '346.7' '334.3' '346.5']\n",
      " ['APPL' '347.8' '360.0' '347.6' '356.8']\n",
      " ['APPL' '356.7' '364.9' '349.5' '350.5']]\n"
     ]
    }
   ],
   "source": [
    "# 周汇总\n",
    "def datestr2num(s):\n",
    "    s = str(s, 'utf-8')\n",
    "    return datetime.strptime(s, \"%d-%m-%Y\").date().weekday()\n",
    "\n",
    "\n",
    "dates, open, high, low, close = np.loadtxt(fname, delimiter=',',\n",
    "                                           usecols=(1, 3, 4, 5, 6), converters={1: datestr2num}, unpack=True)\n",
    "close = close[:16]\n",
    "dates = dates[:16]\n",
    "\n",
    "# get first Monday\n",
    "first_monday = np.ravel(np.where(dates == 0))[0]\n",
    "print(\"The first Monday index is\", first_monday)\n",
    "\n",
    "# get last Friday\n",
    "last_friday = np.ravel(np.where(dates == 4))[-1]\n",
    "print(\"The last Friday index is\", last_friday)\n",
    "\n",
    "weeks_indices = np.arange(first_monday, last_friday + 1)\n",
    "print(\"Weeks indices initial\", weeks_indices)\n",
    "\n",
    "weeks_indices = np.split(weeks_indices, 3)\n",
    "print(\"Weeks indices after split\", weeks_indices)\n",
    "\n",
    "\n",
    "def summarize(a, o, h, l, c):\n",
    "    monday_open = o[a[0]]\n",
    "    week_high = np.max(np.take(h, a))\n",
    "    week_low = np.min(np.take(l, a))\n",
    "    friday_close = c[a[-1]]\n",
    "\n",
    "    return (\"APPL\", monday_open, week_high, week_low, friday_close)\n",
    "\n",
    "\n",
    "weeksummary = np.apply_along_axis(summarize, 1, weeks_indices, open, high, low, close)\n",
    "print(\"Week summary\", weeksummary)\n",
    "\n",
    "np.savetxt(\"data/weeksummary.csv\", weeksummary, delimiter=\",\", fmt=\"%s\")\n"
   ]
  },
  {
   "cell_type": "markdown",
   "metadata": {},
   "source": [
    "## 真实波动幅度均值"
   ]
  },
  {
   "cell_type": "code",
   "execution_count": 34,
   "metadata": {
    "collapsed": true
   },
   "outputs": [
    {
     "name": "stdout",
     "output_type": "stream",
     "text": [
      "len(h) 20 len(l) 20\n",
      "Close [ 336.1   339.32  345.03  344.32  343.44  346.5   351.88  355.2   358.16\n",
      "  354.54  356.85  359.18  359.9   363.13  358.3   350.56  338.61  342.62\n",
      "  342.88  348.16  353.21  349.31  352.12  359.56  360.    355.36  355.76\n",
      "  352.47  346.67  351.99]\n",
      "len(previousclose) 20\n",
      "Previous close [ 354.54  356.85  359.18  359.9   363.13  358.3   350.56  338.61  342.62\n",
      "  342.88  348.16  353.21  349.31  352.12  359.56  360.    355.36  355.76\n",
      "  352.47  346.67]\n",
      "True range [  4.26   2.77   2.42   5.     3.75   9.98   7.68   6.03   6.78   5.55\n",
      "   6.89   8.04   5.95   7.67   2.54  10.36   5.15   4.16   4.87   7.32]\n",
      "ATR [ 5.8585      5.704075    5.53987125  5.51287769  5.4247338   5.65249711\n",
      "  5.75387226  5.76767864  5.81829471  5.80487998  5.85913598  5.96817918\n",
      "  5.96727022  6.05240671  5.87678637  6.10094705  6.0533997   5.95872972\n",
      "  5.90429323  5.97507857]\n"
     ]
    }
   ],
   "source": [
    "# 真实波动幅度均值\n",
    "\n",
    "h, l, c = np.loadtxt(fname, delimiter=',', usecols=(4, 5, 6), unpack=True)\n",
    "\n",
    "N = 20\n",
    "h = h[-N:]\n",
    "l = l[-N:]\n",
    "\n",
    "print(\"len(h)\", len(h), \"len(l)\", len(l))\n",
    "print(\"Close\", c)\n",
    "previousclose = c[-N - 1: -1]\n",
    "\n",
    "print(\"len(previousclose)\", len(previousclose))\n",
    "print(\"Previous close\", previousclose)\n",
    "truerange = np.maximum(h - l, h - previousclose, previousclose - l)\n",
    "\n",
    "print(\"True range\", truerange)\n",
    "\n",
    "atr = np.zeros(N)\n",
    "\n",
    "atr[0] = np.mean(truerange)\n",
    "\n",
    "for i in range(1, N):\n",
    "    atr[i] = (N - 1) * atr[i - 1] + truerange[i]\n",
    "    atr[i] /= N\n",
    "\n",
    "print(\"ATR\", atr)"
   ]
  },
  {
   "cell_type": "markdown",
   "metadata": {},
   "source": [
    "## 简单移动平均线"
   ]
  },
  {
   "cell_type": "code",
   "execution_count": 38,
   "metadata": {
    "collapsed": true
   },
   "outputs": [
    {
     "name": "stdout",
     "output_type": "stream",
     "text": [
      "Weights [ 0.2  0.2  0.2  0.2  0.2]\n"
     ]
    },
    {
     "data": {
      "image/png": "[encoded data removed]",
      "text/plain": [
       "<matplotlib.figure.Figure at 0x1780abf35f8>"
      ]
     },
     "metadata": {},
     "output_type": "display_data"
    }
   ],
   "source": [
    "# 简单移动平均线\n",
    "from matplotlib.pyplot import plot\n",
    "from matplotlib.pyplot import show\n",
    "\n",
    "N = 5\n",
    "\n",
    "weights = np.ones(N) / N\n",
    "print(\"Weights\", weights)\n",
    "\n",
    "c = np.loadtxt(fname, delimiter=',', usecols=(6,), unpack=True)\n",
    "sma = np.convolve(weights, c)[N - 1:-N + 1]\n",
    "t = np.arange(N - 1, len(c))\n",
    "plot(t, c[N - 1:], lw=1.0)\n",
    "plot(t, sma, lw=2.0)\n",
    "show()"
   ]
  },
  {
   "cell_type": "markdown",
   "metadata": {},
   "source": [
    "## 指数移动平均线"
   ]
  },
  {
   "cell_type": "code",
   "execution_count": 39,
   "metadata": {
    "collapsed": true
   },
   "outputs": [
    {
     "name": "stdout",
     "output_type": "stream",
     "text": [
      "Exp [  1.           2.71828183   7.3890561   20.08553692  54.59815003]\n",
      "Linspace [-1.   -0.75 -0.5  -0.25  0.  ]\n",
      "Weights [ 0.11405072  0.14644403  0.18803785  0.24144538  0.31002201]\n"
     ]
    },
    {
     "data": {
      "image/png": "[encoded data removed]",
      "text/plain": [
       "<matplotlib.figure.Figure at 0x17808a012e8>"
      ]
     },
     "metadata": {},
     "output_type": "display_data"
    }
   ],
   "source": [
    "# 指数移动平均线\n",
    "x = np.arange(5)\n",
    "print(\"Exp\", np.exp(x))\n",
    "print(\"Linspace\", np.linspace(-1, 0, 5))\n",
    "\n",
    "N = 5\n",
    "\n",
    "weights = np.exp(np.linspace(-1., 0., N))\n",
    "weights /= weights.sum()\n",
    "print(\"Weights\", weights)\n",
    "\n",
    "c = np.loadtxt(fname, delimiter=',', usecols=(6,), unpack=True)\n",
    "ema = np.convolve(weights, c)[N - 1:-N + 1]\n",
    "t = np.arange(N - 1, len(c))\n",
    "plot(t, c[N - 1:], lw=1.0)\n",
    "plot(t, ema, lw=2.0)\n",
    "show()"
   ]
  },
  {
   "cell_type": "markdown",
   "metadata": {},
   "source": [
    "## 布林带"
   ]
  },
  {
   "cell_type": "code",
   "execution_count": 40,
   "metadata": {
    "collapsed": true
   },
   "outputs": [
    {
     "name": "stdout",
     "output_type": "stream",
     "text": [
      "Weights [ 0.2  0.2  0.2  0.2  0.2]\n",
      "26 26\n",
      "[ 329.23044409  335.70890572  318.53386282  321.90858271  327.74175968\n",
      "  331.5628136   337.94259734  343.84172744  339.99900409  336.58687297\n",
      "  333.15550418  328.64879207  323.61483771  327.25667796  334.30323599\n",
      "  335.79295948  326.55905786  324.27329493  325.47601386  332.85867025\n",
      "  341.63882551  348.75558399  348.48014357  348.01342992  343.56371701\n",
      "  341.85163786]\n",
      "[ 336.1   339.32  345.03  344.32  343.44  346.5   351.88  355.2   358.16\n",
      "  354.54  356.85  359.18  359.9   363.13  358.3   350.56  338.61  342.62\n",
      "  342.88  348.16  353.21  349.31  352.12  359.56  360.    355.36]\n",
      "[ 354.05355591  351.73509428  373.93413718  374.62741729  374.33024032\n",
      "  374.9491864   372.70940266  369.73027256  375.45299591  380.85312703\n",
      "  385.78849582  387.77920793  384.58516229  374.03132204  358.88476401\n",
      "  353.33904052  363.63294214  370.19870507  372.79598614  372.08532975\n",
      "  368.04117449  361.78441601  364.63985643  365.24657008  364.54028299\n",
      "  363.04836214]\n",
      "Ratio between bands 1.0\n"
     ]
    },
    {
     "data": {
      "image/png": "[encoded data removed]",
      "text/plain": [
       "<matplotlib.figure.Figure at 0x1780abf3c88>"
      ]
     },
     "metadata": {},
     "output_type": "display_data"
    }
   ],
   "source": [
    "# 布林带\n",
    "N = 5\n",
    "\n",
    "weights = np.ones(N) / N\n",
    "print(\"Weights\", weights)\n",
    "\n",
    "c = np.loadtxt(fname, delimiter=',', usecols=(6,), unpack=True)\n",
    "sma = np.convolve(weights, c)[N - 1:-N + 1]\n",
    "deviation = []\n",
    "C = len(c)\n",
    "\n",
    "for i in range(N - 1, C):\n",
    "    if i + N < C:\n",
    "        dev = c[i: i + N]\n",
    "    else:\n",
    "        dev = c[-N:]\n",
    "\n",
    "    averages = np.zeros(N)\n",
    "    averages.fill(sma[i - N - 1])\n",
    "    dev = dev - averages\n",
    "    dev = dev ** 2\n",
    "    dev = np.sqrt(np.mean(dev))\n",
    "    deviation.append(dev)\n",
    "\n",
    "deviation = 2 * np.array(deviation)\n",
    "print(len(deviation), len(sma))\n",
    "upperBB = sma + deviation\n",
    "lowerBB = sma - deviation\n",
    "\n",
    "c_slice = c[N - 1:]\n",
    "between_bands = np.where((c_slice < upperBB) & (c_slice > lowerBB))\n",
    "\n",
    "print(lowerBB[between_bands])\n",
    "print(c[between_bands])\n",
    "print(upperBB[between_bands])\n",
    "between_bands = len(np.ravel(between_bands))\n",
    "print(\"Ratio between bands\", float(between_bands) / len(c_slice))\n",
    "\n",
    "t = np.arange(N - 1, C)\n",
    "plot(t, c_slice, lw=1.0)\n",
    "plot(t, sma, lw=2.0)\n",
    "plot(t, upperBB, lw=3.0)\n",
    "plot(t, lowerBB, lw=4.0)\n",
    "show()"
   ]
  },
  {
   "cell_type": "markdown",
   "metadata": {},
   "source": [
    "## 线性模型"
   ]
  },
  {
   "cell_type": "code",
   "execution_count": 41,
   "metadata": {
    "collapsed": true
   },
   "outputs": [
    {
     "name": "stdout",
     "output_type": "stream",
     "text": [
      "b [ 351.99  346.67  352.47  355.76  355.36]\n",
      "Zeros N by N [[ 0.  0.  0.  0.  0.]\n",
      " [ 0.  0.  0.  0.  0.]\n",
      " [ 0.  0.  0.  0.  0.]\n",
      " [ 0.  0.  0.  0.  0.]\n",
      " [ 0.  0.  0.  0.  0.]]\n",
      "A [[ 360.    355.36  355.76  352.47  346.67]\n",
      " [ 359.56  360.    355.36  355.76  352.47]\n",
      " [ 352.12  359.56  360.    355.36  355.76]\n",
      " [ 349.31  352.12  359.56  360.    355.36]\n",
      " [ 353.21  349.31  352.12  359.56  360.  ]]\n",
      "[ 0.78111069 -1.44411737  1.63563225 -0.89905126  0.92009049] [] 5 [  1.77736601e+03   1.49622969e+01   8.75528492e+00   5.15099261e+00\n",
      "   1.75199608e+00]\n",
      "357.939161015\n"
     ]
    }
   ],
   "source": [
    "# 线性模型\n",
    "# N = int(sys.argv[1])\n",
    "N = 5\n",
    "\n",
    "c = np.loadtxt(fname, delimiter=',', usecols=(6,), unpack=True)\n",
    "\n",
    "b = c[-N:]\n",
    "b = b[::-1]\n",
    "print(\"b\", b)\n",
    "\n",
    "A = np.zeros((N, N), float)\n",
    "print(\"Zeros N by N\", A)\n",
    "\n",
    "for i in range(N):\n",
    "    A[i,] = c[-N - 1 - i: - 1 - i]\n",
    "\n",
    "print(\"A\", A)\n",
    "\n",
    "(x, residuals, rank, s) = np.linalg.lstsq(A, b)\n",
    "\n",
    "print(x, residuals, rank, s)\n",
    "\n",
    "print(np.dot(b, x))"
   ]
  },
  {
   "cell_type": "markdown",
   "metadata": {},
   "source": [
    "## 趋势线"
   ]
  },
  {
   "cell_type": "code",
   "execution_count": 42,
   "metadata": {
    "collapsed": true
   },
   "outputs": [
    {
     "name": "stdout",
     "output_type": "stream",
     "text": [
      "Pivots [ 338.01        337.88666667  343.88666667  344.37333333  342.07666667\n",
      "  345.57        350.92333333  354.29        357.34333333  354.18\n",
      "  356.06333333  358.45666667  359.14        362.84333333  358.36333333\n",
      "  353.19333333  340.57666667  341.95666667  342.13333333  347.13\n",
      "  353.12666667  350.90333333  351.62333333  358.42333333  359.34666667\n",
      "  356.11333333  355.13666667  352.61        347.11333333  349.77      ]\n",
      "Condition [False False  True  True  True  True  True False False  True False False\n",
      " False False False  True False False False  True  True  True  True False\n",
      " False  True  True  True False  True]\n",
      "[ 341.92421382  342.19081893  342.45742405  342.72402917  342.99063429\n",
      "  343.79044964  345.39008034  346.4565008   346.72310592  346.98971104\n",
      "  347.25631615  348.0561315   348.32273662  348.58934174  349.12255197]\n",
      "[ 345.03  344.32  343.44  346.5   351.88  354.54  350.56  348.16  353.21\n",
      "  349.31  352.12  355.36  355.76  352.47  351.99]\n",
      "[ 352.61688271  352.90732765  353.19777259  353.48821753  353.77866246\n",
      "  354.64999728  356.39266691  357.55444667  357.84489161  358.13533655\n",
      "  358.42578149  359.2971163   359.58756124  359.87800618  360.45889606]\n",
      "Number points between bands 15\n",
      "Ratio between bands 0.5\n",
      "Tomorrows support 349.389157088\n",
      "Tomorrows resistance 360.749340996\n",
      "Number of points between bands 2nd approach 15\n"
     ]
    },
    {
     "data": {
      "image/png": "[encoded data removed]",
      "text/plain": [
       "<matplotlib.figure.Figure at 0x1780b1b9080>"
      ]
     },
     "metadata": {},
     "output_type": "display_data"
    }
   ],
   "source": [
    "# 趋势线\n",
    "def fit_line(t, y):\n",
    "    A = np.vstack([t, np.ones_like(t)]).T\n",
    "\n",
    "    return np.linalg.lstsq(A, y)[0]\n",
    "\n",
    "\n",
    "h, l, c = np.loadtxt(fname, delimiter=',', usecols=(4, 5, 6), unpack=True)\n",
    "\n",
    "pivots = (h + l + c) / 3\n",
    "print(\"Pivots\", pivots)\n",
    "\n",
    "t = np.arange(len(c))\n",
    "sa, sb = fit_line(t, pivots - (h - l))\n",
    "ra, rb = fit_line(t, pivots + (h - l))\n",
    "\n",
    "support = sa * t + sb\n",
    "resistance = ra * t + rb\n",
    "condition = (c > support) & (c < resistance)\n",
    "print(\"Condition\", condition)\n",
    "between_bands = np.where(condition)\n",
    "print(support[between_bands])\n",
    "print(c[between_bands])\n",
    "print(resistance[between_bands])\n",
    "between_bands = len(np.ravel(between_bands))\n",
    "print(\"Number points between bands\", between_bands)\n",
    "print(\"Ratio between bands\", float(between_bands) / len(c))\n",
    "\n",
    "print(\"Tomorrows support\", sa * (t[-1] + 1) + sb)\n",
    "print(\"Tomorrows resistance\", ra * (t[-1] + 1) + rb)\n",
    "\n",
    "a1 = c[c > support]\n",
    "a2 = c[c < resistance]\n",
    "print(\"Number of points between bands 2nd approach\", len(np.intersect1d(a1, a2)))\n",
    "\n",
    "plot(t, c)\n",
    "plot(t, support)\n",
    "plot(t, resistance)\n",
    "show()"
   ]
  },
  {
   "cell_type": "code",
   "execution_count": null,
   "metadata": {
    "collapsed": true
   },
   "outputs": [],
   "source": []
  }
 ],
 "metadata": {
  "kernelspec": {
   "display_name": "Python 3",
   "language": "python",
   "name": "python3"
  },
  "language_info": {
   "codemirror_mode": {
    "name": "ipython",
    "version": 3
   },
   "file_extension": ".py",
   "mimetype": "text/x-python",
   "name": "python",
   "nbconvert_exporter": "python",
   "pygments_lexer": "ipython3",
   "version": "3.6.1"
  }
 },
 "nbformat": 4,
 "nbformat_minor": 2
}
