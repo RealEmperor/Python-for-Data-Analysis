{
 "cells": [
  {
   "cell_type": "markdown",
   "metadata": {
    "collapsed": true
   },
   "source": [
    "# 分类算法案例：预测饭店销量\n",
    "\n",
    "## 导入数据"
   ]
  },
  {
   "cell_type": "code",
   "execution_count": 1,
   "metadata": {},
   "outputs": [
    {
     "data": {
      "text/html": [
       "<div>\n",
       "<style>\n",
       "    .dataframe thead tr:only-child th {\n",
       "        text-align: right;\n",
       "    }\n",
       "\n",
       "    .dataframe thead th {\n",
       "        text-align: left;\n",
       "    }\n",
       "\n",
       "    .dataframe tbody tr th {\n",
       "        vertical-align: top;\n",
       "    }\n",
       "</style>\n",
       "<table border=\"1\" class=\"dataframe\">\n",
       "  <thead>\n",
       "    <tr style=\"text-align: right;\">\n",
       "      <th></th>\n",
       "      <th>天气</th>\n",
       "      <th>是否周末</th>\n",
       "      <th>是否有促销</th>\n",
       "      <th>销量</th>\n",
       "    </tr>\n",
       "    <tr>\n",
       "      <th>序号</th>\n",
       "      <th></th>\n",
       "      <th></th>\n",
       "      <th></th>\n",
       "      <th></th>\n",
       "    </tr>\n",
       "  </thead>\n",
       "  <tbody>\n",
       "    <tr>\n",
       "      <th>1</th>\n",
       "      <td>坏</td>\n",
       "      <td>是</td>\n",
       "      <td>是</td>\n",
       "      <td>高</td>\n",
       "    </tr>\n",
       "    <tr>\n",
       "      <th>2</th>\n",
       "      <td>坏</td>\n",
       "      <td>是</td>\n",
       "      <td>是</td>\n",
       "      <td>高</td>\n",
       "    </tr>\n",
       "    <tr>\n",
       "      <th>3</th>\n",
       "      <td>坏</td>\n",
       "      <td>是</td>\n",
       "      <td>是</td>\n",
       "      <td>高</td>\n",
       "    </tr>\n",
       "    <tr>\n",
       "      <th>4</th>\n",
       "      <td>坏</td>\n",
       "      <td>否</td>\n",
       "      <td>是</td>\n",
       "      <td>高</td>\n",
       "    </tr>\n",
       "    <tr>\n",
       "      <th>5</th>\n",
       "      <td>坏</td>\n",
       "      <td>是</td>\n",
       "      <td>是</td>\n",
       "      <td>高</td>\n",
       "    </tr>\n",
       "    <tr>\n",
       "      <th>6</th>\n",
       "      <td>坏</td>\n",
       "      <td>否</td>\n",
       "      <td>是</td>\n",
       "      <td>高</td>\n",
       "    </tr>\n",
       "    <tr>\n",
       "      <th>7</th>\n",
       "      <td>坏</td>\n",
       "      <td>是</td>\n",
       "      <td>否</td>\n",
       "      <td>高</td>\n",
       "    </tr>\n",
       "    <tr>\n",
       "      <th>8</th>\n",
       "      <td>好</td>\n",
       "      <td>是</td>\n",
       "      <td>是</td>\n",
       "      <td>高</td>\n",
       "    </tr>\n",
       "    <tr>\n",
       "      <th>9</th>\n",
       "      <td>好</td>\n",
       "      <td>是</td>\n",
       "      <td>否</td>\n",
       "      <td>高</td>\n",
       "    </tr>\n",
       "    <tr>\n",
       "      <th>10</th>\n",
       "      <td>好</td>\n",
       "      <td>是</td>\n",
       "      <td>是</td>\n",
       "      <td>高</td>\n",
       "    </tr>\n",
       "    <tr>\n",
       "      <th>11</th>\n",
       "      <td>好</td>\n",
       "      <td>是</td>\n",
       "      <td>是</td>\n",
       "      <td>高</td>\n",
       "    </tr>\n",
       "    <tr>\n",
       "      <th>12</th>\n",
       "      <td>好</td>\n",
       "      <td>是</td>\n",
       "      <td>是</td>\n",
       "      <td>高</td>\n",
       "    </tr>\n",
       "    <tr>\n",
       "      <th>13</th>\n",
       "      <td>好</td>\n",
       "      <td>是</td>\n",
       "      <td>是</td>\n",
       "      <td>高</td>\n",
       "    </tr>\n",
       "    <tr>\n",
       "      <th>14</th>\n",
       "      <td>坏</td>\n",
       "      <td>是</td>\n",
       "      <td>是</td>\n",
       "      <td>低</td>\n",
       "    </tr>\n",
       "    <tr>\n",
       "      <th>15</th>\n",
       "      <td>好</td>\n",
       "      <td>否</td>\n",
       "      <td>是</td>\n",
       "      <td>高</td>\n",
       "    </tr>\n",
       "    <tr>\n",
       "      <th>16</th>\n",
       "      <td>好</td>\n",
       "      <td>否</td>\n",
       "      <td>是</td>\n",
       "      <td>高</td>\n",
       "    </tr>\n",
       "    <tr>\n",
       "      <th>17</th>\n",
       "      <td>好</td>\n",
       "      <td>否</td>\n",
       "      <td>是</td>\n",
       "      <td>高</td>\n",
       "    </tr>\n",
       "    <tr>\n",
       "      <th>18</th>\n",
       "      <td>好</td>\n",
       "      <td>否</td>\n",
       "      <td>是</td>\n",
       "      <td>高</td>\n",
       "    </tr>\n",
       "    <tr>\n",
       "      <th>19</th>\n",
       "      <td>好</td>\n",
       "      <td>否</td>\n",
       "      <td>否</td>\n",
       "      <td>高</td>\n",
       "    </tr>\n",
       "    <tr>\n",
       "      <th>20</th>\n",
       "      <td>坏</td>\n",
       "      <td>否</td>\n",
       "      <td>否</td>\n",
       "      <td>低</td>\n",
       "    </tr>\n",
       "    <tr>\n",
       "      <th>21</th>\n",
       "      <td>坏</td>\n",
       "      <td>否</td>\n",
       "      <td>是</td>\n",
       "      <td>低</td>\n",
       "    </tr>\n",
       "    <tr>\n",
       "      <th>22</th>\n",
       "      <td>坏</td>\n",
       "      <td>否</td>\n",
       "      <td>是</td>\n",
       "      <td>低</td>\n",
       "    </tr>\n",
       "    <tr>\n",
       "      <th>23</th>\n",
       "      <td>坏</td>\n",
       "      <td>否</td>\n",
       "      <td>是</td>\n",
       "      <td>低</td>\n",
       "    </tr>\n",
       "    <tr>\n",
       "      <th>24</th>\n",
       "      <td>坏</td>\n",
       "      <td>否</td>\n",
       "      <td>否</td>\n",
       "      <td>低</td>\n",
       "    </tr>\n",
       "    <tr>\n",
       "      <th>25</th>\n",
       "      <td>坏</td>\n",
       "      <td>是</td>\n",
       "      <td>否</td>\n",
       "      <td>低</td>\n",
       "    </tr>\n",
       "    <tr>\n",
       "      <th>26</th>\n",
       "      <td>好</td>\n",
       "      <td>否</td>\n",
       "      <td>是</td>\n",
       "      <td>低</td>\n",
       "    </tr>\n",
       "    <tr>\n",
       "      <th>27</th>\n",
       "      <td>好</td>\n",
       "      <td>否</td>\n",
       "      <td>是</td>\n",
       "      <td>低</td>\n",
       "    </tr>\n",
       "    <tr>\n",
       "      <th>28</th>\n",
       "      <td>坏</td>\n",
       "      <td>否</td>\n",
       "      <td>否</td>\n",
       "      <td>低</td>\n",
       "    </tr>\n",
       "    <tr>\n",
       "      <th>29</th>\n",
       "      <td>坏</td>\n",
       "      <td>否</td>\n",
       "      <td>否</td>\n",
       "      <td>低</td>\n",
       "    </tr>\n",
       "    <tr>\n",
       "      <th>30</th>\n",
       "      <td>好</td>\n",
       "      <td>否</td>\n",
       "      <td>否</td>\n",
       "      <td>低</td>\n",
       "    </tr>\n",
       "    <tr>\n",
       "      <th>31</th>\n",
       "      <td>坏</td>\n",
       "      <td>是</td>\n",
       "      <td>否</td>\n",
       "      <td>低</td>\n",
       "    </tr>\n",
       "    <tr>\n",
       "      <th>32</th>\n",
       "      <td>好</td>\n",
       "      <td>否</td>\n",
       "      <td>是</td>\n",
       "      <td>低</td>\n",
       "    </tr>\n",
       "    <tr>\n",
       "      <th>33</th>\n",
       "      <td>好</td>\n",
       "      <td>否</td>\n",
       "      <td>否</td>\n",
       "      <td>低</td>\n",
       "    </tr>\n",
       "    <tr>\n",
       "      <th>34</th>\n",
       "      <td>好</td>\n",
       "      <td>否</td>\n",
       "      <td>否</td>\n",
       "      <td>低</td>\n",
       "    </tr>\n",
       "  </tbody>\n",
       "</table>\n",
       "</div>"
      ],
      "text/plain": [
       "   天气 是否周末 是否有促销 销量\n",
       "序号                 \n",
       "1   坏    是     是  高\n",
       "2   坏    是     是  高\n",
       "3   坏    是     是  高\n",
       "4   坏    否     是  高\n",
       "5   坏    是     是  高\n",
       "6   坏    否     是  高\n",
       "7   坏    是     否  高\n",
       "8   好    是     是  高\n",
       "9   好    是     否  高\n",
       "10  好    是     是  高\n",
       "11  好    是     是  高\n",
       "12  好    是     是  高\n",
       "13  好    是     是  高\n",
       "14  坏    是     是  低\n",
       "15  好    否     是  高\n",
       "16  好    否     是  高\n",
       "17  好    否     是  高\n",
       "18  好    否     是  高\n",
       "19  好    否     否  高\n",
       "20  坏    否     否  低\n",
       "21  坏    否     是  低\n",
       "22  坏    否     是  低\n",
       "23  坏    否     是  低\n",
       "24  坏    否     否  低\n",
       "25  坏    是     否  低\n",
       "26  好    否     是  低\n",
       "27  好    否     是  低\n",
       "28  坏    否     否  低\n",
       "29  坏    否     否  低\n",
       "30  好    否     否  低\n",
       "31  坏    是     否  低\n",
       "32  好    否     是  低\n",
       "33  好    否     否  低\n",
       "34  好    否     否  低"
      ]
     },
     "execution_count": 1,
     "metadata": {},
     "output_type": "execute_result"
    }
   ],
   "source": [
    "import numpy as np\n",
    "import pandas as pd\n",
    "from sklearn.metrics import classification_report\n",
    "from sklearn.metrics import precision_recall_curve\n",
    "from sklearn.model_selection import train_test_split\n",
    "from sklearn.naive_bayes import BernoulliNB\n",
    "from sklearn.neighbors import KNeighborsClassifier\n",
    "\n",
    "inputfile = 'data/sales_data.xls'\n",
    "data = pd.read_excel(inputfile, index_col=u'序号')  # 导入数据\n",
    "data"
   ]
  },
  {
   "cell_type": "code",
   "execution_count": 2,
   "metadata": {
    "scrolled": true
   },
   "outputs": [
    {
     "name": "stdout",
     "output_type": "stream",
     "text": [
      "[[-1  1  1]\n",
      " [-1  1  1]\n",
      " [-1  1  1]\n",
      " [-1 -1  1]\n",
      " [-1  1  1]\n",
      " [-1 -1  1]\n",
      " [-1  1 -1]\n",
      " [ 1  1  1]\n",
      " [ 1  1 -1]\n",
      " [ 1  1  1]\n",
      " [ 1  1  1]\n",
      " [ 1  1  1]\n",
      " [ 1  1  1]\n",
      " [-1  1  1]\n",
      " [ 1 -1  1]\n",
      " [ 1 -1  1]\n",
      " [ 1 -1  1]\n",
      " [ 1 -1  1]\n",
      " [ 1 -1 -1]\n",
      " [-1 -1 -1]\n",
      " [-1 -1  1]\n",
      " [-1 -1  1]\n",
      " [-1 -1  1]\n",
      " [-1 -1 -1]\n",
      " [-1  1 -1]\n",
      " [ 1 -1  1]\n",
      " [ 1 -1  1]\n",
      " [-1 -1 -1]\n",
      " [-1 -1 -1]\n",
      " [ 1 -1 -1]\n",
      " [-1  1 -1]\n",
      " [ 1 -1  1]\n",
      " [ 1 -1 -1]\n",
      " [ 1 -1 -1]]\n",
      "[ 1  1  1  1  1  1  1  1  1  1  1  1  1 -1  1  1  1  1  1 -1 -1 -1 -1 -1 -1\n",
      " -1 -1 -1 -1 -1 -1 -1 -1 -1]\n"
     ]
    }
   ],
   "source": [
    "# 数据是类别标签，要将它转换为数据\n",
    "# 用1来表示“好”、“是”、“高”这三个属性，用-1来表示“坏”、“否”、“低”\n",
    "data[data == u'好'] = 1\n",
    "data[data == u'是'] = 1\n",
    "data[data == u'高'] = 1\n",
    "data[data != 1] = -1\n",
    "x = data.iloc[:, :3].as_matrix().astype(int)\n",
    "print(x)\n",
    "y = data.iloc[:, 3].as_matrix().astype(int)\n",
    "print(y)"
   ]
  },
  {
   "cell_type": "markdown",
   "metadata": {},
   "source": [
    "## 拆分训练数据与测试数据"
   ]
  },
  {
   "cell_type": "code",
   "execution_count": 3,
   "metadata": {
    "collapsed": true
   },
   "outputs": [],
   "source": [
    "# 拆分训练数据与测试数据\n",
    "x_train, x_test, y_train, y_test = train_test_split(x, y, test_size=0.2)"
   ]
  },
  {
   "cell_type": "markdown",
   "metadata": {},
   "source": [
    "# 训练KNN分类器"
   ]
  },
  {
   "cell_type": "code",
   "execution_count": 4,
   "metadata": {},
   "outputs": [
    {
     "data": {
      "text/plain": [
       "KNeighborsClassifier(algorithm='kd_tree', leaf_size=30, metric='minkowski',\n",
       "           metric_params=None, n_jobs=1, n_neighbors=5, p=2,\n",
       "           weights='uniform')"
      ]
     },
     "execution_count": 4,
     "metadata": {},
     "output_type": "execute_result"
    }
   ],
   "source": [
    "clf = KNeighborsClassifier(algorithm='kd_tree')\n",
    "clf.fit(x_train, y_train)"
   ]
  },
  {
   "cell_type": "markdown",
   "metadata": {},
   "source": [
    "## 测试结果"
   ]
  },
  {
   "cell_type": "code",
   "execution_count": 5,
   "metadata": {},
   "outputs": [
    {
     "name": "stdout",
     "output_type": "stream",
     "text": [
      "[[ 1 -1  1]\n",
      " [-1  1  1]\n",
      " [-1 -1  1]\n",
      " [ 1 -1 -1]\n",
      " [-1  1 -1]\n",
      " [ 1 -1  1]\n",
      " [ 1  1  1]]\n",
      "[-1  1 -1 -1 -1 -1  1]\n",
      "[ 1  1  1  1 -1  1  1]\n",
      "0.428571428571\n"
     ]
    }
   ],
   "source": [
    "# 测试结果\n",
    "answer = clf.predict(x_test)\n",
    "print(x_test)\n",
    "print(answer)\n",
    "print(y_test)\n",
    "print(np.mean(answer == y_test))"
   ]
  },
  {
   "cell_type": "markdown",
   "metadata": {},
   "source": [
    "## 准确率"
   ]
  },
  {
   "cell_type": "code",
   "execution_count": 6,
   "metadata": {
    "scrolled": true
   },
   "outputs": [
    {
     "name": "stdout",
     "output_type": "stream",
     "text": [
      "             precision    recall  f1-score   support\n",
      "\n",
      "          高       0.20      1.00      0.33         1\n",
      "          低       1.00      0.33      0.50         6\n",
      "\n",
      "avg / total       0.89      0.43      0.48         7\n",
      "\n"
     ]
    }
   ],
   "source": [
    "# 准确率\n",
    "precision, recall, thresholds = precision_recall_curve(y_train, clf.predict(x_train))\n",
    "print(classification_report(y_test, answer, target_names=['高', '低']))"
   ]
  },
  {
   "cell_type": "markdown",
   "metadata": {},
   "source": [
    "# 训练贝叶斯分类器"
   ]
  },
  {
   "cell_type": "code",
   "execution_count": 7,
   "metadata": {},
   "outputs": [
    {
     "data": {
      "text/plain": [
       "BernoulliNB(alpha=1.0, binarize=0.0, class_prior=None, fit_prior=True)"
      ]
     },
     "execution_count": 7,
     "metadata": {},
     "output_type": "execute_result"
    }
   ],
   "source": [
    "# 训练贝叶斯分类器\n",
    "clf = BernoulliNB()\n",
    "clf.fit(x_train, y_train)"
   ]
  },
  {
   "cell_type": "markdown",
   "metadata": {},
   "source": [
    "## 测试结果"
   ]
  },
  {
   "cell_type": "code",
   "execution_count": 8,
   "metadata": {
    "scrolled": true
   },
   "outputs": [
    {
     "name": "stdout",
     "output_type": "stream",
     "text": [
      "[[ 1 -1  1]\n",
      " [-1  1  1]\n",
      " [-1 -1  1]\n",
      " [ 1 -1 -1]\n",
      " [-1  1 -1]\n",
      " [ 1 -1  1]\n",
      " [ 1  1  1]]\n",
      "[-1  1 -1 -1 -1 -1  1]\n",
      "[ 1  1  1  1 -1  1  1]\n",
      "0.428571428571\n"
     ]
    }
   ],
   "source": [
    "# 测试结果\n",
    "answer = clf.predict(x_test)\n",
    "print(x_test)\n",
    "print(answer)\n",
    "print(y_test)\n",
    "print(np.mean(answer == y_test))"
   ]
  },
  {
   "cell_type": "markdown",
   "metadata": {},
   "source": [
    "## 准确率"
   ]
  },
  {
   "cell_type": "code",
   "execution_count": 9,
   "metadata": {},
   "outputs": [
    {
     "name": "stdout",
     "output_type": "stream",
     "text": [
      "             precision    recall  f1-score   support\n",
      "\n",
      "          低       0.20      1.00      0.33         1\n",
      "          高       1.00      0.33      0.50         6\n",
      "\n",
      "avg / total       0.89      0.43      0.48         7\n",
      "\n"
     ]
    }
   ],
   "source": [
    "print(classification_report(y_test, answer, target_names=['低', '高']))"
   ]
  },
  {
   "cell_type": "markdown",
   "metadata": {
    "collapsed": true
   },
   "source": [
    "# 决策树"
   ]
  },
  {
   "cell_type": "code",
   "execution_count": 10,
   "metadata": {
    "collapsed": true
   },
   "outputs": [],
   "source": [
    "from sklearn.tree import DecisionTreeClassifier as DTC\n",
    "\n",
    "dtc = DTC(criterion='entropy')  # 建立决策树模型，基于信息熵\n",
    "dtc.fit(x_train, y_train)  # 训练模型\n",
    "\n",
    "# 导入相关函数，可视化决策树。\n",
    "# 导出的结果是一个dot文件，需要安装Graphviz才能将它转换为pdf或png等格式。\n",
    "\n",
    "# https://graphviz.gitlab.io/_pages/Download/Download_windows.html\n",
    "# 安装Graphviz https://graphviz.gitlab.io/_pages/Download/windows/graphviz-2.38.msi\n",
    "\n",
    "from sklearn.tree import export_graphviz\n",
    "\n",
    "with open(\"data/tree.dot\", 'w') as f:\n",
    "    f = export_graphviz(dtc, out_file=f)"
   ]
  },
  {
   "cell_type": "markdown",
   "metadata": {},
   "source": [
    "## 测试结果"
   ]
  },
  {
   "cell_type": "code",
   "execution_count": 11,
   "metadata": {
    "scrolled": true
   },
   "outputs": [
    {
     "name": "stdout",
     "output_type": "stream",
     "text": [
      "[[ 1 -1  1]\n",
      " [-1  1  1]\n",
      " [-1 -1  1]\n",
      " [ 1 -1 -1]\n",
      " [-1  1 -1]\n",
      " [ 1 -1  1]\n",
      " [ 1  1  1]]\n",
      "[-1  1 -1 -1 -1 -1  1]\n",
      "[ 1  1  1  1 -1  1  1]\n",
      "0.428571428571\n"
     ]
    }
   ],
   "source": [
    "# 测试结果\n",
    "answer = dtc.predict(x_test)\n",
    "print(x_test)\n",
    "print(answer)\n",
    "print(y_test)\n",
    "print(np.mean(answer == y_test))"
   ]
  },
  {
   "cell_type": "markdown",
   "metadata": {},
   "source": [
    "## 准确率"
   ]
  },
  {
   "cell_type": "code",
   "execution_count": 12,
   "metadata": {},
   "outputs": [
    {
     "name": "stdout",
     "output_type": "stream",
     "text": [
      "             precision    recall  f1-score   support\n",
      "\n",
      "          低       0.20      1.00      0.33         1\n",
      "          高       1.00      0.33      0.50         6\n",
      "\n",
      "avg / total       0.89      0.43      0.48         7\n",
      "\n"
     ]
    }
   ],
   "source": [
    "print(classification_report(y_test, answer, target_names=['低', '高']))"
   ]
  },
  {
   "cell_type": "markdown",
   "metadata": {},
   "source": [
    "# SVM"
   ]
  },
  {
   "cell_type": "code",
   "execution_count": 13,
   "metadata": {},
   "outputs": [
    {
     "data": {
      "text/plain": [
       "SVC(C=1.0, cache_size=200, class_weight=None, coef0=0.0,\n",
       "  decision_function_shape=None, degree=3, gamma='auto', kernel='rbf',\n",
       "  max_iter=-1, probability=False, random_state=None, shrinking=True,\n",
       "  tol=0.001, verbose=False)"
      ]
     },
     "execution_count": 13,
     "metadata": {},
     "output_type": "execute_result"
    }
   ],
   "source": [
    "from sklearn.svm import SVC\n",
    "\n",
    "clf = SVC()\n",
    "clf.fit(x_train, y_train)"
   ]
  },
  {
   "cell_type": "markdown",
   "metadata": {},
   "source": [
    "## 测试结果"
   ]
  },
  {
   "cell_type": "code",
   "execution_count": 14,
   "metadata": {
    "scrolled": true
   },
   "outputs": [
    {
     "name": "stdout",
     "output_type": "stream",
     "text": [
      "[[ 1 -1  1]\n",
      " [-1  1  1]\n",
      " [-1 -1  1]\n",
      " [ 1 -1 -1]\n",
      " [-1  1 -1]\n",
      " [ 1 -1  1]\n",
      " [ 1  1  1]]\n",
      "[-1  1 -1 -1  1 -1  1]\n",
      "[ 1  1  1  1 -1  1  1]\n",
      "0.285714285714\n"
     ]
    }
   ],
   "source": [
    "# 测试结果\n",
    "answer = clf.predict(x_test)\n",
    "print(x_test)\n",
    "print(answer)\n",
    "print(y_test)\n",
    "print(np.mean(answer == y_test))"
   ]
  },
  {
   "cell_type": "markdown",
   "metadata": {},
   "source": [
    "## 准确率"
   ]
  },
  {
   "cell_type": "code",
   "execution_count": 15,
   "metadata": {},
   "outputs": [
    {
     "name": "stdout",
     "output_type": "stream",
     "text": [
      "             precision    recall  f1-score   support\n",
      "\n",
      "          低       0.00      0.00      0.00         1\n",
      "          高       0.67      0.33      0.44         6\n",
      "\n",
      "avg / total       0.57      0.29      0.38         7\n",
      "\n"
     ]
    }
   ],
   "source": [
    "print(classification_report(y_test, answer, target_names=['低', '高']))"
   ]
  },
  {
   "cell_type": "markdown",
   "metadata": {
    "collapsed": true
   },
   "source": [
    "参考资料：炼数成金Python数据分析课程"
   ]
  }
 ],
 "metadata": {
  "kernelspec": {
   "display_name": "Python 3",
   "language": "python",
   "name": "python3"
  },
  "language_info": {
   "codemirror_mode": {
    "name": "ipython",
    "version": 3
   },
   "file_extension": ".py",
   "mimetype": "text/x-python",
   "name": "python",
   "nbconvert_exporter": "python",
   "pygments_lexer": "ipython3",
   "version": "3.6.1"
  }
 },
 "nbformat": 4,
 "nbformat_minor": 2
}
