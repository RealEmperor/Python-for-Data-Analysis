{
 "cells": [
  {
   "cell_type": "markdown",
   "metadata": {},
   "source": [
    "# NumPy对向量的处理\n",
    "\n",
    "向量相加-Python方式"
   ]
  },
  {
   "cell_type": "code",
   "execution_count": 1,
   "metadata": {
    "collapsed": true
   },
   "outputs": [],
   "source": [
    "# 向量相加-Python\n",
    "def pythonsum(n):\n",
    "    a = list(range(n))\n",
    "    b = list(range(n))\n",
    "    c = []\n",
    "    for i in range(len(a)):\n",
    "        a[i] = i ** 2\n",
    "        b[i] = i ** 3\n",
    "        c.append(a[i] + b[i])\n",
    "    return c"
   ]
  },
  {
   "cell_type": "markdown",
   "metadata": {},
   "source": [
    "向量相加-NumPy方式"
   ]
  },
  {
   "cell_type": "code",
   "execution_count": 2,
   "metadata": {
    "collapsed": true
   },
   "outputs": [],
   "source": [
    "# 向量相加-NumPy\n",
    "import numpy\n",
    "\n",
    "\n",
    "def numpysum(n):\n",
    "    a = numpy.arange(n) ** 2\n",
    "    b = numpy.arange(n) ** 3\n",
    "    c = a + b\n",
    "    return c"
   ]
  },
  {
   "cell_type": "markdown",
   "metadata": {},
   "source": [
    "## 效率比较"
   ]
  },
  {
   "cell_type": "code",
   "execution_count": 3,
   "metadata": {
    "collapsed": true
   },
   "outputs": [
    {
     "name": "stdout",
     "output_type": "stream",
     "text": [
      "The last 2 elements of the sum [995007996, 998001000]\nPythonSum elapsed time in microseconds 997\nThe last 2 elements of the sum [995007996 998001000]\nNumPySum elapsed time in microseconds 0\n"
     ]
    }
   ],
   "source": [
    "# 效率比较\n",
    "from datetime import datetime\n",
    "import numpy as np\n",
    "\n",
    "size = 1000\n",
    "\n",
    "start = datetime.now()\n",
    "c = pythonsum(size)\n",
    "delta = datetime.now() - start\n",
    "print(\"The last 2 elements of the sum\", c[-2:])\n",
    "print(\"PythonSum elapsed time in microseconds\", delta.microseconds)\n",
    "\n",
    "start = datetime.now()\n",
    "c = numpysum(size)\n",
    "delta = datetime.now() - start\n",
    "print(\"The last 2 elements of the sum\", c[-2:])\n",
    "print(\"NumPySum elapsed time in microseconds\", delta.microseconds)"
   ]
  },
  {
   "cell_type": "markdown",
   "metadata": {},
   "source": [
    "## numpy数组"
   ]
  },
  {
   "cell_type": "code",
   "execution_count": 4,
   "metadata": {
    "collapsed": true
   },
   "outputs": [
    {
     "data": {
      "text/plain": [
       "dtype('int32')"
      ]
     },
     "execution_count": 4,
     "metadata": {},
     "output_type": "execute_result"
    }
   ],
   "source": [
    "# numpy数组\n",
    "a = np.arange(5)\n",
    "a.dtype"
   ]
  },
  {
   "cell_type": "code",
   "execution_count": 5,
   "metadata": {
    "collapsed": true
   },
   "outputs": [
    {
     "data": {
      "text/plain": [
       "array([0, 1, 2, 3, 4])"
      ]
     },
     "execution_count": 5,
     "metadata": {},
     "output_type": "execute_result"
    }
   ],
   "source": [
    "a"
   ]
  },
  {
   "cell_type": "code",
   "execution_count": 6,
   "metadata": {
    "collapsed": true
   },
   "outputs": [
    {
     "data": {
      "text/plain": [
       "(5,)"
      ]
     },
     "execution_count": 6,
     "metadata": {},
     "output_type": "execute_result"
    }
   ],
   "source": [
    "a.shape"
   ]
  },
  {
   "cell_type": "markdown",
   "metadata": {},
   "source": [
    "## 创建多维数组"
   ]
  },
  {
   "cell_type": "code",
   "execution_count": 7,
   "metadata": {
    "collapsed": true
   },
   "outputs": [
    {
     "name": "stdout",
     "output_type": "stream",
     "text": [
      "[[0 1]\n [0 1]]\n(2, 2)\nint32\n"
     ]
    }
   ],
   "source": [
    "# 创建多维数组\n",
    "m = np.array([np.arange(2), np.arange(2)])\n",
    "\n",
    "print(m)\n",
    "\n",
    "print(m.shape)\n",
    "\n",
    "print(m.dtype)"
   ]
  },
  {
   "cell_type": "code",
   "execution_count": 8,
   "metadata": {
    "collapsed": true
   },
   "outputs": [
    {
     "data": {
      "text/plain": [
       "array([ 0.,  0.,  0.,  0.,  0.,  0.,  0.,  0.,  0.,  0.])"
      ]
     },
     "execution_count": 8,
     "metadata": {},
     "output_type": "execute_result"
    }
   ],
   "source": [
    "np.zeros(10)"
   ]
  },
  {
   "cell_type": "code",
   "execution_count": 9,
   "metadata": {
    "collapsed": true
   },
   "outputs": [
    {
     "data": {
      "text/plain": [
       "array([[ 0.,  0.,  0.,  0.,  0.,  0.],\n       [ 0.,  0.,  0.,  0.,  0.,  0.],\n       [ 0.,  0.,  0.,  0.,  0.,  0.]])"
      ]
     },
     "execution_count": 9,
     "metadata": {},
     "output_type": "execute_result"
    }
   ],
   "source": [
    "np.zeros((3, 6))"
   ]
  },
  {
   "cell_type": "code",
   "execution_count": 10,
   "metadata": {
    "collapsed": true
   },
   "outputs": [
    {
     "data": {
      "text/plain": [
       "array([[[  1.12319318e-311,   3.16202013e-322],\n        [  0.00000000e+000,   0.00000000e+000],\n        [  0.00000000e+000,   2.32203106e-056]],\n\n       [[  1.39425677e+165,   7.12024499e-067],\n        [  1.08628251e-071,   2.19317805e-076],\n        [  1.90269056e-052,   1.31378093e-071]]])"
      ]
     },
     "execution_count": 10,
     "metadata": {},
     "output_type": "execute_result"
    }
   ],
   "source": [
    "np.empty((2, 3, 2))"
   ]
  },
  {
   "cell_type": "code",
   "execution_count": 11,
   "metadata": {
    "collapsed": true
   },
   "outputs": [
    {
     "data": {
      "text/plain": [
       "array([ 0,  1,  2,  3,  4,  5,  6,  7,  8,  9, 10, 11, 12, 13, 14])"
      ]
     },
     "execution_count": 11,
     "metadata": {},
     "output_type": "execute_result"
    }
   ],
   "source": [
    "np.arange(15)"
   ]
  },
  {
   "cell_type": "markdown",
   "metadata": {},
   "source": [
    "## 选取数组元素"
   ]
  },
  {
   "cell_type": "code",
   "execution_count": 12,
   "metadata": {
    "collapsed": true
   },
   "outputs": [
    {
     "name": "stdout",
     "output_type": "stream",
     "text": [
      "In: a\n[[1 2]\n [3 4]]\nIn: a[0,0]\n1\nIn: a[0,1]\n2\nIn: a[1,0]\n3\nIn: a[1,1]\n4\n"
     ]
    }
   ],
   "source": [
    "# 选取数组元素\n",
    "a = np.array([[1, 2], [3, 4]])\n",
    "\n",
    "print(\"In: a\")\n",
    "print(a)\n",
    "\n",
    "print(\"In: a[0,0]\")\n",
    "print(a[0, 0])\n",
    "\n",
    "print(\"In: a[0,1]\")\n",
    "print(a[0, 1])\n",
    "\n",
    "print(\"In: a[1,0]\")\n",
    "print(a[1, 0])\n",
    "\n",
    "print(\"In: a[1,1]\")\n",
    "print(a[1, 1])"
   ]
  },
  {
   "cell_type": "markdown",
   "metadata": {},
   "source": [
    "## numpy数据类型"
   ]
  },
  {
   "cell_type": "code",
   "execution_count": 13,
   "metadata": {
    "collapsed": true
   },
   "outputs": [
    {
     "name": "stdout",
     "output_type": "stream",
     "text": [
      "In: float64(42)\n42.0\n"
     ]
    }
   ],
   "source": [
    "# numpy数据类型\n",
    "print(\"In: float64(42)\")\n",
    "print(np.float64(42))"
   ]
  },
  {
   "cell_type": "code",
   "execution_count": 14,
   "metadata": {
    "collapsed": true
   },
   "outputs": [
    {
     "name": "stdout",
     "output_type": "stream",
     "text": [
      "In: int8(42.0)\n42\n"
     ]
    }
   ],
   "source": [
    "print(\"In: int8(42.0)\")\n",
    "print(np.int8(42.0))"
   ]
  },
  {
   "cell_type": "code",
   "execution_count": 15,
   "metadata": {
    "collapsed": true
   },
   "outputs": [
    {
     "name": "stdout",
     "output_type": "stream",
     "text": [
      "In: bool(42)\nTrue\n"
     ]
    }
   ],
   "source": [
    "print(\"In: bool(42)\")\n",
    "print(np.bool(42))"
   ]
  },
  {
   "cell_type": "code",
   "execution_count": 16,
   "metadata": {
    "collapsed": true
   },
   "outputs": [
    {
     "name": "stdout",
     "output_type": "stream",
     "text": [
      "False\n"
     ]
    }
   ],
   "source": [
    "print(np.bool(0))"
   ]
  },
  {
   "cell_type": "code",
   "execution_count": 17,
   "metadata": {
    "collapsed": true
   },
   "outputs": [
    {
     "name": "stdout",
     "output_type": "stream",
     "text": [
      "In: bool(42.0)\nTrue\n"
     ]
    }
   ],
   "source": [
    "print(\"In: bool(42.0)\")\n",
    "print(np.bool(42.0))"
   ]
  },
  {
   "cell_type": "code",
   "execution_count": 18,
   "metadata": {
    "collapsed": true
   },
   "outputs": [
    {
     "name": "stdout",
     "output_type": "stream",
     "text": [
      "In: float(True)\n1.0\n0.0\n"
     ]
    }
   ],
   "source": [
    "print(\"In: float(True)\")\n",
    "print(np.float(True))\n",
    "print(np.float(False))"
   ]
  },
  {
   "cell_type": "code",
   "execution_count": 19,
   "metadata": {
    "collapsed": true
   },
   "outputs": [
    {
     "name": "stdout",
     "output_type": "stream",
     "text": [
      "In: arange(7, dtype=uint16)\n[0 1 2 3 4 5 6]\n"
     ]
    }
   ],
   "source": [
    "print(\"In: arange(7, dtype=uint16)\")\n",
    "print(np.arange(7, dtype=np.uint16))"
   ]
  },
  {
   "cell_type": "code",
   "execution_count": 20,
   "metadata": {
    "collapsed": true
   },
   "outputs": [
    {
     "name": "stdout",
     "output_type": "stream",
     "text": [
      "In: int(42.0 + 1.j)\nTypeError\n"
     ]
    }
   ],
   "source": [
    "print(\"In: int(42.0 + 1.j)\")\n",
    "try:\n",
    "    print(np.int(42.0 + 1.j))\n",
    "except TypeError:\n",
    "    print(\"TypeError\")\n",
    "# Type error"
   ]
  },
  {
   "cell_type": "code",
   "execution_count": 21,
   "metadata": {
    "collapsed": true
   },
   "outputs": [
    {
     "name": "stdout",
     "output_type": "stream",
     "text": [
      "In: float(42.0 + 1.j)\n"
     ]
    },
    {
     "ename": "TypeError",
     "evalue": "can't convert complex to float",
     "traceback": [
      "\u001b[1;31m---------------------------------------------------------------------------\u001b[0m",
      "\u001b[1;31mTypeError\u001b[0m                                 Traceback (most recent call last)",
      "\u001b[1;32m<ipython-input-21-5c8b6ddc18ab>\u001b[0m in \u001b[0;36m<module>\u001b[1;34m()\u001b[0m\n\u001b[0;32m      1\u001b[0m \u001b[0mprint\u001b[0m\u001b[1;33m(\u001b[0m\u001b[1;34m\"In: float(42.0 + 1.j)\"\u001b[0m\u001b[1;33m)\u001b[0m\u001b[1;33m\u001b[0m\u001b[0m\n\u001b[1;32m----> 2\u001b[1;33m \u001b[0mprint\u001b[0m\u001b[1;33m(\u001b[0m\u001b[0mfloat\u001b[0m\u001b[1;33m(\u001b[0m\u001b[1;36m42.0\u001b[0m \u001b[1;33m+\u001b[0m \u001b[1;36m1.j\u001b[0m\u001b[1;33m)\u001b[0m\u001b[1;33m)\u001b[0m\u001b[1;33m\u001b[0m\u001b[0m\n\u001b[0m\u001b[0;32m      3\u001b[0m \u001b[1;31m# Type error\u001b[0m\u001b[1;33m\u001b[0m\u001b[1;33m\u001b[0m\u001b[0m\n",
      "\u001b[1;31mTypeError\u001b[0m: can't convert complex to float"
     ],
     "output_type": "error"
    }
   ],
   "source": [
    "print(\"In: float(42.0 + 1.j)\")\n",
    "print(float(42.0 + 1.j))\n",
    "# Type error"
   ]
  },
  {
   "cell_type": "markdown",
   "metadata": {},
   "source": [
    "## 数据类型转换"
   ]
  },
  {
   "cell_type": "code",
   "execution_count": 22,
   "metadata": {
    "collapsed": true
   },
   "outputs": [
    {
     "data": {
      "text/plain": [
       "dtype('int32')"
      ]
     },
     "execution_count": 22,
     "metadata": {},
     "output_type": "execute_result"
    }
   ],
   "source": [
    "# 数据类型转换\n",
    "arr = np.array([1, 2, 3, 4, 5])\n",
    "arr.dtype"
   ]
  },
  {
   "cell_type": "code",
   "execution_count": 23,
   "metadata": {
    "collapsed": true
   },
   "outputs": [
    {
     "data": {
      "text/plain": [
       "dtype('float64')"
      ]
     },
     "execution_count": 23,
     "metadata": {},
     "output_type": "execute_result"
    }
   ],
   "source": [
    "float_arr = arr.astype(np.float64)\n",
    "float_arr.dtype\n"
   ]
  },
  {
   "cell_type": "code",
   "execution_count": 24,
   "metadata": {
    "collapsed": true
   },
   "outputs": [
    {
     "data": {
      "text/plain": [
       "array([  3.7,  -1.2,  -2.6,   0.5,  12.9,  10.1])"
      ]
     },
     "execution_count": 24,
     "metadata": {},
     "output_type": "execute_result"
    }
   ],
   "source": [
    "arr = np.array([3.7, -1.2, -2.6, 0.5, 12.9, 10.1])\n",
    "arr"
   ]
  },
  {
   "cell_type": "code",
   "execution_count": 25,
   "metadata": {
    "collapsed": true
   },
   "outputs": [
    {
     "data": {
      "text/plain": [
       "array([ 3, -1, -2,  0, 12, 10])"
      ]
     },
     "execution_count": 25,
     "metadata": {},
     "output_type": "execute_result"
    }
   ],
   "source": [
    "arr.astype(np.int32)"
   ]
  },
  {
   "cell_type": "code",
   "execution_count": 26,
   "metadata": {
    "collapsed": true
   },
   "outputs": [
    {
     "data": {
      "text/plain": [
       "array([  1.25,  -9.6 ,  42.  ])"
      ]
     },
     "execution_count": 26,
     "metadata": {},
     "output_type": "execute_result"
    }
   ],
   "source": [
    "numeric_strings = np.array(['1.25', '-9.6', '42'], dtype=np.string_)\n",
    "numeric_strings.astype(float)"
   ]
  },
  {
   "cell_type": "markdown",
   "metadata": {},
   "source": [
    "## 数据类型对象"
   ]
  },
  {
   "cell_type": "code",
   "execution_count": 27,
   "metadata": {
    "collapsed": true
   },
   "outputs": [
    {
     "name": "stdout",
     "output_type": "stream",
     "text": [
      "=\n4\n"
     ]
    }
   ],
   "source": [
    "# 数据类型对象\n",
    "a = np.array([[1, 2], [3, 4]])\n",
    "\n",
    "print(a.dtype.byteorder)\n",
    "\n",
    "print(a.dtype.itemsize)"
   ]
  },
  {
   "cell_type": "markdown",
   "metadata": {},
   "source": [
    "## 字符编码"
   ]
  },
  {
   "cell_type": "code",
   "execution_count": 28,
   "metadata": {
    "collapsed": true
   },
   "outputs": [
    {
     "name": "stdout",
     "output_type": "stream",
     "text": [
      "[ 0.  1.  2.  3.  4.  5.  6.]\n[ 0.+0.j  1.+0.j  2.+0.j  3.+0.j  4.+0.j  5.+0.j  6.+0.j]\nfloat64\nfloat32\nfloat64\nfloat64\nfloat64\n"
     ]
    },
    {
     "name": "stderr",
     "output_type": "stream",
     "text": [
      "C:\\ProgramData\\Anaconda3\\lib\\site-packages\\ipykernel_launcher.py:13: DeprecationWarning: Numeric-style type codes are deprecated and will result in an error in the future.\n  del sys.path[0]\n"
     ]
    }
   ],
   "source": [
    "# 字符编码\n",
    "print(np.arange(7, dtype='f'))\n",
    "print(np.arange(7, dtype='D'))\n",
    "\n",
    "print(np.dtype(float))\n",
    "\n",
    "print(np.dtype('f'))\n",
    "\n",
    "print(np.dtype('d'))\n",
    "\n",
    "print(np.dtype('f8'))\n",
    "\n",
    "print(np.dtype('Float64'))"
   ]
  },
  {
   "cell_type": "markdown",
   "metadata": {},
   "source": [
    "## type类的属性"
   ]
  },
  {
   "cell_type": "code",
   "execution_count": 29,
   "metadata": {
    "collapsed": true
   },
   "outputs": [
    {
     "name": "stdout",
     "output_type": "stream",
     "text": [
      "d\n<class 'numpy.float64'>\n<f8\n"
     ]
    },
    {
     "name": "stderr",
     "output_type": "stream",
     "text": [
      "C:\\ProgramData\\Anaconda3\\lib\\site-packages\\ipykernel_launcher.py:2: DeprecationWarning: Numeric-style type codes are deprecated and will result in an error in the future.\n  \n"
     ]
    }
   ],
   "source": [
    "# dtype类的属性\n",
    "t = np.dtype('Float64')\n",
    "\n",
    "print(t.char)\n",
    "\n",
    "print(t.type)\n",
    "\n",
    "print(t.str)"
   ]
  },
  {
   "cell_type": "markdown",
   "metadata": {},
   "source": [
    "## 创建自定义数据类型"
   ]
  },
  {
   "cell_type": "code",
   "execution_count": 30,
   "metadata": {
    "collapsed": true
   },
   "outputs": [
    {
     "name": "stdout",
     "output_type": "stream",
     "text": [
      "[('name', '<U40'), ('numitems', '<i4'), ('price', '<f4')]\n<U40\n('Butter', 13,  2.72000003)\n"
     ]
    }
   ],
   "source": [
    "# 创建自定义数据类型\n",
    "t = np.dtype([('name', np.str_, 40), ('numitems', np.int32), ('price', np.float32)])\n",
    "print(t)\n",
    "\n",
    "print(t['name'])\n",
    "\n",
    "itemz = np.array([('Meaning of life DVD', 42, 3.14), ('Butter', 13, 2.72)], dtype=t)\n",
    "\n",
    "print(itemz[1])"
   ]
  },
  {
   "cell_type": "markdown",
   "metadata": {},
   "source": [
    "## 数组与标量的运算"
   ]
  },
  {
   "cell_type": "code",
   "execution_count": 31,
   "metadata": {
    "collapsed": true
   },
   "outputs": [
    {
     "data": {
      "text/plain": [
       "array([[ 1.,  2.,  3.],\n       [ 4.,  5.,  6.]])"
      ]
     },
     "execution_count": 31,
     "metadata": {},
     "output_type": "execute_result"
    }
   ],
   "source": [
    "# 数组与标量的运算\n",
    "arr = np.array([[1., 2., 3.], [4., 5., 6.]])\n",
    "arr"
   ]
  },
  {
   "cell_type": "code",
   "execution_count": 32,
   "metadata": {
    "collapsed": true
   },
   "outputs": [
    {
     "data": {
      "text/plain": [
       "array([[  1.,   4.,   9.],\n       [ 16.,  25.,  36.]])"
      ]
     },
     "execution_count": 32,
     "metadata": {},
     "output_type": "execute_result"
    }
   ],
   "source": [
    "arr * arr"
   ]
  },
  {
   "cell_type": "code",
   "execution_count": 33,
   "metadata": {
    "collapsed": true
   },
   "outputs": [
    {
     "data": {
      "text/plain": [
       "array([[ 0.,  0.,  0.],\n       [ 0.,  0.,  0.]])"
      ]
     },
     "execution_count": 33,
     "metadata": {},
     "output_type": "execute_result"
    }
   ],
   "source": [
    "arr - arr"
   ]
  },
  {
   "cell_type": "code",
   "execution_count": 34,
   "metadata": {
    "collapsed": true
   },
   "outputs": [
    {
     "data": {
      "text/plain": [
       "array([[ 1.        ,  0.5       ,  0.33333333],\n       [ 0.25      ,  0.2       ,  0.16666667]])"
      ]
     },
     "execution_count": 34,
     "metadata": {},
     "output_type": "execute_result"
    }
   ],
   "source": [
    "1 / arr"
   ]
  },
  {
   "cell_type": "code",
   "execution_count": 35,
   "metadata": {
    "collapsed": true
   },
   "outputs": [
    {
     "data": {
      "text/plain": [
       "array([[ 1.        ,  1.41421356,  1.73205081],\n       [ 2.        ,  2.23606798,  2.44948974]])"
      ]
     },
     "execution_count": 35,
     "metadata": {},
     "output_type": "execute_result"
    }
   ],
   "source": [
    "arr ** 0.5"
   ]
  },
  {
   "cell_type": "markdown",
   "metadata": {},
   "source": [
    "## 一维数组的索引与切片"
   ]
  },
  {
   "cell_type": "code",
   "execution_count": 36,
   "metadata": {
    "collapsed": true
   },
   "outputs": [
    {
     "name": "stdout",
     "output_type": "stream",
     "text": [
      "[3 4 5 6]\n[0 2 4 6]\n[8 7 6 5 4 3 2 1 0]\n[3 5]\n[8 7 6 5 4 3 2 1 0]\n"
     ]
    }
   ],
   "source": [
    "# 一维数组的索引与切片\n",
    "a = np.arange(9)\n",
    "\n",
    "print(a[3:7])\n",
    "\n",
    "print(a[:7:2])\n",
    "\n",
    "print(a[::-1])\n",
    "\n",
    "s = slice(3, 7, 2)\n",
    "print(a[s])\n",
    "\n",
    "s = slice(None, None, -1)\n",
    "\n",
    "print(a[s])"
   ]
  },
  {
   "cell_type": "markdown",
   "metadata": {},
   "source": [
    "## 多维数组的切片与索引"
   ]
  },
  {
   "cell_type": "code",
   "execution_count": 37,
   "metadata": {
    "collapsed": true
   },
   "outputs": [
    {
     "name": "stdout",
     "output_type": "stream",
     "text": [
      "(2, 3, 4)\n[[[ 0  1  2  3]\n  [ 4  5  6  7]\n  [ 8  9 10 11]]\n\n [[12 13 14 15]\n  [16 17 18 19]\n  [20 21 22 23]]]\n0\n[ 0 12]\n[[ 0  1  2  3]\n [ 4  5  6  7]\n [ 8  9 10 11]]\n[[ 0  1  2  3]\n [ 4  5  6  7]\n [ 8  9 10 11]]\n[[ 0  1  2  3]\n [ 4  5  6  7]\n [ 8  9 10 11]]\n[4 5 6 7]\n[4 6]\n[[ 1  5  9]\n [13 17 21]]\n[[ 4  5  6  7]\n [16 17 18 19]]\n[1 5 9]\n[ 3  7 11]\n[11  7  3]\n[ 3 11]\n[[[12 13 14 15]\n  [16 17 18 19]\n  [20 21 22 23]]\n\n [[ 0  1  2  3]\n  [ 4  5  6  7]\n  [ 8  9 10 11]]]\n[[[23 22 21 20]\n  [19 18 17 16]\n  [15 14 13 12]]\n\n [[11 10  9  8]\n  [ 7  6  5  4]\n  [ 3  2  1  0]]]\n"
     ]
    }
   ],
   "source": [
    "# 多维数组的切片与索引\n",
    "b = np.arange(24).reshape(2, 3, 4)\n",
    "\n",
    "print(b.shape)\n",
    "\n",
    "print(b)\n",
    "\n",
    "print(b[0, 0, 0])\n",
    "\n",
    "print(b[:, 0, 0])\n",
    "\n",
    "print(b[0])\n",
    "\n",
    "print(b[0, :, :])\n",
    "\n",
    "print(b[0, ...])\n",
    "\n",
    "print(b[0, 1])\n",
    "\n",
    "print(b[0, 1, ::2])\n",
    "\n",
    "print(b[..., 1])\n",
    "\n",
    "print(b[:, 1])\n",
    "\n",
    "print(b[0, :, 1])\n",
    "\n",
    "print(b[0, :, -1])\n",
    "\n",
    "print(b[0, ::-1, -1])\n",
    "\n",
    "print(b[0, ::2, -1])\n",
    "\n",
    "print(b[::-1])\n",
    "\n",
    "s = slice(None, None, -1)\n",
    "print(b[(s, s, s)])"
   ]
  },
  {
   "cell_type": "markdown",
   "metadata": {},
   "source": [
    "## 布尔型索引"
   ]
  },
  {
   "cell_type": "code",
   "execution_count": 38,
   "metadata": {
    "collapsed": true
   },
   "outputs": [],
   "source": [
    "# 布尔型索引\n",
    "names = np.array(['Bob', 'Joe', 'Will', 'Bob', 'Will', 'Joe', 'Joe'])\n",
    "data = np.random.randn(7, 4)"
   ]
  },
  {
   "cell_type": "code",
   "execution_count": 39,
   "metadata": {
    "collapsed": true
   },
   "outputs": [
    {
     "data": {
      "text/plain": [
       "array(['Bob', 'Joe', 'Will', 'Bob', 'Will', 'Joe', 'Joe'], \n      dtype='<U4')"
      ]
     },
     "execution_count": 39,
     "metadata": {},
     "output_type": "execute_result"
    }
   ],
   "source": [
    "names"
   ]
  },
  {
   "cell_type": "code",
   "execution_count": 40,
   "metadata": {
    "collapsed": true
   },
   "outputs": [
    {
     "data": {
      "text/plain": [
       "array([[-1.01504197, -1.53005352,  0.75853162,  0.35188611],\n       [ 0.42691628,  0.64738979, -0.49456879,  0.6420728 ],\n       [ 0.79245449, -0.88837584,  1.15706385, -1.40232002],\n       [ 0.10355699, -1.15478154,  0.99303669, -1.42431578],\n       [-1.08005402, -0.88447402, -0.19597154,  0.50873589],\n       [ 1.52942389,  0.37328854, -1.01259458, -0.70578044],\n       [-0.50512187,  1.40398143,  0.324043  , -0.58337786]])"
      ]
     },
     "execution_count": 40,
     "metadata": {},
     "output_type": "execute_result"
    }
   ],
   "source": [
    "data"
   ]
  },
  {
   "cell_type": "code",
   "execution_count": 41,
   "metadata": {
    "collapsed": true
   },
   "outputs": [
    {
     "data": {
      "text/plain": [
       "array([ True, False, False,  True, False, False, False], dtype=bool)"
      ]
     },
     "execution_count": 41,
     "metadata": {},
     "output_type": "execute_result"
    }
   ],
   "source": [
    "names == 'Bob'"
   ]
  },
  {
   "cell_type": "code",
   "execution_count": 42,
   "metadata": {
    "collapsed": true
   },
   "outputs": [
    {
     "data": {
      "text/plain": [
       "array([[-1.01504197, -1.53005352,  0.75853162,  0.35188611],\n       [ 0.10355699, -1.15478154,  0.99303669, -1.42431578]])"
      ]
     },
     "execution_count": 42,
     "metadata": {},
     "output_type": "execute_result"
    }
   ],
   "source": [
    "data[names == 'Bob']"
   ]
  },
  {
   "cell_type": "code",
   "execution_count": 43,
   "metadata": {
    "collapsed": true
   },
   "outputs": [
    {
     "data": {
      "text/plain": [
       "array([[ 0.75853162,  0.35188611],\n       [ 0.99303669, -1.42431578]])"
      ]
     },
     "execution_count": 43,
     "metadata": {},
     "output_type": "execute_result"
    }
   ],
   "source": [
    "data[names == 'Bob', 2:]"
   ]
  },
  {
   "cell_type": "code",
   "execution_count": 44,
   "metadata": {
    "collapsed": true
   },
   "outputs": [
    {
     "data": {
      "text/plain": [
       "array([ 0.35188611, -1.42431578])"
      ]
     },
     "execution_count": 44,
     "metadata": {},
     "output_type": "execute_result"
    }
   ],
   "source": [
    "data[names == 'Bob', 3]"
   ]
  },
  {
   "cell_type": "code",
   "execution_count": 45,
   "metadata": {
    "collapsed": true
   },
   "outputs": [
    {
     "data": {
      "text/plain": [
       "array([False,  True,  True, False,  True,  True,  True], dtype=bool)"
      ]
     },
     "execution_count": 45,
     "metadata": {},
     "output_type": "execute_result"
    }
   ],
   "source": [
    "names != 'Bob'"
   ]
  },
  {
   "cell_type": "code",
   "execution_count": 48,
   "metadata": {
    "collapsed": true
   },
   "outputs": [
    {
     "data": {
      "text/plain": [
       "array([[ 0.42691628,  0.64738979, -0.49456879,  0.6420728 ],\n       [ 0.79245449, -0.88837584,  1.15706385, -1.40232002],\n       [-1.08005402, -0.88447402, -0.19597154,  0.50873589],\n       [ 1.52942389,  0.37328854, -1.01259458, -0.70578044],\n       [-0.50512187,  1.40398143,  0.324043  , -0.58337786]])"
      ]
     },
     "execution_count": 48,
     "metadata": {},
     "output_type": "execute_result"
    }
   ],
   "source": [
    "data[~(names == 'Bob')]"
   ]
  },
  {
   "cell_type": "code",
   "execution_count": 49,
   "metadata": {
    "collapsed": true
   },
   "outputs": [
    {
     "data": {
      "text/plain": [
       "array([ True, False,  True,  True,  True, False, False], dtype=bool)"
      ]
     },
     "execution_count": 49,
     "metadata": {},
     "output_type": "execute_result"
    }
   ],
   "source": [
    "mask = (names == 'Bob') | (names == 'Will')\n",
    "mask"
   ]
  },
  {
   "cell_type": "code",
   "execution_count": 50,
   "metadata": {
    "collapsed": true
   },
   "outputs": [
    {
     "data": {
      "text/plain": [
       "array([[-1.01504197, -1.53005352,  0.75853162,  0.35188611],\n       [ 0.79245449, -0.88837584,  1.15706385, -1.40232002],\n       [ 0.10355699, -1.15478154,  0.99303669, -1.42431578],\n       [-1.08005402, -0.88447402, -0.19597154,  0.50873589]])"
      ]
     },
     "execution_count": 50,
     "metadata": {},
     "output_type": "execute_result"
    }
   ],
   "source": [
    "data[mask]"
   ]
  },
  {
   "cell_type": "code",
   "execution_count": 51,
   "metadata": {
    "collapsed": true
   },
   "outputs": [
    {
     "data": {
      "text/plain": [
       "array([[ 0.        ,  0.        ,  0.75853162,  0.35188611],\n       [ 0.42691628,  0.64738979,  0.        ,  0.6420728 ],\n       [ 0.79245449,  0.        ,  1.15706385,  0.        ],\n       [ 0.10355699,  0.        ,  0.99303669,  0.        ],\n       [ 0.        ,  0.        ,  0.        ,  0.50873589],\n       [ 1.52942389,  0.37328854,  0.        ,  0.        ],\n       [ 0.        ,  1.40398143,  0.324043  ,  0.        ]])"
      ]
     },
     "execution_count": 51,
     "metadata": {},
     "output_type": "execute_result"
    }
   ],
   "source": [
    "data[data < 0] = 0\n",
    "data"
   ]
  },
  {
   "cell_type": "code",
   "execution_count": 52,
   "metadata": {
    "collapsed": true
   },
   "outputs": [
    {
     "data": {
      "text/plain": [
       "array([[ 7.        ,  7.        ,  7.        ,  7.        ],\n       [ 0.42691628,  0.64738979,  0.        ,  0.6420728 ],\n       [ 7.        ,  7.        ,  7.        ,  7.        ],\n       [ 7.        ,  7.        ,  7.        ,  7.        ],\n       [ 7.        ,  7.        ,  7.        ,  7.        ],\n       [ 1.52942389,  0.37328854,  0.        ,  0.        ],\n       [ 0.        ,  1.40398143,  0.324043  ,  0.        ]])"
      ]
     },
     "execution_count": 52,
     "metadata": {},
     "output_type": "execute_result"
    }
   ],
   "source": [
    "data[names != 'Joe'] = 7\n",
    "data"
   ]
  },
  {
   "cell_type": "markdown",
   "metadata": {},
   "source": [
    "## 花式索引"
   ]
  },
  {
   "cell_type": "code",
   "execution_count": 53,
   "metadata": {
    "collapsed": true
   },
   "outputs": [
    {
     "data": {
      "text/plain": [
       "array([[ 0.,  0.,  0.,  0.],\n       [ 1.,  1.,  1.,  1.],\n       [ 2.,  2.,  2.,  2.],\n       [ 3.,  3.,  3.,  3.],\n       [ 4.,  4.,  4.,  4.],\n       [ 5.,  5.,  5.,  5.],\n       [ 6.,  6.,  6.,  6.],\n       [ 7.,  7.,  7.,  7.]])"
      ]
     },
     "execution_count": 53,
     "metadata": {},
     "output_type": "execute_result"
    }
   ],
   "source": [
    "# 花式索引\n",
    "arr = np.empty((8, 4))\n",
    "for i in range(8):\n",
    "    arr[i] = i\n",
    "arr"
   ]
  },
  {
   "cell_type": "code",
   "execution_count": 54,
   "metadata": {
    "collapsed": true
   },
   "outputs": [
    {
     "data": {
      "text/plain": [
       "array([[ 4.,  4.,  4.,  4.],\n       [ 3.,  3.,  3.,  3.],\n       [ 0.,  0.,  0.,  0.],\n       [ 6.,  6.,  6.,  6.]])"
      ]
     },
     "execution_count": 54,
     "metadata": {},
     "output_type": "execute_result"
    }
   ],
   "source": [
    "arr[[4, 3, 0, 6]]"
   ]
  },
  {
   "cell_type": "code",
   "execution_count": 55,
   "metadata": {
    "collapsed": true
   },
   "outputs": [
    {
     "data": {
      "text/plain": [
       "array([[ 5.,  5.,  5.,  5.],\n       [ 3.,  3.,  3.,  3.],\n       [ 1.,  1.,  1.,  1.]])"
      ]
     },
     "execution_count": 55,
     "metadata": {},
     "output_type": "execute_result"
    }
   ],
   "source": [
    "arr[[-3, -5, -7]]"
   ]
  },
  {
   "cell_type": "code",
   "execution_count": 56,
   "metadata": {
    "collapsed": true
   },
   "outputs": [
    {
     "data": {
      "text/plain": [
       "array([[ 0,  1,  2,  3],\n       [ 4,  5,  6,  7],\n       [ 8,  9, 10, 11],\n       [12, 13, 14, 15],\n       [16, 17, 18, 19],\n       [20, 21, 22, 23],\n       [24, 25, 26, 27],\n       [28, 29, 30, 31]])"
      ]
     },
     "execution_count": 56,
     "metadata": {},
     "output_type": "execute_result"
    }
   ],
   "source": [
    "arr = np.arange(32).reshape((8, 4))\n",
    "arr"
   ]
  },
  {
   "cell_type": "code",
   "execution_count": 57,
   "metadata": {
    "collapsed": true
   },
   "outputs": [
    {
     "data": {
      "text/plain": [
       "array([ 4, 23, 29, 10])"
      ]
     },
     "execution_count": 57,
     "metadata": {},
     "output_type": "execute_result"
    }
   ],
   "source": [
    "arr[[1, 5, 7, 2], [0, 3, 1, 2]]"
   ]
  },
  {
   "cell_type": "code",
   "execution_count": 58,
   "metadata": {
    "collapsed": true
   },
   "outputs": [
    {
     "data": {
      "text/plain": [
       "array([[ 4,  7,  5,  6],\n       [20, 23, 21, 22],\n       [28, 31, 29, 30],\n       [ 8, 11,  9, 10]])"
      ]
     },
     "execution_count": 58,
     "metadata": {},
     "output_type": "execute_result"
    }
   ],
   "source": [
    "arr[[1, 5, 7, 2]][:, [0, 3, 1, 2]]"
   ]
  },
  {
   "cell_type": "code",
   "execution_count": 59,
   "metadata": {
    "collapsed": true
   },
   "outputs": [
    {
     "data": {
      "text/plain": [
       "array([[ 4,  7,  5,  6],\n       [20, 23, 21, 22],\n       [28, 31, 29, 30],\n       [ 8, 11,  9, 10]])"
      ]
     },
     "execution_count": 59,
     "metadata": {},
     "output_type": "execute_result"
    }
   ],
   "source": [
    "arr[np.ix_([1, 5, 7, 2], [0, 3, 1, 2])]"
   ]
  },
  {
   "cell_type": "markdown",
   "metadata": {},
   "source": [
    "## 数组转置"
   ]
  },
  {
   "cell_type": "code",
   "execution_count": 60,
   "metadata": {
    "collapsed": true
   },
   "outputs": [
    {
     "data": {
      "text/plain": [
       "array([[ 0,  1,  2,  3,  4],\n       [ 5,  6,  7,  8,  9],\n       [10, 11, 12, 13, 14]])"
      ]
     },
     "execution_count": 60,
     "metadata": {},
     "output_type": "execute_result"
    }
   ],
   "source": [
    "# 数组转置\n",
    "arr = np.arange(15).reshape((3, 5))\n",
    "arr"
   ]
  },
  {
   "cell_type": "code",
   "execution_count": 61,
   "metadata": {
    "collapsed": true
   },
   "outputs": [
    {
     "data": {
      "text/plain": [
       "array([[ 0,  5, 10],\n       [ 1,  6, 11],\n       [ 2,  7, 12],\n       [ 3,  8, 13],\n       [ 4,  9, 14]])"
      ]
     },
     "execution_count": 61,
     "metadata": {},
     "output_type": "execute_result"
    }
   ],
   "source": [
    "arr.T"
   ]
  },
  {
   "cell_type": "markdown",
   "metadata": {},
   "source": [
    "## 改变数组的维度"
   ]
  },
  {
   "cell_type": "code",
   "execution_count": 62,
   "metadata": {
    "collapsed": true
   },
   "outputs": [
    {
     "name": "stdout",
     "output_type": "stream",
     "text": [
      "[[[ 0  1  2  3]\n  [ 4  5  6  7]\n  [ 8  9 10 11]]\n\n [[12 13 14 15]\n  [16 17 18 19]\n  [20 21 22 23]]]\n[ 0  1  2  3  4  5  6  7  8  9 10 11 12 13 14 15 16 17 18 19 20 21 22 23]\n[ 0  1  2  3  4  5  6  7  8  9 10 11 12 13 14 15 16 17 18 19 20 21 22 23]\n[[ 0  1  2  3]\n [ 4  5  6  7]\n [ 8  9 10 11]\n [12 13 14 15]\n [16 17 18 19]\n [20 21 22 23]]\n[[ 0  4  8 12 16 20]\n [ 1  5  9 13 17 21]\n [ 2  6 10 14 18 22]\n [ 3  7 11 15 19 23]]\n[[ 0  1  2  3  4  5  6  7  8  9 10 11]\n [12 13 14 15 16 17 18 19 20 21 22 23]]\n"
     ]
    }
   ],
   "source": [
    "# 改变数组的维度\n",
    "b = np.arange(24).reshape(2, 3, 4)\n",
    "\n",
    "print(b)\n",
    "\n",
    "print(b.ravel())\n",
    "\n",
    "print(b.flatten())\n",
    "\n",
    "b.shape = (6, 4)\n",
    "\n",
    "print(b)\n",
    "\n",
    "print(b.transpose())\n",
    "\n",
    "b.resize((2, 12))\n",
    "\n",
    "print(b)"
   ]
  },
  {
   "cell_type": "markdown",
   "metadata": {},
   "source": [
    "## 组合数组"
   ]
  },
  {
   "cell_type": "code",
   "execution_count": 63,
   "metadata": {
    "collapsed": true
   },
   "outputs": [
    {
     "name": "stdout",
     "output_type": "stream",
     "text": [
      "[[0 1 2]\n [3 4 5]\n [6 7 8]]\n[[ 0  2  4]\n [ 6  8 10]\n [12 14 16]]\n[[ 0  1  2  0  2  4]\n [ 3  4  5  6  8 10]\n [ 6  7  8 12 14 16]]\n[[ 0  1  2  0  2  4]\n [ 3  4  5  6  8 10]\n [ 6  7  8 12 14 16]]\n[[ 0  1  2]\n [ 3  4  5]\n [ 6  7  8]\n [ 0  2  4]\n [ 6  8 10]\n [12 14 16]]\n[[ 0  1  2]\n [ 3  4  5]\n [ 6  7  8]\n [ 0  2  4]\n [ 6  8 10]\n [12 14 16]]\n[[[ 0  0]\n  [ 1  2]\n  [ 2  4]]\n\n [[ 3  6]\n  [ 4  8]\n  [ 5 10]]\n\n [[ 6 12]\n  [ 7 14]\n  [ 8 16]]]\n[0 1]\n[0 2]\n[[0 0]\n [1 2]]\n[[ 0  1  2  0  2  4]\n [ 3  4  5  6  8 10]\n [ 6  7  8 12 14 16]]\n[[ True  True  True  True  True  True]\n [ True  True  True  True  True  True]\n [ True  True  True  True  True  True]]\n[[0 1]\n [0 2]]\n[[ 0  1  2]\n [ 3  4  5]\n [ 6  7  8]\n [ 0  2  4]\n [ 6  8 10]\n [12 14 16]]\n[[ True  True  True]\n [ True  True  True]\n [ True  True  True]\n [ True  True  True]\n [ True  True  True]\n [ True  True  True]]\n"
     ]
    }
   ],
   "source": [
    "# 组合数组\n",
    "a = np.arange(9).reshape(3, 3)\n",
    "\n",
    "print(a)\n",
    "\n",
    "b = 2 * a\n",
    "\n",
    "print(b)\n",
    "\n",
    "print(np.hstack((a, b)))\n",
    "\n",
    "print(np.concatenate((a, b), axis=1))\n",
    "\n",
    "print(np.vstack((a, b)))\n",
    "\n",
    "print(np.concatenate((a, b), axis=0))\n",
    "\n",
    "print(np.dstack((a, b)))\n",
    "\n",
    "oned = np.arange(2)\n",
    "\n",
    "print(oned)\n",
    "\n",
    "twice_oned = 2 * oned\n",
    "\n",
    "print(twice_oned)\n",
    "\n",
    "print(np.column_stack((oned, twice_oned)))\n",
    "\n",
    "print(np.column_stack((a, b)))\n",
    "\n",
    "print(np.column_stack((a, b)) == np.hstack((a, b)))\n",
    "\n",
    "print(np.row_stack((oned, twice_oned)))\n",
    "\n",
    "print(np.row_stack((a, b)))\n",
    "\n",
    "print(np.row_stack((a, b)) == np.vstack((a, b)))"
   ]
  },
  {
   "cell_type": "markdown",
   "metadata": {},
   "source": [
    "## 数组的分割"
   ]
  },
  {
   "cell_type": "code",
   "execution_count": 64,
   "metadata": {
    "collapsed": true
   },
   "outputs": [
    {
     "name": "stdout",
     "output_type": "stream",
     "text": [
      "[[0 1 2]\n [3 4 5]]\n[array([[0],\n       [3]]), array([[1],\n       [4]]), array([[2],\n       [5]])]\n[array([[0],\n       [3]]), array([[1],\n       [4]]), array([[2],\n       [5]])]\n[array([[0, 1, 2]]), array([[3, 4, 5]])]\n[array([[0, 1, 2]]), array([[3, 4, 5]])]\n[[[ 0  1  2]\n  [ 3  4  5]\n  [ 6  7  8]]\n\n [[ 9 10 11]\n  [12 13 14]\n  [15 16 17]]\n\n [[18 19 20]\n  [21 22 23]\n  [24 25 26]]]\n[array([[[ 0],\n        [ 3],\n        [ 6]],\n\n       [[ 9],\n        [12],\n        [15]],\n\n       [[18],\n        [21],\n        [24]]]), array([[[ 1],\n        [ 4],\n        [ 7]],\n\n       [[10],\n        [13],\n        [16]],\n\n       [[19],\n        [22],\n        [25]]]), array([[[ 2],\n        [ 5],\n        [ 8]],\n\n       [[11],\n        [14],\n        [17]],\n\n       [[20],\n        [23],\n        [26]]])]\n"
     ]
    }
   ],
   "source": [
    "# 数组的分割\n",
    "a = np.arange(6).reshape(2, 3)\n",
    "\n",
    "print(a)\n",
    "\n",
    "print(np.hsplit(a, 3))\n",
    "\n",
    "print(np.split(a, 3, axis=1))\n",
    "\n",
    "print(np.vsplit(a, 2))\n",
    "\n",
    "print(np.split(a, 2, axis=0))\n",
    "\n",
    "c = np.arange(27).reshape(3, 3, 3)\n",
    "\n",
    "print(c)\n",
    "\n",
    "print(np.dsplit(c, 3))"
   ]
  },
  {
   "cell_type": "markdown",
   "metadata": {},
   "source": [
    "## 数组的属性"
   ]
  },
  {
   "cell_type": "code",
   "execution_count": 65,
   "metadata": {
    "collapsed": true
   },
   "outputs": [
    {
     "data": {
      "text/plain": [
       "2"
      ]
     },
     "execution_count": 65,
     "metadata": {},
     "output_type": "execute_result"
    }
   ],
   "source": [
    "# 数组的属性\n",
    "b = np.arange(24).reshape(2, 12)\n",
    "b.ndim\n",
    "b.size\n",
    "b.itemsize\n",
    "b.nbytes\n",
    "\n",
    "b = np.array([1. + 1.j, 3. + 2.j])\n",
    "b.real\n",
    "b.imag\n",
    "\n",
    "b = np.arange(4).reshape(2, 2)\n",
    "b.flat\n",
    "b.flat[2]"
   ]
  },
  {
   "cell_type": "markdown",
   "metadata": {},
   "source": [
    "## 数组的转换"
   ]
  },
  {
   "cell_type": "code",
   "execution_count": 66,
   "metadata": {
    "collapsed": true
   },
   "outputs": [
    {
     "name": "stdout",
     "output_type": "stream",
     "text": [
      "[ 1.+1.j  3.+2.j]\n[(1+1j), (3+2j)]\nb'\\x00\\x00\\x00\\x00\\x00\\x00\\xf0?\\x00\\x00\\x00\\x00\\x00\\x00\\xf0?\\x00\\x00\\x00\\x00\\x00\\x00\\x08@\\x00\\x00\\x00\\x00\\x00\\x00\\x00@'\n[ 1.+1.j  3.+2.j]\n[20 42 52]\n[ 1.+1.j  3.+2.j]\n[1 3]\n[ 1.+1.j  3.+2.j]\n"
     ]
    },
    {
     "name": "stderr",
     "output_type": "stream",
     "text": [
      "C:\\ProgramData\\Anaconda3\\lib\\site-packages\\ipykernel_launcher.py:17: ComplexWarning: Casting complex values to real discards the imaginary part\n"
     ]
    }
   ],
   "source": [
    "# 数组的转换\n",
    "b = np.array([1. + 1.j, 3. + 2.j])\n",
    "print(b)\n",
    "\n",
    "print(b.tolist())\n",
    "\n",
    "print(b.tostring())\n",
    "\n",
    "print(np.fromstring(\n",
    "    b'\\x00\\x00\\x00\\x00\\x00\\x00\\xf0?\\x00\\x00\\x00\\x00\\x00\\x00\\xf0?\\x00\\x00\\x00\\x00\\x00\\x00\\x08@\\x00\\x00\\x00\\x00\\x00\\x00\\x00@',\n",
    "    dtype=complex))\n",
    "\n",
    "print(np.fromstring('20:42:52', sep=':', dtype=int))\n",
    "\n",
    "print(b)\n",
    "\n",
    "print(b.astype(int))\n",
    "\n",
    "print(b.astype('complex'))"
   ]
  },
  {
   "cell_type": "markdown",
   "metadata": {},
   "source": [
    "参考资料：炼数成金Python数据分析课程"
   ]
  }
 ],
 "metadata": {
  "kernelspec": {
   "display_name": "Python 3",
   "language": "python",
   "name": "python3"
  },
  "language_info": {
   "codemirror_mode": {
    "name": "ipython",
    "version": 3
   },
   "file_extension": ".py",
   "mimetype": "text/x-python",
   "name": "python",
   "nbconvert_exporter": "python",
   "pygments_lexer": "ipython3",
   "version": "3.6.1"
  }
 },
 "nbformat": 4,
 "nbformat_minor": 2
}
