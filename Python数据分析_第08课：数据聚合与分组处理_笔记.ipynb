{
 "cells": [
  {
   "cell_type": "markdown",
   "metadata": {
    "collapsed": true
   },
   "source": [
    "# 数据聚合、分组运算与转换、透视表与交叉表"
   ]
  },
  {
   "cell_type": "code",
   "execution_count": 1,
   "metadata": {
    "collapsed": true
   },
   "outputs": [],
   "source": [
    "import matplotlib.pyplot as plt\n",
    "import numpy as np\n",
    "import pandas as pd\n",
    "from pandas import Series, DataFrame\n",
    "\n",
    "np.random.seed(12345)\n",
    "plt.rc('figure', figsize=(10, 6))\n",
    "\n",
    "np.set_printoptions(precision=4)\n",
    "\n",
    "pd.options.display.notebook_repr_html = False\n",
    "get_ipython().magic(u'matplotlib inline')"
   ]
  },
  {
   "cell_type": "markdown",
   "metadata": {},
   "source": [
    "# GroupBy"
   ]
  },
  {
   "cell_type": "code",
   "execution_count": 2,
   "metadata": {
    "collapsed": true
   },
   "outputs": [
    {
     "name": "stdout",
     "output_type": "stream",
     "text": [
      "      data1     data2 key1 key2\n0 -0.204708  1.393406    a  one\n1  0.478943  0.092908    a  two\n2 -0.519439  0.281746    b  one\n3 -0.555730  0.769023    b  two\n4  1.965781  1.246435    a  one\n"
     ]
    }
   ],
   "source": [
    "df = DataFrame({'key1': ['a', 'a', 'b', 'b', 'a'],\n",
    "                'key2': ['one', 'two', 'one', 'two', 'one'],\n",
    "                'data1': np.random.randn(5),\n",
    "                'data2': np.random.randn(5)})\n",
    "print(df)"
   ]
  },
  {
   "cell_type": "code",
   "execution_count": 3,
   "metadata": {
    "collapsed": true
   },
   "outputs": [
    {
     "name": "stdout",
     "output_type": "stream",
     "text": [
      "[('a', 0   -0.204708\n1    0.478943\n4    1.965781\nName: data1, dtype: float64), ('b', 2   -0.519439\n3   -0.555730\nName: data1, dtype: float64)]\n"
     ]
    }
   ],
   "source": [
    "grouped = df['data1'].groupby(df['key1'])\n",
    "print(list(grouped))"
   ]
  },
  {
   "cell_type": "code",
   "execution_count": 4,
   "metadata": {
    "collapsed": true
   },
   "outputs": [
    {
     "data": {
      "text/plain": [
       "key1\na    0.746672\nb   -0.537585\nName: data1, dtype: float64"
      ]
     },
     "execution_count": 4,
     "metadata": {},
     "output_type": "execute_result"
    }
   ],
   "source": [
    "grouped.mean()"
   ]
  },
  {
   "cell_type": "code",
   "execution_count": 5,
   "metadata": {
    "collapsed": true
   },
   "outputs": [
    {
     "name": "stdout",
     "output_type": "stream",
     "text": [
      "key1  key2\na     one     0.880536\n      two     0.478943\nb     one    -0.519439\n      two    -0.555730\nName: data1, dtype: float64\n"
     ]
    }
   ],
   "source": [
    "means = df['data1'].groupby([df['key1'], df['key2']]).mean()\n",
    "print(means)"
   ]
  },
  {
   "cell_type": "code",
   "execution_count": 6,
   "metadata": {
    "collapsed": true
   },
   "outputs": [
    {
     "data": {
      "text/plain": [
       "key2       one       two\nkey1                    \na     0.880536  0.478943\nb    -0.519439 -0.555730"
      ]
     },
     "execution_count": 6,
     "metadata": {},
     "output_type": "execute_result"
    }
   ],
   "source": [
    "means.unstack()"
   ]
  },
  {
   "cell_type": "code",
   "execution_count": 7,
   "metadata": {
    "collapsed": true
   },
   "outputs": [
    {
     "data": {
      "text/plain": [
       "California  2005    0.478943\n            2006   -0.519439\nOhio        2005   -0.380219\n            2006    1.965781\nName: data1, dtype: float64"
      ]
     },
     "execution_count": 7,
     "metadata": {},
     "output_type": "execute_result"
    }
   ],
   "source": [
    "states = np.array(['Ohio', 'California', 'California', 'Ohio', 'Ohio'])\n",
    "years = np.array([2005, 2005, 2006, 2005, 2006])\n",
    "df['data1'].groupby([states, years]).mean()"
   ]
  },
  {
   "cell_type": "code",
   "execution_count": 8,
   "metadata": {
    "collapsed": true
   },
   "outputs": [
    {
     "data": {
      "text/plain": [
       "         data1     data2\nkey1                    \na     0.746672  0.910916\nb    -0.537585  0.525384"
      ]
     },
     "execution_count": 8,
     "metadata": {},
     "output_type": "execute_result"
    }
   ],
   "source": [
    "df.groupby('key1').mean()"
   ]
  },
  {
   "cell_type": "code",
   "execution_count": 9,
   "metadata": {
    "collapsed": true
   },
   "outputs": [
    {
     "data": {
      "text/plain": [
       "              data1     data2\nkey1 key2                    \na    one   0.880536  1.319920\n     two   0.478943  0.092908\nb    one  -0.519439  0.281746\n     two  -0.555730  0.769023"
      ]
     },
     "execution_count": 9,
     "metadata": {},
     "output_type": "execute_result"
    }
   ],
   "source": [
    "df.groupby(['key1', 'key2']).mean()"
   ]
  },
  {
   "cell_type": "code",
   "execution_count": 10,
   "metadata": {
    "collapsed": true
   },
   "outputs": [
    {
     "data": {
      "text/plain": [
       "key1  key2\na     one     2\n      two     1\nb     one     1\n      two     1\ndtype: int64"
      ]
     },
     "execution_count": 10,
     "metadata": {},
     "output_type": "execute_result"
    }
   ],
   "source": [
    "df.groupby(['key1', 'key2']).size()"
   ]
  },
  {
   "cell_type": "markdown",
   "metadata": {},
   "source": [
    "# 对分组进行迭代"
   ]
  },
  {
   "cell_type": "code",
   "execution_count": 11,
   "metadata": {
    "collapsed": true
   },
   "outputs": [
    {
     "name": "stdout",
     "output_type": "stream",
     "text": [
      "a\n      data1     data2 key1 key2\n0 -0.204708  1.393406    a  one\n1  0.478943  0.092908    a  two\n4  1.965781  1.246435    a  one\nb\n      data1     data2 key1 key2\n2 -0.519439  0.281746    b  one\n3 -0.555730  0.769023    b  two\n"
     ]
    }
   ],
   "source": [
    "for name, group in df.groupby('key1'):\n",
    "    print(name)\n",
    "    print(group)"
   ]
  },
  {
   "cell_type": "code",
   "execution_count": 12,
   "metadata": {
    "collapsed": true
   },
   "outputs": [
    {
     "data": {
      "text/plain": [
       "[('a',       data1     data2 key1 key2\n  0 -0.204708  1.393406    a  one\n  1  0.478943  0.092908    a  two\n  4  1.965781  1.246435    a  one), ('b',       data1     data2 key1 key2\n  2 -0.519439  0.281746    b  one\n  3 -0.555730  0.769023    b  two)]"
      ]
     },
     "execution_count": 12,
     "metadata": {},
     "output_type": "execute_result"
    }
   ],
   "source": [
    "list(df.groupby('key1'))"
   ]
  },
  {
   "cell_type": "code",
   "execution_count": 13,
   "metadata": {
    "collapsed": true
   },
   "outputs": [
    {
     "name": "stdout",
     "output_type": "stream",
     "text": [
      "('a', 'one')\n      data1     data2 key1 key2\n0 -0.204708  1.393406    a  one\n4  1.965781  1.246435    a  one\n('a', 'two')\n      data1     data2 key1 key2\n1  0.478943  0.092908    a  two\n('b', 'one')\n      data1     data2 key1 key2\n2 -0.519439  0.281746    b  one\n('b', 'two')\n     data1     data2 key1 key2\n3 -0.55573  0.769023    b  two\n"
     ]
    }
   ],
   "source": [
    "for (k1, k2), group in df.groupby(['key1', 'key2']):\n",
    "    print((k1, k2))\n",
    "    print(group)"
   ]
  },
  {
   "cell_type": "code",
   "execution_count": 14,
   "metadata": {
    "collapsed": true
   },
   "outputs": [
    {
     "data": {
      "text/plain": [
       "      data1     data2 key1 key2\n2 -0.519439  0.281746    b  one\n3 -0.555730  0.769023    b  two"
      ]
     },
     "execution_count": 14,
     "metadata": {},
     "output_type": "execute_result"
    }
   ],
   "source": [
    "pieces = dict(list(df.groupby('key1')))\n",
    "pieces['b']"
   ]
  },
  {
   "cell_type": "code",
   "execution_count": 15,
   "metadata": {
    "collapsed": true
   },
   "outputs": [
    {
     "data": {
      "text/plain": [
       "data1    float64\ndata2    float64\nkey1      object\nkey2      object\ndtype: object"
      ]
     },
     "execution_count": 15,
     "metadata": {},
     "output_type": "execute_result"
    }
   ],
   "source": [
    "df.dtypes"
   ]
  },
  {
   "cell_type": "code",
   "execution_count": 16,
   "metadata": {
    "collapsed": true
   },
   "outputs": [
    {
     "data": {
      "text/plain": [
       "{dtype('float64'):       data1     data2\n 0 -0.204708  1.393406\n 1  0.478943  0.092908\n 2 -0.519439  0.281746\n 3 -0.555730  0.769023\n 4  1.965781  1.246435, dtype('O'):   key1 key2\n 0    a  one\n 1    a  two\n 2    b  one\n 3    b  two\n 4    a  one}"
      ]
     },
     "execution_count": 16,
     "metadata": {},
     "output_type": "execute_result"
    }
   ],
   "source": [
    "grouped = df.groupby(df.dtypes, axis=1)\n",
    "dict(list(grouped))"
   ]
  },
  {
   "cell_type": "markdown",
   "metadata": {},
   "source": [
    "# 选择一个或一组列"
   ]
  },
  {
   "cell_type": "code",
   "execution_count": 17,
   "metadata": {
    "collapsed": true
   },
   "outputs": [
    {
     "data": {
      "text/plain": [
       "[('a', 0   -0.204708\n  1    0.478943\n  4    1.965781\n  Name: data1, dtype: float64), ('b', 2   -0.519439\n  3   -0.555730\n  Name: data1, dtype: float64)]"
      ]
     },
     "execution_count": 17,
     "metadata": {},
     "output_type": "execute_result"
    }
   ],
   "source": [
    "list(df.groupby('key1')['data1'])"
   ]
  },
  {
   "cell_type": "code",
   "execution_count": 18,
   "metadata": {
    "collapsed": true
   },
   "outputs": [
    {
     "data": {
      "text/plain": [
       "[('a',       data1     data2 key1 key2\n  0 -0.204708  1.393406    a  one\n  1  0.478943  0.092908    a  two\n  4  1.965781  1.246435    a  one), ('b',       data1     data2 key1 key2\n  2 -0.519439  0.281746    b  one\n  3 -0.555730  0.769023    b  two)]"
      ]
     },
     "execution_count": 18,
     "metadata": {},
     "output_type": "execute_result"
    }
   ],
   "source": [
    "list(df.groupby('key1')[['data2']])"
   ]
  },
  {
   "cell_type": "code",
   "execution_count": 19,
   "metadata": {
    "collapsed": true
   },
   "outputs": [
    {
     "data": {
      "text/plain": [
       "[('a', 0   -0.204708\n  1    0.478943\n  4    1.965781\n  Name: data1, dtype: float64), ('b', 2   -0.519439\n  3   -0.555730\n  Name: data1, dtype: float64)]"
      ]
     },
     "execution_count": 19,
     "metadata": {},
     "output_type": "execute_result"
    }
   ],
   "source": [
    "list(df['data1'].groupby(df['key1']))"
   ]
  },
  {
   "cell_type": "code",
   "execution_count": 20,
   "metadata": {
    "collapsed": true
   },
   "outputs": [
    {
     "data": {
      "text/plain": [
       "[('a',       data2\n  0  1.393406\n  1  0.092908\n  4  1.246435), ('b',       data2\n  2  0.281746\n  3  0.769023)]"
      ]
     },
     "execution_count": 20,
     "metadata": {},
     "output_type": "execute_result"
    }
   ],
   "source": [
    "list(df[['data2']].groupby(df['key1']))"
   ]
  },
  {
   "cell_type": "code",
   "execution_count": 21,
   "metadata": {
    "collapsed": true
   },
   "outputs": [
    {
     "data": {
      "text/plain": [
       "              data2\nkey1 key2          \na    one   1.319920\n     two   0.092908\nb    one   0.281746\n     two   0.769023"
      ]
     },
     "execution_count": 21,
     "metadata": {},
     "output_type": "execute_result"
    }
   ],
   "source": [
    "df.groupby(['key1', 'key2'])[['data2']].mean()"
   ]
  },
  {
   "cell_type": "code",
   "execution_count": 22,
   "metadata": {
    "collapsed": true
   },
   "outputs": [
    {
     "data": {
      "text/plain": [
       "[(('a', 'one'), 0    1.393406\n  4    1.246435\n  Name: data2, dtype: float64), (('a', 'two'), 1    0.092908\n  Name: data2, dtype: float64), (('b', 'one'), 2    0.281746\n  Name: data2, dtype: float64), (('b', 'two'), 3    0.769023\n  Name: data2, dtype: float64)]"
      ]
     },
     "execution_count": 22,
     "metadata": {},
     "output_type": "execute_result"
    }
   ],
   "source": [
    "s_grouped = df.groupby(['key1', 'key2'])['data2']\n",
    "list(s_grouped)"
   ]
  },
  {
   "cell_type": "code",
   "execution_count": 23,
   "metadata": {
    "collapsed": true
   },
   "outputs": [
    {
     "data": {
      "text/plain": [
       "key1  key2\na     one     1.319920\n      two     0.092908\nb     one     0.281746\n      two     0.769023\nName: data2, dtype: float64"
      ]
     },
     "execution_count": 23,
     "metadata": {},
     "output_type": "execute_result"
    }
   ],
   "source": [
    "s_grouped.mean()"
   ]
  },
  {
   "cell_type": "markdown",
   "metadata": {},
   "source": [
    "# 通过字典或Series进行分组"
   ]
  },
  {
   "cell_type": "code",
   "execution_count": 24,
   "metadata": {
    "collapsed": true
   },
   "outputs": [],
   "source": [
    "people = DataFrame(np.random.randn(5, 5),\n",
    "                   columns=['a', 'b', 'c', 'd', 'e'],\n",
    "                   index=['Joe', 'Steve', 'Wes', 'Jim', 'Travis'])\n",
    "people.loc[2:3, ['b', 'c']] = np.nan  # Add a few NA values\n",
    "people"
   ]
  },
  {
   "cell_type": "code",
   "execution_count": 25,
   "metadata": {
    "collapsed": true
   },
   "outputs": [
    {
     "data": {
      "text/plain": [
       "            blue       red\nJoe     0.503905  1.063885\nSteve   1.297183 -1.553778\nWes    -1.021228 -1.116829\nJim     0.524712  1.770545\nTravis -4.230992 -2.405455"
      ]
     },
     "execution_count": 25,
     "metadata": {},
     "output_type": "execute_result"
    }
   ],
   "source": [
    "mapping = {'a': 'red', 'b': 'red', 'c': 'blue',\n",
    "           'd': 'blue', 'e': 'red', 'f': 'orange'}\n",
    "\n",
    "by_column = people.groupby(mapping, axis=1)\n",
    "by_column.sum()"
   ]
  },
  {
   "cell_type": "code",
   "execution_count": 26,
   "metadata": {
    "collapsed": true
   },
   "outputs": [
    {
     "data": {
      "text/plain": [
       "a       red\nb       red\nc      blue\nd      blue\ne       red\nf    orange\ndtype: object"
      ]
     },
     "execution_count": 26,
     "metadata": {},
     "output_type": "execute_result"
    }
   ],
   "source": [
    "map_series = Series(mapping)\n",
    "map_series"
   ]
  },
  {
   "cell_type": "code",
   "execution_count": 27,
   "metadata": {
    "collapsed": true
   },
   "outputs": [
    {
     "data": {
      "text/plain": [
       "        blue  red\nJoe        2    3\nSteve      2    3\nWes        1    2\nJim        2    3\nTravis     2    3"
      ]
     },
     "execution_count": 27,
     "metadata": {},
     "output_type": "execute_result"
    }
   ],
   "source": [
    "people.groupby(map_series, axis=1).count()"
   ]
  },
  {
   "cell_type": "markdown",
   "metadata": {},
   "source": [
    "# 通过函数进行分组"
   ]
  },
  {
   "cell_type": "code",
   "execution_count": 28,
   "metadata": {
    "collapsed": true
   },
   "outputs": [
    {
     "data": {
      "text/plain": [
       "          a         b         c         d         e\n3  0.591569 -0.993608  0.798764 -0.791374  2.119639\n5  0.886429 -2.001637 -0.371843  1.669025 -0.438570\n6 -0.713544 -0.831154 -2.370232 -1.860761 -0.860757"
      ]
     },
     "execution_count": 28,
     "metadata": {},
     "output_type": "execute_result"
    }
   ],
   "source": [
    "people.groupby(len).sum()"
   ]
  },
  {
   "cell_type": "code",
   "execution_count": 29,
   "metadata": {
    "collapsed": true
   },
   "outputs": [
    {
     "data": {
      "text/plain": [
       "              a         b         c         d         e\n3 one -0.539741 -1.296221  0.274992 -1.021228 -0.577087\n  two  0.124121  0.302614  0.523772  0.000940  1.343810\n5 one  0.886429 -2.001637 -0.371843  1.669025 -0.438570\n6 two -0.713544 -0.831154 -2.370232 -1.860761 -0.860757"
      ]
     },
     "execution_count": 29,
     "metadata": {},
     "output_type": "execute_result"
    }
   ],
   "source": [
    "key_list = ['one', 'one', 'one', 'two', 'two']\n",
    "people.groupby([len, key_list]).min()"
   ]
  },
  {
   "cell_type": "markdown",
   "metadata": {},
   "source": [
    "# 通过索引进行分组"
   ]
  },
  {
   "cell_type": "code",
   "execution_count": 30,
   "metadata": {
    "collapsed": true
   },
   "outputs": [
    {
     "data": {
      "text/plain": [
       "cty          US                            JP          \ntenor         1         3         5         1         3\n0      0.560145 -1.265934  0.119827 -1.063512  0.332883\n1     -2.359419 -0.199543 -1.541996 -0.970736 -1.307030\n2      0.286350  0.377984 -0.753887  0.331286  1.349742\n3      0.069877  0.246674 -0.011862  1.004812  1.327195"
      ]
     },
     "execution_count": 30,
     "metadata": {},
     "output_type": "execute_result"
    }
   ],
   "source": [
    "columns = pd.MultiIndex.from_arrays([['US', 'US', 'US', 'JP', 'JP'],\n",
    "                                     [1, 3, 5, 1, 3]], names=['cty', 'tenor'])\n",
    "hier_df = DataFrame(np.random.randn(4, 5), columns=columns)\n",
    "hier_df"
   ]
  },
  {
   "cell_type": "code",
   "execution_count": 31,
   "metadata": {
    "collapsed": true
   },
   "outputs": [
    {
     "data": {
      "text/plain": [
       "cty  JP  US\n0     2   3\n1     2   3\n2     2   3\n3     2   3"
      ]
     },
     "execution_count": 31,
     "metadata": {},
     "output_type": "execute_result"
    }
   ],
   "source": [
    "hier_df.groupby(level='cty', axis=1).count()"
   ]
  },
  {
   "cell_type": "markdown",
   "metadata": {},
   "source": [
    "# 数据聚合"
   ]
  },
  {
   "cell_type": "code",
   "execution_count": 32,
   "metadata": {
    "collapsed": true
   },
   "outputs": [
    {
     "name": "stdout",
     "output_type": "stream",
     "text": [
      "      data1     data2 key1 key2\n0 -0.204708  1.393406    a  one\n1  0.478943  0.092908    a  two\n2 -0.519439  0.281746    b  one\n3 -0.555730  0.769023    b  two\n4  1.965781  1.246435    a  one\n"
     ]
    }
   ],
   "source": [
    "print(df)"
   ]
  },
  {
   "cell_type": "code",
   "execution_count": 33,
   "metadata": {
    "collapsed": true
   },
   "outputs": [
    {
     "data": {
      "text/plain": [
       "key1\na    1.668413\nb   -0.523068\nName: data1, dtype: float64"
      ]
     },
     "execution_count": 33,
     "metadata": {},
     "output_type": "execute_result"
    }
   ],
   "source": [
    "grouped = df.groupby('key1')\n",
    "grouped['data1'].quantile(0.9)"
   ]
  },
  {
   "cell_type": "code",
   "execution_count": 34,
   "metadata": {
    "collapsed": true
   },
   "outputs": [
    {
     "data": {
      "text/plain": [
       "         data1     data2\nkey1                    \na     2.170488  1.300498\nb     0.036292  0.487276"
      ]
     },
     "execution_count": 34,
     "metadata": {},
     "output_type": "execute_result"
    }
   ],
   "source": [
    "def peak_to_peak(arr):\n",
    "    return arr.max() - arr.min()\n",
    "\n",
    "\n",
    "grouped.agg(peak_to_peak)"
   ]
  },
  {
   "cell_type": "code",
   "execution_count": 35,
   "metadata": {
    "collapsed": true
   },
   "outputs": [
    {
     "data": {
      "text/plain": [
       "     data1                                                              \\\n     count      mean       std       min       25%       50%       75%   \nkey1                                                                     \na      3.0  0.746672  1.109736 -0.204708  0.137118  0.478943  1.222362   \nb      2.0 -0.537585  0.025662 -0.555730 -0.546657 -0.537585 -0.528512   \n\n               data2                                                    \\\n           max count      mean       std       min       25%       50%   \nkey1                                                                     \na     1.965781   3.0  0.910916  0.712217  0.092908  0.669671  1.246435   \nb    -0.519439   2.0  0.525384  0.344556  0.281746  0.403565  0.525384   \n\n                          \n           75%       max  \nkey1                      \na     1.319920  1.393406  \nb     0.647203  0.769023  "
      ]
     },
     "execution_count": 35,
     "metadata": {},
     "output_type": "execute_result"
    }
   ],
   "source": [
    "grouped.describe()"
   ]
  },
  {
   "cell_type": "markdown",
   "metadata": {},
   "source": [
    "# 面向列的多函数应用"
   ]
  },
  {
   "cell_type": "code",
   "execution_count": 36,
   "metadata": {
    "collapsed": true
   },
   "outputs": [
    {
     "data": {
      "text/plain": [
       "   total_bill   tip     sex smoker  day    time  size   tip_pct\n0       16.99  1.01  Female     No  Sun  Dinner     2  0.059447\n1       10.34  1.66    Male     No  Sun  Dinner     3  0.160542\n2       21.01  3.50    Male     No  Sun  Dinner     3  0.166587\n3       23.68  3.31    Male     No  Sun  Dinner     2  0.139780\n4       24.59  3.61  Female     No  Sun  Dinner     4  0.146808\n5       25.29  4.71    Male     No  Sun  Dinner     4  0.186240"
      ]
     },
     "execution_count": 36,
     "metadata": {},
     "output_type": "execute_result"
    }
   ],
   "source": [
    "tips = pd.read_csv('data/tips.csv')\n",
    "\n",
    "tips['tip_pct'] = tips['tip'] / tips['total_bill']\n",
    "tips[:6]"
   ]
  },
  {
   "cell_type": "code",
   "execution_count": 37,
   "metadata": {
    "collapsed": true
   },
   "outputs": [
    {
     "data": {
      "text/plain": [
       "sex     smoker\nFemale  No        0.156921\n        Yes       0.182150\nMale    No        0.160669\n        Yes       0.152771\nName: tip_pct, dtype: float64"
      ]
     },
     "execution_count": 37,
     "metadata": {},
     "output_type": "execute_result"
    }
   ],
   "source": [
    "grouped = tips.groupby(['sex', 'smoker'])\n",
    "\n",
    "grouped_pct = grouped['tip_pct']\n",
    "grouped_pct.agg('mean')"
   ]
  },
  {
   "cell_type": "code",
   "execution_count": 38,
   "metadata": {
    "collapsed": true
   },
   "outputs": [
    {
     "data": {
      "text/plain": [
       "                   mean       std  peak_to_peak\nsex    smoker                                  \nFemale No      0.156921  0.036421      0.195876\n       Yes     0.182150  0.071595      0.360233\nMale   No      0.160669  0.041849      0.220186\n       Yes     0.152771  0.090588      0.674707"
      ]
     },
     "execution_count": 38,
     "metadata": {},
     "output_type": "execute_result"
    }
   ],
   "source": [
    "grouped_pct.agg(['mean', 'std', peak_to_peak])"
   ]
  },
  {
   "cell_type": "code",
   "execution_count": 39,
   "metadata": {
    "collapsed": true
   },
   "outputs": [
    {
     "data": {
      "text/plain": [
       "                    foo       bar\nsex    smoker                    \nFemale No      0.156921  0.036421\n       Yes     0.182150  0.071595\nMale   No      0.160669  0.041849\n       Yes     0.152771  0.090588"
      ]
     },
     "execution_count": 39,
     "metadata": {},
     "output_type": "execute_result"
    }
   ],
   "source": [
    "grouped_pct.agg([('foo', 'mean'), ('bar', np.std)])"
   ]
  },
  {
   "cell_type": "code",
   "execution_count": 40,
   "metadata": {
    "collapsed": true
   },
   "outputs": [
    {
     "data": {
      "text/plain": [
       "              tip_pct                     total_bill                  \n                count      mean       max      count       mean    max\nsex    smoker                                                         \nFemale No          54  0.156921  0.252672         54  18.105185  35.83\n       Yes         33  0.182150  0.416667         33  17.977879  44.30\nMale   No          97  0.160669  0.291990         97  19.791237  48.33\n       Yes         60  0.152771  0.710345         60  22.284500  50.81"
      ]
     },
     "execution_count": 40,
     "metadata": {},
     "output_type": "execute_result"
    }
   ],
   "source": [
    "functions = ['count', 'mean', 'max']\n",
    "result = grouped['tip_pct', 'total_bill'].agg(functions)\n",
    "result"
   ]
  },
  {
   "cell_type": "code",
   "execution_count": 41,
   "metadata": {
    "collapsed": true
   },
   "outputs": [
    {
     "data": {
      "text/plain": [
       "                   tip_pct              total_bill           \n              Durchschnitt Abweichung Durchschnitt Abweichung\nsex    smoker                                                \nFemale No         0.156921   0.001327    18.105185  53.092422\n       Yes        0.182150   0.005126    17.977879  84.451517\nMale   No         0.160669   0.001751    19.791237  76.152961\n       Yes        0.152771   0.008206    22.284500  98.244673"
      ]
     },
     "execution_count": 41,
     "metadata": {},
     "output_type": "execute_result"
    }
   ],
   "source": [
    "ftuples = [('Durchschnitt', 'mean'), ('Abweichung', np.var)]\n",
    "grouped['tip_pct', 'total_bill'].agg(ftuples)"
   ]
  },
  {
   "cell_type": "code",
   "execution_count": 42,
   "metadata": {
    "collapsed": true
   },
   "outputs": [
    {
     "data": {
      "text/plain": [
       "                tip  size\nsex    smoker            \nFemale No       5.2   140\n       Yes      6.5    74\nMale   No       9.0   263\n       Yes     10.0   150"
      ]
     },
     "execution_count": 42,
     "metadata": {},
     "output_type": "execute_result"
    }
   ],
   "source": [
    "grouped.agg({'tip': np.max, 'size': 'sum'})"
   ]
  },
  {
   "cell_type": "code",
   "execution_count": 43,
   "metadata": {
    "collapsed": true
   },
   "outputs": [
    {
     "data": {
      "text/plain": [
       "                tip_pct                               size\n                    min       max      mean       std  sum\nsex    smoker                                             \nFemale No      0.056797  0.252672  0.156921  0.036421  140\n       Yes     0.056433  0.416667  0.182150  0.071595   74\nMale   No      0.071804  0.291990  0.160669  0.041849  263\n       Yes     0.035638  0.710345  0.152771  0.090588  150"
      ]
     },
     "execution_count": 43,
     "metadata": {},
     "output_type": "execute_result"
    }
   ],
   "source": [
    "grouped.agg({'tip_pct': ['min', 'max', 'mean', 'std'],\n",
    "             'size': 'sum'})"
   ]
  },
  {
   "cell_type": "markdown",
   "metadata": {},
   "source": [
    "# 分组及运算和转换"
   ]
  },
  {
   "cell_type": "code",
   "execution_count": 44,
   "metadata": {
    "collapsed": true
   },
   "outputs": [
    {
     "name": "stdout",
     "output_type": "stream",
     "text": [
      "      data1     data2 key1 key2\n0 -0.204708  1.393406    a  one\n1  0.478943  0.092908    a  two\n2 -0.519439  0.281746    b  one\n3 -0.555730  0.769023    b  two\n4  1.965781  1.246435    a  one\n"
     ]
    }
   ],
   "source": [
    "print(df)"
   ]
  },
  {
   "cell_type": "code",
   "execution_count": 45,
   "metadata": {
    "collapsed": true
   },
   "outputs": [
    {
     "data": {
      "text/plain": [
       "      mean_data1  mean_data2\nkey1                        \na       0.746672    0.910916\nb      -0.537585    0.525384"
      ]
     },
     "execution_count": 45,
     "metadata": {},
     "output_type": "execute_result"
    }
   ],
   "source": [
    "k1_means = df.groupby('key1').mean().add_prefix('mean_')\n",
    "k1_means"
   ]
  },
  {
   "cell_type": "code",
   "execution_count": 46,
   "metadata": {
    "collapsed": true
   },
   "outputs": [
    {
     "data": {
      "text/plain": [
       "      data1     data2 key1 key2  mean_data1  mean_data2\n0 -0.204708  1.393406    a  one    0.746672    0.910916\n1  0.478943  0.092908    a  two    0.746672    0.910916\n4  1.965781  1.246435    a  one    0.746672    0.910916\n2 -0.519439  0.281746    b  one   -0.537585    0.525384\n3 -0.555730  0.769023    b  two   -0.537585    0.525384"
      ]
     },
     "execution_count": 46,
     "metadata": {},
     "output_type": "execute_result"
    }
   ],
   "source": [
    "pd.merge(df, k1_means, left_on='key1', right_index=True)"
   ]
  },
  {
   "cell_type": "code",
   "execution_count": 47,
   "metadata": {
    "collapsed": true
   },
   "outputs": [
    {
     "name": "stdout",
     "output_type": "stream",
     "text": [
      "               a         b         c         d         e\nJoe     1.007189 -1.296221  0.274992  0.228913  1.352917\nSteve   0.886429 -2.001637 -0.371843  1.669025 -0.438570\nWes    -0.539741       NaN       NaN -1.021228 -0.577087\nJim     0.124121  0.302614  0.523772  0.000940  1.343810\nTravis -0.713544 -0.831154 -2.370232 -1.860761 -0.860757\n"
     ]
    }
   ],
   "source": [
    "print(people)"
   ]
  },
  {
   "cell_type": "code",
   "execution_count": 48,
   "metadata": {
    "collapsed": true
   },
   "outputs": [
    {
     "data": {
      "text/plain": [
       "            a         b         c         d         e\none -0.082032 -1.063687 -1.047620 -0.884358 -0.028309\ntwo  0.505275 -0.849512  0.075965  0.834983  0.452620"
      ]
     },
     "execution_count": 48,
     "metadata": {},
     "output_type": "execute_result"
    }
   ],
   "source": [
    "key = ['one', 'two', 'one', 'two', 'one']\n",
    "people.groupby(key).mean()"
   ]
  },
  {
   "cell_type": "code",
   "execution_count": 49,
   "metadata": {
    "collapsed": true
   },
   "outputs": [
    {
     "data": {
      "text/plain": [
       "               a         b         c         d         e\nJoe    -0.082032 -1.063687 -1.047620 -0.884358 -0.028309\nSteve   0.505275 -0.849512  0.075965  0.834983  0.452620\nWes    -0.082032 -1.063687 -1.047620 -0.884358 -0.028309\nJim     0.505275 -0.849512  0.075965  0.834983  0.452620\nTravis -0.082032 -1.063687 -1.047620 -0.884358 -0.028309"
      ]
     },
     "execution_count": 49,
     "metadata": {},
     "output_type": "execute_result"
    }
   ],
   "source": [
    "people.groupby(key).transform(np.mean)"
   ]
  },
  {
   "cell_type": "code",
   "execution_count": 50,
   "metadata": {
    "collapsed": true
   },
   "outputs": [
    {
     "data": {
      "text/plain": [
       "               a         b         c         d         e\nJoe     1.089221 -0.232534  1.322612  1.113271  1.381226\nSteve   0.381154 -1.152125 -0.447807  0.834043 -0.891190\nWes    -0.457709       NaN       NaN -0.136869 -0.548778\nJim    -0.381154  1.152125  0.447807 -0.834043  0.891190\nTravis -0.631512  0.232534 -1.322612 -0.976402 -0.832448"
      ]
     },
     "execution_count": 50,
     "metadata": {},
     "output_type": "execute_result"
    }
   ],
   "source": [
    "def demean(arr):\n",
    "    return arr - arr.mean()\n",
    "\n",
    "\n",
    "demeaned = people.groupby(key).transform(demean)\n",
    "demeaned"
   ]
  },
  {
   "cell_type": "code",
   "execution_count": 51,
   "metadata": {
    "collapsed": true
   },
   "outputs": [
    {
     "data": {
      "text/plain": [
       "                a             b    c             d    e\none  0.000000e+00 -1.110223e-16  0.0  7.401487e-17  0.0\ntwo -2.775558e-17  0.000000e+00  0.0  0.000000e+00  0.0"
      ]
     },
     "execution_count": 51,
     "metadata": {},
     "output_type": "execute_result"
    }
   ],
   "source": [
    "demeaned.groupby(key).mean()"
   ]
  },
  {
   "cell_type": "markdown",
   "metadata": {},
   "source": [
    "# apply方法"
   ]
  },
  {
   "cell_type": "code",
   "execution_count": 52,
   "metadata": {
    "collapsed": true
   },
   "outputs": [
    {
     "data": {
      "text/plain": [
       "     total_bill   tip     sex smoker  day    time  size   tip_pct\n109       14.31  4.00  Female    Yes  Sat  Dinner     2  0.279525\n183       23.17  6.50    Male    Yes  Sun  Dinner     4  0.280535\n232       11.61  3.39    Male     No  Sat  Dinner     2  0.291990\n67         3.07  1.00  Female    Yes  Sat  Dinner     1  0.325733\n178        9.60  4.00  Female    Yes  Sun  Dinner     2  0.416667\n172        7.25  5.15    Male    Yes  Sun  Dinner     2  0.710345"
      ]
     },
     "execution_count": 52,
     "metadata": {},
     "output_type": "execute_result"
    }
   ],
   "source": [
    "def top(df, n=5, column='tip_pct'):\n",
    "    return df.sort_values(by=column)[-n:]\n",
    "\n",
    "\n",
    "top(tips, n=6)"
   ]
  },
  {
   "cell_type": "code",
   "execution_count": 53,
   "metadata": {
    "collapsed": true
   },
   "outputs": [
    {
     "data": {
      "text/plain": [
       "            total_bill   tip     sex smoker   day    time  size   tip_pct\nsmoker                                                                   \nNo     88        24.71  5.85    Male     No  Thur   Lunch     2  0.236746\n       185       20.69  5.00    Male     No   Sun  Dinner     5  0.241663\n       51        10.29  2.60  Female     No   Sun  Dinner     2  0.252672\n       149        7.51  2.00    Male     No  Thur   Lunch     2  0.266312\n       232       11.61  3.39    Male     No   Sat  Dinner     2  0.291990\nYes    109       14.31  4.00  Female    Yes   Sat  Dinner     2  0.279525\n       183       23.17  6.50    Male    Yes   Sun  Dinner     4  0.280535\n       67         3.07  1.00  Female    Yes   Sat  Dinner     1  0.325733\n       178        9.60  4.00  Female    Yes   Sun  Dinner     2  0.416667\n       172        7.25  5.15    Male    Yes   Sun  Dinner     2  0.710345"
      ]
     },
     "execution_count": 53,
     "metadata": {},
     "output_type": "execute_result"
    }
   ],
   "source": [
    "tips.groupby('smoker').apply(top)"
   ]
  },
  {
   "cell_type": "code",
   "execution_count": 54,
   "metadata": {
    "collapsed": true
   },
   "outputs": [
    {
     "data": {
      "text/plain": [
       "                 total_bill    tip     sex smoker   day    time  size  \\\nsmoker day                                                              \nNo     Fri  94        22.75   3.25  Female     No   Fri  Dinner     2   \n       Sat  212       48.33   9.00    Male     No   Sat  Dinner     4   \n       Sun  156       48.17   5.00    Male     No   Sun  Dinner     6   \n       Thur 142       41.19   5.00    Male     No  Thur   Lunch     5   \nYes    Fri  95        40.17   4.73    Male    Yes   Fri  Dinner     4   \n       Sat  170       50.81  10.00    Male    Yes   Sat  Dinner     3   \n       Sun  182       45.35   3.50    Male    Yes   Sun  Dinner     3   \n       Thur 197       43.11   5.00  Female    Yes  Thur   Lunch     4   \n\n                  tip_pct  \nsmoker day                 \nNo     Fri  94   0.142857  \n       Sat  212  0.186220  \n       Sun  156  0.103799  \n       Thur 142  0.121389  \nYes    Fri  95   0.117750  \n       Sat  170  0.196812  \n       Sun  182  0.077178  \n       Thur 197  0.115982  "
      ]
     },
     "execution_count": 54,
     "metadata": {},
     "output_type": "execute_result"
    }
   ],
   "source": [
    "tips.groupby(['smoker', 'day']).apply(top, n=1, column='total_bill')"
   ]
  },
  {
   "cell_type": "code",
   "execution_count": 55,
   "metadata": {
    "collapsed": true
   },
   "outputs": [
    {
     "data": {
      "text/plain": [
       "        count      mean       std       min       25%       50%       75%  \\\nsmoker                                                                      \nNo      151.0  0.159328  0.039910  0.056797  0.136906  0.155625  0.185014   \nYes      93.0  0.163196  0.085119  0.035638  0.106771  0.153846  0.195059   \n\n             max  \nsmoker            \nNo      0.291990  \nYes     0.710345  "
      ]
     },
     "execution_count": 55,
     "metadata": {},
     "output_type": "execute_result"
    }
   ],
   "source": [
    "result = tips.groupby('smoker')['tip_pct'].describe()\n",
    "result"
   ]
  },
  {
   "cell_type": "code",
   "execution_count": 56,
   "metadata": {
    "collapsed": true
   },
   "outputs": [
    {
     "data": {
      "text/plain": [
       "       smoker\ncount  No        151.000000\n       Yes        93.000000\nmean   No          0.159328\n       Yes         0.163196\nstd    No          0.039910\n       Yes         0.085119\nmin    No          0.056797\n       Yes         0.035638\n25%    No          0.136906\n       Yes         0.106771\n50%    No          0.155625\n       Yes         0.153846\n75%    No          0.185014\n       Yes         0.195059\nmax    No          0.291990\n       Yes         0.710345\ndtype: float64"
      ]
     },
     "execution_count": 56,
     "metadata": {},
     "output_type": "execute_result"
    }
   ],
   "source": [
    "result.unstack('smoker')"
   ]
  },
  {
   "cell_type": "markdown",
   "metadata": {},
   "source": [
    "# 禁止分组键"
   ]
  },
  {
   "cell_type": "code",
   "execution_count": 57,
   "metadata": {
    "collapsed": true
   },
   "outputs": [
    {
     "data": {
      "text/plain": [
       "     total_bill   tip     sex smoker   day    time  size   tip_pct\n88        24.71  5.85    Male     No  Thur   Lunch     2  0.236746\n185       20.69  5.00    Male     No   Sun  Dinner     5  0.241663\n51        10.29  2.60  Female     No   Sun  Dinner     2  0.252672\n149        7.51  2.00    Male     No  Thur   Lunch     2  0.266312\n232       11.61  3.39    Male     No   Sat  Dinner     2  0.291990\n109       14.31  4.00  Female    Yes   Sat  Dinner     2  0.279525\n183       23.17  6.50    Male    Yes   Sun  Dinner     4  0.280535\n67         3.07  1.00  Female    Yes   Sat  Dinner     1  0.325733\n178        9.60  4.00  Female    Yes   Sun  Dinner     2  0.416667\n172        7.25  5.15    Male    Yes   Sun  Dinner     2  0.710345"
      ]
     },
     "execution_count": 57,
     "metadata": {},
     "output_type": "execute_result"
    }
   ],
   "source": [
    "tips.groupby('smoker', group_keys=False).apply(top)"
   ]
  },
  {
   "cell_type": "markdown",
   "metadata": {},
   "source": [
    "# 分位数和桶分析"
   ]
  },
  {
   "cell_type": "code",
   "execution_count": 58,
   "metadata": {
    "collapsed": true
   },
   "outputs": [
    {
     "data": {
      "text/plain": [
       "0     (-1.23, 0.489]\n1    (-2.956, -1.23]\n2     (-1.23, 0.489]\n3     (0.489, 2.208]\n4     (-1.23, 0.489]\n5     (0.489, 2.208]\n6     (-1.23, 0.489]\n7     (-1.23, 0.489]\n8     (0.489, 2.208]\n9     (0.489, 2.208]\nName: data1, dtype: category\nCategories (4, interval[float64]): [(-2.956, -1.23] < (-1.23, 0.489] < (0.489, 2.208] < (2.208, 3.928]]"
      ]
     },
     "execution_count": 58,
     "metadata": {},
     "output_type": "execute_result"
    }
   ],
   "source": [
    "frame = DataFrame({'data1': np.random.randn(1000),\n",
    "                   'data2': np.random.randn(1000)})\n",
    "factor = pd.cut(frame.data1, 4)\n",
    "factor[:10]"
   ]
  },
  {
   "cell_type": "code",
   "execution_count": 59,
   "metadata": {
    "collapsed": true
   },
   "outputs": [
    {
     "data": {
      "text/plain": [
       "                 count       max      mean       min\ndata1                                               \n(-2.956, -1.23]   95.0  1.670835 -0.039521 -3.399312\n(-1.23, 0.489]   598.0  3.260383 -0.002051 -2.989741\n(0.489, 2.208]   297.0  2.954439  0.081822 -3.745356\n(2.208, 3.928]    10.0  1.765640  0.024750 -1.929776"
      ]
     },
     "execution_count": 59,
     "metadata": {},
     "output_type": "execute_result"
    }
   ],
   "source": [
    "def get_stats(group):\n",
    "    return {'min': group.min(), 'max': group.max(),\n",
    "            'count': group.count(), 'mean': group.mean()}\n",
    "\n",
    "\n",
    "grouped = frame.data2.groupby(factor)\n",
    "grouped.apply(get_stats).unstack()"
   ]
  },
  {
   "cell_type": "code",
   "execution_count": 60,
   "metadata": {
    "collapsed": true
   },
   "outputs": [
    {
     "data": {
      "text/plain": [
       "       count       max      mean       min\ndata1                                     \n0      100.0  1.670835 -0.049902 -3.399312\n1      100.0  2.628441  0.030989 -1.950098\n2      100.0  2.527939 -0.067179 -2.925113\n3      100.0  3.260383  0.065713 -2.315555\n4      100.0  2.074345 -0.111653 -2.047939\n5      100.0  2.184810  0.052130 -2.989741\n6      100.0  2.458842 -0.021489 -2.223506\n7      100.0  2.954439 -0.026459 -3.056990\n8      100.0  2.735527  0.103406 -3.745356\n9      100.0  2.377020  0.220122 -2.064111"
      ]
     },
     "execution_count": 60,
     "metadata": {},
     "output_type": "execute_result"
    }
   ],
   "source": [
    "grouping = pd.qcut(frame.data1, 10, labels=False)\n",
    "\n",
    "grouped = frame.data2.groupby(grouping)\n",
    "grouped.apply(get_stats).unstack()"
   ]
  },
  {
   "cell_type": "markdown",
   "metadata": {},
   "source": [
    "# 用特定于分组的值填充缺失值"
   ]
  },
  {
   "cell_type": "code",
   "execution_count": 61,
   "metadata": {
    "collapsed": true
   },
   "outputs": [
    {
     "name": "stdout",
     "output_type": "stream",
     "text": [
      "0         NaN\n1   -0.125921\n2         NaN\n3   -0.884475\n4         NaN\n5    0.227290\ndtype: float64\n"
     ]
    }
   ],
   "source": [
    "s = Series(np.random.randn(6))\n",
    "s[::2] = np.nan\n",
    "print(s)"
   ]
  },
  {
   "cell_type": "code",
   "execution_count": 62,
   "metadata": {
    "collapsed": true
   },
   "outputs": [
    {
     "data": {
      "text/plain": [
       "0   -0.261035\n1   -0.125921\n2   -0.261035\n3   -0.884475\n4   -0.261035\n5    0.227290\ndtype: float64"
      ]
     },
     "execution_count": 62,
     "metadata": {},
     "output_type": "execute_result"
    }
   ],
   "source": [
    "s.fillna(s.mean())"
   ]
  },
  {
   "cell_type": "code",
   "execution_count": 63,
   "metadata": {
    "collapsed": true
   },
   "outputs": [
    {
     "name": "stdout",
     "output_type": "stream",
     "text": [
      "Ohio          0.922264\nNew York     -2.153545\nVermont            NaN\nFlorida      -0.375842\nOregon        0.329939\nNevada             NaN\nCalifornia    1.105913\nIdaho              NaN\ndtype: float64\n"
     ]
    }
   ],
   "source": [
    "states = ['Ohio', 'New York', 'Vermont', 'Florida',\n",
    "          'Oregon', 'Nevada', 'California', 'Idaho']\n",
    "group_key = ['East'] * 4 + ['West'] * 4\n",
    "data = Series(np.random.randn(8), index=states)\n",
    "data[['Vermont', 'Nevada', 'Idaho']] = np.nan\n",
    "print(data)"
   ]
  },
  {
   "cell_type": "code",
   "execution_count": 64,
   "metadata": {
    "collapsed": true
   },
   "outputs": [
    {
     "data": {
      "text/plain": [
       "East   -0.535707\nWest    0.717926\ndtype: float64"
      ]
     },
     "execution_count": 64,
     "metadata": {},
     "output_type": "execute_result"
    }
   ],
   "source": [
    "data.groupby(group_key).mean()"
   ]
  },
  {
   "cell_type": "code",
   "execution_count": 65,
   "metadata": {
    "collapsed": true
   },
   "outputs": [
    {
     "data": {
      "text/plain": [
       "Ohio          0.922264\nNew York     -2.153545\nVermont      -0.535707\nFlorida      -0.375842\nOregon        0.329939\nNevada        0.717926\nCalifornia    1.105913\nIdaho         0.717926\ndtype: float64"
      ]
     },
     "execution_count": 65,
     "metadata": {},
     "output_type": "execute_result"
    }
   ],
   "source": [
    "fill_mean = lambda g: g.fillna(g.mean())\n",
    "data.groupby(group_key).apply(fill_mean)"
   ]
  },
  {
   "cell_type": "code",
   "execution_count": 66,
   "metadata": {
    "collapsed": true
   },
   "outputs": [
    {
     "data": {
      "text/plain": [
       "Ohio          0.922264\nNew York     -2.153545\nVermont       0.500000\nFlorida      -0.375842\nOregon        0.329939\nNevada       -1.000000\nCalifornia    1.105913\nIdaho        -1.000000\ndtype: float64"
      ]
     },
     "execution_count": 66,
     "metadata": {},
     "output_type": "execute_result"
    }
   ],
   "source": [
    "fill_values = {'East': 0.5, 'West': -1}\n",
    "fill_func = lambda g: g.fillna(fill_values[g.name])\n",
    "\n",
    "data.groupby(group_key).apply(fill_func)"
   ]
  },
  {
   "cell_type": "markdown",
   "metadata": {},
   "source": [
    "# 随机采样和排列"
   ]
  },
  {
   "cell_type": "code",
   "execution_count": 67,
   "metadata": {
    "collapsed": true
   },
   "outputs": [
    {
     "data": {
      "text/plain": [
       "AH      1\n2H      2\n3H      3\n4H      4\n5H      5\n6H      6\n7H      7\n8H      8\n9H      9\n10H    10\nJH     10\nKH     10\nQH     10\ndtype: int64"
      ]
     },
     "execution_count": 67,
     "metadata": {},
     "output_type": "execute_result"
    }
   ],
   "source": [
    "suits = ['H', 'S', 'C', 'D']\n",
    "card_val = (list(range(1, 11)) + [10] * 3) * 4\n",
    "base_names = ['A'] + list(range(2, 11)) + ['J', 'K', 'Q']\n",
    "cards = []\n",
    "for suit in ['H', 'S', 'C', 'D']:\n",
    "    cards.extend(str(num) + suit for num in base_names)\n",
    "\n",
    "deck = Series(card_val, index=cards)\n",
    "\n",
    "deck[:13]"
   ]
  },
  {
   "cell_type": "code",
   "execution_count": 68,
   "metadata": {
    "collapsed": true
   },
   "outputs": [
    {
     "data": {
      "text/plain": [
       "AD     1\n8C     8\n5H     5\nKC    10\n2C     2\ndtype: int64"
      ]
     },
     "execution_count": 68,
     "metadata": {},
     "output_type": "execute_result"
    }
   ],
   "source": [
    "def draw(deck, n=5):\n",
    "    return deck.take(np.random.permutation(len(deck))[:n])\n",
    "\n",
    "\n",
    "draw(deck)"
   ]
  },
  {
   "cell_type": "code",
   "execution_count": 69,
   "metadata": {
    "collapsed": true
   },
   "outputs": [
    {
     "data": {
      "text/plain": [
       "C  2C     2\n   3C     3\nD  KD    10\n   8D     8\nH  KH    10\n   3H     3\nS  2S     2\n   4S     4\ndtype: int64"
      ]
     },
     "execution_count": 69,
     "metadata": {},
     "output_type": "execute_result"
    }
   ],
   "source": [
    "get_suit = lambda card: card[-1]  # 只要最后一个字母\n",
    "deck.groupby(get_suit).apply(draw, n=2)"
   ]
  },
  {
   "cell_type": "markdown",
   "metadata": {},
   "source": [
    "# 不显示分组关键字"
   ]
  },
  {
   "cell_type": "code",
   "execution_count": 70,
   "metadata": {
    "collapsed": true
   },
   "outputs": [
    {
     "data": {
      "text/plain": [
       "KC    10\nJC    10\nAD     1\n5D     5\n5H     5\n6H     6\n7S     7\nKS    10\ndtype: int64"
      ]
     },
     "execution_count": 70,
     "metadata": {},
     "output_type": "execute_result"
    }
   ],
   "source": [
    "deck.groupby(get_suit, group_keys=False).apply(draw, n=2)"
   ]
  },
  {
   "cell_type": "markdown",
   "metadata": {},
   "source": [
    "# 分组加权平均数和相关系数"
   ]
  },
  {
   "cell_type": "code",
   "execution_count": 71,
   "metadata": {
    "collapsed": true
   },
   "outputs": [
    {
     "name": "stdout",
     "output_type": "stream",
     "text": [
      "  category      data   weights\n0        a  1.561587  0.957515\n1        a  1.219984  0.347267\n2        a -0.482239  0.581362\n3        a  0.315667  0.217091\n4        b -0.047852  0.894406\n5        b -0.454145  0.918564\n6        b -0.556774  0.277825\n7        b  0.253321  0.955905\n"
     ]
    }
   ],
   "source": [
    "df = DataFrame({'category': ['a', 'a', 'a', 'a', 'b', 'b', 'b', 'b'],\n",
    "                'data': np.random.randn(8),\n",
    "                'weights': np.random.rand(8)})\n",
    "print(df)"
   ]
  },
  {
   "cell_type": "code",
   "execution_count": 72,
   "metadata": {
    "collapsed": true
   },
   "outputs": [
    {
     "data": {
      "text/plain": [
       "category\na    0.811643\nb   -0.122262\ndtype: float64"
      ]
     },
     "execution_count": 72,
     "metadata": {},
     "output_type": "execute_result"
    }
   ],
   "source": [
    "grouped = df.groupby('category')\n",
    "get_wavg = lambda g: np.average(g['data'], weights=g['weights'])\n",
    "grouped.apply(get_wavg)"
   ]
  },
  {
   "cell_type": "code",
   "execution_count": 73,
   "metadata": {
    "collapsed": true
   },
   "outputs": [
    {
     "name": "stdout",
     "output_type": "stream",
     "text": [
      "<class 'pandas.core.frame.DataFrame'>\nDatetimeIndex: 2214 entries, 2003-01-02 to 2011-10-14\nData columns (total 4 columns):\nAAPL    2214 non-null float64\nMSFT    2214 non-null float64\nXOM     2214 non-null float64\nSPX     2214 non-null float64\ndtypes: float64(4)\nmemory usage: 86.5 KB\n"
     ]
    }
   ],
   "source": [
    "close_px = pd.read_csv('data/stock_px.csv', parse_dates=True, index_col=0)\n",
    "close_px.info()"
   ]
  },
  {
   "cell_type": "code",
   "execution_count": 74,
   "metadata": {
    "collapsed": true
   },
   "outputs": [
    {
     "data": {
      "text/plain": [
       "              AAPL   MSFT    XOM      SPX\n2011-10-11  400.29  27.00  76.27  1195.54\n2011-10-12  402.19  26.96  77.16  1207.25\n2011-10-13  408.43  27.18  76.37  1203.66\n2011-10-14  422.00  27.27  78.11  1224.58"
      ]
     },
     "execution_count": 74,
     "metadata": {},
     "output_type": "execute_result"
    }
   ],
   "source": [
    "close_px[-4:]"
   ]
  },
  {
   "cell_type": "code",
   "execution_count": 75,
   "metadata": {
    "collapsed": true
   },
   "outputs": [
    {
     "data": {
      "text/plain": [
       "          AAPL      MSFT       XOM  SPX\n2003  0.541124  0.745174  0.661265  1.0\n2004  0.374283  0.588531  0.557742  1.0\n2005  0.467540  0.562374  0.631010  1.0\n2006  0.428267  0.406126  0.518514  1.0\n2007  0.508118  0.658770  0.786264  1.0\n2008  0.681434  0.804626  0.828303  1.0\n2009  0.707103  0.654902  0.797921  1.0\n2010  0.710105  0.730118  0.839057  1.0\n2011  0.691931  0.800996  0.859975  1.0"
      ]
     },
     "execution_count": 75,
     "metadata": {},
     "output_type": "execute_result"
    }
   ],
   "source": [
    "rets = close_px.pct_change().dropna()\n",
    "spx_corr = lambda x: x.corrwith(x['SPX'])\n",
    "by_year = rets.groupby(lambda x: x.year)\n",
    "by_year.apply(spx_corr)"
   ]
  },
  {
   "cell_type": "code",
   "execution_count": 76,
   "metadata": {
    "collapsed": true
   },
   "outputs": [
    {
     "data": {
      "text/plain": [
       "2003    0.480868\n2004    0.259024\n2005    0.300093\n2006    0.161735\n2007    0.417738\n2008    0.611901\n2009    0.432738\n2010    0.571946\n2011    0.581987\ndtype: float64"
      ]
     },
     "execution_count": 76,
     "metadata": {},
     "output_type": "execute_result"
    }
   ],
   "source": [
    "# 苹果公司和微软的年度相关系数\n",
    "by_year.apply(lambda g: g['AAPL'].corr(g['MSFT']))"
   ]
  },
  {
   "cell_type": "markdown",
   "metadata": {},
   "source": [
    "# 透视表"
   ]
  },
  {
   "cell_type": "code",
   "execution_count": 77,
   "metadata": {
    "collapsed": true
   },
   "outputs": [
    {
     "data": {
      "text/plain": [
       "                   size       tip   tip_pct  total_bill\nsex    smoker                                          \nFemale No      2.592593  2.773519  0.156921   18.105185\n       Yes     2.242424  2.931515  0.182150   17.977879\nMale   No      2.711340  3.113402  0.160669   19.791237\n       Yes     2.500000  3.051167  0.152771   22.284500"
      ]
     },
     "execution_count": 77,
     "metadata": {},
     "output_type": "execute_result"
    }
   ],
   "source": [
    "tips.pivot_table(index=['sex', 'smoker'])"
   ]
  },
  {
   "cell_type": "code",
   "execution_count": 78,
   "metadata": {
    "collapsed": true
   },
   "outputs": [
    {
     "data": {
      "text/plain": [
       "                 size             tip_pct          \nsmoker             No       Yes        No       Yes\nsex    day                                         \nFemale Fri   2.500000  2.000000  0.165296  0.209129\n       Sat   2.307692  2.200000  0.147993  0.163817\n       Sun   3.071429  2.500000  0.165710  0.237075\n       Thur  2.480000  2.428571  0.155971  0.163073\nMale   Fri   2.000000  2.125000  0.138005  0.144730\n       Sat   2.656250  2.629630  0.162132  0.139067\n       Sun   2.883721  2.600000  0.158291  0.173964\n       Thur  2.500000  2.300000  0.165706  0.164417"
      ]
     },
     "execution_count": 78,
     "metadata": {},
     "output_type": "execute_result"
    }
   ],
   "source": [
    "tips.pivot_table(['tip_pct', 'size'], index=['sex', 'day'],\n",
    "                 columns='smoker')"
   ]
  },
  {
   "cell_type": "code",
   "execution_count": 79,
   "metadata": {
    "collapsed": true
   },
   "outputs": [
    {
     "data": {
      "text/plain": [
       "                 size                       tip_pct                    \nsmoker             No       Yes       All        No       Yes       All\nsex    day                                                             \nFemale Fri   2.500000  2.000000  2.111111  0.165296  0.209129  0.199388\n       Sat   2.307692  2.200000  2.250000  0.147993  0.163817  0.156470\n       Sun   3.071429  2.500000  2.944444  0.165710  0.237075  0.181569\n       Thur  2.480000  2.428571  2.468750  0.155971  0.163073  0.157525\nMale   Fri   2.000000  2.125000  2.100000  0.138005  0.144730  0.143385\n       Sat   2.656250  2.629630  2.644068  0.162132  0.139067  0.151577\n       Sun   2.883721  2.600000  2.810345  0.158291  0.173964  0.162344\n       Thur  2.500000  2.300000  2.433333  0.165706  0.164417  0.165276\nAll          2.668874  2.408602  2.569672  0.159328  0.163196  0.160803"
      ]
     },
     "execution_count": 79,
     "metadata": {},
     "output_type": "execute_result"
    }
   ],
   "source": [
    "tips.pivot_table(['tip_pct', 'size'], index=['sex', 'day'],\n",
    "                 columns='smoker', margins=True)"
   ]
  },
  {
   "cell_type": "code",
   "execution_count": 80,
   "metadata": {
    "collapsed": true
   },
   "outputs": [
    {
     "data": {
      "text/plain": [
       "day             Fri   Sat   Sun  Thur    All\nsex    smoker                               \nFemale No       2.0  13.0  14.0  25.0   54.0\n       Yes      7.0  15.0   4.0   7.0   33.0\nMale   No       2.0  32.0  43.0  20.0   97.0\n       Yes      8.0  27.0  15.0  10.0   60.0\nAll            19.0  87.0  76.0  62.0  244.0"
      ]
     },
     "execution_count": 80,
     "metadata": {},
     "output_type": "execute_result"
    }
   ],
   "source": [
    "tips.pivot_table('tip_pct', index=['sex', 'smoker'], columns='day',\n",
    "                 aggfunc=len, margins=True)"
   ]
  },
  {
   "cell_type": "code",
   "execution_count": 81,
   "metadata": {
    "collapsed": true
   },
   "outputs": [
    {
     "data": {
      "text/plain": [
       "day                   Fri  Sat  Sun  Thur\ntime   sex    smoker                     \nDinner Female No        2   30   43     2\n              Yes       8   33   10     0\n       Male   No        4   85  124     0\n              Yes      12   71   39     0\nLunch  Female No        3    0    0    60\n              Yes       6    0    0    17\n       Male   No        0    0    0    50\n              Yes       5    0    0    23"
      ]
     },
     "execution_count": 81,
     "metadata": {},
     "output_type": "execute_result"
    }
   ],
   "source": [
    "tips.pivot_table('size', index=['time', 'sex', 'smoker'],\n",
    "                 columns='day', aggfunc='sum', fill_value=0)"
   ]
  },
  {
   "cell_type": "markdown",
   "metadata": {},
   "source": [
    "# 交叉表"
   ]
  },
  {
   "cell_type": "code",
   "execution_count": 82,
   "metadata": {
    "collapsed": true
   },
   "outputs": [
    {
     "name": "stdout",
     "output_type": "stream",
     "text": [
      "   Sample  Gender    Handedness\n0       1  Female  Right-handed\n1       2    Male   Left-handed\n2       3  Female  Right-handed\n3       4    Male  Right-handed\n4       5    Male   Left-handed\n5       6    Male  Right-handed\n6       7  Female  Right-handed\n7       8  Female   Left-handed\n8       9    Male  Right-handed\n9      10  Female  Right-handed\n"
     ]
    }
   ],
   "source": [
    "from io import StringIO\n",
    "\n",
    "data = \"\"\"Sample    Gender    Handedness\n",
    "1    Female    Right-handed\n",
    "2    Male    Left-handed\n",
    "3    Female    Right-handed\n",
    "4    Male    Right-handed\n",
    "5    Male    Left-handed\n",
    "6    Male    Right-handed\n",
    "7    Female    Right-handed\n",
    "8    Female    Left-handed\n",
    "9    Male    Right-handed\n",
    "10    Female    Right-handed\"\"\"\n",
    "data = pd.read_table(StringIO(data), sep='\\s+')\n",
    "print(data)"
   ]
  },
  {
   "cell_type": "code",
   "execution_count": 83,
   "metadata": {
    "collapsed": true
   },
   "outputs": [
    {
     "data": {
      "text/plain": [
       "Handedness  Left-handed  Right-handed  All\nGender                                    \nFemale                1             4    5\nMale                  2             3    5\nAll                   3             7   10"
      ]
     },
     "execution_count": 83,
     "metadata": {},
     "output_type": "execute_result"
    }
   ],
   "source": [
    "pd.crosstab(data.Gender, data.Handedness, margins=True)"
   ]
  },
  {
   "cell_type": "code",
   "execution_count": 84,
   "metadata": {
    "collapsed": true
   },
   "outputs": [
    {
     "data": {
      "text/plain": [
       "smoker        No  Yes  All\ntime   day                \nDinner Fri     3    9   12\n       Sat    45   42   87\n       Sun    57   19   76\n       Thur    1    0    1\nLunch  Fri     1    6    7\n       Thur   44   17   61\nAll          151   93  244"
      ]
     },
     "execution_count": 84,
     "metadata": {},
     "output_type": "execute_result"
    }
   ],
   "source": [
    "pd.crosstab([tips.time, tips.day], tips.smoker, margins=True)"
   ]
  },
  {
   "cell_type": "markdown",
   "metadata": {},
   "source": [
    "# 2012联邦选举委员会数据分析"
   ]
  },
  {
   "cell_type": "code",
   "execution_count": 85,
   "metadata": {
    "collapsed": true
   },
   "outputs": [
    {
     "name": "stderr",
     "output_type": "stream",
     "text": [
      "C:\\ProgramData\\Anaconda3\\lib\\site-packages\\IPython\\core\\interactiveshell.py:2717: DtypeWarning: Columns (6) have mixed types. Specify dtype option on import or set low_memory=False.\n  interactivity=interactivity, compiler=compiler, result=result)\n"
     ]
    },
    {
     "name": "stdout",
     "output_type": "stream",
     "text": [
      "<class 'pandas.core.frame.DataFrame'>\nRangeIndex: 1001731 entries, 0 to 1001730\nData columns (total 16 columns):\ncmte_id              1001731 non-null object\ncand_id              1001731 non-null object\ncand_nm              1001731 non-null object\ncontbr_nm            1001731 non-null object\ncontbr_city          1001712 non-null object\ncontbr_st            1001727 non-null object\ncontbr_zip           1001620 non-null object\ncontbr_employer      988002 non-null object\ncontbr_occupation    993301 non-null object\ncontb_receipt_amt    1001731 non-null float64\ncontb_receipt_dt     1001731 non-null object\nreceipt_desc         14166 non-null object\nmemo_cd              92482 non-null object\nmemo_text            97770 non-null object\nform_tp              1001731 non-null object\nfile_num             1001731 non-null int64\ndtypes: float64(1), int64(1), object(14)\nmemory usage: 122.3+ MB\n"
     ]
    }
   ],
   "source": [
    "# P00000001-ALL.csv 文件太大，压缩到了P00000001-ALL.zip，需要调用的同学自行解压\n",
    "fec = pd.read_csv('data/P00000001-ALL.csv')\n",
    "\n",
    "fec.info()"
   ]
  },
  {
   "cell_type": "code",
   "execution_count": 86,
   "metadata": {
    "collapsed": true
   },
   "outputs": [
    {
     "data": {
      "text/plain": [
       "cmte_id                             C00431445\ncand_id                             P80003338\ncand_nm                         Obama, Barack\ncontbr_nm                         ELLMAN, IRA\ncontbr_city                             TEMPE\ncontbr_st                                  AZ\ncontbr_zip                          852816719\ncontbr_employer      ARIZONA STATE UNIVERSITY\ncontbr_occupation                   PROFESSOR\ncontb_receipt_amt                          50\ncontb_receipt_dt                    01-DEC-11\nreceipt_desc                              NaN\nmemo_cd                                   NaN\nmemo_text                                 NaN\nform_tp                                 SA17A\nfile_num                               772372\nName: 123456, dtype: object"
      ]
     },
     "execution_count": 86,
     "metadata": {},
     "output_type": "execute_result"
    }
   ],
   "source": [
    "fec.loc[123456]"
   ]
  },
  {
   "cell_type": "code",
   "execution_count": 87,
   "metadata": {
    "collapsed": true
   },
   "outputs": [
    {
     "data": {
      "text/plain": [
       "array(['Bachmann, Michelle', 'Romney, Mitt', 'Obama, Barack',\n       \"Roemer, Charles E. 'Buddy' III\", 'Pawlenty, Timothy',\n       'Johnson, Gary Earl', 'Paul, Ron', 'Santorum, Rick', 'Cain, Herman',\n       'Gingrich, Newt', 'McCotter, Thaddeus G', 'Huntsman, Jon',\n       'Perry, Rick'], dtype=object)"
      ]
     },
     "execution_count": 87,
     "metadata": {},
     "output_type": "execute_result"
    }
   ],
   "source": [
    "unique_cands = fec.cand_nm.unique()\n",
    "unique_cands"
   ]
  },
  {
   "cell_type": "code",
   "execution_count": 88,
   "metadata": {
    "collapsed": true
   },
   "outputs": [
    {
     "data": {
      "text/plain": [
       "123456    Obama, Barack\n123457    Obama, Barack\n123458    Obama, Barack\n123459    Obama, Barack\n123460    Obama, Barack\nName: cand_nm, dtype: object"
      ]
     },
     "execution_count": 88,
     "metadata": {},
     "output_type": "execute_result"
    }
   ],
   "source": [
    "parties = {'Bachmann, Michelle': 'Republican',\n",
    "           'Cain, Herman': 'Republican',\n",
    "           'Gingrich, Newt': 'Republican',\n",
    "           'Huntsman, Jon': 'Republican',\n",
    "           'Johnson, Gary Earl': 'Republican',\n",
    "           'McCotter, Thaddeus G': 'Republican',\n",
    "           'Obama, Barack': 'Democrat',\n",
    "           'Paul, Ron': 'Republican',\n",
    "           'Pawlenty, Timothy': 'Republican',\n",
    "           'Perry, Rick': 'Republican',\n",
    "           \"Roemer, Charles E. 'Buddy' III\": 'Republican',\n",
    "           'Romney, Mitt': 'Republican',\n",
    "           'Santorum, Rick': 'Republican'}\n",
    "\n",
    "fec.cand_nm[123456:123461]"
   ]
  },
  {
   "cell_type": "code",
   "execution_count": 89,
   "metadata": {
    "collapsed": true
   },
   "outputs": [
    {
     "data": {
      "text/plain": [
       "123456    Democrat\n123457    Democrat\n123458    Democrat\n123459    Democrat\n123460    Democrat\nName: cand_nm, dtype: object"
      ]
     },
     "execution_count": 89,
     "metadata": {},
     "output_type": "execute_result"
    }
   ],
   "source": [
    "fec.cand_nm[123456:123461].map(parties)"
   ]
  },
  {
   "cell_type": "code",
   "execution_count": 90,
   "metadata": {
    "collapsed": true
   },
   "outputs": [
    {
     "data": {
      "text/plain": [
       "Democrat      593746\nRepublican    407985\nName: party, dtype: int64"
      ]
     },
     "execution_count": 90,
     "metadata": {},
     "output_type": "execute_result"
    }
   ],
   "source": [
    "fec['party'] = fec.cand_nm.map(parties)\n",
    "fec['party'].value_counts()"
   ]
  },
  {
   "cell_type": "code",
   "execution_count": 91,
   "metadata": {
    "collapsed": true
   },
   "outputs": [
    {
     "data": {
      "text/plain": [
       "True     991475\nFalse     10256\nName: contb_receipt_amt, dtype: int64"
      ]
     },
     "execution_count": 91,
     "metadata": {},
     "output_type": "execute_result"
    }
   ],
   "source": [
    "(fec.contb_receipt_amt > 0).value_counts()"
   ]
  },
  {
   "cell_type": "code",
   "execution_count": 92,
   "metadata": {
    "collapsed": true
   },
   "outputs": [
    {
     "data": {
      "text/plain": [
       "     cmte_id    cand_id             cand_nm           contbr_nm  \\\n0  C00410118  P20002978  Bachmann, Michelle     HARVEY, WILLIAM   \n1  C00410118  P20002978  Bachmann, Michelle     HARVEY, WILLIAM   \n2  C00410118  P20002978  Bachmann, Michelle       SMITH, LANIER   \n3  C00410118  P20002978  Bachmann, Michelle    BLEVINS, DARONDA   \n4  C00410118  P20002978  Bachmann, Michelle  WARDENBURG, HAROLD   \n\n          contbr_city contbr_st   contbr_zip        contbr_employer  \\\n0              MOBILE        AL   3.6601e+08                RETIRED   \n1              MOBILE        AL   3.6601e+08                RETIRED   \n2              LANETT        AL  3.68633e+08  INFORMATION REQUESTED   \n3             PIGGOTT        AR  7.24548e+08                   NONE   \n4  HOT SPRINGS NATION        AR  7.19016e+08                   NONE   \n\n       contbr_occupation  contb_receipt_amt contb_receipt_dt receipt_desc  \\\n0                RETIRED              250.0        20-JUN-11          NaN   \n1                RETIRED               50.0        23-JUN-11          NaN   \n2  INFORMATION REQUESTED              250.0        05-JUL-11          NaN   \n3                RETIRED              250.0        01-AUG-11          NaN   \n4                RETIRED              300.0        20-JUN-11          NaN   \n\n  memo_cd memo_text form_tp  file_num       party  \n0     NaN       NaN   SA17A    736166  Republican  \n1     NaN       NaN   SA17A    736166  Republican  \n2     NaN       NaN   SA17A    749073  Republican  \n3     NaN       NaN   SA17A    749073  Republican  \n4     NaN       NaN   SA17A    736166  Republican  "
      ]
     },
     "execution_count": 92,
     "metadata": {},
     "output_type": "execute_result"
    }
   ],
   "source": [
    "fec = fec[fec.contb_receipt_amt > 0]\n",
    "fec.head()"
   ]
  },
  {
   "cell_type": "code",
   "execution_count": 93,
   "metadata": {
    "collapsed": true
   },
   "outputs": [
    {
     "data": {
      "text/plain": [
       "       cmte_id    cand_id       cand_nm           contbr_nm contbr_city  \\\n411  C00431171  P80003353  Romney, Mitt  ELDERBAUM, WILLIAM         DPO   \n412  C00431171  P80003353  Romney, Mitt  ELDERBAUM, WILLIAM         DPO   \n413  C00431171  P80003353  Romney, Mitt    CARLSEN, RICHARD         APO   \n414  C00431171  P80003353  Romney, Mitt      DELUCA, PIERRE         APO   \n415  C00431171  P80003353  Romney, Mitt    SARGENT, MICHAEL         APO   \n\n    contbr_st   contbr_zip                   contbr_employer  \\\n411        AA   3.4023e+08                     US GOVERNMENT   \n412        AA   3.4023e+08                     US GOVERNMENT   \n413        AE    9.128e+07       DEFENSE INTELLIGENCE AGENCY   \n414        AE    9.128e+07                             CISCO   \n415        AE  9.01201e+07  RAYTHEON TECHNICAL SERVICES CORP   \n\n             contbr_occupation  contb_receipt_amt contb_receipt_dt  \\\n411    FOREIGN SERVICE OFFICER               25.0        01-FEB-12   \n412    FOREIGN SERVICE OFFICER              110.0        01-FEB-12   \n413       INTELLIGENCE ANALYST              250.0        13-APR-12   \n414                   ENGINEER               30.0        21-AUG-11   \n415  COMPUTER SYSTEMS ENGINEER              100.0        07-MAR-12   \n\n    receipt_desc memo_cd memo_text form_tp  file_num       party  \n411          NaN     NaN       NaN   SA17A    780124  Republican  \n412          NaN     NaN       NaN   SA17A    780124  Republican  \n413          NaN     NaN       NaN   SA17A    785689  Republican  \n414          NaN     NaN       NaN   SA17A    760261  Republican  \n415          NaN     NaN       NaN   SA17A    780128  Republican  "
      ]
     },
     "execution_count": 93,
     "metadata": {},
     "output_type": "execute_result"
    }
   ],
   "source": [
    "fec_mrbo = fec[fec.cand_nm.isin(['Obama, Barack', 'Romney, Mitt'])]\n",
    "fec_mrbo.head()"
   ]
  },
  {
   "cell_type": "markdown",
   "metadata": {},
   "source": [
    "# 根据职业和雇主统计赞助信息"
   ]
  },
  {
   "cell_type": "code",
   "execution_count": 94,
   "metadata": {
    "collapsed": true
   },
   "outputs": [
    {
     "data": {
      "text/plain": [
       "RETIRED                                   233990\nINFORMATION REQUESTED                      35107\nATTORNEY                                   34286\nHOMEMAKER                                  29931\nPHYSICIAN                                  23432\nINFORMATION REQUESTED PER BEST EFFORTS     21138\nENGINEER                                   14334\nTEACHER                                    13990\nCONSULTANT                                 13273\nPROFESSOR                                  12555\nName: contbr_occupation, dtype: int64"
      ]
     },
     "execution_count": 94,
     "metadata": {},
     "output_type": "execute_result"
    }
   ],
   "source": [
    "fec.contbr_occupation.value_counts()[:10]"
   ]
  },
  {
   "cell_type": "code",
   "execution_count": 95,
   "metadata": {
    "collapsed": true
   },
   "outputs": [
    {
     "data": {
      "text/plain": [
       "0         RETIRED\n1         RETIRED\n2    NOT PROVIDED\n3         RETIRED\n4         RETIRED\nName: contbr_occupation, dtype: object"
      ]
     },
     "execution_count": 95,
     "metadata": {},
     "output_type": "execute_result"
    }
   ],
   "source": [
    "occ_mapping = {\n",
    "    'INFORMATION REQUESTED PER BEST EFFORTS': 'NOT PROVIDED',\n",
    "    'INFORMATION REQUESTED': 'NOT PROVIDED',\n",
    "    'INFORMATION REQUESTED (BEST EFFORTS)': 'NOT PROVIDED',\n",
    "    'C.E.O.': 'CEO'\n",
    "}\n",
    "\n",
    "# If no mapping provided, return x\n",
    "f = lambda x: occ_mapping.get(x, x)\n",
    "fec.contbr_occupation = fec.contbr_occupation.map(f)\n",
    "fec.contbr_occupation.head()"
   ]
  },
  {
   "cell_type": "code",
   "execution_count": 96,
   "metadata": {
    "collapsed": true
   },
   "outputs": [
    {
     "data": {
      "text/plain": [
       "0         RETIRED\n1         RETIRED\n2    NOT PROVIDED\n3            NONE\n4            NONE\nName: contbr_employer, dtype: object"
      ]
     },
     "execution_count": 96,
     "metadata": {},
     "output_type": "execute_result"
    }
   ],
   "source": [
    "emp_mapping = {\n",
    "    'INFORMATION REQUESTED PER BEST EFFORTS': 'NOT PROVIDED',\n",
    "    'INFORMATION REQUESTED': 'NOT PROVIDED',\n",
    "    'SELF': 'SELF-EMPLOYED',\n",
    "    'SELF EMPLOYED': 'SELF-EMPLOYED',\n",
    "}\n",
    "\n",
    "# If no mapping provided, return x\n",
    "f = lambda x: emp_mapping.get(x, x)\n",
    "fec.contbr_employer = fec.contbr_employer.map(f)\n",
    "fec.contbr_employer.head()"
   ]
  },
  {
   "cell_type": "code",
   "execution_count": 97,
   "metadata": {
    "collapsed": true
   },
   "outputs": [
    {
     "data": {
      "text/plain": [
       "party                 Democrat    Republican\ncontbr_occupation                           \nATTORNEY           11141982.97  7.477194e+06\nCEO                 2074974.79  4.211041e+06\nCONSULTANT          2459912.71  2.544725e+06\nENGINEER             951525.55  1.818374e+06\nEXECUTIVE           1355161.05  4.138850e+06\nHOMEMAKER           4248875.80  1.363428e+07\nINVESTOR             884133.00  2.431769e+06\nLAWYER              3160478.87  3.912243e+05\nMANAGER              762883.22  1.444532e+06\nNOT PROVIDED        4866973.96  2.056547e+07\nOWNER               1001567.36  2.408287e+06\nPHYSICIAN           3735124.94  3.594320e+06\nPRESIDENT           1878509.95  4.720924e+06\nPROFESSOR           2165071.08  2.967027e+05\nREAL ESTATE          528902.09  1.625902e+06\nRETIRED            25305116.38  2.356124e+07\nSELF-EMPLOYED        672393.40  1.640253e+06"
      ]
     },
     "execution_count": 97,
     "metadata": {},
     "output_type": "execute_result"
    }
   ],
   "source": [
    "by_occupation = fec.pivot_table('contb_receipt_amt',\n",
    "                                index='contbr_occupation',\n",
    "                                columns='party', aggfunc='sum')\n",
    "\n",
    "over_2mm = by_occupation[by_occupation.sum(1) > 2000000]\n",
    "over_2mm"
   ]
  },
  {
   "cell_type": "code",
   "execution_count": 98,
   "metadata": {
    "collapsed": true
   },
   "outputs": [
    {
     "data": {
      "text/plain": [
       "<matplotlib.axes._subplots.AxesSubplot at 0x1e3333d3198>"
      ]
     },
     "execution_count": 98,
     "metadata": {},
     "output_type": "execute_result"
    },
    {
     "data": {
      "image/png": "[encoded data removed]",
      "text/plain": [
       "<matplotlib.figure.Figure at 0x1e332a2e4e0>"
      ]
     },
     "metadata": {},
     "output_type": "display_data"
    }
   ],
   "source": [
    "over_2mm.plot(kind='barh')"
   ]
  },
  {
   "cell_type": "code",
   "execution_count": 99,
   "metadata": {
    "collapsed": true
   },
   "outputs": [
    {
     "data": {
      "text/plain": [
       "cand_nm        contbr_occupation                     \nObama, Barack  COMPUTER ASSISTANT                        3.0\n               SPRINKLER FITTER FIRE PROTECTION SPECI    3.0\n               ADMINISTRATION/INSTRUCTOR                 3.0\n               LEAD UI/UX DEVELOPER                      3.0\n               POLICY/ LAWYER                            3.0\n               LAN/WAN ANALYST                           3.0\n               SR MGR                                    3.0\nRomney, Mitt   MD - UROLOGIST                            5.0\n               DISTRICT REPRESENTATIVE                   5.0\n               INDEPENDENT PROFESSIONAL                  3.0\n               REMODELER & SEMI RETIRED                  3.0\n               AFFORDABLE REAL ESTATE DEVELOPER          3.0\n               IFC CONTRACTING SOLUTIONS                 3.0\n               3RD GENERATION FAMILY BUSINESS OWNER      3.0\nName: contb_receipt_amt, dtype: float64"
      ]
     },
     "execution_count": 99,
     "metadata": {},
     "output_type": "execute_result"
    }
   ],
   "source": [
    "def get_top_amounts(group, key, n=5):\n",
    "    totals = group.groupby(key)['contb_receipt_amt'].sum()\n",
    "\n",
    "    # Order totals by key in descending order\n",
    "    return totals.sort_values(ascending=False)[-n:]\n",
    "\n",
    "\n",
    "grouped = fec_mrbo.groupby('cand_nm')\n",
    "grouped.apply(get_top_amounts, 'contbr_occupation', n=7)"
   ]
  },
  {
   "cell_type": "code",
   "execution_count": 100,
   "metadata": {
    "collapsed": true
   },
   "outputs": [
    {
     "data": {
      "text/plain": [
       "cand_nm        contbr_employer                   \nObama, Barack  SOLIYA                                3.0\n               CARR ENTERPRISES                      3.0\n               PENN STATE DICKINSON SCHOOL OF LAW    3.0\n               CADUCEUS OCCUPATIONAL MEDICINE        3.0\n               N.A.                                  3.0\n               REAL ENERGY CONSULTING SERVICES       3.0\n               JPDSYSTEMS, LLC                       3.0\n               CASS REGIONAL MED. CENTER             2.5\n               ARCON CORP                            2.0\n               THE VICTORIA GROUP, INC.              2.0\nRomney, Mitt   EASTHAM CAPITAL                       5.0\n               GREGORY GALLIVAN                      5.0\n               DIRECT LENDERS LLC                    5.0\n               LOUGH INVESTMENT ADVISORY LLC         4.0\n               WATERWORKS INDUSRTIES                 3.0\n               WILL MERRIFIELD                       3.0\n               HONOLD COMMUNICTAIONS                 3.0\n               INDEPENDENT PROFESSIONAL              3.0\n               UPTOWN CHEAPSKATE                     3.0\n               UN                                    3.0\nName: contb_receipt_amt, dtype: float64"
      ]
     },
     "execution_count": 100,
     "metadata": {},
     "output_type": "execute_result"
    }
   ],
   "source": [
    "grouped.apply(get_top_amounts, 'contbr_employer', n=10)"
   ]
  },
  {
   "cell_type": "markdown",
   "metadata": {},
   "source": [
    "# 对出资额分组"
   ]
  },
  {
   "cell_type": "code",
   "execution_count": 101,
   "metadata": {
    "collapsed": true
   },
   "outputs": [
    {
     "data": {
      "text/plain": [
       "411           (10, 100]\n412         (100, 1000]\n413         (100, 1000]\n414           (10, 100]\n415           (10, 100]\n416           (10, 100]\n417         (100, 1000]\n418           (10, 100]\n419         (100, 1000]\n420           (10, 100]\n421           (10, 100]\n422         (100, 1000]\n423         (100, 1000]\n424         (100, 1000]\n425         (100, 1000]\n426         (100, 1000]\n427       (1000, 10000]\n428         (100, 1000]\n429         (100, 1000]\n430           (10, 100]\n431       (1000, 10000]\n432         (100, 1000]\n433         (100, 1000]\n434         (100, 1000]\n435         (100, 1000]\n436         (100, 1000]\n437           (10, 100]\n438         (100, 1000]\n439         (100, 1000]\n440           (10, 100]\n              ...      \n701356        (10, 100]\n701357          (1, 10]\n701358        (10, 100]\n701359        (10, 100]\n701360        (10, 100]\n701361        (10, 100]\n701362      (100, 1000]\n701363        (10, 100]\n701364        (10, 100]\n701365        (10, 100]\n701366        (10, 100]\n701367        (10, 100]\n701368      (100, 1000]\n701369        (10, 100]\n701370        (10, 100]\n701371        (10, 100]\n701372        (10, 100]\n701373        (10, 100]\n701374        (10, 100]\n701375        (10, 100]\n701376    (1000, 10000]\n701377        (10, 100]\n701378        (10, 100]\n701379      (100, 1000]\n701380    (1000, 10000]\n701381        (10, 100]\n701382      (100, 1000]\n701383          (1, 10]\n701384        (10, 100]\n701385      (100, 1000]\nName: contb_receipt_amt, Length: 694282, dtype: category\nCategories (8, interval[int64]): [(0, 1] < (1, 10] < (10, 100] < (100, 1000] < (1000, 10000] < (10000, 100000] < (100000, 1000000] < (1000000, 10000000]]"
      ]
     },
     "execution_count": 101,
     "metadata": {},
     "output_type": "execute_result"
    }
   ],
   "source": [
    "bins = np.array([0, 1, 10, 100, 1000, 10000, 100000, 1000000, 10000000])\n",
    "labels = pd.cut(fec_mrbo.contb_receipt_amt, bins)\n",
    "labels"
   ]
  },
  {
   "cell_type": "code",
   "execution_count": 102,
   "metadata": {
    "collapsed": true
   },
   "outputs": [
    {
     "data": {
      "text/plain": [
       "cand_nm        contb_receipt_amt  \nObama, Barack  (0, 1]                    493\n               (1, 10]                 40070\n               (10, 100]              372280\n               (100, 1000]            153991\n               (1000, 10000]           22284\n               (10000, 100000]             2\n               (100000, 1000000]           3\n               (1000000, 10000000]         4\nRomney, Mitt   (0, 1]                     77\n               (1, 10]                  3681\n               (10, 100]               31853\n               (100, 1000]             43357\n               (1000, 10000]           26186\n               (10000, 100000]             1\ndtype: int64"
      ]
     },
     "execution_count": 102,
     "metadata": {},
     "output_type": "execute_result"
    }
   ],
   "source": [
    "grouped = fec_mrbo.groupby(['cand_nm', labels])\n",
    "grouped.size()"
   ]
  },
  {
   "cell_type": "code",
   "execution_count": 103,
   "metadata": {
    "collapsed": true
   },
   "outputs": [
    {
     "data": {
      "text/plain": [
       "cand_nm              Obama, Barack  Romney, Mitt\ncontb_receipt_amt                               \n(0, 1]                       493.0          77.0\n(1, 10]                    40070.0        3681.0\n(10, 100]                 372280.0       31853.0\n(100, 1000]               153991.0       43357.0\n(1000, 10000]              22284.0       26186.0\n(10000, 100000]                2.0           1.0\n(100000, 1000000]              3.0           NaN\n(1000000, 10000000]            4.0           NaN"
      ]
     },
     "execution_count": 103,
     "metadata": {},
     "output_type": "execute_result"
    }
   ],
   "source": [
    "grouped.size().unstack(0)"
   ]
  },
  {
   "cell_type": "code",
   "execution_count": 104,
   "metadata": {
    "collapsed": true
   },
   "outputs": [
    {
     "data": {
      "text/plain": [
       "cand_nm              Obama, Barack  Romney, Mitt\ncontb_receipt_amt                               \n(0, 1]                      318.24         77.00\n(1, 10]                  337267.62      29819.66\n(10, 100]              20288981.41    1987783.76\n(100, 1000]            54798531.46   22363381.69\n(1000, 10000]          51753705.67   63942145.42\n(10000, 100000]           59100.00      12700.00\n(100000, 1000000]       1490683.08           NaN\n(1000000, 10000000]     7148839.76           NaN"
      ]
     },
     "execution_count": 104,
     "metadata": {},
     "output_type": "execute_result"
    }
   ],
   "source": [
    "bucket_sums = grouped.contb_receipt_amt.sum().unstack(0)\n",
    "bucket_sums"
   ]
  },
  {
   "cell_type": "code",
   "execution_count": 105,
   "metadata": {
    "collapsed": true
   },
   "outputs": [
    {
     "data": {
      "text/plain": [
       "cand_nm              Obama, Barack  Romney, Mitt\ncontb_receipt_amt                               \n(0, 1]                    0.805182      0.194818\n(1, 10]                   0.918767      0.081233\n(10, 100]                 0.910769      0.089231\n(100, 1000]               0.710176      0.289824\n(1000, 10000]             0.447326      0.552674\n(10000, 100000]           0.823120      0.176880\n(100000, 1000000]         1.000000           NaN\n(1000000, 10000000]       1.000000           NaN"
      ]
     },
     "execution_count": 105,
     "metadata": {},
     "output_type": "execute_result"
    }
   ],
   "source": [
    "normed_sums = bucket_sums.div(bucket_sums.sum(axis=1), axis=0)\n",
    "normed_sums"
   ]
  },
  {
   "cell_type": "code",
   "execution_count": 106,
   "metadata": {
    "collapsed": true
   },
   "outputs": [
    {
     "data": {
      "text/plain": [
       "<matplotlib.axes._subplots.AxesSubplot at 0x1e3347a3fd0>"
      ]
     },
     "execution_count": 106,
     "metadata": {},
     "output_type": "execute_result"
    },
    {
     "data": {
      "image/png": "[encoded data removed]",
      "text/plain": [
       "<matplotlib.figure.Figure at 0x1e334828e80>"
      ]
     },
     "metadata": {},
     "output_type": "display_data"
    }
   ],
   "source": [
    "normed_sums[:-2].plot(kind='barh', stacked=True)"
   ]
  },
  {
   "cell_type": "markdown",
   "metadata": {},
   "source": [
    "# 根据州统计赞助信息"
   ]
  },
  {
   "cell_type": "code",
   "execution_count": 107,
   "metadata": {
    "collapsed": true
   },
   "outputs": [
    {
     "data": {
      "text/plain": [
       "cand_nm    Obama, Barack  Romney, Mitt\ncontbr_st                             \nAK             281840.15      86204.24\nAL             543123.48     527303.51\nAR             359247.28     105556.00\nAZ            1506476.98    1888436.23\nCA           23824984.24   11237636.60\nCO            2132429.49    1506714.12\nCT            2068291.26    3499475.45\nDC            4373538.80    1025137.50\nDE             336669.14      82712.00\nFL            7318178.58    8338458.81"
      ]
     },
     "execution_count": 107,
     "metadata": {},
     "output_type": "execute_result"
    }
   ],
   "source": [
    "grouped = fec_mrbo.groupby(['cand_nm', 'contbr_st'])\n",
    "totals = grouped.contb_receipt_amt.sum().unstack(0).fillna(0)\n",
    "totals = totals[totals.sum(1) > 100000]\n",
    "totals[:10]"
   ]
  },
  {
   "cell_type": "code",
   "execution_count": 108,
   "metadata": {
    "collapsed": true
   },
   "outputs": [
    {
     "data": {
      "text/plain": [
       "cand_nm    Obama, Barack  Romney, Mitt\ncontbr_st                             \nAK              0.765778      0.234222\nAL              0.507390      0.492610\nAR              0.772902      0.227098\nAZ              0.443745      0.556255\nCA              0.679498      0.320502\nCO              0.585970      0.414030\nCT              0.371476      0.628524\nDC              0.810113      0.189887\nDE              0.802776      0.197224\nFL              0.467417      0.532583"
      ]
     },
     "execution_count": 108,
     "metadata": {},
     "output_type": "execute_result"
    }
   ],
   "source": [
    "percent = totals.div(totals.sum(1), axis=0)\n",
    "percent[:10]"
   ]
  },
  {
   "cell_type": "markdown",
   "metadata": {},
   "source": [
    "参考资料：炼数成金Python数据分析课程"
   ]
  }
 ],
 "metadata": {
  "kernelspec": {
   "display_name": "Python 3",
   "language": "python",
   "name": "python3"
  },
  "language_info": {
   "codemirror_mode": {
    "name": "ipython",
    "version": 3
   },
   "file_extension": ".py",
   "mimetype": "text/x-python",
   "name": "python",
   "nbconvert_exporter": "python",
   "pygments_lexer": "ipython3",
   "version": "3.6.1"
  }
 },
 "nbformat": 4,
 "nbformat_minor": 2
}
