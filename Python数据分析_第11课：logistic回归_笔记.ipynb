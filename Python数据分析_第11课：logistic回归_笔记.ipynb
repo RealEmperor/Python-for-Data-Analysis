{
 "cells": [
  {
   "cell_type": "markdown",
   "metadata": {
    "collapsed": true
   },
   "source": [
    "# 逻辑回归\n",
    "\n",
    "## 案例1：银行贷款违约分析\n",
    "\n",
    "### 参数初始化"
   ]
  },
  {
   "cell_type": "code",
   "execution_count": 1,
   "metadata": {
    "scrolled": true
   },
   "outputs": [
    {
     "name": "stdout",
     "output_type": "stream",
     "text": [
      "   年龄  教育  工龄  地址   收入   负债率      信用卡负债      其他负债  违约\n",
      "0  41   3  17  12  176   9.3  11.359392  5.008608   1\n",
      "1  27   1  10   6   31  17.3   1.362202  4.000798   0\n",
      "2  40   1  15  14   55   5.5   0.856075  2.168925   0\n",
      "3  41   1  15  14  120   2.9   2.658720  0.821280   0\n",
      "4  24   2   2   0   28  17.3   1.787436  3.056564   1\n"
     ]
    }
   ],
   "source": [
    "import pandas as pd\n",
    "\n",
    "# 参数初始化\n",
    "filename = 'data/bankloan.xls'\n",
    "data = pd.read_excel(filename)\n",
    "print(data.head())"
   ]
  },
  {
   "cell_type": "code",
   "execution_count": 2,
   "metadata": {
    "scrolled": true
   },
   "outputs": [
    {
     "name": "stdout",
     "output_type": "stream",
     "text": [
      "[[ 41.         3.        17.       ...,   9.3       11.359392   5.008608]\n",
      " [ 27.         1.        10.       ...,  17.3        1.362202   4.000798]\n",
      " [ 40.         1.        15.       ...,   5.5        0.856075   2.168925]\n",
      " ..., \n",
      " [ 33.         1.        15.       ...,   7.6        0.491264   1.940736]\n",
      " [ 45.         1.        19.       ...,   8.4        2.302608   4.165392]\n",
      " [ 37.         1.        12.       ...,  14.7        2.994684   3.473316]]\n"
     ]
    }
   ],
   "source": [
    "x = data.iloc[:, :8].as_matrix()\n",
    "print(x)"
   ]
  },
  {
   "cell_type": "code",
   "execution_count": 3,
   "metadata": {
    "scrolled": false
   },
   "outputs": [
    {
     "name": "stdout",
     "output_type": "stream",
     "text": [
      "[1 0 0 0 1 0 0 0 1 0 0 0 0 0 0 1 1 0 0 0 0 0 0 0 1 0 0 0 0 0 0 0 0 0 0 0 0\n",
      " 0 1 0 0 0 0 0 1 0 0 0 1 0 1 0 1 0 0 1 0 0 0 0 0 1 0 0 0 1 1 0 1 1 0 0 0 0\n",
      " 0 0 0 0 0 0 1 0 0 0 0 0 1 0 0 1 0 1 0 1 1 0 0 0 0 1 0 0 0 0 0 0 1 0 0 0 0\n",
      " 0 0 0 0 0 0 0 1 1 0 1 1 1 0 0 1 0 0 0 0 0 0 0 0 0 0 0 0 1 1 1 0 0 0 0 0 0\n",
      " 0 0 0 1 0 0 0 0 0 1 1 0 0 0 1 0 1 1 1 0 0 0 0 0 1 0 0 0 0 0 0 1 0 0 0 0 0\n",
      " 0 1 0 0 0 1 0 1 1 0 0 1 0 0 1 0 1 0 0 0 0 0 0 0 0 0 1 0 1 0 0 0 0 1 1 0 0\n",
      " 0 1 1 0 0 0 0 0 0 1 0 0 0 0 0 1 0 1 0 0 0 0 0 0 0 0 0 0 0 1 0 0 0 0 0 0 0\n",
      " 0 0 0 0 1 0 0 0 1 0 0 0 0 0 0 0 1 1 0 1 0 1 1 0 0 0 0 0 1 0 0 0 0 0 0 1 0\n",
      " 0 0 1 0 1 0 0 0 0 0 0 0 0 0 1 0 1 0 0 0 0 0 0 1 0 1 0 1 1 1 0 0 0 0 0 1 1\n",
      " 0 0 0 0 0 1 1 0 0 0 1 0 1 0 0 0 0 0 0 0 0 1 1 1 1 0 0 0 0 0 0 1 0 0 0 0 0\n",
      " 0 0 0 1 0 0 0 0 0 0 0 1 1 0 1 0 0 0 0 0 0 1 0 1 1 0 0 0 0 1 0 0 0 1 0 0 0\n",
      " 0 0 0 0 0 0 1 1 0 0 0 1 0 1 0 0 0 1 0 0 0 1 0 1 0 0 1 0 0 0 0 0 0 0 0 0 1\n",
      " 1 0 0 0 1 1 0 0 0 0 1 0 0 0 0 0 0 1 0 0 0 0 1 0 0 1 1 1 0 0 0 0 1 0 0 0 0\n",
      " 1 0 0 1 0 1 1 1 0 0 1 1 1 1 1 0 0 1 1 0 1 0 0 1 0 0 0 0 0 0 0 0 0 1 0 0 0\n",
      " 0 0 0 0 0 0 0 0 0 0 0 1 1 1 1 0 0 0 0 1 0 1 0 0 0 1 0 0 0 0 1 1 1 1 0 0 0\n",
      " 0 0 0 1 0 0 0 0 0 1 1 0 0 1 0 1 0 0 1 1 0 1 0 0 0 0 0 0 1 1 0 0 0 0 1 1 1\n",
      " 0 0 1 0 1 1 0 1 0 0 0 0 1 0 1 0 0 0 1 0 1 0 0 0 1 1 1 0 0 0 0 0 0 0 0 0 0\n",
      " 0 0 0 1 1 0 0 1 1 0 0 0 0 0 0 0 1 0 0 0 0 1 0 0 1 0 0 0 0 0 0 0 1 0 0 0 0\n",
      " 0 0 0 0 0 0 0 1 0 0 0 1 0 0 1 1 0 0 0 1 0 1 0 0 0 0 1 0 0 1 0 0 0 0]\n"
     ]
    }
   ],
   "source": [
    "y = data.iloc[:, 8].as_matrix()\n",
    "print(y)"
   ]
  },
  {
   "cell_type": "markdown",
   "metadata": {},
   "source": [
    "### 建立随机逻辑回归模型，筛选变量"
   ]
  },
  {
   "cell_type": "code",
   "execution_count": 4,
   "metadata": {
    "scrolled": true
   },
   "outputs": [
    {
     "name": "stdout",
     "output_type": "stream",
     "text": [
      "通过随机逻辑回归模型筛选特征结束。\n",
      "有效特征为：工龄,地址,负债率,信用卡负债\n",
      "[[ 17.        12.         9.3       11.359392]\n",
      " [ 10.         6.        17.3        1.362202]\n",
      " [ 15.        14.         5.5        0.856075]\n",
      " ..., \n",
      " [ 15.         3.         7.6        0.491264]\n",
      " [ 19.        22.         8.4        2.302608]\n",
      " [ 12.        14.        14.7        2.994684]]\n"
     ]
    },
    {
     "name": "stderr",
     "output_type": "stream",
     "text": [
      "C:\\ProgramData\\Anaconda3\\lib\\site-packages\\pandas\\core\\indexes\\base.py:1650: VisibleDeprecationWarning: boolean index did not match indexed array along dimension 0; dimension is 9 but corresponding boolean dimension is 8\n",
      "  result = getitem(key)\n"
     ]
    }
   ],
   "source": [
    "from sklearn.linear_model import LogisticRegression as LR\n",
    "from sklearn.linear_model import RandomizedLogisticRegression as RLR\n",
    "\n",
    "rlr = RLR()  # 建立随机逻辑回归模型，筛选变量\n",
    "rlr.fit(x, y)  # 训练模型\n",
    "rlr.get_support()  # 获取特征筛选结果，也可以通过.scores_方法获取各个特征的分数\n",
    "print('通过随机逻辑回归模型筛选特征结束。')\n",
    "print('有效特征为：%s' % ','.join(data.columns[rlr.get_support()]))\n",
    "x = data[data.columns[rlr.get_support()]].as_matrix()  # 筛选好特征\n",
    "print(x)"
   ]
  },
  {
   "cell_type": "markdown",
   "metadata": {},
   "source": [
    "### 建立逻辑回归模型"
   ]
  },
  {
   "cell_type": "code",
   "execution_count": 5,
   "metadata": {},
   "outputs": [
    {
     "name": "stdout",
     "output_type": "stream",
     "text": [
      "逻辑回归模型训练结束。\n",
      "模型的平均正确率为：0.814285714286\n"
     ]
    }
   ],
   "source": [
    "lr = LR()  # 建立逻辑回归模型\n",
    "lr.fit(x, y)  # 用筛选后的特征数据来训练模型\n",
    "print('逻辑回归模型训练结束。')\n",
    "print(('模型的平均正确率为：%s' % lr.score(x, y)))  # 给出模型的平均正确率，本例为81.4%"
   ]
  },
  {
   "cell_type": "markdown",
   "metadata": {},
   "source": [
    "# 非线性回归\n",
    "\n",
    "## 案例2"
   ]
  },
  {
   "cell_type": "code",
   "execution_count": 6,
   "metadata": {},
   "outputs": [
    {
     "data": {
      "text/plain": [
       "<matplotlib.collections.PathCollection at 0x206f17e7518>"
      ]
     },
     "execution_count": 6,
     "metadata": {},
     "output_type": "execute_result"
    },
    {
     "data": {
      "image/png": "[encoded data removed]",
      "text/plain": [
       "<matplotlib.figure.Figure at 0x206ef95eba8>"
      ]
     },
     "metadata": {},
     "output_type": "display_data"
    }
   ],
   "source": [
    "# 非线性回归\n",
    "import matplotlib.pyplot as plt\n",
    "import seaborn as sns\n",
    "import numpy as np\n",
    "from sklearn import metrics\n",
    "\n",
    "%matplotlib inline\n",
    "\n",
    "x = pd.DataFrame([1.5, 2.8, 4.5, 7.5, 10.5, 13.5, 15.1, 16.5, 19.5, 22.5, 24.5, 26.5])\n",
    "y = pd.DataFrame([7.0, 5.5, 4.6, 3.6, 2.9, 2.7, 2.5, 2.4, 2.2, 2.1, 1.9, 1.8])\n",
    "\n",
    "fig = plt.figure()\n",
    "ax = fig.add_subplot(1, 1, 1)\n",
    "ax.scatter(x, y)"
   ]
  },
  {
   "cell_type": "code",
   "execution_count": 14,
   "metadata": {},
   "outputs": [
    {
     "name": "stdout",
     "output_type": "stream",
     "text": [
      "Coefficients: \n",
      " [[-0.4656313   0.01075704]]\n",
      "MSE: 0.118119570951\n",
      "Variance score: 0.95\n"
     ]
    }
   ],
   "source": [
    "from sklearn.linear_model import LinearRegression\n",
    "\n",
    "linreg = LinearRegression()\n",
    "linreg.fit(x, y)\n",
    "\n",
    "# The coefficients\n",
    "print('Coefficients: \\n', linreg.coef_)\n",
    "\n",
    "y_pred = linreg.predict(x)\n",
    "# The mean square error\n",
    "print(\"MSE:\", metrics.mean_squared_error(y, y_pred))\n",
    "\n",
    "# Explained variance score: 1 is perfect prediction\n",
    "print('Variance score: %.2f' % linreg.score(x, y))"
   ]
  },
  {
   "cell_type": "markdown",
   "metadata": {},
   "source": [
    "### 多项式模型"
   ]
  },
  {
   "cell_type": "code",
   "execution_count": 16,
   "metadata": {},
   "outputs": [
    {
     "name": "stdout",
     "output_type": "stream",
     "text": [
      "Coefficients: \n",
      " [[-0.4656313   0.01075704]]\n",
      "MSE: 0.118119570951\n"
     ]
    }
   ],
   "source": [
    "# 多项式模型\n",
    "x1 = x\n",
    "x2 = x ** 2\n",
    "x1['x2'] = x2\n",
    "\n",
    "linreg = LinearRegression()\n",
    "linreg.fit(x1, y)\n",
    "\n",
    "# The coefficients\n",
    "print('Coefficients: \\n', linreg.coef_)\n",
    "\n",
    "y_pred = linreg.predict(x)\n",
    "# The mean square error\n",
    "print(\"MSE:\", metrics.mean_squared_error(y, y_pred))"
   ]
  },
  {
   "cell_type": "markdown",
   "metadata": {},
   "source": [
    "### 对数模型"
   ]
  },
  {
   "cell_type": "code",
   "execution_count": 17,
   "metadata": {},
   "outputs": [
    {
     "name": "stdout",
     "output_type": "stream",
     "text": [
      "Coefficients: \n",
      " [[-1.75683848]]\n",
      "MSE: 0.0355123571858\n"
     ]
    }
   ],
   "source": [
    "# 对数模型\n",
    "x2 = pd.DataFrame(np.log(x[0]))\n",
    "\n",
    "linreg = LinearRegression()\n",
    "linreg.fit(x2, y)\n",
    "\n",
    "# The coefficients\n",
    "print('Coefficients: \\n', linreg.coef_)\n",
    "\n",
    "y_pred = linreg.predict(x2)\n",
    "# The mean square error\n",
    "print(\"MSE:\", metrics.mean_squared_error(y, y_pred))"
   ]
  },
  {
   "cell_type": "markdown",
   "metadata": {},
   "source": [
    "### 指数模型"
   ]
  },
  {
   "cell_type": "code",
   "execution_count": 18,
   "metadata": {},
   "outputs": [
    {
     "name": "stdout",
     "output_type": "stream",
     "text": [
      "Coefficients: \n",
      " [[-0.04880874]]\n",
      "MSE: 0.0147484198861\n"
     ]
    }
   ],
   "source": [
    "# 指数\n",
    "y2 = pd.DataFrame(np.log(y))\n",
    "\n",
    "linreg = LinearRegression()\n",
    "linreg.fit(pd.DataFrame(x[0]), y2)\n",
    "\n",
    "# The coefficients\n",
    "print('Coefficients: \\n', linreg.coef_)\n",
    "\n",
    "y_pred = linreg.predict(pd.DataFrame(x[0]))\n",
    "# The mean square error\n",
    "print(\"MSE:\", metrics.mean_squared_error(y2, y_pred))"
   ]
  },
  {
   "cell_type": "markdown",
   "metadata": {},
   "source": [
    "### 幂函数模型"
   ]
  },
  {
   "cell_type": "code",
   "execution_count": 11,
   "metadata": {
    "scrolled": true
   },
   "outputs": [
    {
     "name": "stdout",
     "output_type": "stream",
     "text": [
      "Coefficients: \n",
      " [[-0.47242789]]\n",
      "MSE: 0.00108621015916\n"
     ]
    }
   ],
   "source": [
    "# 幂函数\n",
    "linreg = LinearRegression()\n",
    "x2 = pd.DataFrame(np.log(x[0]))\n",
    "y2 = pd.DataFrame(np.log(y))\n",
    "linreg.fit(x2, y2)\n",
    "\n",
    "# The coefficients\n",
    "print('Coefficients: \\n', linreg.coef_)\n",
    "\n",
    "y_pred = linreg.predict(x2)\n",
    "# The mean square error\n",
    "print(\"MSE:\", metrics.mean_squared_error(y2, y_pred))"
   ]
  },
  {
   "cell_type": "markdown",
   "metadata": {},
   "source": [
    "### 画图"
   ]
  },
  {
   "cell_type": "code",
   "execution_count": 13,
   "metadata": {
    "scrolled": true
   },
   "outputs": [
    {
     "data": {
      "text/plain": [
       "[<matplotlib.lines.Line2D at 0x206f17bae48>]"
      ]
     },
     "execution_count": 13,
     "metadata": {},
     "output_type": "execute_result"
    },
    {
     "data": {
      "image/png": "[encoded data removed]",
      "text/plain": [
       "<matplotlib.figure.Figure at 0x206f16a09e8>"
      ]
     },
     "metadata": {},
     "output_type": "display_data"
    }
   ],
   "source": [
    "# 画图\n",
    "xr = np.arange(int(x[0].min()), int(x[0].max()), 1)\n",
    "yr = np.exp(linreg.coef_[0, 0] * np.log(xr) + linreg.intercept_[0])\n",
    "plt.plot(xr, yr, color='y')"
   ]
  },
  {
   "cell_type": "markdown",
   "metadata": {
    "collapsed": true
   },
   "source": [
    "参考资料：炼数成金Python数据分析课程"
   ]
  }
 ],
 "metadata": {
  "kernelspec": {
   "display_name": "Python 3",
   "language": "python",
   "name": "python3"
  },
  "language_info": {
   "codemirror_mode": {
    "name": "ipython",
    "version": 3
   },
   "file_extension": ".py",
   "mimetype": "text/x-python",
   "name": "python",
   "nbconvert_exporter": "python",
   "pygments_lexer": "ipython3",
   "version": "3.6.1"
  }
 },
 "nbformat": 4,
 "nbformat_minor": 2
}
