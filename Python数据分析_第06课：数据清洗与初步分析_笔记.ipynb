{
 "cells": [
  {
   "cell_type": "markdown",
   "metadata": {},
   "source": [
    "# 缺失值处理——拉格朗日插值法"
   ]
  },
  {
   "cell_type": "code",
   "execution_count": 1,
   "metadata": {
    "collapsed": true
   },
   "outputs": [],
   "source": [
    "import matplotlib.pyplot as plt\n",
    "import numpy as np\n",
    "import pandas as pd\n",
    "from pandas import Series, DataFrame\n",
    "from scipy.interpolate import lagrange  # 导入拉格朗日插值函数\n",
    "\n",
    "np.random.seed(12345)\n",
    "plt.rc('figure', figsize=(10, 6))\n",
    "\n",
    "inputfile = 'data/catering_sale.xls'  # 销量数据路径\n",
    "outputfile = 'data/sales.xls'  # 输出数据路径\n",
    "\n",
    "data = pd.read_excel(inputfile)  # 读入数据\n",
    "\n",
    "# 过滤异常值，将其变为空值\n",
    "\"\"\"\n",
    "data[u'销量'][(data[u'销量'] < 400) | (data[u'销量'] > 5000)] = None  \n",
    "上面这样写会有警告：\n",
    "SettingWithCopyWarning: \n",
    "A value is trying to be set on a copy of a slice from a DataFrame\n",
    "\n",
    "如果要更改原始数据，请使用单一赋值操作（loc）：\n",
    "data.loc[(data[u'销量'] < 400) | (data[u'销量'] > 5000), u'销量'] = None\n",
    "\n",
    "如果想要一个副本，请确保强制让 Pandas 创建副本：\n",
    "error_data = data.copy() \n",
    "error_data.loc[(error_data[u'销量'] < 400) | (error_data[u'销量'] > 5000), u'销量'] = None\n",
    "\n",
    "参考：https://www.jianshu.com/p/72274ccb647a\n",
    "\"\"\"\n",
    "data.loc[(data[u'销量'] < 400) | (data[u'销量'] > 5000), u'销量'] = None\n",
    "\n",
    "\n",
    "# 自定义列向量插值函数\n",
    "# s为列向量，n为被插值的位置，k为取前后的数据个数，默认为5\n",
    "def ployinterp_column(s, n, k=5):\n",
    "    y = s[list(range(n - k, n)) + list(range(n + 1, n + 1 + k))]  # 取数\n",
    "    y = y[y.notnull()]  # 剔除空值\n",
    "    return lagrange(y.index, list(y))(n)  # 插值并返回插值结果\n",
    "\n",
    "\n",
    "# 逐个元素判断是否需要插值\n",
    "for i in data.columns:\n",
    "    for j in range(len(data)):\n",
    "        if (data[i].isnull())[j]:  # 如果为空即插值。\n",
    "            \"\"\"\n",
    "            data[i][j] = ployinterp_column(data[i], j)  \n",
    "            这样写会有警告：\n",
    "            SettingWithCopyWarning: \n",
    "            A value is trying to be set on a copy of a slice from a DataFrame\n",
    "            \"\"\"\n",
    "            data.loc[j, i] = ployinterp_column(data[i], j)\n",
    "\n",
    "data.to_excel(outputfile)  # 输出结果，写入文件"
   ]
  },
  {
   "cell_type": "markdown",
   "metadata": {},
   "source": [
    "# dataframe合并"
   ]
  },
  {
   "cell_type": "code",
   "execution_count": 2,
   "metadata": {},
   "outputs": [
    {
     "name": "stdout",
     "output_type": "stream",
     "text": [
      "   data1 key\n",
      "0      0   b\n",
      "1      1   b\n",
      "2      2   a\n",
      "3      3   c\n",
      "4      4   a\n",
      "5      5   a\n",
      "6      6   b\n",
      "   data2 key\n",
      "0      0   a\n",
      "1      1   b\n",
      "2      2   d\n"
     ]
    }
   ],
   "source": [
    "#dataframe合并\n",
    "# 1\n",
    "df1 = DataFrame({'key': ['b', 'b', 'a', 'c', 'a', 'a', 'b'],\n",
    "                 'data1': range(7)})\n",
    "df2 = DataFrame({'key': ['a', 'b', 'd'],\n",
    "                 'data2': range(3)})\n",
    "print(df1)\n",
    "print(df2)"
   ]
  },
  {
   "cell_type": "code",
   "execution_count": 3,
   "metadata": {},
   "outputs": [
    {
     "data": {
      "text/html": [
       "<div>\n",
       "<style>\n",
       "    .dataframe thead tr:only-child th {\n",
       "        text-align: right;\n",
       "    }\n",
       "\n",
       "    .dataframe thead th {\n",
       "        text-align: left;\n",
       "    }\n",
       "\n",
       "    .dataframe tbody tr th {\n",
       "        vertical-align: top;\n",
       "    }\n",
       "</style>\n",
       "<table border=\"1\" class=\"dataframe\">\n",
       "  <thead>\n",
       "    <tr style=\"text-align: right;\">\n",
       "      <th></th>\n",
       "      <th>data1</th>\n",
       "      <th>key</th>\n",
       "      <th>data2</th>\n",
       "    </tr>\n",
       "  </thead>\n",
       "  <tbody>\n",
       "    <tr>\n",
       "      <th>0</th>\n",
       "      <td>0</td>\n",
       "      <td>b</td>\n",
       "      <td>1</td>\n",
       "    </tr>\n",
       "    <tr>\n",
       "      <th>1</th>\n",
       "      <td>1</td>\n",
       "      <td>b</td>\n",
       "      <td>1</td>\n",
       "    </tr>\n",
       "    <tr>\n",
       "      <th>2</th>\n",
       "      <td>6</td>\n",
       "      <td>b</td>\n",
       "      <td>1</td>\n",
       "    </tr>\n",
       "    <tr>\n",
       "      <th>3</th>\n",
       "      <td>2</td>\n",
       "      <td>a</td>\n",
       "      <td>0</td>\n",
       "    </tr>\n",
       "    <tr>\n",
       "      <th>4</th>\n",
       "      <td>4</td>\n",
       "      <td>a</td>\n",
       "      <td>0</td>\n",
       "    </tr>\n",
       "    <tr>\n",
       "      <th>5</th>\n",
       "      <td>5</td>\n",
       "      <td>a</td>\n",
       "      <td>0</td>\n",
       "    </tr>\n",
       "  </tbody>\n",
       "</table>\n",
       "</div>"
      ],
      "text/plain": [
       "   data1 key  data2\n",
       "0      0   b      1\n",
       "1      1   b      1\n",
       "2      6   b      1\n",
       "3      2   a      0\n",
       "4      4   a      0\n",
       "5      5   a      0"
      ]
     },
     "execution_count": 3,
     "metadata": {},
     "output_type": "execute_result"
    }
   ],
   "source": [
    "pd.merge(df1, df2)"
   ]
  },
  {
   "cell_type": "code",
   "execution_count": 4,
   "metadata": {},
   "outputs": [
    {
     "data": {
      "text/html": [
       "<div>\n",
       "<style>\n",
       "    .dataframe thead tr:only-child th {\n",
       "        text-align: right;\n",
       "    }\n",
       "\n",
       "    .dataframe thead th {\n",
       "        text-align: left;\n",
       "    }\n",
       "\n",
       "    .dataframe tbody tr th {\n",
       "        vertical-align: top;\n",
       "    }\n",
       "</style>\n",
       "<table border=\"1\" class=\"dataframe\">\n",
       "  <thead>\n",
       "    <tr style=\"text-align: right;\">\n",
       "      <th></th>\n",
       "      <th>data1</th>\n",
       "      <th>key</th>\n",
       "      <th>data2</th>\n",
       "    </tr>\n",
       "  </thead>\n",
       "  <tbody>\n",
       "    <tr>\n",
       "      <th>0</th>\n",
       "      <td>0</td>\n",
       "      <td>b</td>\n",
       "      <td>1</td>\n",
       "    </tr>\n",
       "    <tr>\n",
       "      <th>1</th>\n",
       "      <td>1</td>\n",
       "      <td>b</td>\n",
       "      <td>1</td>\n",
       "    </tr>\n",
       "    <tr>\n",
       "      <th>2</th>\n",
       "      <td>6</td>\n",
       "      <td>b</td>\n",
       "      <td>1</td>\n",
       "    </tr>\n",
       "    <tr>\n",
       "      <th>3</th>\n",
       "      <td>2</td>\n",
       "      <td>a</td>\n",
       "      <td>0</td>\n",
       "    </tr>\n",
       "    <tr>\n",
       "      <th>4</th>\n",
       "      <td>4</td>\n",
       "      <td>a</td>\n",
       "      <td>0</td>\n",
       "    </tr>\n",
       "    <tr>\n",
       "      <th>5</th>\n",
       "      <td>5</td>\n",
       "      <td>a</td>\n",
       "      <td>0</td>\n",
       "    </tr>\n",
       "  </tbody>\n",
       "</table>\n",
       "</div>"
      ],
      "text/plain": [
       "   data1 key  data2\n",
       "0      0   b      1\n",
       "1      1   b      1\n",
       "2      6   b      1\n",
       "3      2   a      0\n",
       "4      4   a      0\n",
       "5      5   a      0"
      ]
     },
     "execution_count": 4,
     "metadata": {},
     "output_type": "execute_result"
    }
   ],
   "source": [
    "pd.merge(df1, df2, on='key')"
   ]
  },
  {
   "cell_type": "code",
   "execution_count": 5,
   "metadata": {
    "collapsed": true
   },
   "outputs": [],
   "source": [
    "# 2\n",
    "df3 = DataFrame({'lkey': ['b', 'b', 'a', 'c', 'a', 'a', 'b'],\n",
    "                 'data1': range(7)})\n",
    "df4 = DataFrame({'rkey': ['a', 'b', 'd'],\n",
    "                 'data2': range(3)})"
   ]
  },
  {
   "cell_type": "code",
   "execution_count": 6,
   "metadata": {},
   "outputs": [
    {
     "data": {
      "text/html": [
       "<div>\n",
       "<style>\n",
       "    .dataframe thead tr:only-child th {\n",
       "        text-align: right;\n",
       "    }\n",
       "\n",
       "    .dataframe thead th {\n",
       "        text-align: left;\n",
       "    }\n",
       "\n",
       "    .dataframe tbody tr th {\n",
       "        vertical-align: top;\n",
       "    }\n",
       "</style>\n",
       "<table border=\"1\" class=\"dataframe\">\n",
       "  <thead>\n",
       "    <tr style=\"text-align: right;\">\n",
       "      <th></th>\n",
       "      <th>data1</th>\n",
       "      <th>lkey</th>\n",
       "      <th>data2</th>\n",
       "      <th>rkey</th>\n",
       "    </tr>\n",
       "  </thead>\n",
       "  <tbody>\n",
       "    <tr>\n",
       "      <th>0</th>\n",
       "      <td>0</td>\n",
       "      <td>b</td>\n",
       "      <td>1</td>\n",
       "      <td>b</td>\n",
       "    </tr>\n",
       "    <tr>\n",
       "      <th>1</th>\n",
       "      <td>1</td>\n",
       "      <td>b</td>\n",
       "      <td>1</td>\n",
       "      <td>b</td>\n",
       "    </tr>\n",
       "    <tr>\n",
       "      <th>2</th>\n",
       "      <td>6</td>\n",
       "      <td>b</td>\n",
       "      <td>1</td>\n",
       "      <td>b</td>\n",
       "    </tr>\n",
       "    <tr>\n",
       "      <th>3</th>\n",
       "      <td>2</td>\n",
       "      <td>a</td>\n",
       "      <td>0</td>\n",
       "      <td>a</td>\n",
       "    </tr>\n",
       "    <tr>\n",
       "      <th>4</th>\n",
       "      <td>4</td>\n",
       "      <td>a</td>\n",
       "      <td>0</td>\n",
       "      <td>a</td>\n",
       "    </tr>\n",
       "    <tr>\n",
       "      <th>5</th>\n",
       "      <td>5</td>\n",
       "      <td>a</td>\n",
       "      <td>0</td>\n",
       "      <td>a</td>\n",
       "    </tr>\n",
       "  </tbody>\n",
       "</table>\n",
       "</div>"
      ],
      "text/plain": [
       "   data1 lkey  data2 rkey\n",
       "0      0    b      1    b\n",
       "1      1    b      1    b\n",
       "2      6    b      1    b\n",
       "3      2    a      0    a\n",
       "4      4    a      0    a\n",
       "5      5    a      0    a"
      ]
     },
     "execution_count": 6,
     "metadata": {},
     "output_type": "execute_result"
    }
   ],
   "source": [
    "pd.merge(df3, df4, left_on='lkey', right_on='rkey')"
   ]
  },
  {
   "cell_type": "code",
   "execution_count": 7,
   "metadata": {},
   "outputs": [
    {
     "data": {
      "text/html": [
       "<div>\n",
       "<style>\n",
       "    .dataframe thead tr:only-child th {\n",
       "        text-align: right;\n",
       "    }\n",
       "\n",
       "    .dataframe thead th {\n",
       "        text-align: left;\n",
       "    }\n",
       "\n",
       "    .dataframe tbody tr th {\n",
       "        vertical-align: top;\n",
       "    }\n",
       "</style>\n",
       "<table border=\"1\" class=\"dataframe\">\n",
       "  <thead>\n",
       "    <tr style=\"text-align: right;\">\n",
       "      <th></th>\n",
       "      <th>data1</th>\n",
       "      <th>key</th>\n",
       "      <th>data2</th>\n",
       "    </tr>\n",
       "  </thead>\n",
       "  <tbody>\n",
       "    <tr>\n",
       "      <th>0</th>\n",
       "      <td>0.0</td>\n",
       "      <td>b</td>\n",
       "      <td>1.0</td>\n",
       "    </tr>\n",
       "    <tr>\n",
       "      <th>1</th>\n",
       "      <td>1.0</td>\n",
       "      <td>b</td>\n",
       "      <td>1.0</td>\n",
       "    </tr>\n",
       "    <tr>\n",
       "      <th>2</th>\n",
       "      <td>6.0</td>\n",
       "      <td>b</td>\n",
       "      <td>1.0</td>\n",
       "    </tr>\n",
       "    <tr>\n",
       "      <th>3</th>\n",
       "      <td>2.0</td>\n",
       "      <td>a</td>\n",
       "      <td>0.0</td>\n",
       "    </tr>\n",
       "    <tr>\n",
       "      <th>4</th>\n",
       "      <td>4.0</td>\n",
       "      <td>a</td>\n",
       "      <td>0.0</td>\n",
       "    </tr>\n",
       "    <tr>\n",
       "      <th>5</th>\n",
       "      <td>5.0</td>\n",
       "      <td>a</td>\n",
       "      <td>0.0</td>\n",
       "    </tr>\n",
       "    <tr>\n",
       "      <th>6</th>\n",
       "      <td>3.0</td>\n",
       "      <td>c</td>\n",
       "      <td>NaN</td>\n",
       "    </tr>\n",
       "    <tr>\n",
       "      <th>7</th>\n",
       "      <td>NaN</td>\n",
       "      <td>d</td>\n",
       "      <td>2.0</td>\n",
       "    </tr>\n",
       "  </tbody>\n",
       "</table>\n",
       "</div>"
      ],
      "text/plain": [
       "   data1 key  data2\n",
       "0    0.0   b    1.0\n",
       "1    1.0   b    1.0\n",
       "2    6.0   b    1.0\n",
       "3    2.0   a    0.0\n",
       "4    4.0   a    0.0\n",
       "5    5.0   a    0.0\n",
       "6    3.0   c    NaN\n",
       "7    NaN   d    2.0"
      ]
     },
     "execution_count": 7,
     "metadata": {},
     "output_type": "execute_result"
    }
   ],
   "source": [
    "pd.merge(df1, df2, how='outer')"
   ]
  },
  {
   "cell_type": "code",
   "execution_count": 8,
   "metadata": {},
   "outputs": [
    {
     "name": "stdout",
     "output_type": "stream",
     "text": [
      "   data1 key\n",
      "0      0   b\n",
      "1      1   b\n",
      "2      2   a\n",
      "3      3   c\n",
      "4      4   a\n",
      "5      5   b\n",
      "   data2 key\n",
      "0      0   a\n",
      "1      1   b\n",
      "2      2   a\n",
      "3      3   b\n",
      "4      4   d\n"
     ]
    }
   ],
   "source": [
    "# 3\n",
    "df1 = DataFrame({'key': ['b', 'b', 'a', 'c', 'a', 'b'],\n",
    "                 'data1': range(6)})\n",
    "df2 = DataFrame({'key': ['a', 'b', 'a', 'b', 'd'],\n",
    "                 'data2': range(5)})\n",
    "print(df1)\n",
    "print(df2)"
   ]
  },
  {
   "cell_type": "code",
   "execution_count": 9,
   "metadata": {},
   "outputs": [
    {
     "data": {
      "text/html": [
       "<div>\n",
       "<style>\n",
       "    .dataframe thead tr:only-child th {\n",
       "        text-align: right;\n",
       "    }\n",
       "\n",
       "    .dataframe thead th {\n",
       "        text-align: left;\n",
       "    }\n",
       "\n",
       "    .dataframe tbody tr th {\n",
       "        vertical-align: top;\n",
       "    }\n",
       "</style>\n",
       "<table border=\"1\" class=\"dataframe\">\n",
       "  <thead>\n",
       "    <tr style=\"text-align: right;\">\n",
       "      <th></th>\n",
       "      <th>data1</th>\n",
       "      <th>key</th>\n",
       "      <th>data2</th>\n",
       "    </tr>\n",
       "  </thead>\n",
       "  <tbody>\n",
       "    <tr>\n",
       "      <th>0</th>\n",
       "      <td>0</td>\n",
       "      <td>b</td>\n",
       "      <td>1.0</td>\n",
       "    </tr>\n",
       "    <tr>\n",
       "      <th>1</th>\n",
       "      <td>0</td>\n",
       "      <td>b</td>\n",
       "      <td>3.0</td>\n",
       "    </tr>\n",
       "    <tr>\n",
       "      <th>2</th>\n",
       "      <td>1</td>\n",
       "      <td>b</td>\n",
       "      <td>1.0</td>\n",
       "    </tr>\n",
       "    <tr>\n",
       "      <th>3</th>\n",
       "      <td>1</td>\n",
       "      <td>b</td>\n",
       "      <td>3.0</td>\n",
       "    </tr>\n",
       "    <tr>\n",
       "      <th>4</th>\n",
       "      <td>2</td>\n",
       "      <td>a</td>\n",
       "      <td>0.0</td>\n",
       "    </tr>\n",
       "    <tr>\n",
       "      <th>5</th>\n",
       "      <td>2</td>\n",
       "      <td>a</td>\n",
       "      <td>2.0</td>\n",
       "    </tr>\n",
       "    <tr>\n",
       "      <th>6</th>\n",
       "      <td>3</td>\n",
       "      <td>c</td>\n",
       "      <td>NaN</td>\n",
       "    </tr>\n",
       "    <tr>\n",
       "      <th>7</th>\n",
       "      <td>4</td>\n",
       "      <td>a</td>\n",
       "      <td>0.0</td>\n",
       "    </tr>\n",
       "    <tr>\n",
       "      <th>8</th>\n",
       "      <td>4</td>\n",
       "      <td>a</td>\n",
       "      <td>2.0</td>\n",
       "    </tr>\n",
       "    <tr>\n",
       "      <th>9</th>\n",
       "      <td>5</td>\n",
       "      <td>b</td>\n",
       "      <td>1.0</td>\n",
       "    </tr>\n",
       "    <tr>\n",
       "      <th>10</th>\n",
       "      <td>5</td>\n",
       "      <td>b</td>\n",
       "      <td>3.0</td>\n",
       "    </tr>\n",
       "  </tbody>\n",
       "</table>\n",
       "</div>"
      ],
      "text/plain": [
       "    data1 key  data2\n",
       "0       0   b    1.0\n",
       "1       0   b    3.0\n",
       "2       1   b    1.0\n",
       "3       1   b    3.0\n",
       "4       2   a    0.0\n",
       "5       2   a    2.0\n",
       "6       3   c    NaN\n",
       "7       4   a    0.0\n",
       "8       4   a    2.0\n",
       "9       5   b    1.0\n",
       "10      5   b    3.0"
      ]
     },
     "execution_count": 9,
     "metadata": {},
     "output_type": "execute_result"
    }
   ],
   "source": [
    "pd.merge(df1, df2, on='key', how='left')"
   ]
  },
  {
   "cell_type": "code",
   "execution_count": 10,
   "metadata": {},
   "outputs": [
    {
     "data": {
      "text/html": [
       "<div>\n",
       "<style>\n",
       "    .dataframe thead tr:only-child th {\n",
       "        text-align: right;\n",
       "    }\n",
       "\n",
       "    .dataframe thead th {\n",
       "        text-align: left;\n",
       "    }\n",
       "\n",
       "    .dataframe tbody tr th {\n",
       "        vertical-align: top;\n",
       "    }\n",
       "</style>\n",
       "<table border=\"1\" class=\"dataframe\">\n",
       "  <thead>\n",
       "    <tr style=\"text-align: right;\">\n",
       "      <th></th>\n",
       "      <th>data1</th>\n",
       "      <th>key</th>\n",
       "      <th>data2</th>\n",
       "    </tr>\n",
       "  </thead>\n",
       "  <tbody>\n",
       "    <tr>\n",
       "      <th>0</th>\n",
       "      <td>0</td>\n",
       "      <td>b</td>\n",
       "      <td>1</td>\n",
       "    </tr>\n",
       "    <tr>\n",
       "      <th>1</th>\n",
       "      <td>0</td>\n",
       "      <td>b</td>\n",
       "      <td>3</td>\n",
       "    </tr>\n",
       "    <tr>\n",
       "      <th>2</th>\n",
       "      <td>1</td>\n",
       "      <td>b</td>\n",
       "      <td>1</td>\n",
       "    </tr>\n",
       "    <tr>\n",
       "      <th>3</th>\n",
       "      <td>1</td>\n",
       "      <td>b</td>\n",
       "      <td>3</td>\n",
       "    </tr>\n",
       "    <tr>\n",
       "      <th>4</th>\n",
       "      <td>5</td>\n",
       "      <td>b</td>\n",
       "      <td>1</td>\n",
       "    </tr>\n",
       "    <tr>\n",
       "      <th>5</th>\n",
       "      <td>5</td>\n",
       "      <td>b</td>\n",
       "      <td>3</td>\n",
       "    </tr>\n",
       "    <tr>\n",
       "      <th>6</th>\n",
       "      <td>2</td>\n",
       "      <td>a</td>\n",
       "      <td>0</td>\n",
       "    </tr>\n",
       "    <tr>\n",
       "      <th>7</th>\n",
       "      <td>2</td>\n",
       "      <td>a</td>\n",
       "      <td>2</td>\n",
       "    </tr>\n",
       "    <tr>\n",
       "      <th>8</th>\n",
       "      <td>4</td>\n",
       "      <td>a</td>\n",
       "      <td>0</td>\n",
       "    </tr>\n",
       "    <tr>\n",
       "      <th>9</th>\n",
       "      <td>4</td>\n",
       "      <td>a</td>\n",
       "      <td>2</td>\n",
       "    </tr>\n",
       "  </tbody>\n",
       "</table>\n",
       "</div>"
      ],
      "text/plain": [
       "   data1 key  data2\n",
       "0      0   b      1\n",
       "1      0   b      3\n",
       "2      1   b      1\n",
       "3      1   b      3\n",
       "4      5   b      1\n",
       "5      5   b      3\n",
       "6      2   a      0\n",
       "7      2   a      2\n",
       "8      4   a      0\n",
       "9      4   a      2"
      ]
     },
     "execution_count": 10,
     "metadata": {},
     "output_type": "execute_result"
    }
   ],
   "source": [
    "pd.merge(df1, df2, how='inner')"
   ]
  },
  {
   "cell_type": "code",
   "execution_count": 11,
   "metadata": {},
   "outputs": [
    {
     "data": {
      "text/html": [
       "<div>\n",
       "<style>\n",
       "    .dataframe thead tr:only-child th {\n",
       "        text-align: right;\n",
       "    }\n",
       "\n",
       "    .dataframe thead th {\n",
       "        text-align: left;\n",
       "    }\n",
       "\n",
       "    .dataframe tbody tr th {\n",
       "        vertical-align: top;\n",
       "    }\n",
       "</style>\n",
       "<table border=\"1\" class=\"dataframe\">\n",
       "  <thead>\n",
       "    <tr style=\"text-align: right;\">\n",
       "      <th></th>\n",
       "      <th>key1</th>\n",
       "      <th>key2</th>\n",
       "      <th>lval</th>\n",
       "      <th>rval</th>\n",
       "    </tr>\n",
       "  </thead>\n",
       "  <tbody>\n",
       "    <tr>\n",
       "      <th>0</th>\n",
       "      <td>foo</td>\n",
       "      <td>one</td>\n",
       "      <td>1.0</td>\n",
       "      <td>4.0</td>\n",
       "    </tr>\n",
       "    <tr>\n",
       "      <th>1</th>\n",
       "      <td>foo</td>\n",
       "      <td>one</td>\n",
       "      <td>1.0</td>\n",
       "      <td>5.0</td>\n",
       "    </tr>\n",
       "    <tr>\n",
       "      <th>2</th>\n",
       "      <td>foo</td>\n",
       "      <td>two</td>\n",
       "      <td>2.0</td>\n",
       "      <td>NaN</td>\n",
       "    </tr>\n",
       "    <tr>\n",
       "      <th>3</th>\n",
       "      <td>bar</td>\n",
       "      <td>one</td>\n",
       "      <td>3.0</td>\n",
       "      <td>6.0</td>\n",
       "    </tr>\n",
       "    <tr>\n",
       "      <th>4</th>\n",
       "      <td>bar</td>\n",
       "      <td>two</td>\n",
       "      <td>NaN</td>\n",
       "      <td>7.0</td>\n",
       "    </tr>\n",
       "  </tbody>\n",
       "</table>\n",
       "</div>"
      ],
      "text/plain": [
       "  key1 key2  lval  rval\n",
       "0  foo  one   1.0   4.0\n",
       "1  foo  one   1.0   5.0\n",
       "2  foo  two   2.0   NaN\n",
       "3  bar  one   3.0   6.0\n",
       "4  bar  two   NaN   7.0"
      ]
     },
     "execution_count": 11,
     "metadata": {},
     "output_type": "execute_result"
    }
   ],
   "source": [
    "# 4\n",
    "left = DataFrame({'key1': ['foo', 'foo', 'bar'],\n",
    "                  'key2': ['one', 'two', 'one'],\n",
    "                  'lval': [1, 2, 3]})\n",
    "right = DataFrame({'key1': ['foo', 'foo', 'bar', 'bar'],\n",
    "                   'key2': ['one', 'one', 'one', 'two'],\n",
    "                   'rval': [4, 5, 6, 7]})\n",
    "pd.merge(left, right, on=['key1', 'key2'], how='outer')"
   ]
  },
  {
   "cell_type": "code",
   "execution_count": 12,
   "metadata": {},
   "outputs": [
    {
     "data": {
      "text/html": [
       "<div>\n",
       "<style>\n",
       "    .dataframe thead tr:only-child th {\n",
       "        text-align: right;\n",
       "    }\n",
       "\n",
       "    .dataframe thead th {\n",
       "        text-align: left;\n",
       "    }\n",
       "\n",
       "    .dataframe tbody tr th {\n",
       "        vertical-align: top;\n",
       "    }\n",
       "</style>\n",
       "<table border=\"1\" class=\"dataframe\">\n",
       "  <thead>\n",
       "    <tr style=\"text-align: right;\">\n",
       "      <th></th>\n",
       "      <th>key1</th>\n",
       "      <th>key2_x</th>\n",
       "      <th>lval</th>\n",
       "      <th>key2_y</th>\n",
       "      <th>rval</th>\n",
       "    </tr>\n",
       "  </thead>\n",
       "  <tbody>\n",
       "    <tr>\n",
       "      <th>0</th>\n",
       "      <td>foo</td>\n",
       "      <td>one</td>\n",
       "      <td>1</td>\n",
       "      <td>one</td>\n",
       "      <td>4</td>\n",
       "    </tr>\n",
       "    <tr>\n",
       "      <th>1</th>\n",
       "      <td>foo</td>\n",
       "      <td>one</td>\n",
       "      <td>1</td>\n",
       "      <td>one</td>\n",
       "      <td>5</td>\n",
       "    </tr>\n",
       "    <tr>\n",
       "      <th>2</th>\n",
       "      <td>foo</td>\n",
       "      <td>two</td>\n",
       "      <td>2</td>\n",
       "      <td>one</td>\n",
       "      <td>4</td>\n",
       "    </tr>\n",
       "    <tr>\n",
       "      <th>3</th>\n",
       "      <td>foo</td>\n",
       "      <td>two</td>\n",
       "      <td>2</td>\n",
       "      <td>one</td>\n",
       "      <td>5</td>\n",
       "    </tr>\n",
       "    <tr>\n",
       "      <th>4</th>\n",
       "      <td>bar</td>\n",
       "      <td>one</td>\n",
       "      <td>3</td>\n",
       "      <td>one</td>\n",
       "      <td>6</td>\n",
       "    </tr>\n",
       "    <tr>\n",
       "      <th>5</th>\n",
       "      <td>bar</td>\n",
       "      <td>one</td>\n",
       "      <td>3</td>\n",
       "      <td>two</td>\n",
       "      <td>7</td>\n",
       "    </tr>\n",
       "  </tbody>\n",
       "</table>\n",
       "</div>"
      ],
      "text/plain": [
       "  key1 key2_x  lval key2_y  rval\n",
       "0  foo    one     1    one     4\n",
       "1  foo    one     1    one     5\n",
       "2  foo    two     2    one     4\n",
       "3  foo    two     2    one     5\n",
       "4  bar    one     3    one     6\n",
       "5  bar    one     3    two     7"
      ]
     },
     "execution_count": 12,
     "metadata": {},
     "output_type": "execute_result"
    }
   ],
   "source": [
    "# 5\n",
    "pd.merge(left, right, on='key1')"
   ]
  },
  {
   "cell_type": "code",
   "execution_count": 13,
   "metadata": {},
   "outputs": [
    {
     "data": {
      "text/html": [
       "<div>\n",
       "<style>\n",
       "    .dataframe thead tr:only-child th {\n",
       "        text-align: right;\n",
       "    }\n",
       "\n",
       "    .dataframe thead th {\n",
       "        text-align: left;\n",
       "    }\n",
       "\n",
       "    .dataframe tbody tr th {\n",
       "        vertical-align: top;\n",
       "    }\n",
       "</style>\n",
       "<table border=\"1\" class=\"dataframe\">\n",
       "  <thead>\n",
       "    <tr style=\"text-align: right;\">\n",
       "      <th></th>\n",
       "      <th>key1</th>\n",
       "      <th>key2_left</th>\n",
       "      <th>lval</th>\n",
       "      <th>key2_right</th>\n",
       "      <th>rval</th>\n",
       "    </tr>\n",
       "  </thead>\n",
       "  <tbody>\n",
       "    <tr>\n",
       "      <th>0</th>\n",
       "      <td>foo</td>\n",
       "      <td>one</td>\n",
       "      <td>1</td>\n",
       "      <td>one</td>\n",
       "      <td>4</td>\n",
       "    </tr>\n",
       "    <tr>\n",
       "      <th>1</th>\n",
       "      <td>foo</td>\n",
       "      <td>one</td>\n",
       "      <td>1</td>\n",
       "      <td>one</td>\n",
       "      <td>5</td>\n",
       "    </tr>\n",
       "    <tr>\n",
       "      <th>2</th>\n",
       "      <td>foo</td>\n",
       "      <td>two</td>\n",
       "      <td>2</td>\n",
       "      <td>one</td>\n",
       "      <td>4</td>\n",
       "    </tr>\n",
       "    <tr>\n",
       "      <th>3</th>\n",
       "      <td>foo</td>\n",
       "      <td>two</td>\n",
       "      <td>2</td>\n",
       "      <td>one</td>\n",
       "      <td>5</td>\n",
       "    </tr>\n",
       "    <tr>\n",
       "      <th>4</th>\n",
       "      <td>bar</td>\n",
       "      <td>one</td>\n",
       "      <td>3</td>\n",
       "      <td>one</td>\n",
       "      <td>6</td>\n",
       "    </tr>\n",
       "    <tr>\n",
       "      <th>5</th>\n",
       "      <td>bar</td>\n",
       "      <td>one</td>\n",
       "      <td>3</td>\n",
       "      <td>two</td>\n",
       "      <td>7</td>\n",
       "    </tr>\n",
       "  </tbody>\n",
       "</table>\n",
       "</div>"
      ],
      "text/plain": [
       "  key1 key2_left  lval key2_right  rval\n",
       "0  foo       one     1        one     4\n",
       "1  foo       one     1        one     5\n",
       "2  foo       two     2        one     4\n",
       "3  foo       two     2        one     5\n",
       "4  bar       one     3        one     6\n",
       "5  bar       one     3        two     7"
      ]
     },
     "execution_count": 13,
     "metadata": {},
     "output_type": "execute_result"
    }
   ],
   "source": [
    "pd.merge(left, right, on='key1', suffixes=('_left', '_right'))"
   ]
  },
  {
   "cell_type": "markdown",
   "metadata": {},
   "source": [
    "# 索引上的合并"
   ]
  },
  {
   "cell_type": "code",
   "execution_count": 14,
   "metadata": {},
   "outputs": [
    {
     "name": "stdout",
     "output_type": "stream",
     "text": [
      "  key  value\n",
      "0   a      0\n",
      "1   b      1\n",
      "2   a      2\n",
      "3   a      3\n",
      "4   b      4\n",
      "5   c      5\n",
      "   group_val\n",
      "a        3.5\n",
      "b        7.0\n"
     ]
    }
   ],
   "source": [
    "# 1\n",
    "left1 = DataFrame({'key': ['a', 'b', 'a', 'a', 'b', 'c'], 'value': range(6)})\n",
    "right1 = DataFrame({'group_val': [3.5, 7]}, index=['a', 'b'])\n",
    "print(left1)\n",
    "print(right1)"
   ]
  },
  {
   "cell_type": "code",
   "execution_count": 15,
   "metadata": {},
   "outputs": [
    {
     "data": {
      "text/html": [
       "<div>\n",
       "<style>\n",
       "    .dataframe thead tr:only-child th {\n",
       "        text-align: right;\n",
       "    }\n",
       "\n",
       "    .dataframe thead th {\n",
       "        text-align: left;\n",
       "    }\n",
       "\n",
       "    .dataframe tbody tr th {\n",
       "        vertical-align: top;\n",
       "    }\n",
       "</style>\n",
       "<table border=\"1\" class=\"dataframe\">\n",
       "  <thead>\n",
       "    <tr style=\"text-align: right;\">\n",
       "      <th></th>\n",
       "      <th>key</th>\n",
       "      <th>value</th>\n",
       "      <th>group_val</th>\n",
       "    </tr>\n",
       "  </thead>\n",
       "  <tbody>\n",
       "    <tr>\n",
       "      <th>0</th>\n",
       "      <td>a</td>\n",
       "      <td>0</td>\n",
       "      <td>3.5</td>\n",
       "    </tr>\n",
       "    <tr>\n",
       "      <th>2</th>\n",
       "      <td>a</td>\n",
       "      <td>2</td>\n",
       "      <td>3.5</td>\n",
       "    </tr>\n",
       "    <tr>\n",
       "      <th>3</th>\n",
       "      <td>a</td>\n",
       "      <td>3</td>\n",
       "      <td>3.5</td>\n",
       "    </tr>\n",
       "    <tr>\n",
       "      <th>1</th>\n",
       "      <td>b</td>\n",
       "      <td>1</td>\n",
       "      <td>7.0</td>\n",
       "    </tr>\n",
       "    <tr>\n",
       "      <th>4</th>\n",
       "      <td>b</td>\n",
       "      <td>4</td>\n",
       "      <td>7.0</td>\n",
       "    </tr>\n",
       "  </tbody>\n",
       "</table>\n",
       "</div>"
      ],
      "text/plain": [
       "  key  value  group_val\n",
       "0   a      0        3.5\n",
       "2   a      2        3.5\n",
       "3   a      3        3.5\n",
       "1   b      1        7.0\n",
       "4   b      4        7.0"
      ]
     },
     "execution_count": 15,
     "metadata": {},
     "output_type": "execute_result"
    }
   ],
   "source": [
    "pd.merge(left1, right1, left_on='key', right_index=True)"
   ]
  },
  {
   "cell_type": "code",
   "execution_count": 16,
   "metadata": {},
   "outputs": [
    {
     "data": {
      "text/html": [
       "<div>\n",
       "<style>\n",
       "    .dataframe thead tr:only-child th {\n",
       "        text-align: right;\n",
       "    }\n",
       "\n",
       "    .dataframe thead th {\n",
       "        text-align: left;\n",
       "    }\n",
       "\n",
       "    .dataframe tbody tr th {\n",
       "        vertical-align: top;\n",
       "    }\n",
       "</style>\n",
       "<table border=\"1\" class=\"dataframe\">\n",
       "  <thead>\n",
       "    <tr style=\"text-align: right;\">\n",
       "      <th></th>\n",
       "      <th>key</th>\n",
       "      <th>value</th>\n",
       "      <th>group_val</th>\n",
       "    </tr>\n",
       "  </thead>\n",
       "  <tbody>\n",
       "    <tr>\n",
       "      <th>0</th>\n",
       "      <td>a</td>\n",
       "      <td>0</td>\n",
       "      <td>3.5</td>\n",
       "    </tr>\n",
       "    <tr>\n",
       "      <th>2</th>\n",
       "      <td>a</td>\n",
       "      <td>2</td>\n",
       "      <td>3.5</td>\n",
       "    </tr>\n",
       "    <tr>\n",
       "      <th>3</th>\n",
       "      <td>a</td>\n",
       "      <td>3</td>\n",
       "      <td>3.5</td>\n",
       "    </tr>\n",
       "    <tr>\n",
       "      <th>1</th>\n",
       "      <td>b</td>\n",
       "      <td>1</td>\n",
       "      <td>7.0</td>\n",
       "    </tr>\n",
       "    <tr>\n",
       "      <th>4</th>\n",
       "      <td>b</td>\n",
       "      <td>4</td>\n",
       "      <td>7.0</td>\n",
       "    </tr>\n",
       "    <tr>\n",
       "      <th>5</th>\n",
       "      <td>c</td>\n",
       "      <td>5</td>\n",
       "      <td>NaN</td>\n",
       "    </tr>\n",
       "  </tbody>\n",
       "</table>\n",
       "</div>"
      ],
      "text/plain": [
       "  key  value  group_val\n",
       "0   a      0        3.5\n",
       "2   a      2        3.5\n",
       "3   a      3        3.5\n",
       "1   b      1        7.0\n",
       "4   b      4        7.0\n",
       "5   c      5        NaN"
      ]
     },
     "execution_count": 16,
     "metadata": {},
     "output_type": "execute_result"
    }
   ],
   "source": [
    "pd.merge(left1, right1, left_on='key', right_index=True, how='outer')"
   ]
  },
  {
   "cell_type": "code",
   "execution_count": 17,
   "metadata": {},
   "outputs": [
    {
     "name": "stdout",
     "output_type": "stream",
     "text": [
      "   data    key1  key2\n",
      "0   0.0    Ohio  2000\n",
      "1   1.0    Ohio  2001\n",
      "2   2.0    Ohio  2002\n",
      "3   3.0  Nevada  2001\n",
      "4   4.0  Nevada  2002\n",
      "             event1  event2\n",
      "Nevada 2001       0       1\n",
      "       2000       2       3\n",
      "Ohio   2000       4       5\n",
      "       2000       6       7\n",
      "       2001       8       9\n",
      "       2002      10      11\n"
     ]
    }
   ],
   "source": [
    "# 2\n",
    "lefth = DataFrame({'key1': ['Ohio', 'Ohio', 'Ohio', 'Nevada', 'Nevada'],\n",
    "                   'key2': [2000, 2001, 2002, 2001, 2002],\n",
    "                   'data': np.arange(5.)})\n",
    "righth = DataFrame(np.arange(12).reshape((6, 2)),\n",
    "                   index=[['Nevada', 'Nevada', 'Ohio', 'Ohio', 'Ohio', 'Ohio'],\n",
    "                          [2001, 2000, 2000, 2000, 2001, 2002]],\n",
    "                   columns=['event1', 'event2'])\n",
    "print(lefth)\n",
    "print(righth)"
   ]
  },
  {
   "cell_type": "code",
   "execution_count": 18,
   "metadata": {},
   "outputs": [
    {
     "data": {
      "text/html": [
       "<div>\n",
       "<style>\n",
       "    .dataframe thead tr:only-child th {\n",
       "        text-align: right;\n",
       "    }\n",
       "\n",
       "    .dataframe thead th {\n",
       "        text-align: left;\n",
       "    }\n",
       "\n",
       "    .dataframe tbody tr th {\n",
       "        vertical-align: top;\n",
       "    }\n",
       "</style>\n",
       "<table border=\"1\" class=\"dataframe\">\n",
       "  <thead>\n",
       "    <tr style=\"text-align: right;\">\n",
       "      <th></th>\n",
       "      <th>data</th>\n",
       "      <th>key1</th>\n",
       "      <th>key2</th>\n",
       "      <th>event1</th>\n",
       "      <th>event2</th>\n",
       "    </tr>\n",
       "  </thead>\n",
       "  <tbody>\n",
       "    <tr>\n",
       "      <th>0</th>\n",
       "      <td>0.0</td>\n",
       "      <td>Ohio</td>\n",
       "      <td>2000</td>\n",
       "      <td>4</td>\n",
       "      <td>5</td>\n",
       "    </tr>\n",
       "    <tr>\n",
       "      <th>0</th>\n",
       "      <td>0.0</td>\n",
       "      <td>Ohio</td>\n",
       "      <td>2000</td>\n",
       "      <td>6</td>\n",
       "      <td>7</td>\n",
       "    </tr>\n",
       "    <tr>\n",
       "      <th>1</th>\n",
       "      <td>1.0</td>\n",
       "      <td>Ohio</td>\n",
       "      <td>2001</td>\n",
       "      <td>8</td>\n",
       "      <td>9</td>\n",
       "    </tr>\n",
       "    <tr>\n",
       "      <th>2</th>\n",
       "      <td>2.0</td>\n",
       "      <td>Ohio</td>\n",
       "      <td>2002</td>\n",
       "      <td>10</td>\n",
       "      <td>11</td>\n",
       "    </tr>\n",
       "    <tr>\n",
       "      <th>3</th>\n",
       "      <td>3.0</td>\n",
       "      <td>Nevada</td>\n",
       "      <td>2001</td>\n",
       "      <td>0</td>\n",
       "      <td>1</td>\n",
       "    </tr>\n",
       "  </tbody>\n",
       "</table>\n",
       "</div>"
      ],
      "text/plain": [
       "   data    key1  key2  event1  event2\n",
       "0   0.0    Ohio  2000       4       5\n",
       "0   0.0    Ohio  2000       6       7\n",
       "1   1.0    Ohio  2001       8       9\n",
       "2   2.0    Ohio  2002      10      11\n",
       "3   3.0  Nevada  2001       0       1"
      ]
     },
     "execution_count": 18,
     "metadata": {},
     "output_type": "execute_result"
    }
   ],
   "source": [
    "pd.merge(lefth, righth, left_on=['key1', 'key2'], right_index=True)"
   ]
  },
  {
   "cell_type": "code",
   "execution_count": 19,
   "metadata": {},
   "outputs": [
    {
     "data": {
      "text/html": [
       "<div>\n",
       "<style>\n",
       "    .dataframe thead tr:only-child th {\n",
       "        text-align: right;\n",
       "    }\n",
       "\n",
       "    .dataframe thead th {\n",
       "        text-align: left;\n",
       "    }\n",
       "\n",
       "    .dataframe tbody tr th {\n",
       "        vertical-align: top;\n",
       "    }\n",
       "</style>\n",
       "<table border=\"1\" class=\"dataframe\">\n",
       "  <thead>\n",
       "    <tr style=\"text-align: right;\">\n",
       "      <th></th>\n",
       "      <th>data</th>\n",
       "      <th>key1</th>\n",
       "      <th>key2</th>\n",
       "      <th>event1</th>\n",
       "      <th>event2</th>\n",
       "    </tr>\n",
       "  </thead>\n",
       "  <tbody>\n",
       "    <tr>\n",
       "      <th>0</th>\n",
       "      <td>0.0</td>\n",
       "      <td>Ohio</td>\n",
       "      <td>2000</td>\n",
       "      <td>4.0</td>\n",
       "      <td>5.0</td>\n",
       "    </tr>\n",
       "    <tr>\n",
       "      <th>0</th>\n",
       "      <td>0.0</td>\n",
       "      <td>Ohio</td>\n",
       "      <td>2000</td>\n",
       "      <td>6.0</td>\n",
       "      <td>7.0</td>\n",
       "    </tr>\n",
       "    <tr>\n",
       "      <th>1</th>\n",
       "      <td>1.0</td>\n",
       "      <td>Ohio</td>\n",
       "      <td>2001</td>\n",
       "      <td>8.0</td>\n",
       "      <td>9.0</td>\n",
       "    </tr>\n",
       "    <tr>\n",
       "      <th>2</th>\n",
       "      <td>2.0</td>\n",
       "      <td>Ohio</td>\n",
       "      <td>2002</td>\n",
       "      <td>10.0</td>\n",
       "      <td>11.0</td>\n",
       "    </tr>\n",
       "    <tr>\n",
       "      <th>3</th>\n",
       "      <td>3.0</td>\n",
       "      <td>Nevada</td>\n",
       "      <td>2001</td>\n",
       "      <td>0.0</td>\n",
       "      <td>1.0</td>\n",
       "    </tr>\n",
       "    <tr>\n",
       "      <th>4</th>\n",
       "      <td>4.0</td>\n",
       "      <td>Nevada</td>\n",
       "      <td>2002</td>\n",
       "      <td>NaN</td>\n",
       "      <td>NaN</td>\n",
       "    </tr>\n",
       "    <tr>\n",
       "      <th>4</th>\n",
       "      <td>NaN</td>\n",
       "      <td>Nevada</td>\n",
       "      <td>2000</td>\n",
       "      <td>2.0</td>\n",
       "      <td>3.0</td>\n",
       "    </tr>\n",
       "  </tbody>\n",
       "</table>\n",
       "</div>"
      ],
      "text/plain": [
       "   data    key1  key2  event1  event2\n",
       "0   0.0    Ohio  2000     4.0     5.0\n",
       "0   0.0    Ohio  2000     6.0     7.0\n",
       "1   1.0    Ohio  2001     8.0     9.0\n",
       "2   2.0    Ohio  2002    10.0    11.0\n",
       "3   3.0  Nevada  2001     0.0     1.0\n",
       "4   4.0  Nevada  2002     NaN     NaN\n",
       "4   NaN  Nevada  2000     2.0     3.0"
      ]
     },
     "execution_count": 19,
     "metadata": {},
     "output_type": "execute_result"
    }
   ],
   "source": [
    "pd.merge(lefth, righth, left_on=['key1', 'key2'],\n",
    "         right_index=True, how='outer')"
   ]
  },
  {
   "cell_type": "code",
   "execution_count": 20,
   "metadata": {},
   "outputs": [
    {
     "name": "stdout",
     "output_type": "stream",
     "text": [
      "   Ohio  Nevada\n",
      "a   1.0     2.0\n",
      "c   3.0     4.0\n",
      "e   5.0     6.0\n",
      "   Missouri  Alabama\n",
      "b       7.0      8.0\n",
      "c       9.0     10.0\n",
      "d      11.0     12.0\n",
      "e      13.0     14.0\n"
     ]
    }
   ],
   "source": [
    "left2 = DataFrame([[1., 2.], [3., 4.], [5., 6.]], index=['a', 'c', 'e'],\n",
    "                  columns=['Ohio', 'Nevada'])\n",
    "right2 = DataFrame([[7., 8.], [9., 10.], [11., 12.], [13, 14]],\n",
    "                   index=['b', 'c', 'd', 'e'], columns=['Missouri', 'Alabama'])\n",
    "print(left2)\n",
    "print(right2)"
   ]
  },
  {
   "cell_type": "code",
   "execution_count": 21,
   "metadata": {},
   "outputs": [
    {
     "data": {
      "text/html": [
       "<div>\n",
       "<style>\n",
       "    .dataframe thead tr:only-child th {\n",
       "        text-align: right;\n",
       "    }\n",
       "\n",
       "    .dataframe thead th {\n",
       "        text-align: left;\n",
       "    }\n",
       "\n",
       "    .dataframe tbody tr th {\n",
       "        vertical-align: top;\n",
       "    }\n",
       "</style>\n",
       "<table border=\"1\" class=\"dataframe\">\n",
       "  <thead>\n",
       "    <tr style=\"text-align: right;\">\n",
       "      <th></th>\n",
       "      <th>Ohio</th>\n",
       "      <th>Nevada</th>\n",
       "      <th>Missouri</th>\n",
       "      <th>Alabama</th>\n",
       "    </tr>\n",
       "  </thead>\n",
       "  <tbody>\n",
       "    <tr>\n",
       "      <th>a</th>\n",
       "      <td>1.0</td>\n",
       "      <td>2.0</td>\n",
       "      <td>NaN</td>\n",
       "      <td>NaN</td>\n",
       "    </tr>\n",
       "    <tr>\n",
       "      <th>b</th>\n",
       "      <td>NaN</td>\n",
       "      <td>NaN</td>\n",
       "      <td>7.0</td>\n",
       "      <td>8.0</td>\n",
       "    </tr>\n",
       "    <tr>\n",
       "      <th>c</th>\n",
       "      <td>3.0</td>\n",
       "      <td>4.0</td>\n",
       "      <td>9.0</td>\n",
       "      <td>10.0</td>\n",
       "    </tr>\n",
       "    <tr>\n",
       "      <th>d</th>\n",
       "      <td>NaN</td>\n",
       "      <td>NaN</td>\n",
       "      <td>11.0</td>\n",
       "      <td>12.0</td>\n",
       "    </tr>\n",
       "    <tr>\n",
       "      <th>e</th>\n",
       "      <td>5.0</td>\n",
       "      <td>6.0</td>\n",
       "      <td>13.0</td>\n",
       "      <td>14.0</td>\n",
       "    </tr>\n",
       "  </tbody>\n",
       "</table>\n",
       "</div>"
      ],
      "text/plain": [
       "   Ohio  Nevada  Missouri  Alabama\n",
       "a   1.0     2.0       NaN      NaN\n",
       "b   NaN     NaN       7.0      8.0\n",
       "c   3.0     4.0       9.0     10.0\n",
       "d   NaN     NaN      11.0     12.0\n",
       "e   5.0     6.0      13.0     14.0"
      ]
     },
     "execution_count": 21,
     "metadata": {},
     "output_type": "execute_result"
    }
   ],
   "source": [
    "pd.merge(left2, right2, how='outer', left_index=True, right_index=True)"
   ]
  },
  {
   "cell_type": "code",
   "execution_count": 22,
   "metadata": {},
   "outputs": [
    {
     "data": {
      "text/html": [
       "<div>\n",
       "<style>\n",
       "    .dataframe thead tr:only-child th {\n",
       "        text-align: right;\n",
       "    }\n",
       "\n",
       "    .dataframe thead th {\n",
       "        text-align: left;\n",
       "    }\n",
       "\n",
       "    .dataframe tbody tr th {\n",
       "        vertical-align: top;\n",
       "    }\n",
       "</style>\n",
       "<table border=\"1\" class=\"dataframe\">\n",
       "  <thead>\n",
       "    <tr style=\"text-align: right;\">\n",
       "      <th></th>\n",
       "      <th>Ohio</th>\n",
       "      <th>Nevada</th>\n",
       "      <th>Missouri</th>\n",
       "      <th>Alabama</th>\n",
       "    </tr>\n",
       "  </thead>\n",
       "  <tbody>\n",
       "    <tr>\n",
       "      <th>a</th>\n",
       "      <td>1.0</td>\n",
       "      <td>2.0</td>\n",
       "      <td>NaN</td>\n",
       "      <td>NaN</td>\n",
       "    </tr>\n",
       "    <tr>\n",
       "      <th>b</th>\n",
       "      <td>NaN</td>\n",
       "      <td>NaN</td>\n",
       "      <td>7.0</td>\n",
       "      <td>8.0</td>\n",
       "    </tr>\n",
       "    <tr>\n",
       "      <th>c</th>\n",
       "      <td>3.0</td>\n",
       "      <td>4.0</td>\n",
       "      <td>9.0</td>\n",
       "      <td>10.0</td>\n",
       "    </tr>\n",
       "    <tr>\n",
       "      <th>d</th>\n",
       "      <td>NaN</td>\n",
       "      <td>NaN</td>\n",
       "      <td>11.0</td>\n",
       "      <td>12.0</td>\n",
       "    </tr>\n",
       "    <tr>\n",
       "      <th>e</th>\n",
       "      <td>5.0</td>\n",
       "      <td>6.0</td>\n",
       "      <td>13.0</td>\n",
       "      <td>14.0</td>\n",
       "    </tr>\n",
       "  </tbody>\n",
       "</table>\n",
       "</div>"
      ],
      "text/plain": [
       "   Ohio  Nevada  Missouri  Alabama\n",
       "a   1.0     2.0       NaN      NaN\n",
       "b   NaN     NaN       7.0      8.0\n",
       "c   3.0     4.0       9.0     10.0\n",
       "d   NaN     NaN      11.0     12.0\n",
       "e   5.0     6.0      13.0     14.0"
      ]
     },
     "execution_count": 22,
     "metadata": {},
     "output_type": "execute_result"
    }
   ],
   "source": [
    "# 3\n",
    "left2.join(right2, how='outer')"
   ]
  },
  {
   "cell_type": "code",
   "execution_count": 23,
   "metadata": {},
   "outputs": [
    {
     "data": {
      "text/html": [
       "<div>\n",
       "<style>\n",
       "    .dataframe thead tr:only-child th {\n",
       "        text-align: right;\n",
       "    }\n",
       "\n",
       "    .dataframe thead th {\n",
       "        text-align: left;\n",
       "    }\n",
       "\n",
       "    .dataframe tbody tr th {\n",
       "        vertical-align: top;\n",
       "    }\n",
       "</style>\n",
       "<table border=\"1\" class=\"dataframe\">\n",
       "  <thead>\n",
       "    <tr style=\"text-align: right;\">\n",
       "      <th></th>\n",
       "      <th>key</th>\n",
       "      <th>value</th>\n",
       "      <th>group_val</th>\n",
       "    </tr>\n",
       "  </thead>\n",
       "  <tbody>\n",
       "    <tr>\n",
       "      <th>0</th>\n",
       "      <td>a</td>\n",
       "      <td>0</td>\n",
       "      <td>3.5</td>\n",
       "    </tr>\n",
       "    <tr>\n",
       "      <th>1</th>\n",
       "      <td>b</td>\n",
       "      <td>1</td>\n",
       "      <td>7.0</td>\n",
       "    </tr>\n",
       "    <tr>\n",
       "      <th>2</th>\n",
       "      <td>a</td>\n",
       "      <td>2</td>\n",
       "      <td>3.5</td>\n",
       "    </tr>\n",
       "    <tr>\n",
       "      <th>3</th>\n",
       "      <td>a</td>\n",
       "      <td>3</td>\n",
       "      <td>3.5</td>\n",
       "    </tr>\n",
       "    <tr>\n",
       "      <th>4</th>\n",
       "      <td>b</td>\n",
       "      <td>4</td>\n",
       "      <td>7.0</td>\n",
       "    </tr>\n",
       "    <tr>\n",
       "      <th>5</th>\n",
       "      <td>c</td>\n",
       "      <td>5</td>\n",
       "      <td>NaN</td>\n",
       "    </tr>\n",
       "  </tbody>\n",
       "</table>\n",
       "</div>"
      ],
      "text/plain": [
       "  key  value  group_val\n",
       "0   a      0        3.5\n",
       "1   b      1        7.0\n",
       "2   a      2        3.5\n",
       "3   a      3        3.5\n",
       "4   b      4        7.0\n",
       "5   c      5        NaN"
      ]
     },
     "execution_count": 23,
     "metadata": {},
     "output_type": "execute_result"
    }
   ],
   "source": [
    "left1.join(right1, on='key')"
   ]
  },
  {
   "cell_type": "code",
   "execution_count": 24,
   "metadata": {},
   "outputs": [
    {
     "data": {
      "text/html": [
       "<div>\n",
       "<style>\n",
       "    .dataframe thead tr:only-child th {\n",
       "        text-align: right;\n",
       "    }\n",
       "\n",
       "    .dataframe thead th {\n",
       "        text-align: left;\n",
       "    }\n",
       "\n",
       "    .dataframe tbody tr th {\n",
       "        vertical-align: top;\n",
       "    }\n",
       "</style>\n",
       "<table border=\"1\" class=\"dataframe\">\n",
       "  <thead>\n",
       "    <tr style=\"text-align: right;\">\n",
       "      <th></th>\n",
       "      <th>Ohio</th>\n",
       "      <th>Nevada</th>\n",
       "      <th>Missouri</th>\n",
       "      <th>Alabama</th>\n",
       "      <th>New York</th>\n",
       "      <th>Oregon</th>\n",
       "    </tr>\n",
       "  </thead>\n",
       "  <tbody>\n",
       "    <tr>\n",
       "      <th>a</th>\n",
       "      <td>1.0</td>\n",
       "      <td>2.0</td>\n",
       "      <td>NaN</td>\n",
       "      <td>NaN</td>\n",
       "      <td>7.0</td>\n",
       "      <td>8.0</td>\n",
       "    </tr>\n",
       "    <tr>\n",
       "      <th>c</th>\n",
       "      <td>3.0</td>\n",
       "      <td>4.0</td>\n",
       "      <td>9.0</td>\n",
       "      <td>10.0</td>\n",
       "      <td>9.0</td>\n",
       "      <td>10.0</td>\n",
       "    </tr>\n",
       "    <tr>\n",
       "      <th>e</th>\n",
       "      <td>5.0</td>\n",
       "      <td>6.0</td>\n",
       "      <td>13.0</td>\n",
       "      <td>14.0</td>\n",
       "      <td>11.0</td>\n",
       "      <td>12.0</td>\n",
       "    </tr>\n",
       "  </tbody>\n",
       "</table>\n",
       "</div>"
      ],
      "text/plain": [
       "   Ohio  Nevada  Missouri  Alabama  New York  Oregon\n",
       "a   1.0     2.0       NaN      NaN       7.0     8.0\n",
       "c   3.0     4.0       9.0     10.0       9.0    10.0\n",
       "e   5.0     6.0      13.0     14.0      11.0    12.0"
      ]
     },
     "execution_count": 24,
     "metadata": {},
     "output_type": "execute_result"
    }
   ],
   "source": [
    "# 4\n",
    "another = DataFrame([[7., 8.], [9., 10.], [11., 12.], [16., 17.]],\n",
    "                    index=['a', 'c', 'e', 'f'], columns=['New York', 'Oregon'])\n",
    "left2.join([right2, another])"
   ]
  },
  {
   "cell_type": "code",
   "execution_count": 25,
   "metadata": {},
   "outputs": [
    {
     "data": {
      "text/html": [
       "<div>\n",
       "<style>\n",
       "    .dataframe thead tr:only-child th {\n",
       "        text-align: right;\n",
       "    }\n",
       "\n",
       "    .dataframe thead th {\n",
       "        text-align: left;\n",
       "    }\n",
       "\n",
       "    .dataframe tbody tr th {\n",
       "        vertical-align: top;\n",
       "    }\n",
       "</style>\n",
       "<table border=\"1\" class=\"dataframe\">\n",
       "  <thead>\n",
       "    <tr style=\"text-align: right;\">\n",
       "      <th></th>\n",
       "      <th>Ohio</th>\n",
       "      <th>Nevada</th>\n",
       "      <th>Missouri</th>\n",
       "      <th>Alabama</th>\n",
       "      <th>New York</th>\n",
       "      <th>Oregon</th>\n",
       "    </tr>\n",
       "  </thead>\n",
       "  <tbody>\n",
       "    <tr>\n",
       "      <th>a</th>\n",
       "      <td>1.0</td>\n",
       "      <td>2.0</td>\n",
       "      <td>NaN</td>\n",
       "      <td>NaN</td>\n",
       "      <td>7.0</td>\n",
       "      <td>8.0</td>\n",
       "    </tr>\n",
       "    <tr>\n",
       "      <th>b</th>\n",
       "      <td>NaN</td>\n",
       "      <td>NaN</td>\n",
       "      <td>7.0</td>\n",
       "      <td>8.0</td>\n",
       "      <td>NaN</td>\n",
       "      <td>NaN</td>\n",
       "    </tr>\n",
       "    <tr>\n",
       "      <th>c</th>\n",
       "      <td>3.0</td>\n",
       "      <td>4.0</td>\n",
       "      <td>9.0</td>\n",
       "      <td>10.0</td>\n",
       "      <td>9.0</td>\n",
       "      <td>10.0</td>\n",
       "    </tr>\n",
       "    <tr>\n",
       "      <th>d</th>\n",
       "      <td>NaN</td>\n",
       "      <td>NaN</td>\n",
       "      <td>11.0</td>\n",
       "      <td>12.0</td>\n",
       "      <td>NaN</td>\n",
       "      <td>NaN</td>\n",
       "    </tr>\n",
       "    <tr>\n",
       "      <th>e</th>\n",
       "      <td>5.0</td>\n",
       "      <td>6.0</td>\n",
       "      <td>13.0</td>\n",
       "      <td>14.0</td>\n",
       "      <td>11.0</td>\n",
       "      <td>12.0</td>\n",
       "    </tr>\n",
       "    <tr>\n",
       "      <th>f</th>\n",
       "      <td>NaN</td>\n",
       "      <td>NaN</td>\n",
       "      <td>NaN</td>\n",
       "      <td>NaN</td>\n",
       "      <td>16.0</td>\n",
       "      <td>17.0</td>\n",
       "    </tr>\n",
       "  </tbody>\n",
       "</table>\n",
       "</div>"
      ],
      "text/plain": [
       "   Ohio  Nevada  Missouri  Alabama  New York  Oregon\n",
       "a   1.0     2.0       NaN      NaN       7.0     8.0\n",
       "b   NaN     NaN       7.0      8.0       NaN     NaN\n",
       "c   3.0     4.0       9.0     10.0       9.0    10.0\n",
       "d   NaN     NaN      11.0     12.0       NaN     NaN\n",
       "e   5.0     6.0      13.0     14.0      11.0    12.0\n",
       "f   NaN     NaN       NaN      NaN      16.0    17.0"
      ]
     },
     "execution_count": 25,
     "metadata": {},
     "output_type": "execute_result"
    }
   ],
   "source": [
    "left2.join([right2, another], how='outer')"
   ]
  },
  {
   "cell_type": "markdown",
   "metadata": {},
   "source": [
    "# 轴向连接"
   ]
  },
  {
   "cell_type": "code",
   "execution_count": 26,
   "metadata": {},
   "outputs": [
    {
     "name": "stdout",
     "output_type": "stream",
     "text": [
      "[[ 0  1  2  3]\n",
      " [ 4  5  6  7]\n",
      " [ 8  9 10 11]]\n"
     ]
    },
    {
     "data": {
      "text/plain": [
       "array([[ 0,  1,  2,  3,  0,  1,  2,  3],\n",
       "       [ 4,  5,  6,  7,  4,  5,  6,  7],\n",
       "       [ 8,  9, 10, 11,  8,  9, 10, 11]])"
      ]
     },
     "execution_count": 26,
     "metadata": {},
     "output_type": "execute_result"
    }
   ],
   "source": [
    "# 1\n",
    "arr = np.arange(12).reshape((3, 4))\n",
    "print(arr)\n",
    "\n",
    "np.concatenate([arr, arr], axis=1)"
   ]
  },
  {
   "cell_type": "code",
   "execution_count": 27,
   "metadata": {},
   "outputs": [
    {
     "data": {
      "text/plain": [
       "a    0\n",
       "b    1\n",
       "c    2\n",
       "d    3\n",
       "e    4\n",
       "f    5\n",
       "g    6\n",
       "dtype: int64"
      ]
     },
     "execution_count": 27,
     "metadata": {},
     "output_type": "execute_result"
    }
   ],
   "source": [
    "# 2\n",
    "s1 = Series([0, 1], index=['a', 'b'])\n",
    "s2 = Series([2, 3, 4], index=['c', 'd', 'e'])\n",
    "s3 = Series([5, 6], index=['f', 'g'])\n",
    "\n",
    "pd.concat([s1, s2, s3])"
   ]
  },
  {
   "cell_type": "code",
   "execution_count": 28,
   "metadata": {},
   "outputs": [
    {
     "data": {
      "text/plain": [
       "a    0\n",
       "b    1\n",
       "c    2\n",
       "d    3\n",
       "e    4\n",
       "f    5\n",
       "g    6\n",
       "dtype: int64"
      ]
     },
     "execution_count": 28,
     "metadata": {},
     "output_type": "execute_result"
    }
   ],
   "source": [
    "pd.concat([s1, s2, s3], axis=0)"
   ]
  },
  {
   "cell_type": "code",
   "execution_count": 29,
   "metadata": {},
   "outputs": [
    {
     "data": {
      "text/html": [
       "<div>\n",
       "<style>\n",
       "    .dataframe thead tr:only-child th {\n",
       "        text-align: right;\n",
       "    }\n",
       "\n",
       "    .dataframe thead th {\n",
       "        text-align: left;\n",
       "    }\n",
       "\n",
       "    .dataframe tbody tr th {\n",
       "        vertical-align: top;\n",
       "    }\n",
       "</style>\n",
       "<table border=\"1\" class=\"dataframe\">\n",
       "  <thead>\n",
       "    <tr style=\"text-align: right;\">\n",
       "      <th></th>\n",
       "      <th>0</th>\n",
       "      <th>1</th>\n",
       "      <th>2</th>\n",
       "    </tr>\n",
       "  </thead>\n",
       "  <tbody>\n",
       "    <tr>\n",
       "      <th>a</th>\n",
       "      <td>0.0</td>\n",
       "      <td>NaN</td>\n",
       "      <td>NaN</td>\n",
       "    </tr>\n",
       "    <tr>\n",
       "      <th>b</th>\n",
       "      <td>1.0</td>\n",
       "      <td>NaN</td>\n",
       "      <td>NaN</td>\n",
       "    </tr>\n",
       "    <tr>\n",
       "      <th>c</th>\n",
       "      <td>NaN</td>\n",
       "      <td>2.0</td>\n",
       "      <td>NaN</td>\n",
       "    </tr>\n",
       "    <tr>\n",
       "      <th>d</th>\n",
       "      <td>NaN</td>\n",
       "      <td>3.0</td>\n",
       "      <td>NaN</td>\n",
       "    </tr>\n",
       "    <tr>\n",
       "      <th>e</th>\n",
       "      <td>NaN</td>\n",
       "      <td>4.0</td>\n",
       "      <td>NaN</td>\n",
       "    </tr>\n",
       "    <tr>\n",
       "      <th>f</th>\n",
       "      <td>NaN</td>\n",
       "      <td>NaN</td>\n",
       "      <td>5.0</td>\n",
       "    </tr>\n",
       "    <tr>\n",
       "      <th>g</th>\n",
       "      <td>NaN</td>\n",
       "      <td>NaN</td>\n",
       "      <td>6.0</td>\n",
       "    </tr>\n",
       "  </tbody>\n",
       "</table>\n",
       "</div>"
      ],
      "text/plain": [
       "     0    1    2\n",
       "a  0.0  NaN  NaN\n",
       "b  1.0  NaN  NaN\n",
       "c  NaN  2.0  NaN\n",
       "d  NaN  3.0  NaN\n",
       "e  NaN  4.0  NaN\n",
       "f  NaN  NaN  5.0\n",
       "g  NaN  NaN  6.0"
      ]
     },
     "execution_count": 29,
     "metadata": {},
     "output_type": "execute_result"
    }
   ],
   "source": [
    "pd.concat([s1, s2, s3], axis=1)"
   ]
  },
  {
   "cell_type": "code",
   "execution_count": 30,
   "metadata": {},
   "outputs": [
    {
     "name": "stdout",
     "output_type": "stream",
     "text": [
      "a    0\n",
      "b    5\n",
      "f    5\n",
      "g    6\n",
      "dtype: int64\n"
     ]
    }
   ],
   "source": [
    "s4 = pd.concat([s1 * 5, s3])\n",
    "print(s4)"
   ]
  },
  {
   "cell_type": "code",
   "execution_count": 31,
   "metadata": {},
   "outputs": [
    {
     "data": {
      "text/html": [
       "<div>\n",
       "<style>\n",
       "    .dataframe thead tr:only-child th {\n",
       "        text-align: right;\n",
       "    }\n",
       "\n",
       "    .dataframe thead th {\n",
       "        text-align: left;\n",
       "    }\n",
       "\n",
       "    .dataframe tbody tr th {\n",
       "        vertical-align: top;\n",
       "    }\n",
       "</style>\n",
       "<table border=\"1\" class=\"dataframe\">\n",
       "  <thead>\n",
       "    <tr style=\"text-align: right;\">\n",
       "      <th></th>\n",
       "      <th>0</th>\n",
       "      <th>1</th>\n",
       "    </tr>\n",
       "  </thead>\n",
       "  <tbody>\n",
       "    <tr>\n",
       "      <th>a</th>\n",
       "      <td>0.0</td>\n",
       "      <td>0</td>\n",
       "    </tr>\n",
       "    <tr>\n",
       "      <th>b</th>\n",
       "      <td>1.0</td>\n",
       "      <td>5</td>\n",
       "    </tr>\n",
       "    <tr>\n",
       "      <th>f</th>\n",
       "      <td>NaN</td>\n",
       "      <td>5</td>\n",
       "    </tr>\n",
       "    <tr>\n",
       "      <th>g</th>\n",
       "      <td>NaN</td>\n",
       "      <td>6</td>\n",
       "    </tr>\n",
       "  </tbody>\n",
       "</table>\n",
       "</div>"
      ],
      "text/plain": [
       "     0  1\n",
       "a  0.0  0\n",
       "b  1.0  5\n",
       "f  NaN  5\n",
       "g  NaN  6"
      ]
     },
     "execution_count": 31,
     "metadata": {},
     "output_type": "execute_result"
    }
   ],
   "source": [
    "pd.concat([s1, s4], axis=1)"
   ]
  },
  {
   "cell_type": "code",
   "execution_count": 32,
   "metadata": {},
   "outputs": [
    {
     "data": {
      "text/html": [
       "<div>\n",
       "<style>\n",
       "    .dataframe thead tr:only-child th {\n",
       "        text-align: right;\n",
       "    }\n",
       "\n",
       "    .dataframe thead th {\n",
       "        text-align: left;\n",
       "    }\n",
       "\n",
       "    .dataframe tbody tr th {\n",
       "        vertical-align: top;\n",
       "    }\n",
       "</style>\n",
       "<table border=\"1\" class=\"dataframe\">\n",
       "  <thead>\n",
       "    <tr style=\"text-align: right;\">\n",
       "      <th></th>\n",
       "      <th>0</th>\n",
       "      <th>1</th>\n",
       "    </tr>\n",
       "  </thead>\n",
       "  <tbody>\n",
       "    <tr>\n",
       "      <th>a</th>\n",
       "      <td>0</td>\n",
       "      <td>0</td>\n",
       "    </tr>\n",
       "    <tr>\n",
       "      <th>b</th>\n",
       "      <td>1</td>\n",
       "      <td>5</td>\n",
       "    </tr>\n",
       "  </tbody>\n",
       "</table>\n",
       "</div>"
      ],
      "text/plain": [
       "   0  1\n",
       "a  0  0\n",
       "b  1  5"
      ]
     },
     "execution_count": 32,
     "metadata": {},
     "output_type": "execute_result"
    }
   ],
   "source": [
    "pd.concat([s1, s4], axis=1, join='inner')"
   ]
  },
  {
   "cell_type": "code",
   "execution_count": 33,
   "metadata": {},
   "outputs": [
    {
     "data": {
      "text/html": [
       "<div>\n",
       "<style>\n",
       "    .dataframe thead tr:only-child th {\n",
       "        text-align: right;\n",
       "    }\n",
       "\n",
       "    .dataframe thead th {\n",
       "        text-align: left;\n",
       "    }\n",
       "\n",
       "    .dataframe tbody tr th {\n",
       "        vertical-align: top;\n",
       "    }\n",
       "</style>\n",
       "<table border=\"1\" class=\"dataframe\">\n",
       "  <thead>\n",
       "    <tr style=\"text-align: right;\">\n",
       "      <th></th>\n",
       "      <th>0</th>\n",
       "      <th>1</th>\n",
       "    </tr>\n",
       "  </thead>\n",
       "  <tbody>\n",
       "    <tr>\n",
       "      <th>a</th>\n",
       "      <td>0.0</td>\n",
       "      <td>0.0</td>\n",
       "    </tr>\n",
       "    <tr>\n",
       "      <th>c</th>\n",
       "      <td>NaN</td>\n",
       "      <td>NaN</td>\n",
       "    </tr>\n",
       "    <tr>\n",
       "      <th>b</th>\n",
       "      <td>1.0</td>\n",
       "      <td>5.0</td>\n",
       "    </tr>\n",
       "    <tr>\n",
       "      <th>e</th>\n",
       "      <td>NaN</td>\n",
       "      <td>NaN</td>\n",
       "    </tr>\n",
       "  </tbody>\n",
       "</table>\n",
       "</div>"
      ],
      "text/plain": [
       "     0    1\n",
       "a  0.0  0.0\n",
       "c  NaN  NaN\n",
       "b  1.0  5.0\n",
       "e  NaN  NaN"
      ]
     },
     "execution_count": 33,
     "metadata": {},
     "output_type": "execute_result"
    }
   ],
   "source": [
    "pd.concat([s1, s4], axis=1, join_axes=[['a', 'c', 'b', 'e']])"
   ]
  },
  {
   "cell_type": "code",
   "execution_count": 34,
   "metadata": {},
   "outputs": [
    {
     "name": "stdout",
     "output_type": "stream",
     "text": [
      "one    a    0\n",
      "       b    1\n",
      "two    a    0\n",
      "       b    1\n",
      "three  f    5\n",
      "       g    6\n",
      "dtype: int64\n"
     ]
    }
   ],
   "source": [
    "# 3\n",
    "result = pd.concat([s1, s1, s3], keys=['one', 'two', 'three'])\n",
    "print(result)"
   ]
  },
  {
   "cell_type": "code",
   "execution_count": 35,
   "metadata": {},
   "outputs": [
    {
     "data": {
      "text/html": [
       "<div>\n",
       "<style>\n",
       "    .dataframe thead tr:only-child th {\n",
       "        text-align: right;\n",
       "    }\n",
       "\n",
       "    .dataframe thead th {\n",
       "        text-align: left;\n",
       "    }\n",
       "\n",
       "    .dataframe tbody tr th {\n",
       "        vertical-align: top;\n",
       "    }\n",
       "</style>\n",
       "<table border=\"1\" class=\"dataframe\">\n",
       "  <thead>\n",
       "    <tr style=\"text-align: right;\">\n",
       "      <th></th>\n",
       "      <th>a</th>\n",
       "      <th>b</th>\n",
       "      <th>f</th>\n",
       "      <th>g</th>\n",
       "    </tr>\n",
       "  </thead>\n",
       "  <tbody>\n",
       "    <tr>\n",
       "      <th>one</th>\n",
       "      <td>0.0</td>\n",
       "      <td>1.0</td>\n",
       "      <td>NaN</td>\n",
       "      <td>NaN</td>\n",
       "    </tr>\n",
       "    <tr>\n",
       "      <th>two</th>\n",
       "      <td>0.0</td>\n",
       "      <td>1.0</td>\n",
       "      <td>NaN</td>\n",
       "      <td>NaN</td>\n",
       "    </tr>\n",
       "    <tr>\n",
       "      <th>three</th>\n",
       "      <td>NaN</td>\n",
       "      <td>NaN</td>\n",
       "      <td>5.0</td>\n",
       "      <td>6.0</td>\n",
       "    </tr>\n",
       "  </tbody>\n",
       "</table>\n",
       "</div>"
      ],
      "text/plain": [
       "         a    b    f    g\n",
       "one    0.0  1.0  NaN  NaN\n",
       "two    0.0  1.0  NaN  NaN\n",
       "three  NaN  NaN  5.0  6.0"
      ]
     },
     "execution_count": 35,
     "metadata": {},
     "output_type": "execute_result"
    }
   ],
   "source": [
    "result.unstack()"
   ]
  },
  {
   "cell_type": "code",
   "execution_count": 36,
   "metadata": {},
   "outputs": [
    {
     "data": {
      "text/html": [
       "<div>\n",
       "<style>\n",
       "    .dataframe thead tr:only-child th {\n",
       "        text-align: right;\n",
       "    }\n",
       "\n",
       "    .dataframe thead th {\n",
       "        text-align: left;\n",
       "    }\n",
       "\n",
       "    .dataframe tbody tr th {\n",
       "        vertical-align: top;\n",
       "    }\n",
       "</style>\n",
       "<table border=\"1\" class=\"dataframe\">\n",
       "  <thead>\n",
       "    <tr style=\"text-align: right;\">\n",
       "      <th></th>\n",
       "      <th>one</th>\n",
       "      <th>two</th>\n",
       "      <th>three</th>\n",
       "    </tr>\n",
       "  </thead>\n",
       "  <tbody>\n",
       "    <tr>\n",
       "      <th>a</th>\n",
       "      <td>0.0</td>\n",
       "      <td>NaN</td>\n",
       "      <td>NaN</td>\n",
       "    </tr>\n",
       "    <tr>\n",
       "      <th>b</th>\n",
       "      <td>1.0</td>\n",
       "      <td>NaN</td>\n",
       "      <td>NaN</td>\n",
       "    </tr>\n",
       "    <tr>\n",
       "      <th>c</th>\n",
       "      <td>NaN</td>\n",
       "      <td>2.0</td>\n",
       "      <td>NaN</td>\n",
       "    </tr>\n",
       "    <tr>\n",
       "      <th>d</th>\n",
       "      <td>NaN</td>\n",
       "      <td>3.0</td>\n",
       "      <td>NaN</td>\n",
       "    </tr>\n",
       "    <tr>\n",
       "      <th>e</th>\n",
       "      <td>NaN</td>\n",
       "      <td>4.0</td>\n",
       "      <td>NaN</td>\n",
       "    </tr>\n",
       "    <tr>\n",
       "      <th>f</th>\n",
       "      <td>NaN</td>\n",
       "      <td>NaN</td>\n",
       "      <td>5.0</td>\n",
       "    </tr>\n",
       "    <tr>\n",
       "      <th>g</th>\n",
       "      <td>NaN</td>\n",
       "      <td>NaN</td>\n",
       "      <td>6.0</td>\n",
       "    </tr>\n",
       "  </tbody>\n",
       "</table>\n",
       "</div>"
      ],
      "text/plain": [
       "   one  two  three\n",
       "a  0.0  NaN    NaN\n",
       "b  1.0  NaN    NaN\n",
       "c  NaN  2.0    NaN\n",
       "d  NaN  3.0    NaN\n",
       "e  NaN  4.0    NaN\n",
       "f  NaN  NaN    5.0\n",
       "g  NaN  NaN    6.0"
      ]
     },
     "execution_count": 36,
     "metadata": {},
     "output_type": "execute_result"
    }
   ],
   "source": [
    "# 4\n",
    "pd.concat([s1, s2, s3], axis=1, keys=['one', 'two', 'three'])"
   ]
  },
  {
   "cell_type": "code",
   "execution_count": 37,
   "metadata": {
    "collapsed": true
   },
   "outputs": [],
   "source": [
    "df1 = DataFrame(np.arange(6).reshape(3, 2), index=['a', 'b', 'c'],\n",
    "                columns=['one', 'two'])\n",
    "df2 = DataFrame(5 + np.arange(4).reshape(2, 2), index=['a', 'c'],\n",
    "                columns=['three', 'four'])"
   ]
  },
  {
   "cell_type": "code",
   "execution_count": 38,
   "metadata": {},
   "outputs": [
    {
     "data": {
      "text/html": [
       "<div>\n",
       "<style>\n",
       "    .dataframe thead tr:only-child th {\n",
       "        text-align: right;\n",
       "    }\n",
       "\n",
       "    .dataframe thead th {\n",
       "        text-align: left;\n",
       "    }\n",
       "\n",
       "    .dataframe tbody tr th {\n",
       "        vertical-align: top;\n",
       "    }\n",
       "</style>\n",
       "<table border=\"1\" class=\"dataframe\">\n",
       "  <thead>\n",
       "    <tr>\n",
       "      <th></th>\n",
       "      <th colspan=\"2\" halign=\"left\">level1</th>\n",
       "      <th colspan=\"2\" halign=\"left\">level2</th>\n",
       "    </tr>\n",
       "    <tr>\n",
       "      <th></th>\n",
       "      <th>one</th>\n",
       "      <th>two</th>\n",
       "      <th>three</th>\n",
       "      <th>four</th>\n",
       "    </tr>\n",
       "  </thead>\n",
       "  <tbody>\n",
       "    <tr>\n",
       "      <th>a</th>\n",
       "      <td>0</td>\n",
       "      <td>1</td>\n",
       "      <td>5.0</td>\n",
       "      <td>6.0</td>\n",
       "    </tr>\n",
       "    <tr>\n",
       "      <th>b</th>\n",
       "      <td>2</td>\n",
       "      <td>3</td>\n",
       "      <td>NaN</td>\n",
       "      <td>NaN</td>\n",
       "    </tr>\n",
       "    <tr>\n",
       "      <th>c</th>\n",
       "      <td>4</td>\n",
       "      <td>5</td>\n",
       "      <td>7.0</td>\n",
       "      <td>8.0</td>\n",
       "    </tr>\n",
       "  </tbody>\n",
       "</table>\n",
       "</div>"
      ],
      "text/plain": [
       "  level1     level2     \n",
       "     one two  three four\n",
       "a      0   1    5.0  6.0\n",
       "b      2   3    NaN  NaN\n",
       "c      4   5    7.0  8.0"
      ]
     },
     "execution_count": 38,
     "metadata": {},
     "output_type": "execute_result"
    }
   ],
   "source": [
    "pd.concat([df1, df2], axis=1, keys=['level1', 'level2'])"
   ]
  },
  {
   "cell_type": "code",
   "execution_count": 39,
   "metadata": {},
   "outputs": [
    {
     "data": {
      "text/html": [
       "<div>\n",
       "<style>\n",
       "    .dataframe thead tr:only-child th {\n",
       "        text-align: right;\n",
       "    }\n",
       "\n",
       "    .dataframe thead th {\n",
       "        text-align: left;\n",
       "    }\n",
       "\n",
       "    .dataframe tbody tr th {\n",
       "        vertical-align: top;\n",
       "    }\n",
       "</style>\n",
       "<table border=\"1\" class=\"dataframe\">\n",
       "  <thead>\n",
       "    <tr>\n",
       "      <th></th>\n",
       "      <th colspan=\"2\" halign=\"left\">level1</th>\n",
       "      <th colspan=\"2\" halign=\"left\">level2</th>\n",
       "    </tr>\n",
       "    <tr>\n",
       "      <th></th>\n",
       "      <th>one</th>\n",
       "      <th>two</th>\n",
       "      <th>three</th>\n",
       "      <th>four</th>\n",
       "    </tr>\n",
       "  </thead>\n",
       "  <tbody>\n",
       "    <tr>\n",
       "      <th>a</th>\n",
       "      <td>0</td>\n",
       "      <td>1</td>\n",
       "      <td>5.0</td>\n",
       "      <td>6.0</td>\n",
       "    </tr>\n",
       "    <tr>\n",
       "      <th>b</th>\n",
       "      <td>2</td>\n",
       "      <td>3</td>\n",
       "      <td>NaN</td>\n",
       "      <td>NaN</td>\n",
       "    </tr>\n",
       "    <tr>\n",
       "      <th>c</th>\n",
       "      <td>4</td>\n",
       "      <td>5</td>\n",
       "      <td>7.0</td>\n",
       "      <td>8.0</td>\n",
       "    </tr>\n",
       "  </tbody>\n",
       "</table>\n",
       "</div>"
      ],
      "text/plain": [
       "  level1     level2     \n",
       "     one two  three four\n",
       "a      0   1    5.0  6.0\n",
       "b      2   3    NaN  NaN\n",
       "c      4   5    7.0  8.0"
      ]
     },
     "execution_count": 39,
     "metadata": {},
     "output_type": "execute_result"
    }
   ],
   "source": [
    "pd.concat({'level1': df1, 'level2': df2}, axis=1)"
   ]
  },
  {
   "cell_type": "code",
   "execution_count": 40,
   "metadata": {},
   "outputs": [
    {
     "data": {
      "text/html": [
       "<div>\n",
       "<style>\n",
       "    .dataframe thead tr:only-child th {\n",
       "        text-align: right;\n",
       "    }\n",
       "\n",
       "    .dataframe thead th {\n",
       "        text-align: left;\n",
       "    }\n",
       "\n",
       "    .dataframe tbody tr th {\n",
       "        vertical-align: top;\n",
       "    }\n",
       "</style>\n",
       "<table border=\"1\" class=\"dataframe\">\n",
       "  <thead>\n",
       "    <tr>\n",
       "      <th>upper</th>\n",
       "      <th colspan=\"2\" halign=\"left\">level1</th>\n",
       "      <th colspan=\"2\" halign=\"left\">level2</th>\n",
       "    </tr>\n",
       "    <tr>\n",
       "      <th>lower</th>\n",
       "      <th>one</th>\n",
       "      <th>two</th>\n",
       "      <th>three</th>\n",
       "      <th>four</th>\n",
       "    </tr>\n",
       "  </thead>\n",
       "  <tbody>\n",
       "    <tr>\n",
       "      <th>a</th>\n",
       "      <td>0</td>\n",
       "      <td>1</td>\n",
       "      <td>5.0</td>\n",
       "      <td>6.0</td>\n",
       "    </tr>\n",
       "    <tr>\n",
       "      <th>b</th>\n",
       "      <td>2</td>\n",
       "      <td>3</td>\n",
       "      <td>NaN</td>\n",
       "      <td>NaN</td>\n",
       "    </tr>\n",
       "    <tr>\n",
       "      <th>c</th>\n",
       "      <td>4</td>\n",
       "      <td>5</td>\n",
       "      <td>7.0</td>\n",
       "      <td>8.0</td>\n",
       "    </tr>\n",
       "  </tbody>\n",
       "</table>\n",
       "</div>"
      ],
      "text/plain": [
       "upper level1     level2     \n",
       "lower    one two  three four\n",
       "a          0   1    5.0  6.0\n",
       "b          2   3    NaN  NaN\n",
       "c          4   5    7.0  8.0"
      ]
     },
     "execution_count": 40,
     "metadata": {},
     "output_type": "execute_result"
    }
   ],
   "source": [
    "pd.concat([df1, df2], axis=1, keys=['level1', 'level2'],\n",
    "          names=['upper', 'lower'])"
   ]
  },
  {
   "cell_type": "code",
   "execution_count": 41,
   "metadata": {},
   "outputs": [
    {
     "name": "stdout",
     "output_type": "stream",
     "text": [
      "          a         b         c         d\n",
      "0 -0.204708  0.478943 -0.519439 -0.555730\n",
      "1  1.965781  1.393406  0.092908  0.281746\n",
      "2  0.769023  1.246435  1.007189 -1.296221\n",
      "          b         d         a\n",
      "0  0.274992  0.228913  1.352917\n",
      "1  0.886429 -2.001637 -0.371843\n"
     ]
    }
   ],
   "source": [
    "# 5\n",
    "df1 = DataFrame(np.random.randn(3, 4), columns=['a', 'b', 'c', 'd'])\n",
    "df2 = DataFrame(np.random.randn(2, 3), columns=['b', 'd', 'a'])\n",
    "print(df1)\n",
    "print(df2)"
   ]
  },
  {
   "cell_type": "code",
   "execution_count": 42,
   "metadata": {},
   "outputs": [
    {
     "data": {
      "text/html": [
       "<div>\n",
       "<style>\n",
       "    .dataframe thead tr:only-child th {\n",
       "        text-align: right;\n",
       "    }\n",
       "\n",
       "    .dataframe thead th {\n",
       "        text-align: left;\n",
       "    }\n",
       "\n",
       "    .dataframe tbody tr th {\n",
       "        vertical-align: top;\n",
       "    }\n",
       "</style>\n",
       "<table border=\"1\" class=\"dataframe\">\n",
       "  <thead>\n",
       "    <tr style=\"text-align: right;\">\n",
       "      <th></th>\n",
       "      <th>a</th>\n",
       "      <th>b</th>\n",
       "      <th>c</th>\n",
       "      <th>d</th>\n",
       "    </tr>\n",
       "  </thead>\n",
       "  <tbody>\n",
       "    <tr>\n",
       "      <th>0</th>\n",
       "      <td>-0.204708</td>\n",
       "      <td>0.478943</td>\n",
       "      <td>-0.519439</td>\n",
       "      <td>-0.555730</td>\n",
       "    </tr>\n",
       "    <tr>\n",
       "      <th>1</th>\n",
       "      <td>1.965781</td>\n",
       "      <td>1.393406</td>\n",
       "      <td>0.092908</td>\n",
       "      <td>0.281746</td>\n",
       "    </tr>\n",
       "    <tr>\n",
       "      <th>2</th>\n",
       "      <td>0.769023</td>\n",
       "      <td>1.246435</td>\n",
       "      <td>1.007189</td>\n",
       "      <td>-1.296221</td>\n",
       "    </tr>\n",
       "    <tr>\n",
       "      <th>3</th>\n",
       "      <td>1.352917</td>\n",
       "      <td>0.274992</td>\n",
       "      <td>NaN</td>\n",
       "      <td>0.228913</td>\n",
       "    </tr>\n",
       "    <tr>\n",
       "      <th>4</th>\n",
       "      <td>-0.371843</td>\n",
       "      <td>0.886429</td>\n",
       "      <td>NaN</td>\n",
       "      <td>-2.001637</td>\n",
       "    </tr>\n",
       "  </tbody>\n",
       "</table>\n",
       "</div>"
      ],
      "text/plain": [
       "          a         b         c         d\n",
       "0 -0.204708  0.478943 -0.519439 -0.555730\n",
       "1  1.965781  1.393406  0.092908  0.281746\n",
       "2  0.769023  1.246435  1.007189 -1.296221\n",
       "3  1.352917  0.274992       NaN  0.228913\n",
       "4 -0.371843  0.886429       NaN -2.001637"
      ]
     },
     "execution_count": 42,
     "metadata": {},
     "output_type": "execute_result"
    }
   ],
   "source": [
    "pd.concat([df1, df2], ignore_index=True)"
   ]
  },
  {
   "cell_type": "markdown",
   "metadata": {},
   "source": [
    "# 合并重叠数据"
   ]
  },
  {
   "cell_type": "code",
   "execution_count": 43,
   "metadata": {},
   "outputs": [
    {
     "name": "stdout",
     "output_type": "stream",
     "text": [
      "f    NaN\n",
      "e    2.5\n",
      "d    NaN\n",
      "c    3.5\n",
      "b    4.5\n",
      "a    NaN\n",
      "dtype: float64\n",
      "f    0.0\n",
      "e    1.0\n",
      "d    2.0\n",
      "c    3.0\n",
      "b    4.0\n",
      "a    NaN\n",
      "dtype: float64\n"
     ]
    },
    {
     "data": {
      "text/plain": [
       "array([ 0. ,  2.5,  2. ,  3.5,  4.5,  nan])"
      ]
     },
     "execution_count": 43,
     "metadata": {},
     "output_type": "execute_result"
    }
   ],
   "source": [
    "# 1\n",
    "a = Series([np.nan, 2.5, np.nan, 3.5, 4.5, np.nan],\n",
    "           index=['f', 'e', 'd', 'c', 'b', 'a'])\n",
    "b = Series(np.arange(len(a), dtype=np.float64),\n",
    "           index=['f', 'e', 'd', 'c', 'b', 'a'])\n",
    "b[-1] = np.nan\n",
    "\n",
    "print(a)\n",
    "print(b)\n",
    "\n",
    "np.where(pd.isnull(a), b, a)"
   ]
  },
  {
   "cell_type": "code",
   "execution_count": 44,
   "metadata": {},
   "outputs": [
    {
     "data": {
      "text/plain": [
       "a    NaN\n",
       "b    4.5\n",
       "c    3.0\n",
       "d    2.0\n",
       "e    1.0\n",
       "f    0.0\n",
       "dtype: float64"
      ]
     },
     "execution_count": 44,
     "metadata": {},
     "output_type": "execute_result"
    }
   ],
   "source": [
    "# 2\n",
    "b[:-2].combine_first(a[2:])"
   ]
  },
  {
   "cell_type": "code",
   "execution_count": 45,
   "metadata": {},
   "outputs": [
    {
     "data": {
      "text/html": [
       "<div>\n",
       "<style>\n",
       "    .dataframe thead tr:only-child th {\n",
       "        text-align: right;\n",
       "    }\n",
       "\n",
       "    .dataframe thead th {\n",
       "        text-align: left;\n",
       "    }\n",
       "\n",
       "    .dataframe tbody tr th {\n",
       "        vertical-align: top;\n",
       "    }\n",
       "</style>\n",
       "<table border=\"1\" class=\"dataframe\">\n",
       "  <thead>\n",
       "    <tr style=\"text-align: right;\">\n",
       "      <th></th>\n",
       "      <th>a</th>\n",
       "      <th>b</th>\n",
       "      <th>c</th>\n",
       "    </tr>\n",
       "  </thead>\n",
       "  <tbody>\n",
       "    <tr>\n",
       "      <th>0</th>\n",
       "      <td>1.0</td>\n",
       "      <td>NaN</td>\n",
       "      <td>2.0</td>\n",
       "    </tr>\n",
       "    <tr>\n",
       "      <th>1</th>\n",
       "      <td>4.0</td>\n",
       "      <td>2.0</td>\n",
       "      <td>6.0</td>\n",
       "    </tr>\n",
       "    <tr>\n",
       "      <th>2</th>\n",
       "      <td>5.0</td>\n",
       "      <td>4.0</td>\n",
       "      <td>10.0</td>\n",
       "    </tr>\n",
       "    <tr>\n",
       "      <th>3</th>\n",
       "      <td>3.0</td>\n",
       "      <td>6.0</td>\n",
       "      <td>14.0</td>\n",
       "    </tr>\n",
       "    <tr>\n",
       "      <th>4</th>\n",
       "      <td>7.0</td>\n",
       "      <td>8.0</td>\n",
       "      <td>NaN</td>\n",
       "    </tr>\n",
       "  </tbody>\n",
       "</table>\n",
       "</div>"
      ],
      "text/plain": [
       "     a    b     c\n",
       "0  1.0  NaN   2.0\n",
       "1  4.0  2.0   6.0\n",
       "2  5.0  4.0  10.0\n",
       "3  3.0  6.0  14.0\n",
       "4  7.0  8.0   NaN"
      ]
     },
     "execution_count": 45,
     "metadata": {},
     "output_type": "execute_result"
    }
   ],
   "source": [
    "# 3\n",
    "df1 = DataFrame({'a': [1., np.nan, 5., np.nan],\n",
    "                 'b': [np.nan, 2., np.nan, 6.],\n",
    "                 'c': range(2, 18, 4)})\n",
    "df2 = DataFrame({'a': [5., 4., np.nan, 3., 7.],\n",
    "                 'b': [np.nan, 3., 4., 6., 8.]})\n",
    "df1.combine_first(df2)"
   ]
  },
  {
   "cell_type": "markdown",
   "metadata": {
    "collapsed": true
   },
   "source": [
    "# 重塑层次化索引"
   ]
  },
  {
   "cell_type": "code",
   "execution_count": 46,
   "metadata": {},
   "outputs": [
    {
     "name": "stdout",
     "output_type": "stream",
     "text": [
      "number    one  two  three\n",
      "state                    \n",
      "Ohio        0    1      2\n",
      "Colorado    3    4      5\n"
     ]
    }
   ],
   "source": [
    "# 1\n",
    "data = DataFrame(np.arange(6).reshape((2, 3)),\n",
    "                 index=pd.Index(['Ohio', 'Colorado'], name='state'),\n",
    "                 columns=pd.Index(['one', 'two', 'three'], name='number'))\n",
    "print(data)"
   ]
  },
  {
   "cell_type": "code",
   "execution_count": 47,
   "metadata": {},
   "outputs": [
    {
     "name": "stdout",
     "output_type": "stream",
     "text": [
      "state     number\n",
      "Ohio      one       0\n",
      "          two       1\n",
      "          three     2\n",
      "Colorado  one       3\n",
      "          two       4\n",
      "          three     5\n",
      "dtype: int32\n"
     ]
    }
   ],
   "source": [
    "# stack 把 column 转成 index\n",
    "result = data.stack()\n",
    "print(result)"
   ]
  },
  {
   "cell_type": "markdown",
   "metadata": {},
   "source": [
    "![stack](data/stack1.png)"
   ]
  },
  {
   "cell_type": "code",
   "execution_count": 48,
   "metadata": {},
   "outputs": [
    {
     "data": {
      "text/html": [
       "<div>\n",
       "<style>\n",
       "    .dataframe thead tr:only-child th {\n",
       "        text-align: right;\n",
       "    }\n",
       "\n",
       "    .dataframe thead th {\n",
       "        text-align: left;\n",
       "    }\n",
       "\n",
       "    .dataframe tbody tr th {\n",
       "        vertical-align: top;\n",
       "    }\n",
       "</style>\n",
       "<table border=\"1\" class=\"dataframe\">\n",
       "  <thead>\n",
       "    <tr style=\"text-align: right;\">\n",
       "      <th>number</th>\n",
       "      <th>one</th>\n",
       "      <th>two</th>\n",
       "      <th>three</th>\n",
       "    </tr>\n",
       "    <tr>\n",
       "      <th>state</th>\n",
       "      <th></th>\n",
       "      <th></th>\n",
       "      <th></th>\n",
       "    </tr>\n",
       "  </thead>\n",
       "  <tbody>\n",
       "    <tr>\n",
       "      <th>Ohio</th>\n",
       "      <td>0</td>\n",
       "      <td>1</td>\n",
       "      <td>2</td>\n",
       "    </tr>\n",
       "    <tr>\n",
       "      <th>Colorado</th>\n",
       "      <td>3</td>\n",
       "      <td>4</td>\n",
       "      <td>5</td>\n",
       "    </tr>\n",
       "  </tbody>\n",
       "</table>\n",
       "</div>"
      ],
      "text/plain": [
       "number    one  two  three\n",
       "state                    \n",
       "Ohio        0    1      2\n",
       "Colorado    3    4      5"
      ]
     },
     "execution_count": 48,
     "metadata": {},
     "output_type": "execute_result"
    }
   ],
   "source": [
    "# unstack 把 index 转成 column\n",
    "result.unstack()"
   ]
  },
  {
   "cell_type": "markdown",
   "metadata": {},
   "source": [
    "![unstack](data/unstack1.png)"
   ]
  },
  {
   "cell_type": "code",
   "execution_count": 49,
   "metadata": {},
   "outputs": [
    {
     "data": {
      "text/html": [
       "<div>\n",
       "<style>\n",
       "    .dataframe thead tr:only-child th {\n",
       "        text-align: right;\n",
       "    }\n",
       "\n",
       "    .dataframe thead th {\n",
       "        text-align: left;\n",
       "    }\n",
       "\n",
       "    .dataframe tbody tr th {\n",
       "        vertical-align: top;\n",
       "    }\n",
       "</style>\n",
       "<table border=\"1\" class=\"dataframe\">\n",
       "  <thead>\n",
       "    <tr style=\"text-align: right;\">\n",
       "      <th>state</th>\n",
       "      <th>Ohio</th>\n",
       "      <th>Colorado</th>\n",
       "    </tr>\n",
       "    <tr>\n",
       "      <th>number</th>\n",
       "      <th></th>\n",
       "      <th></th>\n",
       "    </tr>\n",
       "  </thead>\n",
       "  <tbody>\n",
       "    <tr>\n",
       "      <th>one</th>\n",
       "      <td>0</td>\n",
       "      <td>3</td>\n",
       "    </tr>\n",
       "    <tr>\n",
       "      <th>two</th>\n",
       "      <td>1</td>\n",
       "      <td>4</td>\n",
       "    </tr>\n",
       "    <tr>\n",
       "      <th>three</th>\n",
       "      <td>2</td>\n",
       "      <td>5</td>\n",
       "    </tr>\n",
       "  </tbody>\n",
       "</table>\n",
       "</div>"
      ],
      "text/plain": [
       "state   Ohio  Colorado\n",
       "number                \n",
       "one        0         3\n",
       "two        1         4\n",
       "three      2         5"
      ]
     },
     "execution_count": 49,
     "metadata": {},
     "output_type": "execute_result"
    }
   ],
   "source": [
    "result.unstack(0)"
   ]
  },
  {
   "cell_type": "code",
   "execution_count": 50,
   "metadata": {},
   "outputs": [
    {
     "data": {
      "text/html": [
       "<div>\n",
       "<style>\n",
       "    .dataframe thead tr:only-child th {\n",
       "        text-align: right;\n",
       "    }\n",
       "\n",
       "    .dataframe thead th {\n",
       "        text-align: left;\n",
       "    }\n",
       "\n",
       "    .dataframe tbody tr th {\n",
       "        vertical-align: top;\n",
       "    }\n",
       "</style>\n",
       "<table border=\"1\" class=\"dataframe\">\n",
       "  <thead>\n",
       "    <tr style=\"text-align: right;\">\n",
       "      <th>state</th>\n",
       "      <th>Ohio</th>\n",
       "      <th>Colorado</th>\n",
       "    </tr>\n",
       "    <tr>\n",
       "      <th>number</th>\n",
       "      <th></th>\n",
       "      <th></th>\n",
       "    </tr>\n",
       "  </thead>\n",
       "  <tbody>\n",
       "    <tr>\n",
       "      <th>one</th>\n",
       "      <td>0</td>\n",
       "      <td>3</td>\n",
       "    </tr>\n",
       "    <tr>\n",
       "      <th>two</th>\n",
       "      <td>1</td>\n",
       "      <td>4</td>\n",
       "    </tr>\n",
       "    <tr>\n",
       "      <th>three</th>\n",
       "      <td>2</td>\n",
       "      <td>5</td>\n",
       "    </tr>\n",
       "  </tbody>\n",
       "</table>\n",
       "</div>"
      ],
      "text/plain": [
       "state   Ohio  Colorado\n",
       "number                \n",
       "one        0         3\n",
       "two        1         4\n",
       "three      2         5"
      ]
     },
     "execution_count": 50,
     "metadata": {},
     "output_type": "execute_result"
    }
   ],
   "source": [
    "result.unstack('state')"
   ]
  },
  {
   "cell_type": "code",
   "execution_count": 51,
   "metadata": {},
   "outputs": [
    {
     "name": "stdout",
     "output_type": "stream",
     "text": [
      "one  a    0\n",
      "     b    1\n",
      "     c    2\n",
      "     d    3\n",
      "two  c    4\n",
      "     d    5\n",
      "     e    6\n",
      "dtype: int64\n"
     ]
    }
   ],
   "source": [
    "# 2\n",
    "s1 = Series([0, 1, 2, 3], index=['a', 'b', 'c', 'd'])\n",
    "s2 = Series([4, 5, 6], index=['c', 'd', 'e'])\n",
    "data2 = pd.concat([s1, s2], keys=['one', 'two'])\n",
    "print(data2)"
   ]
  },
  {
   "cell_type": "code",
   "execution_count": 52,
   "metadata": {
    "collapsed": true
   },
   "outputs": [],
   "source": [
    "# data2.stack() # 没有column 执行会报错"
   ]
  },
  {
   "cell_type": "code",
   "execution_count": 53,
   "metadata": {},
   "outputs": [
    {
     "data": {
      "text/html": [
       "<div>\n",
       "<style>\n",
       "    .dataframe thead tr:only-child th {\n",
       "        text-align: right;\n",
       "    }\n",
       "\n",
       "    .dataframe thead th {\n",
       "        text-align: left;\n",
       "    }\n",
       "\n",
       "    .dataframe tbody tr th {\n",
       "        vertical-align: top;\n",
       "    }\n",
       "</style>\n",
       "<table border=\"1\" class=\"dataframe\">\n",
       "  <thead>\n",
       "    <tr style=\"text-align: right;\">\n",
       "      <th></th>\n",
       "      <th>a</th>\n",
       "      <th>b</th>\n",
       "      <th>c</th>\n",
       "      <th>d</th>\n",
       "      <th>e</th>\n",
       "    </tr>\n",
       "  </thead>\n",
       "  <tbody>\n",
       "    <tr>\n",
       "      <th>one</th>\n",
       "      <td>0.0</td>\n",
       "      <td>1.0</td>\n",
       "      <td>2.0</td>\n",
       "      <td>3.0</td>\n",
       "      <td>NaN</td>\n",
       "    </tr>\n",
       "    <tr>\n",
       "      <th>two</th>\n",
       "      <td>NaN</td>\n",
       "      <td>NaN</td>\n",
       "      <td>4.0</td>\n",
       "      <td>5.0</td>\n",
       "      <td>6.0</td>\n",
       "    </tr>\n",
       "  </tbody>\n",
       "</table>\n",
       "</div>"
      ],
      "text/plain": [
       "       a    b    c    d    e\n",
       "one  0.0  1.0  2.0  3.0  NaN\n",
       "two  NaN  NaN  4.0  5.0  6.0"
      ]
     },
     "execution_count": 53,
     "metadata": {},
     "output_type": "execute_result"
    }
   ],
   "source": [
    "data2.unstack()"
   ]
  },
  {
   "cell_type": "markdown",
   "metadata": {},
   "source": [
    "![stack and unstack](data/unstack2.png)"
   ]
  },
  {
   "cell_type": "code",
   "execution_count": 54,
   "metadata": {},
   "outputs": [
    {
     "data": {
      "text/plain": [
       "one  a    0.0\n",
       "     b    1.0\n",
       "     c    2.0\n",
       "     d    3.0\n",
       "two  c    4.0\n",
       "     d    5.0\n",
       "     e    6.0\n",
       "dtype: float64"
      ]
     },
     "execution_count": 54,
     "metadata": {},
     "output_type": "execute_result"
    }
   ],
   "source": [
    "data2.unstack().stack()"
   ]
  },
  {
   "cell_type": "markdown",
   "metadata": {},
   "source": [
    "![stack and unstack](data/stack2.png)"
   ]
  },
  {
   "cell_type": "code",
   "execution_count": 55,
   "metadata": {},
   "outputs": [
    {
     "data": {
      "text/plain": [
       "one  a    0.0\n",
       "     b    1.0\n",
       "     c    2.0\n",
       "     d    3.0\n",
       "     e    NaN\n",
       "two  a    NaN\n",
       "     b    NaN\n",
       "     c    4.0\n",
       "     d    5.0\n",
       "     e    6.0\n",
       "dtype: float64"
      ]
     },
     "execution_count": 55,
     "metadata": {},
     "output_type": "execute_result"
    }
   ],
   "source": [
    "data2.unstack().stack(dropna=False)"
   ]
  },
  {
   "cell_type": "code",
   "execution_count": 56,
   "metadata": {},
   "outputs": [
    {
     "name": "stdout",
     "output_type": "stream",
     "text": [
      "side             left  right\n",
      "state    number             \n",
      "Ohio     one        0      5\n",
      "         two        1      6\n",
      "         three      2      7\n",
      "Colorado one        3      8\n",
      "         two        4      9\n",
      "         three      5     10\n"
     ]
    }
   ],
   "source": [
    "# 3\n",
    "df = DataFrame({'left': result, 'right': result + 5},\n",
    "               columns=pd.Index(['left', 'right'], name='side'))\n",
    "print(df)"
   ]
  },
  {
   "cell_type": "code",
   "execution_count": 57,
   "metadata": {},
   "outputs": [
    {
     "data": {
      "text/html": [
       "<div>\n",
       "<style>\n",
       "    .dataframe thead tr:only-child th {\n",
       "        text-align: right;\n",
       "    }\n",
       "\n",
       "    .dataframe thead th {\n",
       "        text-align: left;\n",
       "    }\n",
       "\n",
       "    .dataframe tbody tr th {\n",
       "        vertical-align: top;\n",
       "    }\n",
       "</style>\n",
       "<table border=\"1\" class=\"dataframe\">\n",
       "  <thead>\n",
       "    <tr>\n",
       "      <th>side</th>\n",
       "      <th colspan=\"2\" halign=\"left\">left</th>\n",
       "      <th colspan=\"2\" halign=\"left\">right</th>\n",
       "    </tr>\n",
       "    <tr>\n",
       "      <th>state</th>\n",
       "      <th>Ohio</th>\n",
       "      <th>Colorado</th>\n",
       "      <th>Ohio</th>\n",
       "      <th>Colorado</th>\n",
       "    </tr>\n",
       "    <tr>\n",
       "      <th>number</th>\n",
       "      <th></th>\n",
       "      <th></th>\n",
       "      <th></th>\n",
       "      <th></th>\n",
       "    </tr>\n",
       "  </thead>\n",
       "  <tbody>\n",
       "    <tr>\n",
       "      <th>one</th>\n",
       "      <td>0</td>\n",
       "      <td>3</td>\n",
       "      <td>5</td>\n",
       "      <td>8</td>\n",
       "    </tr>\n",
       "    <tr>\n",
       "      <th>two</th>\n",
       "      <td>1</td>\n",
       "      <td>4</td>\n",
       "      <td>6</td>\n",
       "      <td>9</td>\n",
       "    </tr>\n",
       "    <tr>\n",
       "      <th>three</th>\n",
       "      <td>2</td>\n",
       "      <td>5</td>\n",
       "      <td>7</td>\n",
       "      <td>10</td>\n",
       "    </tr>\n",
       "  </tbody>\n",
       "</table>\n",
       "</div>"
      ],
      "text/plain": [
       "side   left          right         \n",
       "state  Ohio Colorado  Ohio Colorado\n",
       "number                             \n",
       "one       0        3     5        8\n",
       "two       1        4     6        9\n",
       "three     2        5     7       10"
      ]
     },
     "execution_count": 57,
     "metadata": {},
     "output_type": "execute_result"
    }
   ],
   "source": [
    "df.unstack('state')"
   ]
  },
  {
   "cell_type": "code",
   "execution_count": 58,
   "metadata": {},
   "outputs": [
    {
     "data": {
      "text/html": [
       "<div>\n",
       "<style>\n",
       "    .dataframe thead tr:only-child th {\n",
       "        text-align: right;\n",
       "    }\n",
       "\n",
       "    .dataframe thead th {\n",
       "        text-align: left;\n",
       "    }\n",
       "\n",
       "    .dataframe tbody tr th {\n",
       "        vertical-align: top;\n",
       "    }\n",
       "</style>\n",
       "<table border=\"1\" class=\"dataframe\">\n",
       "  <thead>\n",
       "    <tr style=\"text-align: right;\">\n",
       "      <th></th>\n",
       "      <th>state</th>\n",
       "      <th>Colorado</th>\n",
       "      <th>Ohio</th>\n",
       "    </tr>\n",
       "    <tr>\n",
       "      <th>number</th>\n",
       "      <th>side</th>\n",
       "      <th></th>\n",
       "      <th></th>\n",
       "    </tr>\n",
       "  </thead>\n",
       "  <tbody>\n",
       "    <tr>\n",
       "      <th rowspan=\"2\" valign=\"top\">one</th>\n",
       "      <th>left</th>\n",
       "      <td>3</td>\n",
       "      <td>0</td>\n",
       "    </tr>\n",
       "    <tr>\n",
       "      <th>right</th>\n",
       "      <td>8</td>\n",
       "      <td>5</td>\n",
       "    </tr>\n",
       "    <tr>\n",
       "      <th rowspan=\"2\" valign=\"top\">two</th>\n",
       "      <th>left</th>\n",
       "      <td>4</td>\n",
       "      <td>1</td>\n",
       "    </tr>\n",
       "    <tr>\n",
       "      <th>right</th>\n",
       "      <td>9</td>\n",
       "      <td>6</td>\n",
       "    </tr>\n",
       "    <tr>\n",
       "      <th rowspan=\"2\" valign=\"top\">three</th>\n",
       "      <th>left</th>\n",
       "      <td>5</td>\n",
       "      <td>2</td>\n",
       "    </tr>\n",
       "    <tr>\n",
       "      <th>right</th>\n",
       "      <td>10</td>\n",
       "      <td>7</td>\n",
       "    </tr>\n",
       "  </tbody>\n",
       "</table>\n",
       "</div>"
      ],
      "text/plain": [
       "state         Colorado  Ohio\n",
       "number side                 \n",
       "one    left          3     0\n",
       "       right         8     5\n",
       "two    left          4     1\n",
       "       right         9     6\n",
       "three  left          5     2\n",
       "       right        10     7"
      ]
     },
     "execution_count": 58,
     "metadata": {},
     "output_type": "execute_result"
    }
   ],
   "source": [
    "df.unstack('state').stack('side')"
   ]
  },
  {
   "cell_type": "markdown",
   "metadata": {
    "collapsed": true
   },
   "source": [
    "# 长宽格式的转换"
   ]
  },
  {
   "cell_type": "code",
   "execution_count": 59,
   "metadata": {},
   "outputs": [
    {
     "name": "stdout",
     "output_type": "stream",
     "text": [
      "       year  quarter    realgdp  realcons   realinv  realgovt  realdpi  \\\n",
      "0    1959.0      1.0   2710.349    1707.4   286.898   470.045   1886.9   \n",
      "1    1959.0      2.0   2778.801    1733.7   310.859   481.301   1919.7   \n",
      "2    1959.0      3.0   2775.488    1751.8   289.226   491.260   1916.4   \n",
      "3    1959.0      4.0   2785.204    1753.7   299.356   484.052   1931.3   \n",
      "4    1960.0      1.0   2847.699    1770.5   331.722   462.199   1955.5   \n",
      "5    1960.0      2.0   2834.390    1792.9   298.152   460.400   1966.1   \n",
      "6    1960.0      3.0   2839.022    1785.8   296.375   474.676   1967.8   \n",
      "7    1960.0      4.0   2802.616    1788.2   259.764   476.434   1966.6   \n",
      "8    1961.0      1.0   2819.264    1787.7   266.405   475.854   1984.5   \n",
      "9    1961.0      2.0   2872.005    1814.3   286.246   480.328   2014.4   \n",
      "10   1961.0      3.0   2918.419    1823.1   310.227   493.828   2041.9   \n",
      "11   1961.0      4.0   2977.830    1859.6   315.463   502.521   2082.0   \n",
      "12   1962.0      1.0   3031.241    1879.4   334.271   520.960   2101.7   \n",
      "13   1962.0      2.0   3064.709    1902.5   331.039   523.066   2125.2   \n",
      "14   1962.0      3.0   3093.047    1917.9   336.962   538.838   2137.0   \n",
      "15   1962.0      4.0   3100.563    1945.1   325.650   535.912   2154.6   \n",
      "16   1963.0      1.0   3141.087    1958.2   343.721   522.917   2172.5   \n",
      "17   1963.0      2.0   3180.447    1976.9   348.730   518.108   2193.1   \n",
      "18   1963.0      3.0   3240.332    2003.8   360.102   546.893   2217.9   \n",
      "19   1963.0      4.0   3264.967    2020.6   364.534   532.383   2254.6   \n",
      "20   1964.0      1.0   3338.246    2060.5   379.523   529.686   2299.6   \n",
      "21   1964.0      2.0   3376.587    2096.7   377.778   526.175   2362.1   \n",
      "22   1964.0      3.0   3422.469    2135.2   386.754   522.008   2392.7   \n",
      "23   1964.0      4.0   3431.957    2141.2   389.910   514.603   2420.4   \n",
      "24   1965.0      1.0   3516.251    2188.8   429.145   508.006   2447.4   \n",
      "25   1965.0      2.0   3563.960    2213.0   429.119   508.931   2474.5   \n",
      "26   1965.0      3.0   3636.285    2251.0   444.444   529.446   2542.6   \n",
      "27   1965.0      4.0   3724.014    2314.3   446.493   544.121   2594.1   \n",
      "28   1966.0      1.0   3815.423    2348.5   484.244   556.593   2618.4   \n",
      "29   1966.0      2.0   3828.124    2354.5   475.408   571.371   2624.7   \n",
      "..      ...      ...        ...       ...       ...       ...      ...   \n",
      "173  2002.0      2.0  11538.770    7997.8  1810.779   774.408   8658.9   \n",
      "174  2002.0      3.0  11596.430    8052.0  1814.531   786.673   8629.2   \n",
      "175  2002.0      4.0  11598.824    8080.6  1813.219   799.967   8649.6   \n",
      "176  2003.0      1.0  11645.819    8122.3  1813.141   800.196   8681.3   \n",
      "177  2003.0      2.0  11738.706    8197.8  1823.698   838.775   8812.5   \n",
      "178  2003.0      3.0  11935.461    8312.1  1889.883   839.598   8935.4   \n",
      "179  2003.0      4.0  12042.817    8358.0  1959.783   845.722   8986.4   \n",
      "180  2004.0      1.0  12127.623    8437.6  1970.015   856.570   9025.9   \n",
      "181  2004.0      2.0  12213.818    8483.2  2055.580   861.440   9115.0   \n",
      "182  2004.0      3.0  12303.533    8555.8  2082.231   876.385   9175.9   \n",
      "183  2004.0      4.0  12410.282    8654.2  2125.152   865.596   9303.4   \n",
      "184  2005.0      1.0  12534.113    8719.0  2170.299   869.204   9189.6   \n",
      "185  2005.0      2.0  12587.535    8802.9  2131.468   870.044   9253.0   \n",
      "186  2005.0      3.0  12683.153    8865.6  2154.949   890.394   9308.0   \n",
      "187  2005.0      4.0  12748.699    8888.5  2232.193   875.557   9358.7   \n",
      "188  2006.0      1.0  12915.938    8986.6  2264.721   900.511   9533.8   \n",
      "189  2006.0      2.0  12962.462    9035.0  2261.247   892.839   9617.3   \n",
      "190  2006.0      3.0  12965.916    9090.7  2229.636   892.002   9662.5   \n",
      "191  2006.0      4.0  13060.679    9181.6  2165.966   894.404   9788.8   \n",
      "192  2007.0      1.0  13099.901    9265.1  2132.609   882.766   9830.2   \n",
      "193  2007.0      2.0  13203.977    9291.5  2162.214   898.713   9842.7   \n",
      "194  2007.0      3.0  13321.109    9335.6  2166.491   918.983   9883.9   \n",
      "195  2007.0      4.0  13391.249    9363.6  2123.426   925.110   9886.2   \n",
      "196  2008.0      1.0  13366.865    9349.6  2082.886   943.372   9826.8   \n",
      "197  2008.0      2.0  13415.266    9351.0  2026.518   961.280  10059.0   \n",
      "198  2008.0      3.0  13324.600    9267.7  1990.693   991.551   9838.3   \n",
      "199  2008.0      4.0  13141.920    9195.3  1857.661  1007.273   9920.4   \n",
      "200  2009.0      1.0  12925.410    9209.2  1558.494   996.287   9926.4   \n",
      "201  2009.0      2.0  12901.504    9189.0  1456.678  1023.528  10077.5   \n",
      "202  2009.0      3.0  12990.341    9256.0  1486.398  1044.088  10040.6   \n",
      "\n",
      "         cpi      m1  tbilrate  unemp      pop  infl  realint  \n",
      "0     28.980   139.7      2.82    5.8  177.146  0.00     0.00  \n",
      "1     29.150   141.7      3.08    5.1  177.830  2.34     0.74  \n",
      "2     29.350   140.5      3.82    5.3  178.657  2.74     1.09  \n",
      "3     29.370   140.0      4.33    5.6  179.386  0.27     4.06  \n",
      "4     29.540   139.6      3.50    5.2  180.007  2.31     1.19  \n",
      "5     29.550   140.2      2.68    5.2  180.671  0.14     2.55  \n",
      "6     29.750   140.9      2.36    5.6  181.528  2.70    -0.34  \n",
      "7     29.840   141.1      2.29    6.3  182.287  1.21     1.08  \n",
      "8     29.810   142.1      2.37    6.8  182.992 -0.40     2.77  \n",
      "9     29.920   142.9      2.29    7.0  183.691  1.47     0.81  \n",
      "10    29.980   144.1      2.32    6.8  184.524  0.80     1.52  \n",
      "11    30.040   145.2      2.60    6.2  185.242  0.80     1.80  \n",
      "12    30.210   146.4      2.73    5.6  185.874  2.26     0.47  \n",
      "13    30.220   146.5      2.78    5.5  186.538  0.13     2.65  \n",
      "14    30.380   146.7      2.78    5.6  187.323  2.11     0.67  \n",
      "15    30.440   148.3      2.87    5.5  188.013  0.79     2.08  \n",
      "16    30.480   149.7      2.90    5.8  188.580  0.53     2.38  \n",
      "17    30.690   151.3      3.03    5.7  189.242  2.75     0.29  \n",
      "18    30.750   152.6      3.38    5.5  190.028  0.78     2.60  \n",
      "19    30.940   153.7      3.52    5.6  190.668  2.46     1.06  \n",
      "20    30.950   154.8      3.51    5.5  191.245  0.13     3.38  \n",
      "21    31.020   156.8      3.47    5.2  191.889  0.90     2.57  \n",
      "22    31.120   159.2      3.53    5.0  192.631  1.29     2.25  \n",
      "23    31.280   160.7      3.76    5.0  193.223  2.05     1.71  \n",
      "24    31.380   162.0      3.93    4.9  193.709  1.28     2.65  \n",
      "25    31.580   163.1      3.84    4.7  194.303  2.54     1.30  \n",
      "26    31.650   166.0      3.93    4.4  194.997  0.89     3.04  \n",
      "27    31.880   169.1      4.35    4.1  195.539  2.90     1.46  \n",
      "28    32.280   171.8      4.62    3.9  195.999  4.99    -0.37  \n",
      "29    32.450   170.3      4.65    3.8  196.560  2.10     2.55  \n",
      "..       ...     ...       ...    ...      ...   ...      ...  \n",
      "173  180.000  1199.5      1.70    5.8  288.028  1.56     0.14  \n",
      "174  181.200  1204.0      1.61    5.7  288.783  2.66    -1.05  \n",
      "175  182.600  1226.8      1.20    5.8  289.421  3.08    -1.88  \n",
      "176  183.200  1248.4      1.14    5.9  290.019  1.31    -0.17  \n",
      "177  183.700  1287.9      0.96    6.2  290.704  1.09    -0.13  \n",
      "178  184.900  1297.3      0.94    6.1  291.449  2.60    -1.67  \n",
      "179  186.300  1306.1      0.90    5.8  292.057  3.02    -2.11  \n",
      "180  187.400  1332.1      0.94    5.7  292.635  2.35    -1.42  \n",
      "181  189.100  1340.5      1.21    5.6  293.310  3.61    -2.41  \n",
      "182  190.800  1361.0      1.63    5.4  294.066  3.58    -1.95  \n",
      "183  191.800  1366.6      2.20    5.4  294.741  2.09     0.11  \n",
      "184  193.800  1357.8      2.69    5.3  295.308  4.15    -1.46  \n",
      "185  194.700  1366.6      3.01    5.1  295.994  1.85     1.16  \n",
      "186  199.200  1375.0      3.52    5.0  296.770  9.14    -5.62  \n",
      "187  199.400  1380.6      4.00    4.9  297.435  0.40     3.60  \n",
      "188  200.700  1380.5      4.51    4.7  298.061  2.60     1.91  \n",
      "189  202.700  1369.2      4.82    4.7  298.766  3.97     0.85  \n",
      "190  201.900  1369.4      4.90    4.7  299.593 -1.58     6.48  \n",
      "191  203.574  1373.6      4.92    4.4  300.320  3.30     1.62  \n",
      "192  205.920  1379.7      4.95    4.5  300.977  4.58     0.36  \n",
      "193  207.338  1370.0      4.72    4.5  301.714  2.75     1.97  \n",
      "194  209.133  1379.2      4.00    4.7  302.509  3.45     0.55  \n",
      "195  212.495  1377.4      3.01    4.8  303.204  6.38    -3.37  \n",
      "196  213.997  1384.0      1.56    4.9  303.803  2.82    -1.26  \n",
      "197  218.610  1409.3      1.74    5.4  304.483  8.53    -6.79  \n",
      "198  216.889  1474.7      1.17    6.0  305.270 -3.16     4.33  \n",
      "199  212.174  1576.5      0.12    6.9  305.952 -8.79     8.91  \n",
      "200  212.671  1592.8      0.22    8.1  306.547  0.94    -0.71  \n",
      "201  214.469  1653.6      0.18    9.2  307.226  3.37    -3.19  \n",
      "202  216.385  1673.9      0.12    9.6  308.013  3.56    -3.44  \n",
      "\n",
      "[203 rows x 14 columns]\n"
     ]
    }
   ],
   "source": [
    "data = pd.read_csv('data/macrodata.csv')\n",
    "print(data)"
   ]
  },
  {
   "cell_type": "code",
   "execution_count": 60,
   "metadata": {},
   "outputs": [
    {
     "name": "stdout",
     "output_type": "stream",
     "text": [
      "PeriodIndex(['1959Q1', '1959Q2', '1959Q3', '1959Q4', '1960Q1', '1960Q2',\n",
      "             '1960Q3', '1960Q4', '1961Q1', '1961Q2',\n",
      "             ...\n",
      "             '2007Q2', '2007Q3', '2007Q4', '2008Q1', '2008Q2', '2008Q3',\n",
      "             '2008Q4', '2009Q1', '2009Q2', '2009Q3'],\n",
      "            dtype='period[Q-DEC]', name='date', length=203, freq='Q-DEC')\n"
     ]
    }
   ],
   "source": [
    "periods = pd.PeriodIndex(year=data.year, quarter=data.quarter, name='date')\n",
    "print(periods)"
   ]
  },
  {
   "cell_type": "code",
   "execution_count": 67,
   "metadata": {},
   "outputs": [
    {
     "name": "stdout",
     "output_type": "stream",
     "text": [
      "item          realgdp  infl  unemp\n",
      "date                              \n",
      "1959-03-31   2710.349  0.00    5.8\n",
      "1959-06-30   2778.801  2.34    5.1\n",
      "1959-09-30   2775.488  2.74    5.3\n",
      "1959-12-31   2785.204  0.27    5.6\n",
      "1960-03-31   2847.699  2.31    5.2\n",
      "1960-06-30   2834.390  0.14    5.2\n",
      "1960-09-30   2839.022  2.70    5.6\n",
      "1960-12-31   2802.616  1.21    6.3\n",
      "1961-03-31   2819.264 -0.40    6.8\n",
      "1961-06-30   2872.005  1.47    7.0\n",
      "1961-09-30   2918.419  0.80    6.8\n",
      "1961-12-31   2977.830  0.80    6.2\n",
      "1962-03-31   3031.241  2.26    5.6\n",
      "1962-06-30   3064.709  0.13    5.5\n",
      "1962-09-30   3093.047  2.11    5.6\n",
      "1962-12-31   3100.563  0.79    5.5\n",
      "1963-03-31   3141.087  0.53    5.8\n",
      "1963-06-30   3180.447  2.75    5.7\n",
      "1963-09-30   3240.332  0.78    5.5\n",
      "1963-12-31   3264.967  2.46    5.6\n",
      "1964-03-31   3338.246  0.13    5.5\n",
      "1964-06-30   3376.587  0.90    5.2\n",
      "1964-09-30   3422.469  1.29    5.0\n",
      "1964-12-31   3431.957  2.05    5.0\n",
      "1965-03-31   3516.251  1.28    4.9\n",
      "1965-06-30   3563.960  2.54    4.7\n",
      "1965-09-30   3636.285  0.89    4.4\n",
      "1965-12-31   3724.014  2.90    4.1\n",
      "1966-03-31   3815.423  4.99    3.9\n",
      "1966-06-30   3828.124  2.10    3.8\n",
      "...               ...   ...    ...\n",
      "2002-06-30  11538.770  1.56    5.8\n",
      "2002-09-30  11596.430  2.66    5.7\n",
      "2002-12-31  11598.824  3.08    5.8\n",
      "2003-03-31  11645.819  1.31    5.9\n",
      "2003-06-30  11738.706  1.09    6.2\n",
      "2003-09-30  11935.461  2.60    6.1\n",
      "2003-12-31  12042.817  3.02    5.8\n",
      "2004-03-31  12127.623  2.35    5.7\n",
      "2004-06-30  12213.818  3.61    5.6\n",
      "2004-09-30  12303.533  3.58    5.4\n",
      "2004-12-31  12410.282  2.09    5.4\n",
      "2005-03-31  12534.113  4.15    5.3\n",
      "2005-06-30  12587.535  1.85    5.1\n",
      "2005-09-30  12683.153  9.14    5.0\n",
      "2005-12-31  12748.699  0.40    4.9\n",
      "2006-03-31  12915.938  2.60    4.7\n",
      "2006-06-30  12962.462  3.97    4.7\n",
      "2006-09-30  12965.916 -1.58    4.7\n",
      "2006-12-31  13060.679  3.30    4.4\n",
      "2007-03-31  13099.901  4.58    4.5\n",
      "2007-06-30  13203.977  2.75    4.5\n",
      "2007-09-30  13321.109  3.45    4.7\n",
      "2007-12-31  13391.249  6.38    4.8\n",
      "2008-03-31  13366.865  2.82    4.9\n",
      "2008-06-30  13415.266  8.53    5.4\n",
      "2008-09-30  13324.600 -3.16    6.0\n",
      "2008-12-31  13141.920 -8.79    6.9\n",
      "2009-03-31  12925.410  0.94    8.1\n",
      "2009-06-30  12901.504  3.37    9.2\n",
      "2009-09-30  12990.341  3.56    9.6\n",
      "\n",
      "[203 rows x 3 columns]\n"
     ]
    }
   ],
   "source": [
    "data = DataFrame(data.to_records(),\n",
    "                 columns=pd.Index(['realgdp', 'infl', 'unemp'], name='item'),\n",
    "                 index=periods.to_timestamp('D', 'end'))\n",
    "print(data)"
   ]
  },
  {
   "cell_type": "code",
   "execution_count": 68,
   "metadata": {
    "scrolled": true
   },
   "outputs": [
    {
     "name": "stdout",
     "output_type": "stream",
     "text": [
      "          date     item      value\n",
      "0   1959-03-31  realgdp   2710.349\n",
      "1   1959-03-31     infl      0.000\n",
      "2   1959-03-31    unemp      5.800\n",
      "3   1959-06-30  realgdp   2778.801\n",
      "4   1959-06-30     infl      2.340\n",
      "5   1959-06-30    unemp      5.100\n",
      "6   1959-09-30  realgdp   2775.488\n",
      "7   1959-09-30     infl      2.740\n",
      "8   1959-09-30    unemp      5.300\n",
      "9   1959-12-31  realgdp   2785.204\n",
      "10  1959-12-31     infl      0.270\n",
      "11  1959-12-31    unemp      5.600\n",
      "12  1960-03-31  realgdp   2847.699\n",
      "13  1960-03-31     infl      2.310\n",
      "14  1960-03-31    unemp      5.200\n",
      "15  1960-06-30  realgdp   2834.390\n",
      "16  1960-06-30     infl      0.140\n",
      "17  1960-06-30    unemp      5.200\n",
      "18  1960-09-30  realgdp   2839.022\n",
      "19  1960-09-30     infl      2.700\n",
      "20  1960-09-30    unemp      5.600\n",
      "21  1960-12-31  realgdp   2802.616\n",
      "22  1960-12-31     infl      1.210\n",
      "23  1960-12-31    unemp      6.300\n",
      "24  1961-03-31  realgdp   2819.264\n",
      "25  1961-03-31     infl     -0.400\n",
      "26  1961-03-31    unemp      6.800\n",
      "27  1961-06-30  realgdp   2872.005\n",
      "28  1961-06-30     infl      1.470\n",
      "29  1961-06-30    unemp      7.000\n",
      "..         ...      ...        ...\n",
      "579 2007-06-30  realgdp  13203.977\n",
      "580 2007-06-30     infl      2.750\n",
      "581 2007-06-30    unemp      4.500\n",
      "582 2007-09-30  realgdp  13321.109\n",
      "583 2007-09-30     infl      3.450\n",
      "584 2007-09-30    unemp      4.700\n",
      "585 2007-12-31  realgdp  13391.249\n",
      "586 2007-12-31     infl      6.380\n",
      "587 2007-12-31    unemp      4.800\n",
      "588 2008-03-31  realgdp  13366.865\n",
      "589 2008-03-31     infl      2.820\n",
      "590 2008-03-31    unemp      4.900\n",
      "591 2008-06-30  realgdp  13415.266\n",
      "592 2008-06-30     infl      8.530\n",
      "593 2008-06-30    unemp      5.400\n",
      "594 2008-09-30  realgdp  13324.600\n",
      "595 2008-09-30     infl     -3.160\n",
      "596 2008-09-30    unemp      6.000\n",
      "597 2008-12-31  realgdp  13141.920\n",
      "598 2008-12-31     infl     -8.790\n",
      "599 2008-12-31    unemp      6.900\n",
      "600 2009-03-31  realgdp  12925.410\n",
      "601 2009-03-31     infl      0.940\n",
      "602 2009-03-31    unemp      8.100\n",
      "603 2009-06-30  realgdp  12901.504\n",
      "604 2009-06-30     infl      3.370\n",
      "605 2009-06-30    unemp      9.200\n",
      "606 2009-09-30  realgdp  12990.341\n",
      "607 2009-09-30     infl      3.560\n",
      "608 2009-09-30    unemp      9.600\n",
      "\n",
      "[609 rows x 3 columns]\n"
     ]
    }
   ],
   "source": [
    "ldata = data.stack().reset_index().rename(columns={0: 'value'})\n",
    "print(ldata)"
   ]
  },
  {
   "cell_type": "code",
   "execution_count": 69,
   "metadata": {
    "scrolled": true
   },
   "outputs": [
    {
     "name": "stdout",
     "output_type": "stream",
     "text": [
      "item        infl    realgdp  unemp\n",
      "date                              \n",
      "1959-03-31  0.00   2710.349    5.8\n",
      "1959-06-30  2.34   2778.801    5.1\n",
      "1959-09-30  2.74   2775.488    5.3\n",
      "1959-12-31  0.27   2785.204    5.6\n",
      "1960-03-31  2.31   2847.699    5.2\n",
      "1960-06-30  0.14   2834.390    5.2\n",
      "1960-09-30  2.70   2839.022    5.6\n",
      "1960-12-31  1.21   2802.616    6.3\n",
      "1961-03-31 -0.40   2819.264    6.8\n",
      "1961-06-30  1.47   2872.005    7.0\n",
      "1961-09-30  0.80   2918.419    6.8\n",
      "1961-12-31  0.80   2977.830    6.2\n",
      "1962-03-31  2.26   3031.241    5.6\n",
      "1962-06-30  0.13   3064.709    5.5\n",
      "1962-09-30  2.11   3093.047    5.6\n",
      "1962-12-31  0.79   3100.563    5.5\n",
      "1963-03-31  0.53   3141.087    5.8\n",
      "1963-06-30  2.75   3180.447    5.7\n",
      "1963-09-30  0.78   3240.332    5.5\n",
      "1963-12-31  2.46   3264.967    5.6\n",
      "1964-03-31  0.13   3338.246    5.5\n",
      "1964-06-30  0.90   3376.587    5.2\n",
      "1964-09-30  1.29   3422.469    5.0\n",
      "1964-12-31  2.05   3431.957    5.0\n",
      "1965-03-31  1.28   3516.251    4.9\n",
      "1965-06-30  2.54   3563.960    4.7\n",
      "1965-09-30  0.89   3636.285    4.4\n",
      "1965-12-31  2.90   3724.014    4.1\n",
      "1966-03-31  4.99   3815.423    3.9\n",
      "1966-06-30  2.10   3828.124    3.8\n",
      "...          ...        ...    ...\n",
      "2002-06-30  1.56  11538.770    5.8\n",
      "2002-09-30  2.66  11596.430    5.7\n",
      "2002-12-31  3.08  11598.824    5.8\n",
      "2003-03-31  1.31  11645.819    5.9\n",
      "2003-06-30  1.09  11738.706    6.2\n",
      "2003-09-30  2.60  11935.461    6.1\n",
      "2003-12-31  3.02  12042.817    5.8\n",
      "2004-03-31  2.35  12127.623    5.7\n",
      "2004-06-30  3.61  12213.818    5.6\n",
      "2004-09-30  3.58  12303.533    5.4\n",
      "2004-12-31  2.09  12410.282    5.4\n",
      "2005-03-31  4.15  12534.113    5.3\n",
      "2005-06-30  1.85  12587.535    5.1\n",
      "2005-09-30  9.14  12683.153    5.0\n",
      "2005-12-31  0.40  12748.699    4.9\n",
      "2006-03-31  2.60  12915.938    4.7\n",
      "2006-06-30  3.97  12962.462    4.7\n",
      "2006-09-30 -1.58  12965.916    4.7\n",
      "2006-12-31  3.30  13060.679    4.4\n",
      "2007-03-31  4.58  13099.901    4.5\n",
      "2007-06-30  2.75  13203.977    4.5\n",
      "2007-09-30  3.45  13321.109    4.7\n",
      "2007-12-31  6.38  13391.249    4.8\n",
      "2008-03-31  2.82  13366.865    4.9\n",
      "2008-06-30  8.53  13415.266    5.4\n",
      "2008-09-30 -3.16  13324.600    6.0\n",
      "2008-12-31 -8.79  13141.920    6.9\n",
      "2009-03-31  0.94  12925.410    8.1\n",
      "2009-06-30  3.37  12901.504    9.2\n",
      "2009-09-30  3.56  12990.341    9.6\n",
      "\n",
      "[203 rows x 3 columns]\n"
     ]
    }
   ],
   "source": [
    "wdata = ldata.pivot(index='date',columns= 'item',values= 'value')\n",
    "print(wdata)"
   ]
  },
  {
   "cell_type": "code",
   "execution_count": 70,
   "metadata": {},
   "outputs": [
    {
     "data": {
      "text/html": [
       "<div>\n",
       "<style>\n",
       "    .dataframe thead tr:only-child th {\n",
       "        text-align: right;\n",
       "    }\n",
       "\n",
       "    .dataframe thead th {\n",
       "        text-align: left;\n",
       "    }\n",
       "\n",
       "    .dataframe tbody tr th {\n",
       "        vertical-align: top;\n",
       "    }\n",
       "</style>\n",
       "<table border=\"1\" class=\"dataframe\">\n",
       "  <thead>\n",
       "    <tr style=\"text-align: right;\">\n",
       "      <th></th>\n",
       "      <th>date</th>\n",
       "      <th>item</th>\n",
       "      <th>value</th>\n",
       "    </tr>\n",
       "  </thead>\n",
       "  <tbody>\n",
       "    <tr>\n",
       "      <th>0</th>\n",
       "      <td>1959-03-31</td>\n",
       "      <td>realgdp</td>\n",
       "      <td>2710.349</td>\n",
       "    </tr>\n",
       "    <tr>\n",
       "      <th>1</th>\n",
       "      <td>1959-03-31</td>\n",
       "      <td>infl</td>\n",
       "      <td>0.000</td>\n",
       "    </tr>\n",
       "    <tr>\n",
       "      <th>2</th>\n",
       "      <td>1959-03-31</td>\n",
       "      <td>unemp</td>\n",
       "      <td>5.800</td>\n",
       "    </tr>\n",
       "    <tr>\n",
       "      <th>3</th>\n",
       "      <td>1959-06-30</td>\n",
       "      <td>realgdp</td>\n",
       "      <td>2778.801</td>\n",
       "    </tr>\n",
       "    <tr>\n",
       "      <th>4</th>\n",
       "      <td>1959-06-30</td>\n",
       "      <td>infl</td>\n",
       "      <td>2.340</td>\n",
       "    </tr>\n",
       "    <tr>\n",
       "      <th>5</th>\n",
       "      <td>1959-06-30</td>\n",
       "      <td>unemp</td>\n",
       "      <td>5.100</td>\n",
       "    </tr>\n",
       "    <tr>\n",
       "      <th>6</th>\n",
       "      <td>1959-09-30</td>\n",
       "      <td>realgdp</td>\n",
       "      <td>2775.488</td>\n",
       "    </tr>\n",
       "    <tr>\n",
       "      <th>7</th>\n",
       "      <td>1959-09-30</td>\n",
       "      <td>infl</td>\n",
       "      <td>2.740</td>\n",
       "    </tr>\n",
       "    <tr>\n",
       "      <th>8</th>\n",
       "      <td>1959-09-30</td>\n",
       "      <td>unemp</td>\n",
       "      <td>5.300</td>\n",
       "    </tr>\n",
       "    <tr>\n",
       "      <th>9</th>\n",
       "      <td>1959-12-31</td>\n",
       "      <td>realgdp</td>\n",
       "      <td>2785.204</td>\n",
       "    </tr>\n",
       "  </tbody>\n",
       "</table>\n",
       "</div>"
      ],
      "text/plain": [
       "        date     item     value\n",
       "0 1959-03-31  realgdp  2710.349\n",
       "1 1959-03-31     infl     0.000\n",
       "2 1959-03-31    unemp     5.800\n",
       "3 1959-06-30  realgdp  2778.801\n",
       "4 1959-06-30     infl     2.340\n",
       "5 1959-06-30    unemp     5.100\n",
       "6 1959-09-30  realgdp  2775.488\n",
       "7 1959-09-30     infl     2.740\n",
       "8 1959-09-30    unemp     5.300\n",
       "9 1959-12-31  realgdp  2785.204"
      ]
     },
     "execution_count": 70,
     "metadata": {},
     "output_type": "execute_result"
    }
   ],
   "source": [
    "# 2\n",
    "ldata[:10]"
   ]
  },
  {
   "cell_type": "code",
   "execution_count": 71,
   "metadata": {},
   "outputs": [
    {
     "data": {
      "text/html": [
       "<div>\n",
       "<style>\n",
       "    .dataframe thead tr:only-child th {\n",
       "        text-align: right;\n",
       "    }\n",
       "\n",
       "    .dataframe thead th {\n",
       "        text-align: left;\n",
       "    }\n",
       "\n",
       "    .dataframe tbody tr th {\n",
       "        vertical-align: top;\n",
       "    }\n",
       "</style>\n",
       "<table border=\"1\" class=\"dataframe\">\n",
       "  <thead>\n",
       "    <tr style=\"text-align: right;\">\n",
       "      <th>item</th>\n",
       "      <th>infl</th>\n",
       "      <th>realgdp</th>\n",
       "      <th>unemp</th>\n",
       "    </tr>\n",
       "    <tr>\n",
       "      <th>date</th>\n",
       "      <th></th>\n",
       "      <th></th>\n",
       "      <th></th>\n",
       "    </tr>\n",
       "  </thead>\n",
       "  <tbody>\n",
       "    <tr>\n",
       "      <th>1959-03-31</th>\n",
       "      <td>0.00</td>\n",
       "      <td>2710.349</td>\n",
       "      <td>5.8</td>\n",
       "    </tr>\n",
       "    <tr>\n",
       "      <th>1959-06-30</th>\n",
       "      <td>2.34</td>\n",
       "      <td>2778.801</td>\n",
       "      <td>5.1</td>\n",
       "    </tr>\n",
       "    <tr>\n",
       "      <th>1959-09-30</th>\n",
       "      <td>2.74</td>\n",
       "      <td>2775.488</td>\n",
       "      <td>5.3</td>\n",
       "    </tr>\n",
       "    <tr>\n",
       "      <th>1959-12-31</th>\n",
       "      <td>0.27</td>\n",
       "      <td>2785.204</td>\n",
       "      <td>5.6</td>\n",
       "    </tr>\n",
       "    <tr>\n",
       "      <th>1960-03-31</th>\n",
       "      <td>2.31</td>\n",
       "      <td>2847.699</td>\n",
       "      <td>5.2</td>\n",
       "    </tr>\n",
       "  </tbody>\n",
       "</table>\n",
       "</div>"
      ],
      "text/plain": [
       "item        infl   realgdp  unemp\n",
       "date                             \n",
       "1959-03-31  0.00  2710.349    5.8\n",
       "1959-06-30  2.34  2778.801    5.1\n",
       "1959-09-30  2.74  2775.488    5.3\n",
       "1959-12-31  0.27  2785.204    5.6\n",
       "1960-03-31  2.31  2847.699    5.2"
      ]
     },
     "execution_count": 71,
     "metadata": {},
     "output_type": "execute_result"
    }
   ],
   "source": [
    "pivoted = ldata.pivot('date', 'item', 'value')\n",
    "pivoted.head()"
   ]
  },
  {
   "cell_type": "code",
   "execution_count": 72,
   "metadata": {},
   "outputs": [
    {
     "data": {
      "text/html": [
       "<div>\n",
       "<style>\n",
       "    .dataframe thead tr:only-child th {\n",
       "        text-align: right;\n",
       "    }\n",
       "\n",
       "    .dataframe thead th {\n",
       "        text-align: left;\n",
       "    }\n",
       "\n",
       "    .dataframe tbody tr th {\n",
       "        vertical-align: top;\n",
       "    }\n",
       "</style>\n",
       "<table border=\"1\" class=\"dataframe\">\n",
       "  <thead>\n",
       "    <tr style=\"text-align: right;\">\n",
       "      <th></th>\n",
       "      <th>date</th>\n",
       "      <th>item</th>\n",
       "      <th>value</th>\n",
       "      <th>value2</th>\n",
       "    </tr>\n",
       "  </thead>\n",
       "  <tbody>\n",
       "    <tr>\n",
       "      <th>0</th>\n",
       "      <td>1959-03-31</td>\n",
       "      <td>realgdp</td>\n",
       "      <td>2710.349</td>\n",
       "      <td>1.669025</td>\n",
       "    </tr>\n",
       "    <tr>\n",
       "      <th>1</th>\n",
       "      <td>1959-03-31</td>\n",
       "      <td>infl</td>\n",
       "      <td>0.000</td>\n",
       "      <td>-0.438570</td>\n",
       "    </tr>\n",
       "    <tr>\n",
       "      <th>2</th>\n",
       "      <td>1959-03-31</td>\n",
       "      <td>unemp</td>\n",
       "      <td>5.800</td>\n",
       "      <td>-0.539741</td>\n",
       "    </tr>\n",
       "    <tr>\n",
       "      <th>3</th>\n",
       "      <td>1959-06-30</td>\n",
       "      <td>realgdp</td>\n",
       "      <td>2778.801</td>\n",
       "      <td>0.476985</td>\n",
       "    </tr>\n",
       "    <tr>\n",
       "      <th>4</th>\n",
       "      <td>1959-06-30</td>\n",
       "      <td>infl</td>\n",
       "      <td>2.340</td>\n",
       "      <td>3.248944</td>\n",
       "    </tr>\n",
       "    <tr>\n",
       "      <th>5</th>\n",
       "      <td>1959-06-30</td>\n",
       "      <td>unemp</td>\n",
       "      <td>5.100</td>\n",
       "      <td>-1.021228</td>\n",
       "    </tr>\n",
       "    <tr>\n",
       "      <th>6</th>\n",
       "      <td>1959-09-30</td>\n",
       "      <td>realgdp</td>\n",
       "      <td>2775.488</td>\n",
       "      <td>-0.577087</td>\n",
       "    </tr>\n",
       "    <tr>\n",
       "      <th>7</th>\n",
       "      <td>1959-09-30</td>\n",
       "      <td>infl</td>\n",
       "      <td>2.740</td>\n",
       "      <td>0.124121</td>\n",
       "    </tr>\n",
       "    <tr>\n",
       "      <th>8</th>\n",
       "      <td>1959-09-30</td>\n",
       "      <td>unemp</td>\n",
       "      <td>5.300</td>\n",
       "      <td>0.302614</td>\n",
       "    </tr>\n",
       "    <tr>\n",
       "      <th>9</th>\n",
       "      <td>1959-12-31</td>\n",
       "      <td>realgdp</td>\n",
       "      <td>2785.204</td>\n",
       "      <td>0.523772</td>\n",
       "    </tr>\n",
       "  </tbody>\n",
       "</table>\n",
       "</div>"
      ],
      "text/plain": [
       "        date     item     value    value2\n",
       "0 1959-03-31  realgdp  2710.349  1.669025\n",
       "1 1959-03-31     infl     0.000 -0.438570\n",
       "2 1959-03-31    unemp     5.800 -0.539741\n",
       "3 1959-06-30  realgdp  2778.801  0.476985\n",
       "4 1959-06-30     infl     2.340  3.248944\n",
       "5 1959-06-30    unemp     5.100 -1.021228\n",
       "6 1959-09-30  realgdp  2775.488 -0.577087\n",
       "7 1959-09-30     infl     2.740  0.124121\n",
       "8 1959-09-30    unemp     5.300  0.302614\n",
       "9 1959-12-31  realgdp  2785.204  0.523772"
      ]
     },
     "execution_count": 72,
     "metadata": {},
     "output_type": "execute_result"
    }
   ],
   "source": [
    "ldata['value2'] = np.random.randn(len(ldata))\n",
    "ldata[:10]"
   ]
  },
  {
   "cell_type": "code",
   "execution_count": 73,
   "metadata": {},
   "outputs": [
    {
     "data": {
      "text/html": [
       "<div>\n",
       "<style>\n",
       "    .dataframe thead tr:only-child th {\n",
       "        text-align: right;\n",
       "    }\n",
       "\n",
       "    .dataframe thead th {\n",
       "        text-align: left;\n",
       "    }\n",
       "\n",
       "    .dataframe tbody tr th {\n",
       "        vertical-align: top;\n",
       "    }\n",
       "</style>\n",
       "<table border=\"1\" class=\"dataframe\">\n",
       "  <thead>\n",
       "    <tr>\n",
       "      <th></th>\n",
       "      <th colspan=\"3\" halign=\"left\">value</th>\n",
       "      <th colspan=\"3\" halign=\"left\">value2</th>\n",
       "    </tr>\n",
       "    <tr>\n",
       "      <th>item</th>\n",
       "      <th>infl</th>\n",
       "      <th>realgdp</th>\n",
       "      <th>unemp</th>\n",
       "      <th>infl</th>\n",
       "      <th>realgdp</th>\n",
       "      <th>unemp</th>\n",
       "    </tr>\n",
       "    <tr>\n",
       "      <th>date</th>\n",
       "      <th></th>\n",
       "      <th></th>\n",
       "      <th></th>\n",
       "      <th></th>\n",
       "      <th></th>\n",
       "      <th></th>\n",
       "    </tr>\n",
       "  </thead>\n",
       "  <tbody>\n",
       "    <tr>\n",
       "      <th>1959-03-31</th>\n",
       "      <td>0.00</td>\n",
       "      <td>2710.349</td>\n",
       "      <td>5.8</td>\n",
       "      <td>-0.438570</td>\n",
       "      <td>1.669025</td>\n",
       "      <td>-0.539741</td>\n",
       "    </tr>\n",
       "    <tr>\n",
       "      <th>1959-06-30</th>\n",
       "      <td>2.34</td>\n",
       "      <td>2778.801</td>\n",
       "      <td>5.1</td>\n",
       "      <td>3.248944</td>\n",
       "      <td>0.476985</td>\n",
       "      <td>-1.021228</td>\n",
       "    </tr>\n",
       "    <tr>\n",
       "      <th>1959-09-30</th>\n",
       "      <td>2.74</td>\n",
       "      <td>2775.488</td>\n",
       "      <td>5.3</td>\n",
       "      <td>0.124121</td>\n",
       "      <td>-0.577087</td>\n",
       "      <td>0.302614</td>\n",
       "    </tr>\n",
       "    <tr>\n",
       "      <th>1959-12-31</th>\n",
       "      <td>0.27</td>\n",
       "      <td>2785.204</td>\n",
       "      <td>5.6</td>\n",
       "      <td>0.000940</td>\n",
       "      <td>0.523772</td>\n",
       "      <td>1.343810</td>\n",
       "    </tr>\n",
       "    <tr>\n",
       "      <th>1960-03-31</th>\n",
       "      <td>2.31</td>\n",
       "      <td>2847.699</td>\n",
       "      <td>5.2</td>\n",
       "      <td>-0.831154</td>\n",
       "      <td>-0.713544</td>\n",
       "      <td>-2.370232</td>\n",
       "    </tr>\n",
       "  </tbody>\n",
       "</table>\n",
       "</div>"
      ],
      "text/plain": [
       "           value                    value2                    \n",
       "item        infl   realgdp unemp      infl   realgdp     unemp\n",
       "date                                                          \n",
       "1959-03-31  0.00  2710.349   5.8 -0.438570  1.669025 -0.539741\n",
       "1959-06-30  2.34  2778.801   5.1  3.248944  0.476985 -1.021228\n",
       "1959-09-30  2.74  2775.488   5.3  0.124121 -0.577087  0.302614\n",
       "1959-12-31  0.27  2785.204   5.6  0.000940  0.523772  1.343810\n",
       "1960-03-31  2.31  2847.699   5.2 -0.831154 -0.713544 -2.370232"
      ]
     },
     "execution_count": 73,
     "metadata": {},
     "output_type": "execute_result"
    }
   ],
   "source": [
    "pivoted = ldata.pivot('date', 'item')\n",
    "pivoted[:5]"
   ]
  },
  {
   "cell_type": "code",
   "execution_count": 74,
   "metadata": {},
   "outputs": [
    {
     "data": {
      "text/html": [
       "<div>\n",
       "<style>\n",
       "    .dataframe thead tr:only-child th {\n",
       "        text-align: right;\n",
       "    }\n",
       "\n",
       "    .dataframe thead th {\n",
       "        text-align: left;\n",
       "    }\n",
       "\n",
       "    .dataframe tbody tr th {\n",
       "        vertical-align: top;\n",
       "    }\n",
       "</style>\n",
       "<table border=\"1\" class=\"dataframe\">\n",
       "  <thead>\n",
       "    <tr style=\"text-align: right;\">\n",
       "      <th>item</th>\n",
       "      <th>infl</th>\n",
       "      <th>realgdp</th>\n",
       "      <th>unemp</th>\n",
       "    </tr>\n",
       "    <tr>\n",
       "      <th>date</th>\n",
       "      <th></th>\n",
       "      <th></th>\n",
       "      <th></th>\n",
       "    </tr>\n",
       "  </thead>\n",
       "  <tbody>\n",
       "    <tr>\n",
       "      <th>1959-03-31</th>\n",
       "      <td>0.00</td>\n",
       "      <td>2710.349</td>\n",
       "      <td>5.8</td>\n",
       "    </tr>\n",
       "    <tr>\n",
       "      <th>1959-06-30</th>\n",
       "      <td>2.34</td>\n",
       "      <td>2778.801</td>\n",
       "      <td>5.1</td>\n",
       "    </tr>\n",
       "    <tr>\n",
       "      <th>1959-09-30</th>\n",
       "      <td>2.74</td>\n",
       "      <td>2775.488</td>\n",
       "      <td>5.3</td>\n",
       "    </tr>\n",
       "    <tr>\n",
       "      <th>1959-12-31</th>\n",
       "      <td>0.27</td>\n",
       "      <td>2785.204</td>\n",
       "      <td>5.6</td>\n",
       "    </tr>\n",
       "    <tr>\n",
       "      <th>1960-03-31</th>\n",
       "      <td>2.31</td>\n",
       "      <td>2847.699</td>\n",
       "      <td>5.2</td>\n",
       "    </tr>\n",
       "  </tbody>\n",
       "</table>\n",
       "</div>"
      ],
      "text/plain": [
       "item        infl   realgdp  unemp\n",
       "date                             \n",
       "1959-03-31  0.00  2710.349    5.8\n",
       "1959-06-30  2.34  2778.801    5.1\n",
       "1959-09-30  2.74  2775.488    5.3\n",
       "1959-12-31  0.27  2785.204    5.6\n",
       "1960-03-31  2.31  2847.699    5.2"
      ]
     },
     "execution_count": 74,
     "metadata": {},
     "output_type": "execute_result"
    }
   ],
   "source": [
    "pivoted['value'][:5]"
   ]
  },
  {
   "cell_type": "code",
   "execution_count": 75,
   "metadata": {},
   "outputs": [
    {
     "data": {
      "text/html": [
       "<div>\n",
       "<style>\n",
       "    .dataframe thead tr:only-child th {\n",
       "        text-align: right;\n",
       "    }\n",
       "\n",
       "    .dataframe thead th {\n",
       "        text-align: left;\n",
       "    }\n",
       "\n",
       "    .dataframe tbody tr th {\n",
       "        vertical-align: top;\n",
       "    }\n",
       "</style>\n",
       "<table border=\"1\" class=\"dataframe\">\n",
       "  <thead>\n",
       "    <tr>\n",
       "      <th></th>\n",
       "      <th colspan=\"3\" halign=\"left\">value</th>\n",
       "      <th colspan=\"3\" halign=\"left\">value2</th>\n",
       "    </tr>\n",
       "    <tr>\n",
       "      <th>item</th>\n",
       "      <th>infl</th>\n",
       "      <th>realgdp</th>\n",
       "      <th>unemp</th>\n",
       "      <th>infl</th>\n",
       "      <th>realgdp</th>\n",
       "      <th>unemp</th>\n",
       "    </tr>\n",
       "    <tr>\n",
       "      <th>date</th>\n",
       "      <th></th>\n",
       "      <th></th>\n",
       "      <th></th>\n",
       "      <th></th>\n",
       "      <th></th>\n",
       "      <th></th>\n",
       "    </tr>\n",
       "  </thead>\n",
       "  <tbody>\n",
       "    <tr>\n",
       "      <th>1959-03-31</th>\n",
       "      <td>0.00</td>\n",
       "      <td>2710.349</td>\n",
       "      <td>5.8</td>\n",
       "      <td>-0.438570</td>\n",
       "      <td>1.669025</td>\n",
       "      <td>-0.539741</td>\n",
       "    </tr>\n",
       "    <tr>\n",
       "      <th>1959-06-30</th>\n",
       "      <td>2.34</td>\n",
       "      <td>2778.801</td>\n",
       "      <td>5.1</td>\n",
       "      <td>3.248944</td>\n",
       "      <td>0.476985</td>\n",
       "      <td>-1.021228</td>\n",
       "    </tr>\n",
       "    <tr>\n",
       "      <th>1959-09-30</th>\n",
       "      <td>2.74</td>\n",
       "      <td>2775.488</td>\n",
       "      <td>5.3</td>\n",
       "      <td>0.124121</td>\n",
       "      <td>-0.577087</td>\n",
       "      <td>0.302614</td>\n",
       "    </tr>\n",
       "    <tr>\n",
       "      <th>1959-12-31</th>\n",
       "      <td>0.27</td>\n",
       "      <td>2785.204</td>\n",
       "      <td>5.6</td>\n",
       "      <td>0.000940</td>\n",
       "      <td>0.523772</td>\n",
       "      <td>1.343810</td>\n",
       "    </tr>\n",
       "    <tr>\n",
       "      <th>1960-03-31</th>\n",
       "      <td>2.31</td>\n",
       "      <td>2847.699</td>\n",
       "      <td>5.2</td>\n",
       "      <td>-0.831154</td>\n",
       "      <td>-0.713544</td>\n",
       "      <td>-2.370232</td>\n",
       "    </tr>\n",
       "    <tr>\n",
       "      <th>1960-06-30</th>\n",
       "      <td>0.14</td>\n",
       "      <td>2834.390</td>\n",
       "      <td>5.2</td>\n",
       "      <td>-0.860757</td>\n",
       "      <td>-1.860761</td>\n",
       "      <td>0.560145</td>\n",
       "    </tr>\n",
       "    <tr>\n",
       "      <th>1960-09-30</th>\n",
       "      <td>2.70</td>\n",
       "      <td>2839.022</td>\n",
       "      <td>5.6</td>\n",
       "      <td>0.119827</td>\n",
       "      <td>-1.265934</td>\n",
       "      <td>-1.063512</td>\n",
       "    </tr>\n",
       "  </tbody>\n",
       "</table>\n",
       "</div>"
      ],
      "text/plain": [
       "           value                    value2                    \n",
       "item        infl   realgdp unemp      infl   realgdp     unemp\n",
       "date                                                          \n",
       "1959-03-31  0.00  2710.349   5.8 -0.438570  1.669025 -0.539741\n",
       "1959-06-30  2.34  2778.801   5.1  3.248944  0.476985 -1.021228\n",
       "1959-09-30  2.74  2775.488   5.3  0.124121 -0.577087  0.302614\n",
       "1959-12-31  0.27  2785.204   5.6  0.000940  0.523772  1.343810\n",
       "1960-03-31  2.31  2847.699   5.2 -0.831154 -0.713544 -2.370232\n",
       "1960-06-30  0.14  2834.390   5.2 -0.860757 -1.860761  0.560145\n",
       "1960-09-30  2.70  2839.022   5.6  0.119827 -1.265934 -1.063512"
      ]
     },
     "execution_count": 75,
     "metadata": {},
     "output_type": "execute_result"
    }
   ],
   "source": [
    "unstacked = ldata.set_index(['date', 'item']).unstack('item')\n",
    "unstacked[:7]"
   ]
  },
  {
   "cell_type": "markdown",
   "metadata": {
    "collapsed": true
   },
   "source": [
    "# 移除重复数据"
   ]
  },
  {
   "cell_type": "code",
   "execution_count": 76,
   "metadata": {},
   "outputs": [
    {
     "name": "stdout",
     "output_type": "stream",
     "text": [
      "    k1  k2\n",
      "0  one   1\n",
      "1  one   1\n",
      "2  one   2\n",
      "3  two   3\n",
      "4  two   3\n",
      "5  two   4\n",
      "6  two   4\n"
     ]
    }
   ],
   "source": [
    "data = DataFrame({'k1': ['one'] * 3 + ['two'] * 4,\n",
    "                  'k2': [1, 1, 2, 3, 3, 4, 4]})\n",
    "print(data)"
   ]
  },
  {
   "cell_type": "code",
   "execution_count": 77,
   "metadata": {},
   "outputs": [
    {
     "data": {
      "text/plain": [
       "0    False\n",
       "1     True\n",
       "2    False\n",
       "3    False\n",
       "4     True\n",
       "5    False\n",
       "6     True\n",
       "dtype: bool"
      ]
     },
     "execution_count": 77,
     "metadata": {},
     "output_type": "execute_result"
    }
   ],
   "source": [
    "data.duplicated()"
   ]
  },
  {
   "cell_type": "code",
   "execution_count": 78,
   "metadata": {},
   "outputs": [
    {
     "data": {
      "text/html": [
       "<div>\n",
       "<style>\n",
       "    .dataframe thead tr:only-child th {\n",
       "        text-align: right;\n",
       "    }\n",
       "\n",
       "    .dataframe thead th {\n",
       "        text-align: left;\n",
       "    }\n",
       "\n",
       "    .dataframe tbody tr th {\n",
       "        vertical-align: top;\n",
       "    }\n",
       "</style>\n",
       "<table border=\"1\" class=\"dataframe\">\n",
       "  <thead>\n",
       "    <tr style=\"text-align: right;\">\n",
       "      <th></th>\n",
       "      <th>k1</th>\n",
       "      <th>k2</th>\n",
       "    </tr>\n",
       "  </thead>\n",
       "  <tbody>\n",
       "    <tr>\n",
       "      <th>0</th>\n",
       "      <td>one</td>\n",
       "      <td>1</td>\n",
       "    </tr>\n",
       "    <tr>\n",
       "      <th>2</th>\n",
       "      <td>one</td>\n",
       "      <td>2</td>\n",
       "    </tr>\n",
       "    <tr>\n",
       "      <th>3</th>\n",
       "      <td>two</td>\n",
       "      <td>3</td>\n",
       "    </tr>\n",
       "    <tr>\n",
       "      <th>5</th>\n",
       "      <td>two</td>\n",
       "      <td>4</td>\n",
       "    </tr>\n",
       "  </tbody>\n",
       "</table>\n",
       "</div>"
      ],
      "text/plain": [
       "    k1  k2\n",
       "0  one   1\n",
       "2  one   2\n",
       "3  two   3\n",
       "5  two   4"
      ]
     },
     "execution_count": 78,
     "metadata": {},
     "output_type": "execute_result"
    }
   ],
   "source": [
    "data.drop_duplicates()"
   ]
  },
  {
   "cell_type": "code",
   "execution_count": 79,
   "metadata": {},
   "outputs": [
    {
     "name": "stdout",
     "output_type": "stream",
     "text": [
      "    k1  k2  v1\n",
      "0  one   1   0\n",
      "1  one   1   1\n",
      "2  one   2   2\n",
      "3  two   3   3\n",
      "4  two   3   4\n",
      "5  two   4   5\n",
      "6  two   4   6\n"
     ]
    }
   ],
   "source": [
    "data['v1'] = range(7)\n",
    "print(data)"
   ]
  },
  {
   "cell_type": "code",
   "execution_count": 80,
   "metadata": {},
   "outputs": [
    {
     "data": {
      "text/html": [
       "<div>\n",
       "<style>\n",
       "    .dataframe thead tr:only-child th {\n",
       "        text-align: right;\n",
       "    }\n",
       "\n",
       "    .dataframe thead th {\n",
       "        text-align: left;\n",
       "    }\n",
       "\n",
       "    .dataframe tbody tr th {\n",
       "        vertical-align: top;\n",
       "    }\n",
       "</style>\n",
       "<table border=\"1\" class=\"dataframe\">\n",
       "  <thead>\n",
       "    <tr style=\"text-align: right;\">\n",
       "      <th></th>\n",
       "      <th>k1</th>\n",
       "      <th>k2</th>\n",
       "      <th>v1</th>\n",
       "    </tr>\n",
       "  </thead>\n",
       "  <tbody>\n",
       "    <tr>\n",
       "      <th>0</th>\n",
       "      <td>one</td>\n",
       "      <td>1</td>\n",
       "      <td>0</td>\n",
       "    </tr>\n",
       "    <tr>\n",
       "      <th>3</th>\n",
       "      <td>two</td>\n",
       "      <td>3</td>\n",
       "      <td>3</td>\n",
       "    </tr>\n",
       "  </tbody>\n",
       "</table>\n",
       "</div>"
      ],
      "text/plain": [
       "    k1  k2  v1\n",
       "0  one   1   0\n",
       "3  two   3   3"
      ]
     },
     "execution_count": 80,
     "metadata": {},
     "output_type": "execute_result"
    }
   ],
   "source": [
    "data.drop_duplicates(['k1'])"
   ]
  },
  {
   "cell_type": "code",
   "execution_count": 81,
   "metadata": {},
   "outputs": [
    {
     "data": {
      "text/html": [
       "<div>\n",
       "<style>\n",
       "    .dataframe thead tr:only-child th {\n",
       "        text-align: right;\n",
       "    }\n",
       "\n",
       "    .dataframe thead th {\n",
       "        text-align: left;\n",
       "    }\n",
       "\n",
       "    .dataframe tbody tr th {\n",
       "        vertical-align: top;\n",
       "    }\n",
       "</style>\n",
       "<table border=\"1\" class=\"dataframe\">\n",
       "  <thead>\n",
       "    <tr style=\"text-align: right;\">\n",
       "      <th></th>\n",
       "      <th>k1</th>\n",
       "      <th>k2</th>\n",
       "      <th>v1</th>\n",
       "    </tr>\n",
       "  </thead>\n",
       "  <tbody>\n",
       "    <tr>\n",
       "      <th>1</th>\n",
       "      <td>one</td>\n",
       "      <td>1</td>\n",
       "      <td>1</td>\n",
       "    </tr>\n",
       "    <tr>\n",
       "      <th>2</th>\n",
       "      <td>one</td>\n",
       "      <td>2</td>\n",
       "      <td>2</td>\n",
       "    </tr>\n",
       "    <tr>\n",
       "      <th>4</th>\n",
       "      <td>two</td>\n",
       "      <td>3</td>\n",
       "      <td>4</td>\n",
       "    </tr>\n",
       "    <tr>\n",
       "      <th>6</th>\n",
       "      <td>two</td>\n",
       "      <td>4</td>\n",
       "      <td>6</td>\n",
       "    </tr>\n",
       "  </tbody>\n",
       "</table>\n",
       "</div>"
      ],
      "text/plain": [
       "    k1  k2  v1\n",
       "1  one   1   1\n",
       "2  one   2   2\n",
       "4  two   3   4\n",
       "6  two   4   6"
      ]
     },
     "execution_count": 81,
     "metadata": {},
     "output_type": "execute_result"
    }
   ],
   "source": [
    "data.drop_duplicates(['k1', 'k2'], keep='last')"
   ]
  },
  {
   "cell_type": "markdown",
   "metadata": {
    "collapsed": true
   },
   "source": [
    "# 利用函数或映射进行数据转换"
   ]
  },
  {
   "cell_type": "code",
   "execution_count": 82,
   "metadata": {},
   "outputs": [
    {
     "name": "stdout",
     "output_type": "stream",
     "text": [
      "          food  ounces\n",
      "0        bacon     4.0\n",
      "1  pulled pork     3.0\n",
      "2        bacon    12.0\n",
      "3     Pastrami     6.0\n",
      "4  corned beef     7.5\n",
      "5        Bacon     8.0\n",
      "6     pastrami     3.0\n",
      "7    honey ham     5.0\n",
      "8     nova lox     6.0\n"
     ]
    }
   ],
   "source": [
    "# 1\n",
    "data = DataFrame({'food': ['bacon', 'pulled pork', 'bacon', 'Pastrami',\n",
    "                           'corned beef', 'Bacon', 'pastrami', 'honey ham',\n",
    "                           'nova lox'],\n",
    "                  'ounces': [4, 3, 12, 6, 7.5, 8, 3, 5, 6]})\n",
    "print(data)"
   ]
  },
  {
   "cell_type": "code",
   "execution_count": 83,
   "metadata": {},
   "outputs": [
    {
     "name": "stdout",
     "output_type": "stream",
     "text": [
      "          food  ounces  animal\n",
      "0        bacon     4.0     pig\n",
      "1  pulled pork     3.0     pig\n",
      "2        bacon    12.0     pig\n",
      "3     Pastrami     6.0     cow\n",
      "4  corned beef     7.5     cow\n",
      "5        Bacon     8.0     pig\n",
      "6     pastrami     3.0     cow\n",
      "7    honey ham     5.0     pig\n",
      "8     nova lox     6.0  salmon\n"
     ]
    }
   ],
   "source": [
    "meat_to_animal = {\n",
    "    'bacon': 'pig',\n",
    "    'pulled pork': 'pig',\n",
    "    'pastrami': 'cow',\n",
    "    'corned beef': 'cow',\n",
    "    'honey ham': 'pig',\n",
    "    'nova lox': 'salmon'\n",
    "}\n",
    "\n",
    "data['animal'] = data['food'].map(str.lower).map(meat_to_animal)\n",
    "print(data)"
   ]
  },
  {
   "cell_type": "code",
   "execution_count": 84,
   "metadata": {},
   "outputs": [
    {
     "data": {
      "text/plain": [
       "0       pig\n",
       "1       pig\n",
       "2       pig\n",
       "3       cow\n",
       "4       cow\n",
       "5       pig\n",
       "6       cow\n",
       "7       pig\n",
       "8    salmon\n",
       "Name: food, dtype: object"
      ]
     },
     "execution_count": 84,
     "metadata": {},
     "output_type": "execute_result"
    }
   ],
   "source": [
    "data['food'].map(lambda x: meat_to_animal[x.lower()])"
   ]
  },
  {
   "cell_type": "markdown",
   "metadata": {},
   "source": [
    "# 数据标准化"
   ]
  },
  {
   "cell_type": "code",
   "execution_count": 85,
   "metadata": {},
   "outputs": [
    {
     "name": "stdout",
     "output_type": "stream",
     "text": [
      "     0    1    2     3\n",
      "0   78  521  602  2863\n",
      "1  144 -600 -521  2245\n",
      "2   95 -457  468 -1283\n",
      "3   69  596  695  1054\n",
      "4  190  527  691  2051\n",
      "5  101  403  470  2487\n",
      "6  146  413  435  2571\n"
     ]
    }
   ],
   "source": [
    "datafile = 'data/normalization_data.xls'  # 参数初始化\n",
    "data = pd.read_excel(datafile, header=None)  # 读取数据\n",
    "print(data)"
   ]
  },
  {
   "cell_type": "markdown",
   "metadata": {},
   "source": [
    "## 最小-最大规范化"
   ]
  },
  {
   "cell_type": "code",
   "execution_count": 86,
   "metadata": {},
   "outputs": [
    {
     "data": {
      "text/html": [
       "<div>\n",
       "<style>\n",
       "    .dataframe thead tr:only-child th {\n",
       "        text-align: right;\n",
       "    }\n",
       "\n",
       "    .dataframe thead th {\n",
       "        text-align: left;\n",
       "    }\n",
       "\n",
       "    .dataframe tbody tr th {\n",
       "        vertical-align: top;\n",
       "    }\n",
       "</style>\n",
       "<table border=\"1\" class=\"dataframe\">\n",
       "  <thead>\n",
       "    <tr style=\"text-align: right;\">\n",
       "      <th></th>\n",
       "      <th>0</th>\n",
       "      <th>1</th>\n",
       "      <th>2</th>\n",
       "      <th>3</th>\n",
       "    </tr>\n",
       "  </thead>\n",
       "  <tbody>\n",
       "    <tr>\n",
       "      <th>0</th>\n",
       "      <td>0.074380</td>\n",
       "      <td>0.937291</td>\n",
       "      <td>0.923520</td>\n",
       "      <td>1.000000</td>\n",
       "    </tr>\n",
       "    <tr>\n",
       "      <th>1</th>\n",
       "      <td>0.619835</td>\n",
       "      <td>0.000000</td>\n",
       "      <td>0.000000</td>\n",
       "      <td>0.850941</td>\n",
       "    </tr>\n",
       "    <tr>\n",
       "      <th>2</th>\n",
       "      <td>0.214876</td>\n",
       "      <td>0.119565</td>\n",
       "      <td>0.813322</td>\n",
       "      <td>0.000000</td>\n",
       "    </tr>\n",
       "    <tr>\n",
       "      <th>3</th>\n",
       "      <td>0.000000</td>\n",
       "      <td>1.000000</td>\n",
       "      <td>1.000000</td>\n",
       "      <td>0.563676</td>\n",
       "    </tr>\n",
       "    <tr>\n",
       "      <th>4</th>\n",
       "      <td>1.000000</td>\n",
       "      <td>0.942308</td>\n",
       "      <td>0.996711</td>\n",
       "      <td>0.804149</td>\n",
       "    </tr>\n",
       "    <tr>\n",
       "      <th>5</th>\n",
       "      <td>0.264463</td>\n",
       "      <td>0.838629</td>\n",
       "      <td>0.814967</td>\n",
       "      <td>0.909310</td>\n",
       "    </tr>\n",
       "    <tr>\n",
       "      <th>6</th>\n",
       "      <td>0.636364</td>\n",
       "      <td>0.846990</td>\n",
       "      <td>0.786184</td>\n",
       "      <td>0.929571</td>\n",
       "    </tr>\n",
       "  </tbody>\n",
       "</table>\n",
       "</div>"
      ],
      "text/plain": [
       "          0         1         2         3\n",
       "0  0.074380  0.937291  0.923520  1.000000\n",
       "1  0.619835  0.000000  0.000000  0.850941\n",
       "2  0.214876  0.119565  0.813322  0.000000\n",
       "3  0.000000  1.000000  1.000000  0.563676\n",
       "4  1.000000  0.942308  0.996711  0.804149\n",
       "5  0.264463  0.838629  0.814967  0.909310\n",
       "6  0.636364  0.846990  0.786184  0.929571"
      ]
     },
     "execution_count": 86,
     "metadata": {},
     "output_type": "execute_result"
    }
   ],
   "source": [
    "(data - data.min()) / (data.max() - data.min())  # 最小-最大规范化"
   ]
  },
  {
   "cell_type": "markdown",
   "metadata": {},
   "source": [
    "## 零-均值规范化"
   ]
  },
  {
   "cell_type": "code",
   "execution_count": 87,
   "metadata": {},
   "outputs": [
    {
     "data": {
      "text/html": [
       "<div>\n",
       "<style>\n",
       "    .dataframe thead tr:only-child th {\n",
       "        text-align: right;\n",
       "    }\n",
       "\n",
       "    .dataframe thead th {\n",
       "        text-align: left;\n",
       "    }\n",
       "\n",
       "    .dataframe tbody tr th {\n",
       "        vertical-align: top;\n",
       "    }\n",
       "</style>\n",
       "<table border=\"1\" class=\"dataframe\">\n",
       "  <thead>\n",
       "    <tr style=\"text-align: right;\">\n",
       "      <th></th>\n",
       "      <th>0</th>\n",
       "      <th>1</th>\n",
       "      <th>2</th>\n",
       "      <th>3</th>\n",
       "    </tr>\n",
       "  </thead>\n",
       "  <tbody>\n",
       "    <tr>\n",
       "      <th>0</th>\n",
       "      <td>-0.905383</td>\n",
       "      <td>0.635863</td>\n",
       "      <td>0.464531</td>\n",
       "      <td>0.798149</td>\n",
       "    </tr>\n",
       "    <tr>\n",
       "      <th>1</th>\n",
       "      <td>0.604678</td>\n",
       "      <td>-1.587675</td>\n",
       "      <td>-2.193167</td>\n",
       "      <td>0.369390</td>\n",
       "    </tr>\n",
       "    <tr>\n",
       "      <th>2</th>\n",
       "      <td>-0.516428</td>\n",
       "      <td>-1.304030</td>\n",
       "      <td>0.147406</td>\n",
       "      <td>-2.078279</td>\n",
       "    </tr>\n",
       "    <tr>\n",
       "      <th>3</th>\n",
       "      <td>-1.111301</td>\n",
       "      <td>0.784628</td>\n",
       "      <td>0.684625</td>\n",
       "      <td>-0.456906</td>\n",
       "    </tr>\n",
       "    <tr>\n",
       "      <th>4</th>\n",
       "      <td>1.657146</td>\n",
       "      <td>0.647765</td>\n",
       "      <td>0.675159</td>\n",
       "      <td>0.234796</td>\n",
       "    </tr>\n",
       "    <tr>\n",
       "      <th>5</th>\n",
       "      <td>-0.379150</td>\n",
       "      <td>0.401807</td>\n",
       "      <td>0.152139</td>\n",
       "      <td>0.537286</td>\n",
       "    </tr>\n",
       "    <tr>\n",
       "      <th>6</th>\n",
       "      <td>0.650438</td>\n",
       "      <td>0.421642</td>\n",
       "      <td>0.069308</td>\n",
       "      <td>0.595564</td>\n",
       "    </tr>\n",
       "  </tbody>\n",
       "</table>\n",
       "</div>"
      ],
      "text/plain": [
       "          0         1         2         3\n",
       "0 -0.905383  0.635863  0.464531  0.798149\n",
       "1  0.604678 -1.587675 -2.193167  0.369390\n",
       "2 -0.516428 -1.304030  0.147406 -2.078279\n",
       "3 -1.111301  0.784628  0.684625 -0.456906\n",
       "4  1.657146  0.647765  0.675159  0.234796\n",
       "5 -0.379150  0.401807  0.152139  0.537286\n",
       "6  0.650438  0.421642  0.069308  0.595564"
      ]
     },
     "execution_count": 87,
     "metadata": {},
     "output_type": "execute_result"
    }
   ],
   "source": [
    "(data - data.mean()) / data.std()  # 零-均值规范化"
   ]
  },
  {
   "cell_type": "markdown",
   "metadata": {},
   "source": [
    "## 小数定标规范化"
   ]
  },
  {
   "cell_type": "code",
   "execution_count": 88,
   "metadata": {},
   "outputs": [
    {
     "data": {
      "text/html": [
       "<div>\n",
       "<style>\n",
       "    .dataframe thead tr:only-child th {\n",
       "        text-align: right;\n",
       "    }\n",
       "\n",
       "    .dataframe thead th {\n",
       "        text-align: left;\n",
       "    }\n",
       "\n",
       "    .dataframe tbody tr th {\n",
       "        vertical-align: top;\n",
       "    }\n",
       "</style>\n",
       "<table border=\"1\" class=\"dataframe\">\n",
       "  <thead>\n",
       "    <tr style=\"text-align: right;\">\n",
       "      <th></th>\n",
       "      <th>0</th>\n",
       "      <th>1</th>\n",
       "      <th>2</th>\n",
       "      <th>3</th>\n",
       "    </tr>\n",
       "  </thead>\n",
       "  <tbody>\n",
       "    <tr>\n",
       "      <th>0</th>\n",
       "      <td>0.078</td>\n",
       "      <td>0.521</td>\n",
       "      <td>0.602</td>\n",
       "      <td>0.2863</td>\n",
       "    </tr>\n",
       "    <tr>\n",
       "      <th>1</th>\n",
       "      <td>0.144</td>\n",
       "      <td>-0.600</td>\n",
       "      <td>-0.521</td>\n",
       "      <td>0.2245</td>\n",
       "    </tr>\n",
       "    <tr>\n",
       "      <th>2</th>\n",
       "      <td>0.095</td>\n",
       "      <td>-0.457</td>\n",
       "      <td>0.468</td>\n",
       "      <td>-0.1283</td>\n",
       "    </tr>\n",
       "    <tr>\n",
       "      <th>3</th>\n",
       "      <td>0.069</td>\n",
       "      <td>0.596</td>\n",
       "      <td>0.695</td>\n",
       "      <td>0.1054</td>\n",
       "    </tr>\n",
       "    <tr>\n",
       "      <th>4</th>\n",
       "      <td>0.190</td>\n",
       "      <td>0.527</td>\n",
       "      <td>0.691</td>\n",
       "      <td>0.2051</td>\n",
       "    </tr>\n",
       "    <tr>\n",
       "      <th>5</th>\n",
       "      <td>0.101</td>\n",
       "      <td>0.403</td>\n",
       "      <td>0.470</td>\n",
       "      <td>0.2487</td>\n",
       "    </tr>\n",
       "    <tr>\n",
       "      <th>6</th>\n",
       "      <td>0.146</td>\n",
       "      <td>0.413</td>\n",
       "      <td>0.435</td>\n",
       "      <td>0.2571</td>\n",
       "    </tr>\n",
       "  </tbody>\n",
       "</table>\n",
       "</div>"
      ],
      "text/plain": [
       "       0      1      2       3\n",
       "0  0.078  0.521  0.602  0.2863\n",
       "1  0.144 -0.600 -0.521  0.2245\n",
       "2  0.095 -0.457  0.468 -0.1283\n",
       "3  0.069  0.596  0.695  0.1054\n",
       "4  0.190  0.527  0.691  0.2051\n",
       "5  0.101  0.403  0.470  0.2487\n",
       "6  0.146  0.413  0.435  0.2571"
      ]
     },
     "execution_count": 88,
     "metadata": {},
     "output_type": "execute_result"
    }
   ],
   "source": [
    "data / 10 ** np.ceil(np.log10(data.abs().max()))  # 小数定标规范化"
   ]
  },
  {
   "cell_type": "markdown",
   "metadata": {},
   "source": [
    "# 替换值"
   ]
  },
  {
   "cell_type": "code",
   "execution_count": 89,
   "metadata": {},
   "outputs": [
    {
     "name": "stdout",
     "output_type": "stream",
     "text": [
      "0       1.0\n",
      "1    -999.0\n",
      "2       2.0\n",
      "3    -999.0\n",
      "4   -1000.0\n",
      "5       3.0\n",
      "dtype: float64\n"
     ]
    }
   ],
   "source": [
    "data = Series([1., -999., 2., -999., -1000., 3.])\n",
    "print(data)"
   ]
  },
  {
   "cell_type": "code",
   "execution_count": 90,
   "metadata": {},
   "outputs": [
    {
     "data": {
      "text/plain": [
       "0       1.0\n",
       "1       NaN\n",
       "2       2.0\n",
       "3       NaN\n",
       "4   -1000.0\n",
       "5       3.0\n",
       "dtype: float64"
      ]
     },
     "execution_count": 90,
     "metadata": {},
     "output_type": "execute_result"
    }
   ],
   "source": [
    "data.replace(-999, np.nan)"
   ]
  },
  {
   "cell_type": "code",
   "execution_count": 91,
   "metadata": {},
   "outputs": [
    {
     "data": {
      "text/plain": [
       "0    1.0\n",
       "1    NaN\n",
       "2    2.0\n",
       "3    NaN\n",
       "4    NaN\n",
       "5    3.0\n",
       "dtype: float64"
      ]
     },
     "execution_count": 91,
     "metadata": {},
     "output_type": "execute_result"
    }
   ],
   "source": [
    "data.replace([-999, -1000], np.nan)"
   ]
  },
  {
   "cell_type": "code",
   "execution_count": 92,
   "metadata": {},
   "outputs": [
    {
     "data": {
      "text/plain": [
       "0    1.0\n",
       "1    NaN\n",
       "2    2.0\n",
       "3    NaN\n",
       "4    0.0\n",
       "5    3.0\n",
       "dtype: float64"
      ]
     },
     "execution_count": 92,
     "metadata": {},
     "output_type": "execute_result"
    }
   ],
   "source": [
    "data.replace([-999, -1000], [np.nan, 0])"
   ]
  },
  {
   "cell_type": "code",
   "execution_count": 93,
   "metadata": {},
   "outputs": [
    {
     "data": {
      "text/plain": [
       "0    1.0\n",
       "1    NaN\n",
       "2    2.0\n",
       "3    NaN\n",
       "4    0.0\n",
       "5    3.0\n",
       "dtype: float64"
      ]
     },
     "execution_count": 93,
     "metadata": {},
     "output_type": "execute_result"
    }
   ],
   "source": [
    "data.replace({-999: np.nan, -1000: 0})"
   ]
  },
  {
   "cell_type": "markdown",
   "metadata": {},
   "source": [
    "# 重命名轴索引"
   ]
  },
  {
   "cell_type": "code",
   "execution_count": 94,
   "metadata": {},
   "outputs": [
    {
     "name": "stdout",
     "output_type": "stream",
     "text": [
      "          one  two  three  four\n",
      "Ohio        0    1      2     3\n",
      "Colorado    4    5      6     7\n",
      "New York    8    9     10    11\n"
     ]
    }
   ],
   "source": [
    "data = DataFrame(np.arange(12).reshape((3, 4)),\n",
    "                 index=['Ohio', 'Colorado', 'New York'],\n",
    "                 columns=['one', 'two', 'three', 'four'])\n",
    "print(data)"
   ]
  },
  {
   "cell_type": "code",
   "execution_count": 95,
   "metadata": {},
   "outputs": [
    {
     "data": {
      "text/plain": [
       "Index(['OHIO', 'COLORADO', 'NEW YORK'], dtype='object')"
      ]
     },
     "execution_count": 95,
     "metadata": {},
     "output_type": "execute_result"
    }
   ],
   "source": [
    "data.index.map(str.upper)"
   ]
  },
  {
   "cell_type": "code",
   "execution_count": 96,
   "metadata": {},
   "outputs": [
    {
     "name": "stdout",
     "output_type": "stream",
     "text": [
      "          one  two  three  four\n",
      "OHIO        0    1      2     3\n",
      "COLORADO    4    5      6     7\n",
      "NEW YORK    8    9     10    11\n"
     ]
    }
   ],
   "source": [
    "data.index = data.index.map(str.upper)\n",
    "print(data)"
   ]
  },
  {
   "cell_type": "code",
   "execution_count": 97,
   "metadata": {},
   "outputs": [
    {
     "data": {
      "text/html": [
       "<div>\n",
       "<style>\n",
       "    .dataframe thead tr:only-child th {\n",
       "        text-align: right;\n",
       "    }\n",
       "\n",
       "    .dataframe thead th {\n",
       "        text-align: left;\n",
       "    }\n",
       "\n",
       "    .dataframe tbody tr th {\n",
       "        vertical-align: top;\n",
       "    }\n",
       "</style>\n",
       "<table border=\"1\" class=\"dataframe\">\n",
       "  <thead>\n",
       "    <tr style=\"text-align: right;\">\n",
       "      <th></th>\n",
       "      <th>ONE</th>\n",
       "      <th>TWO</th>\n",
       "      <th>THREE</th>\n",
       "      <th>FOUR</th>\n",
       "    </tr>\n",
       "  </thead>\n",
       "  <tbody>\n",
       "    <tr>\n",
       "      <th>Ohio</th>\n",
       "      <td>0</td>\n",
       "      <td>1</td>\n",
       "      <td>2</td>\n",
       "      <td>3</td>\n",
       "    </tr>\n",
       "    <tr>\n",
       "      <th>Colorado</th>\n",
       "      <td>4</td>\n",
       "      <td>5</td>\n",
       "      <td>6</td>\n",
       "      <td>7</td>\n",
       "    </tr>\n",
       "    <tr>\n",
       "      <th>New York</th>\n",
       "      <td>8</td>\n",
       "      <td>9</td>\n",
       "      <td>10</td>\n",
       "      <td>11</td>\n",
       "    </tr>\n",
       "  </tbody>\n",
       "</table>\n",
       "</div>"
      ],
      "text/plain": [
       "          ONE  TWO  THREE  FOUR\n",
       "Ohio        0    1      2     3\n",
       "Colorado    4    5      6     7\n",
       "New York    8    9     10    11"
      ]
     },
     "execution_count": 97,
     "metadata": {},
     "output_type": "execute_result"
    }
   ],
   "source": [
    "data.rename(index=str.title, columns=str.upper)"
   ]
  },
  {
   "cell_type": "code",
   "execution_count": 98,
   "metadata": {},
   "outputs": [
    {
     "data": {
      "text/html": [
       "<div>\n",
       "<style>\n",
       "    .dataframe thead tr:only-child th {\n",
       "        text-align: right;\n",
       "    }\n",
       "\n",
       "    .dataframe thead th {\n",
       "        text-align: left;\n",
       "    }\n",
       "\n",
       "    .dataframe tbody tr th {\n",
       "        vertical-align: top;\n",
       "    }\n",
       "</style>\n",
       "<table border=\"1\" class=\"dataframe\">\n",
       "  <thead>\n",
       "    <tr style=\"text-align: right;\">\n",
       "      <th></th>\n",
       "      <th>one</th>\n",
       "      <th>two</th>\n",
       "      <th>peekaboo</th>\n",
       "      <th>four</th>\n",
       "    </tr>\n",
       "  </thead>\n",
       "  <tbody>\n",
       "    <tr>\n",
       "      <th>INDIANA</th>\n",
       "      <td>0</td>\n",
       "      <td>1</td>\n",
       "      <td>2</td>\n",
       "      <td>3</td>\n",
       "    </tr>\n",
       "    <tr>\n",
       "      <th>COLORADO</th>\n",
       "      <td>4</td>\n",
       "      <td>5</td>\n",
       "      <td>6</td>\n",
       "      <td>7</td>\n",
       "    </tr>\n",
       "    <tr>\n",
       "      <th>NEW YORK</th>\n",
       "      <td>8</td>\n",
       "      <td>9</td>\n",
       "      <td>10</td>\n",
       "      <td>11</td>\n",
       "    </tr>\n",
       "  </tbody>\n",
       "</table>\n",
       "</div>"
      ],
      "text/plain": [
       "          one  two  peekaboo  four\n",
       "INDIANA     0    1         2     3\n",
       "COLORADO    4    5         6     7\n",
       "NEW YORK    8    9        10    11"
      ]
     },
     "execution_count": 98,
     "metadata": {},
     "output_type": "execute_result"
    }
   ],
   "source": [
    "data.rename(index={'OHIO': 'INDIANA'},\n",
    "            columns={'three': 'peekaboo'})"
   ]
  },
  {
   "cell_type": "code",
   "execution_count": 99,
   "metadata": {},
   "outputs": [
    {
     "name": "stdout",
     "output_type": "stream",
     "text": [
      "          one  two  three  four\n",
      "INDIANA     0    1      2     3\n",
      "COLORADO    4    5      6     7\n",
      "NEW YORK    8    9     10    11\n"
     ]
    }
   ],
   "source": [
    "# 总是返回DataFrame的引用\n",
    "data.rename(index={'OHIO': 'INDIANA'}, inplace=True)\n",
    "print(data)"
   ]
  },
  {
   "cell_type": "markdown",
   "metadata": {},
   "source": [
    "# 离散化与面元划分"
   ]
  },
  {
   "cell_type": "code",
   "execution_count": 100,
   "metadata": {},
   "outputs": [
    {
     "name": "stdout",
     "output_type": "stream",
     "text": [
      "[(18, 25], (18, 25], (18, 25], (25, 35], (18, 25], ..., (25, 35], (60, 100], (35, 60], (35, 60], (25, 35]]\n",
      "Length: 12\n",
      "Categories (4, interval[int64]): [(18, 25] < (25, 35] < (35, 60] < (60, 100]]\n"
     ]
    }
   ],
   "source": [
    "# 1\n",
    "ages = [20, 22, 25, 27, 21, 23, 37, 31, 61, 45, 41, 32]\n",
    "\n",
    "bins = [18, 25, 35, 60, 100]\n",
    "cats = pd.cut(ages, bins)\n",
    "print(cats)"
   ]
  },
  {
   "cell_type": "code",
   "execution_count": 101,
   "metadata": {},
   "outputs": [
    {
     "data": {
      "text/plain": [
       "array([0, 0, 0, 1, 0, 0, 2, 1, 3, 2, 2, 1], dtype=int8)"
      ]
     },
     "execution_count": 101,
     "metadata": {},
     "output_type": "execute_result"
    }
   ],
   "source": [
    "cats.codes"
   ]
  },
  {
   "cell_type": "code",
   "execution_count": 102,
   "metadata": {},
   "outputs": [
    {
     "data": {
      "text/plain": [
       "IntervalIndex([(18, 25], (25, 35], (35, 60], (60, 100]]\n",
       "              closed='right',\n",
       "              dtype='interval[int64]')"
      ]
     },
     "execution_count": 102,
     "metadata": {},
     "output_type": "execute_result"
    }
   ],
   "source": [
    "cats.categories"
   ]
  },
  {
   "cell_type": "code",
   "execution_count": 103,
   "metadata": {},
   "outputs": [
    {
     "data": {
      "text/plain": [
       "(18, 25]     5\n",
       "(35, 60]     3\n",
       "(25, 35]     3\n",
       "(60, 100]    1\n",
       "dtype: int64"
      ]
     },
     "execution_count": 103,
     "metadata": {},
     "output_type": "execute_result"
    }
   ],
   "source": [
    "pd.value_counts(cats)"
   ]
  },
  {
   "cell_type": "code",
   "execution_count": 104,
   "metadata": {},
   "outputs": [
    {
     "data": {
      "text/plain": [
       "[[18, 26), [18, 26), [18, 26), [26, 36), [18, 26), ..., [26, 36), [61, 100), [36, 61), [36, 61), [26, 36)]\n",
       "Length: 12\n",
       "Categories (4, interval[int64]): [[18, 26) < [26, 36) < [36, 61) < [61, 100)]"
      ]
     },
     "execution_count": 104,
     "metadata": {},
     "output_type": "execute_result"
    }
   ],
   "source": [
    "pd.cut(ages, [18, 26, 36, 61, 100], right=False)"
   ]
  },
  {
   "cell_type": "code",
   "execution_count": 105,
   "metadata": {},
   "outputs": [
    {
     "data": {
      "text/plain": [
       "[Youth, Youth, Youth, YoungAdult, Youth, ..., YoungAdult, Senior, MiddleAged, MiddleAged, YoungAdult]\n",
       "Length: 12\n",
       "Categories (4, object): [MiddleAged < Senior < YoungAdult < Youth]"
      ]
     },
     "execution_count": 105,
     "metadata": {},
     "output_type": "execute_result"
    }
   ],
   "source": [
    "group_names = ['Youth', 'YoungAdult', 'MiddleAged', 'Senior']\n",
    "pd.cut(ages, bins, labels=group_names)"
   ]
  },
  {
   "cell_type": "code",
   "execution_count": 106,
   "metadata": {},
   "outputs": [
    {
     "data": {
      "text/plain": [
       "[(0.45, 0.67], (0.23, 0.45], (0.0037, 0.23], (0.45, 0.67], (0.67, 0.9], ..., (0.67, 0.9], (0.0037, 0.23], (0.0037, 0.23], (0.23, 0.45], (0.23, 0.45]]\n",
       "Length: 20\n",
       "Categories (4, interval[float64]): [(0.0037, 0.23] < (0.23, 0.45] < (0.45, 0.67] < (0.67, 0.9]]"
      ]
     },
     "execution_count": 106,
     "metadata": {},
     "output_type": "execute_result"
    }
   ],
   "source": [
    "data = np.random.rand(20)\n",
    "pd.cut(data, 4, precision=2)"
   ]
  },
  {
   "cell_type": "code",
   "execution_count": 107,
   "metadata": {},
   "outputs": [
    {
     "name": "stdout",
     "output_type": "stream",
     "text": [
      "[(-0.022, 0.641], (-3.746, -0.635], (0.641, 3.26], (-3.746, -0.635], (-0.022, 0.641], ..., (-0.022, 0.641], (0.641, 3.26], (-0.635, -0.022], (0.641, 3.26], (-0.635, -0.022]]\n",
      "Length: 1000\n",
      "Categories (4, interval[float64]): [(-3.746, -0.635] < (-0.635, -0.022] < (-0.022, 0.641] < (0.641, 3.26]]\n"
     ]
    }
   ],
   "source": [
    "# 2\n",
    "data = np.random.randn(1000)  # Normally distributed\n",
    "cats = pd.qcut(data, 4)  # Cut into quartiles\n",
    "print(cats)"
   ]
  },
  {
   "cell_type": "code",
   "execution_count": 108,
   "metadata": {},
   "outputs": [
    {
     "data": {
      "text/plain": [
       "(0.641, 3.26]       250\n",
       "(-0.022, 0.641]     250\n",
       "(-0.635, -0.022]    250\n",
       "(-3.746, -0.635]    250\n",
       "dtype: int64"
      ]
     },
     "execution_count": 108,
     "metadata": {},
     "output_type": "execute_result"
    }
   ],
   "source": [
    "pd.value_counts(cats)"
   ]
  },
  {
   "cell_type": "code",
   "execution_count": 109,
   "metadata": {},
   "outputs": [
    {
     "data": {
      "text/plain": [
       "[(-0.022, 1.302], (-1.266, -0.022], (-0.022, 1.302], (-3.746, -1.266], (-0.022, 1.302], ..., (-0.022, 1.302], (-0.022, 1.302], (-1.266, -0.022], (-0.022, 1.302], (-1.266, -0.022]]\n",
       "Length: 1000\n",
       "Categories (4, interval[float64]): [(-3.746, -1.266] < (-1.266, -0.022] < (-0.022, 1.302] < (1.302, 3.26]]"
      ]
     },
     "execution_count": 109,
     "metadata": {},
     "output_type": "execute_result"
    }
   ],
   "source": [
    "pd.qcut(data, [0, 0.1, 0.5, 0.9, 1.])"
   ]
  },
  {
   "cell_type": "markdown",
   "metadata": {},
   "source": [
    "# 检测和过滤异常值"
   ]
  },
  {
   "cell_type": "code",
   "execution_count": 110,
   "metadata": {},
   "outputs": [
    {
     "data": {
      "text/html": [
       "<div>\n",
       "<style>\n",
       "    .dataframe thead tr:only-child th {\n",
       "        text-align: right;\n",
       "    }\n",
       "\n",
       "    .dataframe thead th {\n",
       "        text-align: left;\n",
       "    }\n",
       "\n",
       "    .dataframe tbody tr th {\n",
       "        vertical-align: top;\n",
       "    }\n",
       "</style>\n",
       "<table border=\"1\" class=\"dataframe\">\n",
       "  <thead>\n",
       "    <tr style=\"text-align: right;\">\n",
       "      <th></th>\n",
       "      <th>0</th>\n",
       "      <th>1</th>\n",
       "      <th>2</th>\n",
       "      <th>3</th>\n",
       "    </tr>\n",
       "  </thead>\n",
       "  <tbody>\n",
       "    <tr>\n",
       "      <th>count</th>\n",
       "      <td>1000.000000</td>\n",
       "      <td>1000.000000</td>\n",
       "      <td>1000.000000</td>\n",
       "      <td>1000.000000</td>\n",
       "    </tr>\n",
       "    <tr>\n",
       "      <th>mean</th>\n",
       "      <td>-0.067684</td>\n",
       "      <td>0.067924</td>\n",
       "      <td>0.025598</td>\n",
       "      <td>-0.002298</td>\n",
       "    </tr>\n",
       "    <tr>\n",
       "      <th>std</th>\n",
       "      <td>0.998035</td>\n",
       "      <td>0.992106</td>\n",
       "      <td>1.006835</td>\n",
       "      <td>0.996794</td>\n",
       "    </tr>\n",
       "    <tr>\n",
       "      <th>min</th>\n",
       "      <td>-3.428254</td>\n",
       "      <td>-3.548824</td>\n",
       "      <td>-3.184377</td>\n",
       "      <td>-3.745356</td>\n",
       "    </tr>\n",
       "    <tr>\n",
       "      <th>25%</th>\n",
       "      <td>-0.774890</td>\n",
       "      <td>-0.591841</td>\n",
       "      <td>-0.641675</td>\n",
       "      <td>-0.644144</td>\n",
       "    </tr>\n",
       "    <tr>\n",
       "      <th>50%</th>\n",
       "      <td>-0.116401</td>\n",
       "      <td>0.101143</td>\n",
       "      <td>0.002073</td>\n",
       "      <td>-0.013611</td>\n",
       "    </tr>\n",
       "    <tr>\n",
       "      <th>75%</th>\n",
       "      <td>0.616366</td>\n",
       "      <td>0.780282</td>\n",
       "      <td>0.680391</td>\n",
       "      <td>0.654328</td>\n",
       "    </tr>\n",
       "    <tr>\n",
       "      <th>max</th>\n",
       "      <td>3.366626</td>\n",
       "      <td>2.653656</td>\n",
       "      <td>3.260383</td>\n",
       "      <td>3.927528</td>\n",
       "    </tr>\n",
       "  </tbody>\n",
       "</table>\n",
       "</div>"
      ],
      "text/plain": [
       "                 0            1            2            3\n",
       "count  1000.000000  1000.000000  1000.000000  1000.000000\n",
       "mean     -0.067684     0.067924     0.025598    -0.002298\n",
       "std       0.998035     0.992106     1.006835     0.996794\n",
       "min      -3.428254    -3.548824    -3.184377    -3.745356\n",
       "25%      -0.774890    -0.591841    -0.641675    -0.644144\n",
       "50%      -0.116401     0.101143     0.002073    -0.013611\n",
       "75%       0.616366     0.780282     0.680391     0.654328\n",
       "max       3.366626     2.653656     3.260383     3.927528"
      ]
     },
     "execution_count": 110,
     "metadata": {},
     "output_type": "execute_result"
    }
   ],
   "source": [
    "# 1\n",
    "np.random.seed(12345)\n",
    "data = DataFrame(np.random.randn(1000, 4))\n",
    "data.describe()"
   ]
  },
  {
   "cell_type": "code",
   "execution_count": 111,
   "metadata": {},
   "outputs": [
    {
     "data": {
      "text/plain": [
       "97     3.927528\n",
       "305   -3.399312\n",
       "400   -3.745356\n",
       "Name: 3, dtype: float64"
      ]
     },
     "execution_count": 111,
     "metadata": {},
     "output_type": "execute_result"
    }
   ],
   "source": [
    "col = data[3]\n",
    "col[np.abs(col) > 3]"
   ]
  },
  {
   "cell_type": "code",
   "execution_count": 112,
   "metadata": {},
   "outputs": [
    {
     "data": {
      "text/html": [
       "<div>\n",
       "<style>\n",
       "    .dataframe thead tr:only-child th {\n",
       "        text-align: right;\n",
       "    }\n",
       "\n",
       "    .dataframe thead th {\n",
       "        text-align: left;\n",
       "    }\n",
       "\n",
       "    .dataframe tbody tr th {\n",
       "        vertical-align: top;\n",
       "    }\n",
       "</style>\n",
       "<table border=\"1\" class=\"dataframe\">\n",
       "  <thead>\n",
       "    <tr style=\"text-align: right;\">\n",
       "      <th></th>\n",
       "      <th>0</th>\n",
       "      <th>1</th>\n",
       "      <th>2</th>\n",
       "      <th>3</th>\n",
       "    </tr>\n",
       "  </thead>\n",
       "  <tbody>\n",
       "    <tr>\n",
       "      <th>5</th>\n",
       "      <td>-0.539741</td>\n",
       "      <td>0.476985</td>\n",
       "      <td>3.248944</td>\n",
       "      <td>-1.021228</td>\n",
       "    </tr>\n",
       "    <tr>\n",
       "      <th>97</th>\n",
       "      <td>-0.774363</td>\n",
       "      <td>0.552936</td>\n",
       "      <td>0.106061</td>\n",
       "      <td>3.927528</td>\n",
       "    </tr>\n",
       "    <tr>\n",
       "      <th>102</th>\n",
       "      <td>-0.655054</td>\n",
       "      <td>-0.565230</td>\n",
       "      <td>3.176873</td>\n",
       "      <td>0.959533</td>\n",
       "    </tr>\n",
       "    <tr>\n",
       "      <th>305</th>\n",
       "      <td>-2.315555</td>\n",
       "      <td>0.457246</td>\n",
       "      <td>-0.025907</td>\n",
       "      <td>-3.399312</td>\n",
       "    </tr>\n",
       "    <tr>\n",
       "      <th>324</th>\n",
       "      <td>0.050188</td>\n",
       "      <td>1.951312</td>\n",
       "      <td>3.260383</td>\n",
       "      <td>0.963301</td>\n",
       "    </tr>\n",
       "    <tr>\n",
       "      <th>400</th>\n",
       "      <td>0.146326</td>\n",
       "      <td>0.508391</td>\n",
       "      <td>-0.196713</td>\n",
       "      <td>-3.745356</td>\n",
       "    </tr>\n",
       "    <tr>\n",
       "      <th>499</th>\n",
       "      <td>-0.293333</td>\n",
       "      <td>-0.242459</td>\n",
       "      <td>-3.056990</td>\n",
       "      <td>1.918403</td>\n",
       "    </tr>\n",
       "    <tr>\n",
       "      <th>523</th>\n",
       "      <td>-3.428254</td>\n",
       "      <td>-0.296336</td>\n",
       "      <td>-0.439938</td>\n",
       "      <td>-0.867165</td>\n",
       "    </tr>\n",
       "    <tr>\n",
       "      <th>586</th>\n",
       "      <td>0.275144</td>\n",
       "      <td>1.179227</td>\n",
       "      <td>-3.184377</td>\n",
       "      <td>1.369891</td>\n",
       "    </tr>\n",
       "    <tr>\n",
       "      <th>808</th>\n",
       "      <td>-0.362528</td>\n",
       "      <td>-3.548824</td>\n",
       "      <td>1.553205</td>\n",
       "      <td>-2.186301</td>\n",
       "    </tr>\n",
       "    <tr>\n",
       "      <th>900</th>\n",
       "      <td>3.366626</td>\n",
       "      <td>-2.372214</td>\n",
       "      <td>0.851010</td>\n",
       "      <td>1.332846</td>\n",
       "    </tr>\n",
       "  </tbody>\n",
       "</table>\n",
       "</div>"
      ],
      "text/plain": [
       "            0         1         2         3\n",
       "5   -0.539741  0.476985  3.248944 -1.021228\n",
       "97  -0.774363  0.552936  0.106061  3.927528\n",
       "102 -0.655054 -0.565230  3.176873  0.959533\n",
       "305 -2.315555  0.457246 -0.025907 -3.399312\n",
       "324  0.050188  1.951312  3.260383  0.963301\n",
       "400  0.146326  0.508391 -0.196713 -3.745356\n",
       "499 -0.293333 -0.242459 -3.056990  1.918403\n",
       "523 -3.428254 -0.296336 -0.439938 -0.867165\n",
       "586  0.275144  1.179227 -3.184377  1.369891\n",
       "808 -0.362528 -3.548824  1.553205 -2.186301\n",
       "900  3.366626 -2.372214  0.851010  1.332846"
      ]
     },
     "execution_count": 112,
     "metadata": {},
     "output_type": "execute_result"
    }
   ],
   "source": [
    "data[(np.abs(data) > 3).any(1)]"
   ]
  },
  {
   "cell_type": "code",
   "execution_count": 113,
   "metadata": {},
   "outputs": [
    {
     "data": {
      "text/html": [
       "<div>\n",
       "<style>\n",
       "    .dataframe thead tr:only-child th {\n",
       "        text-align: right;\n",
       "    }\n",
       "\n",
       "    .dataframe thead th {\n",
       "        text-align: left;\n",
       "    }\n",
       "\n",
       "    .dataframe tbody tr th {\n",
       "        vertical-align: top;\n",
       "    }\n",
       "</style>\n",
       "<table border=\"1\" class=\"dataframe\">\n",
       "  <thead>\n",
       "    <tr style=\"text-align: right;\">\n",
       "      <th></th>\n",
       "      <th>0</th>\n",
       "      <th>1</th>\n",
       "      <th>2</th>\n",
       "      <th>3</th>\n",
       "    </tr>\n",
       "  </thead>\n",
       "  <tbody>\n",
       "    <tr>\n",
       "      <th>count</th>\n",
       "      <td>1000.000000</td>\n",
       "      <td>1000.000000</td>\n",
       "      <td>1000.000000</td>\n",
       "      <td>1000.000000</td>\n",
       "    </tr>\n",
       "    <tr>\n",
       "      <th>mean</th>\n",
       "      <td>-0.067623</td>\n",
       "      <td>0.068473</td>\n",
       "      <td>0.025153</td>\n",
       "      <td>-0.002081</td>\n",
       "    </tr>\n",
       "    <tr>\n",
       "      <th>std</th>\n",
       "      <td>0.995485</td>\n",
       "      <td>0.990253</td>\n",
       "      <td>1.003977</td>\n",
       "      <td>0.989736</td>\n",
       "    </tr>\n",
       "    <tr>\n",
       "      <th>min</th>\n",
       "      <td>-3.000000</td>\n",
       "      <td>-3.000000</td>\n",
       "      <td>-3.000000</td>\n",
       "      <td>-3.000000</td>\n",
       "    </tr>\n",
       "    <tr>\n",
       "      <th>25%</th>\n",
       "      <td>-0.774890</td>\n",
       "      <td>-0.591841</td>\n",
       "      <td>-0.641675</td>\n",
       "      <td>-0.644144</td>\n",
       "    </tr>\n",
       "    <tr>\n",
       "      <th>50%</th>\n",
       "      <td>-0.116401</td>\n",
       "      <td>0.101143</td>\n",
       "      <td>0.002073</td>\n",
       "      <td>-0.013611</td>\n",
       "    </tr>\n",
       "    <tr>\n",
       "      <th>75%</th>\n",
       "      <td>0.616366</td>\n",
       "      <td>0.780282</td>\n",
       "      <td>0.680391</td>\n",
       "      <td>0.654328</td>\n",
       "    </tr>\n",
       "    <tr>\n",
       "      <th>max</th>\n",
       "      <td>3.000000</td>\n",
       "      <td>2.653656</td>\n",
       "      <td>3.000000</td>\n",
       "      <td>3.000000</td>\n",
       "    </tr>\n",
       "  </tbody>\n",
       "</table>\n",
       "</div>"
      ],
      "text/plain": [
       "                 0            1            2            3\n",
       "count  1000.000000  1000.000000  1000.000000  1000.000000\n",
       "mean     -0.067623     0.068473     0.025153    -0.002081\n",
       "std       0.995485     0.990253     1.003977     0.989736\n",
       "min      -3.000000    -3.000000    -3.000000    -3.000000\n",
       "25%      -0.774890    -0.591841    -0.641675    -0.644144\n",
       "50%      -0.116401     0.101143     0.002073    -0.013611\n",
       "75%       0.616366     0.780282     0.680391     0.654328\n",
       "max       3.000000     2.653656     3.000000     3.000000"
      ]
     },
     "execution_count": 113,
     "metadata": {},
     "output_type": "execute_result"
    }
   ],
   "source": [
    "# 2\n",
    "data[np.abs(data) > 3] = np.sign(data) * 3\n",
    "data.describe()"
   ]
  },
  {
   "cell_type": "markdown",
   "metadata": {},
   "source": [
    "# 排列与随机采样"
   ]
  },
  {
   "cell_type": "code",
   "execution_count": 114,
   "metadata": {},
   "outputs": [
    {
     "name": "stdout",
     "output_type": "stream",
     "text": [
      "    0   1   2   3\n",
      "0   0   1   2   3\n",
      "1   4   5   6   7\n",
      "2   8   9  10  11\n",
      "3  12  13  14  15\n",
      "4  16  17  18  19\n"
     ]
    }
   ],
   "source": [
    "df = DataFrame(np.arange(5 * 4).reshape((5, 4)))\n",
    "print(df)"
   ]
  },
  {
   "cell_type": "code",
   "execution_count": 115,
   "metadata": {},
   "outputs": [
    {
     "name": "stdout",
     "output_type": "stream",
     "text": [
      "[1 0 2 3 4]\n"
     ]
    }
   ],
   "source": [
    "sampler = np.random.permutation(5)\n",
    "print(sampler)"
   ]
  },
  {
   "cell_type": "code",
   "execution_count": 116,
   "metadata": {},
   "outputs": [
    {
     "data": {
      "text/html": [
       "<div>\n",
       "<style>\n",
       "    .dataframe thead tr:only-child th {\n",
       "        text-align: right;\n",
       "    }\n",
       "\n",
       "    .dataframe thead th {\n",
       "        text-align: left;\n",
       "    }\n",
       "\n",
       "    .dataframe tbody tr th {\n",
       "        vertical-align: top;\n",
       "    }\n",
       "</style>\n",
       "<table border=\"1\" class=\"dataframe\">\n",
       "  <thead>\n",
       "    <tr style=\"text-align: right;\">\n",
       "      <th></th>\n",
       "      <th>0</th>\n",
       "      <th>1</th>\n",
       "      <th>2</th>\n",
       "      <th>3</th>\n",
       "    </tr>\n",
       "  </thead>\n",
       "  <tbody>\n",
       "    <tr>\n",
       "      <th>1</th>\n",
       "      <td>4</td>\n",
       "      <td>5</td>\n",
       "      <td>6</td>\n",
       "      <td>7</td>\n",
       "    </tr>\n",
       "    <tr>\n",
       "      <th>0</th>\n",
       "      <td>0</td>\n",
       "      <td>1</td>\n",
       "      <td>2</td>\n",
       "      <td>3</td>\n",
       "    </tr>\n",
       "    <tr>\n",
       "      <th>2</th>\n",
       "      <td>8</td>\n",
       "      <td>9</td>\n",
       "      <td>10</td>\n",
       "      <td>11</td>\n",
       "    </tr>\n",
       "    <tr>\n",
       "      <th>3</th>\n",
       "      <td>12</td>\n",
       "      <td>13</td>\n",
       "      <td>14</td>\n",
       "      <td>15</td>\n",
       "    </tr>\n",
       "    <tr>\n",
       "      <th>4</th>\n",
       "      <td>16</td>\n",
       "      <td>17</td>\n",
       "      <td>18</td>\n",
       "      <td>19</td>\n",
       "    </tr>\n",
       "  </tbody>\n",
       "</table>\n",
       "</div>"
      ],
      "text/plain": [
       "    0   1   2   3\n",
       "1   4   5   6   7\n",
       "0   0   1   2   3\n",
       "2   8   9  10  11\n",
       "3  12  13  14  15\n",
       "4  16  17  18  19"
      ]
     },
     "execution_count": 116,
     "metadata": {},
     "output_type": "execute_result"
    }
   ],
   "source": [
    "df.take(sampler)"
   ]
  },
  {
   "cell_type": "code",
   "execution_count": 117,
   "metadata": {},
   "outputs": [
    {
     "data": {
      "text/html": [
       "<div>\n",
       "<style>\n",
       "    .dataframe thead tr:only-child th {\n",
       "        text-align: right;\n",
       "    }\n",
       "\n",
       "    .dataframe thead th {\n",
       "        text-align: left;\n",
       "    }\n",
       "\n",
       "    .dataframe tbody tr th {\n",
       "        vertical-align: top;\n",
       "    }\n",
       "</style>\n",
       "<table border=\"1\" class=\"dataframe\">\n",
       "  <thead>\n",
       "    <tr style=\"text-align: right;\">\n",
       "      <th></th>\n",
       "      <th>0</th>\n",
       "      <th>1</th>\n",
       "      <th>2</th>\n",
       "      <th>3</th>\n",
       "    </tr>\n",
       "  </thead>\n",
       "  <tbody>\n",
       "    <tr>\n",
       "      <th>1</th>\n",
       "      <td>4</td>\n",
       "      <td>5</td>\n",
       "      <td>6</td>\n",
       "      <td>7</td>\n",
       "    </tr>\n",
       "    <tr>\n",
       "      <th>3</th>\n",
       "      <td>12</td>\n",
       "      <td>13</td>\n",
       "      <td>14</td>\n",
       "      <td>15</td>\n",
       "    </tr>\n",
       "    <tr>\n",
       "      <th>4</th>\n",
       "      <td>16</td>\n",
       "      <td>17</td>\n",
       "      <td>18</td>\n",
       "      <td>19</td>\n",
       "    </tr>\n",
       "  </tbody>\n",
       "</table>\n",
       "</div>"
      ],
      "text/plain": [
       "    0   1   2   3\n",
       "1   4   5   6   7\n",
       "3  12  13  14  15\n",
       "4  16  17  18  19"
      ]
     },
     "execution_count": 117,
     "metadata": {},
     "output_type": "execute_result"
    }
   ],
   "source": [
    "# 2\n",
    "df.take(np.random.permutation(len(df))[:3])"
   ]
  },
  {
   "cell_type": "code",
   "execution_count": 118,
   "metadata": {},
   "outputs": [
    {
     "name": "stdout",
     "output_type": "stream",
     "text": [
      "[4 4 2 2 2 0 3 0 4 1]\n"
     ]
    }
   ],
   "source": [
    "# 3\n",
    "bag = np.array([5, 7, -1, 6, 4])\n",
    "sampler = np.random.randint(0, len(bag), size=10)\n",
    "print(sampler)"
   ]
  },
  {
   "cell_type": "code",
   "execution_count": 119,
   "metadata": {},
   "outputs": [
    {
     "name": "stdout",
     "output_type": "stream",
     "text": [
      "[ 4  4 -1 -1 -1  5  6  5  4  7]\n"
     ]
    }
   ],
   "source": [
    "draws = bag.take(sampler)\n",
    "print(draws)"
   ]
  },
  {
   "cell_type": "markdown",
   "metadata": {},
   "source": [
    "# 计算指标与哑变量"
   ]
  },
  {
   "cell_type": "code",
   "execution_count": 120,
   "metadata": {},
   "outputs": [
    {
     "name": "stdout",
     "output_type": "stream",
     "text": [
      "   data1 key\n",
      "0      0   b\n",
      "1      1   b\n",
      "2      2   a\n",
      "3      3   c\n",
      "4      4   a\n",
      "5      5   b\n"
     ]
    }
   ],
   "source": [
    "# 1\n",
    "df = DataFrame({'key': ['b', 'b', 'a', 'c', 'a', 'b'],\n",
    "                'data1': range(6)})\n",
    "print(df)"
   ]
  },
  {
   "cell_type": "code",
   "execution_count": 121,
   "metadata": {},
   "outputs": [
    {
     "data": {
      "text/html": [
       "<div>\n",
       "<style>\n",
       "    .dataframe thead tr:only-child th {\n",
       "        text-align: right;\n",
       "    }\n",
       "\n",
       "    .dataframe thead th {\n",
       "        text-align: left;\n",
       "    }\n",
       "\n",
       "    .dataframe tbody tr th {\n",
       "        vertical-align: top;\n",
       "    }\n",
       "</style>\n",
       "<table border=\"1\" class=\"dataframe\">\n",
       "  <thead>\n",
       "    <tr style=\"text-align: right;\">\n",
       "      <th></th>\n",
       "      <th>a</th>\n",
       "      <th>b</th>\n",
       "      <th>c</th>\n",
       "    </tr>\n",
       "  </thead>\n",
       "  <tbody>\n",
       "    <tr>\n",
       "      <th>0</th>\n",
       "      <td>0</td>\n",
       "      <td>1</td>\n",
       "      <td>0</td>\n",
       "    </tr>\n",
       "    <tr>\n",
       "      <th>1</th>\n",
       "      <td>0</td>\n",
       "      <td>1</td>\n",
       "      <td>0</td>\n",
       "    </tr>\n",
       "    <tr>\n",
       "      <th>2</th>\n",
       "      <td>1</td>\n",
       "      <td>0</td>\n",
       "      <td>0</td>\n",
       "    </tr>\n",
       "    <tr>\n",
       "      <th>3</th>\n",
       "      <td>0</td>\n",
       "      <td>0</td>\n",
       "      <td>1</td>\n",
       "    </tr>\n",
       "    <tr>\n",
       "      <th>4</th>\n",
       "      <td>1</td>\n",
       "      <td>0</td>\n",
       "      <td>0</td>\n",
       "    </tr>\n",
       "    <tr>\n",
       "      <th>5</th>\n",
       "      <td>0</td>\n",
       "      <td>1</td>\n",
       "      <td>0</td>\n",
       "    </tr>\n",
       "  </tbody>\n",
       "</table>\n",
       "</div>"
      ],
      "text/plain": [
       "   a  b  c\n",
       "0  0  1  0\n",
       "1  0  1  0\n",
       "2  1  0  0\n",
       "3  0  0  1\n",
       "4  1  0  0\n",
       "5  0  1  0"
      ]
     },
     "execution_count": 121,
     "metadata": {},
     "output_type": "execute_result"
    }
   ],
   "source": [
    "pd.get_dummies(df['key'])"
   ]
  },
  {
   "cell_type": "code",
   "execution_count": 122,
   "metadata": {},
   "outputs": [
    {
     "name": "stdout",
     "output_type": "stream",
     "text": [
      "   key_a  key_b  key_c\n",
      "0      0      1      0\n",
      "1      0      1      0\n",
      "2      1      0      0\n",
      "3      0      0      1\n",
      "4      1      0      0\n",
      "5      0      1      0\n"
     ]
    }
   ],
   "source": [
    "dummies = pd.get_dummies(df['key'], prefix='key')\n",
    "print(dummies)"
   ]
  },
  {
   "cell_type": "code",
   "execution_count": 123,
   "metadata": {},
   "outputs": [
    {
     "name": "stdout",
     "output_type": "stream",
     "text": [
      "   data1  key_a  key_b  key_c\n",
      "0      0      0      1      0\n",
      "1      1      0      1      0\n",
      "2      2      1      0      0\n",
      "3      3      0      0      1\n",
      "4      4      1      0      0\n",
      "5      5      0      1      0\n"
     ]
    }
   ],
   "source": [
    "df_with_dummy = df[['data1']].join(dummies)\n",
    "print(df_with_dummy)"
   ]
  },
  {
   "cell_type": "code",
   "execution_count": 124,
   "metadata": {},
   "outputs": [
    {
     "name": "stderr",
     "output_type": "stream",
     "text": [
      "C:\\ProgramData\\Anaconda3\\lib\\site-packages\\ipykernel_launcher.py:4: ParserWarning: Falling back to the 'python' engine because the 'c' engine does not support regex separators (separators > 1 char and different from '\\s+' are interpreted as regex); you can avoid this warning by specifying engine='python'.\n",
      "  after removing the cwd from sys.path.\n"
     ]
    },
    {
     "data": {
      "text/html": [
       "<div>\n",
       "<style>\n",
       "    .dataframe thead tr:only-child th {\n",
       "        text-align: right;\n",
       "    }\n",
       "\n",
       "    .dataframe thead th {\n",
       "        text-align: left;\n",
       "    }\n",
       "\n",
       "    .dataframe tbody tr th {\n",
       "        vertical-align: top;\n",
       "    }\n",
       "</style>\n",
       "<table border=\"1\" class=\"dataframe\">\n",
       "  <thead>\n",
       "    <tr style=\"text-align: right;\">\n",
       "      <th></th>\n",
       "      <th>movie_id</th>\n",
       "      <th>title</th>\n",
       "      <th>genres</th>\n",
       "    </tr>\n",
       "  </thead>\n",
       "  <tbody>\n",
       "    <tr>\n",
       "      <th>0</th>\n",
       "      <td>1</td>\n",
       "      <td>Toy Story (1995)</td>\n",
       "      <td>Animation|Children's|Comedy</td>\n",
       "    </tr>\n",
       "    <tr>\n",
       "      <th>1</th>\n",
       "      <td>2</td>\n",
       "      <td>Jumanji (1995)</td>\n",
       "      <td>Adventure|Children's|Fantasy</td>\n",
       "    </tr>\n",
       "    <tr>\n",
       "      <th>2</th>\n",
       "      <td>3</td>\n",
       "      <td>Grumpier Old Men (1995)</td>\n",
       "      <td>Comedy|Romance</td>\n",
       "    </tr>\n",
       "    <tr>\n",
       "      <th>3</th>\n",
       "      <td>4</td>\n",
       "      <td>Waiting to Exhale (1995)</td>\n",
       "      <td>Comedy|Drama</td>\n",
       "    </tr>\n",
       "    <tr>\n",
       "      <th>4</th>\n",
       "      <td>5</td>\n",
       "      <td>Father of the Bride Part II (1995)</td>\n",
       "      <td>Comedy</td>\n",
       "    </tr>\n",
       "    <tr>\n",
       "      <th>5</th>\n",
       "      <td>6</td>\n",
       "      <td>Heat (1995)</td>\n",
       "      <td>Action|Crime|Thriller</td>\n",
       "    </tr>\n",
       "    <tr>\n",
       "      <th>6</th>\n",
       "      <td>7</td>\n",
       "      <td>Sabrina (1995)</td>\n",
       "      <td>Comedy|Romance</td>\n",
       "    </tr>\n",
       "    <tr>\n",
       "      <th>7</th>\n",
       "      <td>8</td>\n",
       "      <td>Tom and Huck (1995)</td>\n",
       "      <td>Adventure|Children's</td>\n",
       "    </tr>\n",
       "    <tr>\n",
       "      <th>8</th>\n",
       "      <td>9</td>\n",
       "      <td>Sudden Death (1995)</td>\n",
       "      <td>Action</td>\n",
       "    </tr>\n",
       "    <tr>\n",
       "      <th>9</th>\n",
       "      <td>10</td>\n",
       "      <td>GoldenEye (1995)</td>\n",
       "      <td>Action|Adventure|Thriller</td>\n",
       "    </tr>\n",
       "  </tbody>\n",
       "</table>\n",
       "</div>"
      ],
      "text/plain": [
       "   movie_id                               title                        genres\n",
       "0         1                    Toy Story (1995)   Animation|Children's|Comedy\n",
       "1         2                      Jumanji (1995)  Adventure|Children's|Fantasy\n",
       "2         3             Grumpier Old Men (1995)                Comedy|Romance\n",
       "3         4            Waiting to Exhale (1995)                  Comedy|Drama\n",
       "4         5  Father of the Bride Part II (1995)                        Comedy\n",
       "5         6                         Heat (1995)         Action|Crime|Thriller\n",
       "6         7                      Sabrina (1995)                Comedy|Romance\n",
       "7         8                 Tom and Huck (1995)          Adventure|Children's\n",
       "8         9                 Sudden Death (1995)                        Action\n",
       "9        10                    GoldenEye (1995)     Action|Adventure|Thriller"
      ]
     },
     "execution_count": 124,
     "metadata": {},
     "output_type": "execute_result"
    }
   ],
   "source": [
    "# 2\n",
    "mnames = ['movie_id', 'title', 'genres']\n",
    "movies = pd.read_table('data/movies.dat', sep='::', header=None,\n",
    "                       names=mnames)\n",
    "movies[:10]"
   ]
  },
  {
   "cell_type": "code",
   "execution_count": 125,
   "metadata": {},
   "outputs": [
    {
     "name": "stdout",
     "output_type": "stream",
     "text": [
      "['Action', 'Adventure', 'Animation', \"Children's\", 'Comedy', 'Crime', 'Documentary', 'Drama', 'Fantasy', 'Film-Noir', 'Horror', 'Musical', 'Mystery', 'Romance', 'Sci-Fi', 'Thriller', 'War', 'Western']\n"
     ]
    }
   ],
   "source": [
    "genre_iter = (set(x.split('|')) for x in movies.genres)\n",
    "genres = sorted(set.union(*genre_iter))\n",
    "print(genres)"
   ]
  },
  {
   "cell_type": "code",
   "execution_count": 126,
   "metadata": {},
   "outputs": [
    {
     "name": "stdout",
     "output_type": "stream",
     "text": [
      "      Action  Adventure  Animation  Children's  Comedy  Crime  Documentary  \\\n",
      "0        0.0        0.0        0.0         0.0     0.0    0.0          0.0   \n",
      "1        0.0        0.0        0.0         0.0     0.0    0.0          0.0   \n",
      "2        0.0        0.0        0.0         0.0     0.0    0.0          0.0   \n",
      "3        0.0        0.0        0.0         0.0     0.0    0.0          0.0   \n",
      "4        0.0        0.0        0.0         0.0     0.0    0.0          0.0   \n",
      "5        0.0        0.0        0.0         0.0     0.0    0.0          0.0   \n",
      "6        0.0        0.0        0.0         0.0     0.0    0.0          0.0   \n",
      "7        0.0        0.0        0.0         0.0     0.0    0.0          0.0   \n",
      "8        0.0        0.0        0.0         0.0     0.0    0.0          0.0   \n",
      "9        0.0        0.0        0.0         0.0     0.0    0.0          0.0   \n",
      "10       0.0        0.0        0.0         0.0     0.0    0.0          0.0   \n",
      "11       0.0        0.0        0.0         0.0     0.0    0.0          0.0   \n",
      "12       0.0        0.0        0.0         0.0     0.0    0.0          0.0   \n",
      "13       0.0        0.0        0.0         0.0     0.0    0.0          0.0   \n",
      "14       0.0        0.0        0.0         0.0     0.0    0.0          0.0   \n",
      "15       0.0        0.0        0.0         0.0     0.0    0.0          0.0   \n",
      "16       0.0        0.0        0.0         0.0     0.0    0.0          0.0   \n",
      "17       0.0        0.0        0.0         0.0     0.0    0.0          0.0   \n",
      "18       0.0        0.0        0.0         0.0     0.0    0.0          0.0   \n",
      "19       0.0        0.0        0.0         0.0     0.0    0.0          0.0   \n",
      "20       0.0        0.0        0.0         0.0     0.0    0.0          0.0   \n",
      "21       0.0        0.0        0.0         0.0     0.0    0.0          0.0   \n",
      "22       0.0        0.0        0.0         0.0     0.0    0.0          0.0   \n",
      "23       0.0        0.0        0.0         0.0     0.0    0.0          0.0   \n",
      "24       0.0        0.0        0.0         0.0     0.0    0.0          0.0   \n",
      "25       0.0        0.0        0.0         0.0     0.0    0.0          0.0   \n",
      "26       0.0        0.0        0.0         0.0     0.0    0.0          0.0   \n",
      "27       0.0        0.0        0.0         0.0     0.0    0.0          0.0   \n",
      "28       0.0        0.0        0.0         0.0     0.0    0.0          0.0   \n",
      "29       0.0        0.0        0.0         0.0     0.0    0.0          0.0   \n",
      "...      ...        ...        ...         ...     ...    ...          ...   \n",
      "3853     0.0        0.0        0.0         0.0     0.0    0.0          0.0   \n",
      "3854     0.0        0.0        0.0         0.0     0.0    0.0          0.0   \n",
      "3855     0.0        0.0        0.0         0.0     0.0    0.0          0.0   \n",
      "3856     0.0        0.0        0.0         0.0     0.0    0.0          0.0   \n",
      "3857     0.0        0.0        0.0         0.0     0.0    0.0          0.0   \n",
      "3858     0.0        0.0        0.0         0.0     0.0    0.0          0.0   \n",
      "3859     0.0        0.0        0.0         0.0     0.0    0.0          0.0   \n",
      "3860     0.0        0.0        0.0         0.0     0.0    0.0          0.0   \n",
      "3861     0.0        0.0        0.0         0.0     0.0    0.0          0.0   \n",
      "3862     0.0        0.0        0.0         0.0     0.0    0.0          0.0   \n",
      "3863     0.0        0.0        0.0         0.0     0.0    0.0          0.0   \n",
      "3864     0.0        0.0        0.0         0.0     0.0    0.0          0.0   \n",
      "3865     0.0        0.0        0.0         0.0     0.0    0.0          0.0   \n",
      "3866     0.0        0.0        0.0         0.0     0.0    0.0          0.0   \n",
      "3867     0.0        0.0        0.0         0.0     0.0    0.0          0.0   \n",
      "3868     0.0        0.0        0.0         0.0     0.0    0.0          0.0   \n",
      "3869     0.0        0.0        0.0         0.0     0.0    0.0          0.0   \n",
      "3870     0.0        0.0        0.0         0.0     0.0    0.0          0.0   \n",
      "3871     0.0        0.0        0.0         0.0     0.0    0.0          0.0   \n",
      "3872     0.0        0.0        0.0         0.0     0.0    0.0          0.0   \n",
      "3873     0.0        0.0        0.0         0.0     0.0    0.0          0.0   \n",
      "3874     0.0        0.0        0.0         0.0     0.0    0.0          0.0   \n",
      "3875     0.0        0.0        0.0         0.0     0.0    0.0          0.0   \n",
      "3876     0.0        0.0        0.0         0.0     0.0    0.0          0.0   \n",
      "3877     0.0        0.0        0.0         0.0     0.0    0.0          0.0   \n",
      "3878     0.0        0.0        0.0         0.0     0.0    0.0          0.0   \n",
      "3879     0.0        0.0        0.0         0.0     0.0    0.0          0.0   \n",
      "3880     0.0        0.0        0.0         0.0     0.0    0.0          0.0   \n",
      "3881     0.0        0.0        0.0         0.0     0.0    0.0          0.0   \n",
      "3882     0.0        0.0        0.0         0.0     0.0    0.0          0.0   \n",
      "\n",
      "      Drama  Fantasy  Film-Noir  Horror  Musical  Mystery  Romance  Sci-Fi  \\\n",
      "0       0.0      0.0        0.0     0.0      0.0      0.0      0.0     0.0   \n",
      "1       0.0      0.0        0.0     0.0      0.0      0.0      0.0     0.0   \n",
      "2       0.0      0.0        0.0     0.0      0.0      0.0      0.0     0.0   \n",
      "3       0.0      0.0        0.0     0.0      0.0      0.0      0.0     0.0   \n",
      "4       0.0      0.0        0.0     0.0      0.0      0.0      0.0     0.0   \n",
      "5       0.0      0.0        0.0     0.0      0.0      0.0      0.0     0.0   \n",
      "6       0.0      0.0        0.0     0.0      0.0      0.0      0.0     0.0   \n",
      "7       0.0      0.0        0.0     0.0      0.0      0.0      0.0     0.0   \n",
      "8       0.0      0.0        0.0     0.0      0.0      0.0      0.0     0.0   \n",
      "9       0.0      0.0        0.0     0.0      0.0      0.0      0.0     0.0   \n",
      "10      0.0      0.0        0.0     0.0      0.0      0.0      0.0     0.0   \n",
      "11      0.0      0.0        0.0     0.0      0.0      0.0      0.0     0.0   \n",
      "12      0.0      0.0        0.0     0.0      0.0      0.0      0.0     0.0   \n",
      "13      0.0      0.0        0.0     0.0      0.0      0.0      0.0     0.0   \n",
      "14      0.0      0.0        0.0     0.0      0.0      0.0      0.0     0.0   \n",
      "15      0.0      0.0        0.0     0.0      0.0      0.0      0.0     0.0   \n",
      "16      0.0      0.0        0.0     0.0      0.0      0.0      0.0     0.0   \n",
      "17      0.0      0.0        0.0     0.0      0.0      0.0      0.0     0.0   \n",
      "18      0.0      0.0        0.0     0.0      0.0      0.0      0.0     0.0   \n",
      "19      0.0      0.0        0.0     0.0      0.0      0.0      0.0     0.0   \n",
      "20      0.0      0.0        0.0     0.0      0.0      0.0      0.0     0.0   \n",
      "21      0.0      0.0        0.0     0.0      0.0      0.0      0.0     0.0   \n",
      "22      0.0      0.0        0.0     0.0      0.0      0.0      0.0     0.0   \n",
      "23      0.0      0.0        0.0     0.0      0.0      0.0      0.0     0.0   \n",
      "24      0.0      0.0        0.0     0.0      0.0      0.0      0.0     0.0   \n",
      "25      0.0      0.0        0.0     0.0      0.0      0.0      0.0     0.0   \n",
      "26      0.0      0.0        0.0     0.0      0.0      0.0      0.0     0.0   \n",
      "27      0.0      0.0        0.0     0.0      0.0      0.0      0.0     0.0   \n",
      "28      0.0      0.0        0.0     0.0      0.0      0.0      0.0     0.0   \n",
      "29      0.0      0.0        0.0     0.0      0.0      0.0      0.0     0.0   \n",
      "...     ...      ...        ...     ...      ...      ...      ...     ...   \n",
      "3853    0.0      0.0        0.0     0.0      0.0      0.0      0.0     0.0   \n",
      "3854    0.0      0.0        0.0     0.0      0.0      0.0      0.0     0.0   \n",
      "3855    0.0      0.0        0.0     0.0      0.0      0.0      0.0     0.0   \n",
      "3856    0.0      0.0        0.0     0.0      0.0      0.0      0.0     0.0   \n",
      "3857    0.0      0.0        0.0     0.0      0.0      0.0      0.0     0.0   \n",
      "3858    0.0      0.0        0.0     0.0      0.0      0.0      0.0     0.0   \n",
      "3859    0.0      0.0        0.0     0.0      0.0      0.0      0.0     0.0   \n",
      "3860    0.0      0.0        0.0     0.0      0.0      0.0      0.0     0.0   \n",
      "3861    0.0      0.0        0.0     0.0      0.0      0.0      0.0     0.0   \n",
      "3862    0.0      0.0        0.0     0.0      0.0      0.0      0.0     0.0   \n",
      "3863    0.0      0.0        0.0     0.0      0.0      0.0      0.0     0.0   \n",
      "3864    0.0      0.0        0.0     0.0      0.0      0.0      0.0     0.0   \n",
      "3865    0.0      0.0        0.0     0.0      0.0      0.0      0.0     0.0   \n",
      "3866    0.0      0.0        0.0     0.0      0.0      0.0      0.0     0.0   \n",
      "3867    0.0      0.0        0.0     0.0      0.0      0.0      0.0     0.0   \n",
      "3868    0.0      0.0        0.0     0.0      0.0      0.0      0.0     0.0   \n",
      "3869    0.0      0.0        0.0     0.0      0.0      0.0      0.0     0.0   \n",
      "3870    0.0      0.0        0.0     0.0      0.0      0.0      0.0     0.0   \n",
      "3871    0.0      0.0        0.0     0.0      0.0      0.0      0.0     0.0   \n",
      "3872    0.0      0.0        0.0     0.0      0.0      0.0      0.0     0.0   \n",
      "3873    0.0      0.0        0.0     0.0      0.0      0.0      0.0     0.0   \n",
      "3874    0.0      0.0        0.0     0.0      0.0      0.0      0.0     0.0   \n",
      "3875    0.0      0.0        0.0     0.0      0.0      0.0      0.0     0.0   \n",
      "3876    0.0      0.0        0.0     0.0      0.0      0.0      0.0     0.0   \n",
      "3877    0.0      0.0        0.0     0.0      0.0      0.0      0.0     0.0   \n",
      "3878    0.0      0.0        0.0     0.0      0.0      0.0      0.0     0.0   \n",
      "3879    0.0      0.0        0.0     0.0      0.0      0.0      0.0     0.0   \n",
      "3880    0.0      0.0        0.0     0.0      0.0      0.0      0.0     0.0   \n",
      "3881    0.0      0.0        0.0     0.0      0.0      0.0      0.0     0.0   \n",
      "3882    0.0      0.0        0.0     0.0      0.0      0.0      0.0     0.0   \n",
      "\n",
      "      Thriller  War  Western  \n",
      "0          0.0  0.0      0.0  \n",
      "1          0.0  0.0      0.0  \n",
      "2          0.0  0.0      0.0  \n",
      "3          0.0  0.0      0.0  \n",
      "4          0.0  0.0      0.0  \n",
      "5          0.0  0.0      0.0  \n",
      "6          0.0  0.0      0.0  \n",
      "7          0.0  0.0      0.0  \n",
      "8          0.0  0.0      0.0  \n",
      "9          0.0  0.0      0.0  \n",
      "10         0.0  0.0      0.0  \n",
      "11         0.0  0.0      0.0  \n",
      "12         0.0  0.0      0.0  \n",
      "13         0.0  0.0      0.0  \n",
      "14         0.0  0.0      0.0  \n",
      "15         0.0  0.0      0.0  \n",
      "16         0.0  0.0      0.0  \n",
      "17         0.0  0.0      0.0  \n",
      "18         0.0  0.0      0.0  \n",
      "19         0.0  0.0      0.0  \n",
      "20         0.0  0.0      0.0  \n",
      "21         0.0  0.0      0.0  \n",
      "22         0.0  0.0      0.0  \n",
      "23         0.0  0.0      0.0  \n",
      "24         0.0  0.0      0.0  \n",
      "25         0.0  0.0      0.0  \n",
      "26         0.0  0.0      0.0  \n",
      "27         0.0  0.0      0.0  \n",
      "28         0.0  0.0      0.0  \n",
      "29         0.0  0.0      0.0  \n",
      "...        ...  ...      ...  \n",
      "3853       0.0  0.0      0.0  \n",
      "3854       0.0  0.0      0.0  \n",
      "3855       0.0  0.0      0.0  \n",
      "3856       0.0  0.0      0.0  \n",
      "3857       0.0  0.0      0.0  \n",
      "3858       0.0  0.0      0.0  \n",
      "3859       0.0  0.0      0.0  \n",
      "3860       0.0  0.0      0.0  \n",
      "3861       0.0  0.0      0.0  \n",
      "3862       0.0  0.0      0.0  \n",
      "3863       0.0  0.0      0.0  \n",
      "3864       0.0  0.0      0.0  \n",
      "3865       0.0  0.0      0.0  \n",
      "3866       0.0  0.0      0.0  \n",
      "3867       0.0  0.0      0.0  \n",
      "3868       0.0  0.0      0.0  \n",
      "3869       0.0  0.0      0.0  \n",
      "3870       0.0  0.0      0.0  \n",
      "3871       0.0  0.0      0.0  \n",
      "3872       0.0  0.0      0.0  \n",
      "3873       0.0  0.0      0.0  \n",
      "3874       0.0  0.0      0.0  \n",
      "3875       0.0  0.0      0.0  \n",
      "3876       0.0  0.0      0.0  \n",
      "3877       0.0  0.0      0.0  \n",
      "3878       0.0  0.0      0.0  \n",
      "3879       0.0  0.0      0.0  \n",
      "3880       0.0  0.0      0.0  \n",
      "3881       0.0  0.0      0.0  \n",
      "3882       0.0  0.0      0.0  \n",
      "\n",
      "[3883 rows x 18 columns]\n"
     ]
    }
   ],
   "source": [
    "dummies = DataFrame(np.zeros((len(movies), len(genres))), columns=genres)\n",
    "print(dummies)"
   ]
  },
  {
   "cell_type": "code",
   "execution_count": 127,
   "metadata": {},
   "outputs": [
    {
     "name": "stdout",
     "output_type": "stream",
     "text": [
      "movie_id                                       1\n",
      "title                           Toy Story (1995)\n",
      "genres               Animation|Children's|Comedy\n",
      "Genre_Action                                   0\n",
      "Genre_Adventure                                0\n",
      "Genre_Animation                                1\n",
      "Genre_Children's                               1\n",
      "Genre_Comedy                                   1\n",
      "Genre_Crime                                    0\n",
      "Genre_Documentary                              0\n",
      "Genre_Drama                                    0\n",
      "Genre_Fantasy                                  0\n",
      "Genre_Film-Noir                                0\n",
      "Genre_Horror                                   0\n",
      "Genre_Musical                                  0\n",
      "Genre_Mystery                                  0\n",
      "Genre_Romance                                  0\n",
      "Genre_Sci-Fi                                   0\n",
      "Genre_Thriller                                 0\n",
      "Genre_War                                      0\n",
      "Genre_Western                                  0\n",
      "Name: 0, dtype: object\n"
     ]
    }
   ],
   "source": [
    "for i, gen in enumerate(movies.genres):\n",
    "    dummies.loc[i, gen.split('|')] = 1\n",
    "\n",
    "movies_windic = movies.join(dummies.add_prefix('Genre_'))\n",
    "print(movies_windic.loc[0])"
   ]
  },
  {
   "cell_type": "code",
   "execution_count": 128,
   "metadata": {},
   "outputs": [
    {
     "name": "stdout",
     "output_type": "stream",
     "text": [
      "[ 0.92961609  0.31637555  0.18391881  0.20456028  0.56772503  0.5955447\n",
      "  0.96451452  0.6531771   0.74890664  0.65356987]\n"
     ]
    }
   ],
   "source": [
    "# 3\n",
    "np.random.seed(12345)\n",
    "values = np.random.rand(10)\n",
    "print(values)"
   ]
  },
  {
   "cell_type": "code",
   "execution_count": 129,
   "metadata": {},
   "outputs": [
    {
     "data": {
      "text/html": [
       "<div>\n",
       "<style>\n",
       "    .dataframe thead tr:only-child th {\n",
       "        text-align: right;\n",
       "    }\n",
       "\n",
       "    .dataframe thead th {\n",
       "        text-align: left;\n",
       "    }\n",
       "\n",
       "    .dataframe tbody tr th {\n",
       "        vertical-align: top;\n",
       "    }\n",
       "</style>\n",
       "<table border=\"1\" class=\"dataframe\">\n",
       "  <thead>\n",
       "    <tr style=\"text-align: right;\">\n",
       "      <th></th>\n",
       "      <th>(0.0, 0.2]</th>\n",
       "      <th>(0.2, 0.4]</th>\n",
       "      <th>(0.4, 0.6]</th>\n",
       "      <th>(0.6, 0.8]</th>\n",
       "      <th>(0.8, 1.0]</th>\n",
       "    </tr>\n",
       "  </thead>\n",
       "  <tbody>\n",
       "    <tr>\n",
       "      <th>0</th>\n",
       "      <td>0</td>\n",
       "      <td>0</td>\n",
       "      <td>0</td>\n",
       "      <td>0</td>\n",
       "      <td>1</td>\n",
       "    </tr>\n",
       "    <tr>\n",
       "      <th>1</th>\n",
       "      <td>0</td>\n",
       "      <td>1</td>\n",
       "      <td>0</td>\n",
       "      <td>0</td>\n",
       "      <td>0</td>\n",
       "    </tr>\n",
       "    <tr>\n",
       "      <th>2</th>\n",
       "      <td>1</td>\n",
       "      <td>0</td>\n",
       "      <td>0</td>\n",
       "      <td>0</td>\n",
       "      <td>0</td>\n",
       "    </tr>\n",
       "    <tr>\n",
       "      <th>3</th>\n",
       "      <td>0</td>\n",
       "      <td>1</td>\n",
       "      <td>0</td>\n",
       "      <td>0</td>\n",
       "      <td>0</td>\n",
       "    </tr>\n",
       "    <tr>\n",
       "      <th>4</th>\n",
       "      <td>0</td>\n",
       "      <td>0</td>\n",
       "      <td>1</td>\n",
       "      <td>0</td>\n",
       "      <td>0</td>\n",
       "    </tr>\n",
       "    <tr>\n",
       "      <th>5</th>\n",
       "      <td>0</td>\n",
       "      <td>0</td>\n",
       "      <td>1</td>\n",
       "      <td>0</td>\n",
       "      <td>0</td>\n",
       "    </tr>\n",
       "    <tr>\n",
       "      <th>6</th>\n",
       "      <td>0</td>\n",
       "      <td>0</td>\n",
       "      <td>0</td>\n",
       "      <td>0</td>\n",
       "      <td>1</td>\n",
       "    </tr>\n",
       "    <tr>\n",
       "      <th>7</th>\n",
       "      <td>0</td>\n",
       "      <td>0</td>\n",
       "      <td>0</td>\n",
       "      <td>1</td>\n",
       "      <td>0</td>\n",
       "    </tr>\n",
       "    <tr>\n",
       "      <th>8</th>\n",
       "      <td>0</td>\n",
       "      <td>0</td>\n",
       "      <td>0</td>\n",
       "      <td>1</td>\n",
       "      <td>0</td>\n",
       "    </tr>\n",
       "    <tr>\n",
       "      <th>9</th>\n",
       "      <td>0</td>\n",
       "      <td>0</td>\n",
       "      <td>0</td>\n",
       "      <td>1</td>\n",
       "      <td>0</td>\n",
       "    </tr>\n",
       "  </tbody>\n",
       "</table>\n",
       "</div>"
      ],
      "text/plain": [
       "   (0.0, 0.2]  (0.2, 0.4]  (0.4, 0.6]  (0.6, 0.8]  (0.8, 1.0]\n",
       "0           0           0           0           0           1\n",
       "1           0           1           0           0           0\n",
       "2           1           0           0           0           0\n",
       "3           0           1           0           0           0\n",
       "4           0           0           1           0           0\n",
       "5           0           0           1           0           0\n",
       "6           0           0           0           0           1\n",
       "7           0           0           0           1           0\n",
       "8           0           0           0           1           0\n",
       "9           0           0           0           1           0"
      ]
     },
     "execution_count": 129,
     "metadata": {},
     "output_type": "execute_result"
    }
   ],
   "source": [
    "bins = [0, 0.2, 0.4, 0.6, 0.8, 1]\n",
    "pd.get_dummies(pd.cut(values, bins))"
   ]
  },
  {
   "cell_type": "markdown",
   "metadata": {},
   "source": [
    "# 属性构造"
   ]
  },
  {
   "cell_type": "code",
   "execution_count": 130,
   "metadata": {
    "collapsed": true
   },
   "outputs": [],
   "source": [
    "# 参数初始化\n",
    "inputfile = 'data/electricity_data.xls'  # 供入供出电量数据\n",
    "outputfile = 'data/electricity_data.xls'  # 属性构造后数据文件\n",
    "\n",
    "data = pd.read_excel(inputfile)  # 读入数据\n",
    "data[u'线损率'] = (data[u'供入电量'] - data[u'供出电量']) / data[u'供入电量']\n",
    "\n",
    "data.to_excel(outputfile, index=False)  # 保存结果\n"
   ]
  },
  {
   "cell_type": "markdown",
   "metadata": {},
   "source": [
    "# 字符串对象方法"
   ]
  },
  {
   "cell_type": "code",
   "execution_count": 131,
   "metadata": {},
   "outputs": [
    {
     "data": {
      "text/plain": [
       "['a', 'b', '  guido']"
      ]
     },
     "execution_count": 131,
     "metadata": {},
     "output_type": "execute_result"
    }
   ],
   "source": [
    "val = 'a,b,  guido'\n",
    "val.split(',')"
   ]
  },
  {
   "cell_type": "code",
   "execution_count": 132,
   "metadata": {},
   "outputs": [
    {
     "name": "stdout",
     "output_type": "stream",
     "text": [
      "['a', 'b', 'guido']\n"
     ]
    }
   ],
   "source": [
    "pieces = [x.strip() for x in val.split(',')]\n",
    "print(pieces)"
   ]
  },
  {
   "cell_type": "code",
   "execution_count": 133,
   "metadata": {},
   "outputs": [
    {
     "data": {
      "text/plain": [
       "'a::b::guido'"
      ]
     },
     "execution_count": 133,
     "metadata": {},
     "output_type": "execute_result"
    }
   ],
   "source": [
    "first, second, third = pieces\n",
    "first + '::' + second + '::' + third"
   ]
  },
  {
   "cell_type": "code",
   "execution_count": 134,
   "metadata": {},
   "outputs": [
    {
     "data": {
      "text/plain": [
       "'a::b::guido'"
      ]
     },
     "execution_count": 134,
     "metadata": {},
     "output_type": "execute_result"
    }
   ],
   "source": [
    "'::'.join(pieces)"
   ]
  },
  {
   "cell_type": "code",
   "execution_count": 135,
   "metadata": {},
   "outputs": [
    {
     "data": {
      "text/plain": [
       "True"
      ]
     },
     "execution_count": 135,
     "metadata": {},
     "output_type": "execute_result"
    }
   ],
   "source": [
    "'guido' in val"
   ]
  },
  {
   "cell_type": "code",
   "execution_count": 136,
   "metadata": {},
   "outputs": [
    {
     "data": {
      "text/plain": [
       "1"
      ]
     },
     "execution_count": 136,
     "metadata": {},
     "output_type": "execute_result"
    }
   ],
   "source": [
    "val.index(',')"
   ]
  },
  {
   "cell_type": "code",
   "execution_count": 137,
   "metadata": {},
   "outputs": [
    {
     "data": {
      "text/plain": [
       "-1"
      ]
     },
     "execution_count": 137,
     "metadata": {},
     "output_type": "execute_result"
    }
   ],
   "source": [
    "val.find(':')"
   ]
  },
  {
   "cell_type": "code",
   "execution_count": 138,
   "metadata": {},
   "outputs": [
    {
     "ename": "ValueError",
     "evalue": "substring not found",
     "output_type": "error",
     "traceback": [
      "\u001b[1;31m---------------------------------------------------------------------------\u001b[0m",
      "\u001b[1;31mValueError\u001b[0m                                Traceback (most recent call last)",
      "\u001b[1;32m<ipython-input-138-280f8b2856ce>\u001b[0m in \u001b[0;36m<module>\u001b[1;34m()\u001b[0m\n\u001b[1;32m----> 1\u001b[1;33m \u001b[0mval\u001b[0m\u001b[1;33m.\u001b[0m\u001b[0mindex\u001b[0m\u001b[1;33m(\u001b[0m\u001b[1;34m':'\u001b[0m\u001b[1;33m)\u001b[0m\u001b[1;33m\u001b[0m\u001b[0m\n\u001b[0m",
      "\u001b[1;31mValueError\u001b[0m: substring not found"
     ]
    }
   ],
   "source": [
    "val.index(':')"
   ]
  },
  {
   "cell_type": "code",
   "execution_count": 139,
   "metadata": {},
   "outputs": [
    {
     "data": {
      "text/plain": [
       "1"
      ]
     },
     "execution_count": 139,
     "metadata": {},
     "output_type": "execute_result"
    }
   ],
   "source": [
    "val.count('a')"
   ]
  },
  {
   "cell_type": "code",
   "execution_count": 140,
   "metadata": {},
   "outputs": [
    {
     "data": {
      "text/plain": [
       "'a::b::  guido'"
      ]
     },
     "execution_count": 140,
     "metadata": {},
     "output_type": "execute_result"
    }
   ],
   "source": [
    "val.replace(',', '::')"
   ]
  },
  {
   "cell_type": "code",
   "execution_count": 141,
   "metadata": {},
   "outputs": [
    {
     "data": {
      "text/plain": [
       "'ab  guido'"
      ]
     },
     "execution_count": 141,
     "metadata": {},
     "output_type": "execute_result"
    }
   ],
   "source": [
    "val.replace(',', '')"
   ]
  },
  {
   "cell_type": "markdown",
   "metadata": {},
   "source": [
    "# 正则表达式"
   ]
  },
  {
   "cell_type": "code",
   "execution_count": 142,
   "metadata": {},
   "outputs": [
    {
     "data": {
      "text/plain": [
       "['foo', 'bar', 'baz', 'qux']"
      ]
     },
     "execution_count": 142,
     "metadata": {},
     "output_type": "execute_result"
    }
   ],
   "source": [
    "# 1\n",
    "import re\n",
    "\n",
    "text = \"foo    bar\\t baz  \\tqux\"\n",
    "re.split('\\s+', text)"
   ]
  },
  {
   "cell_type": "code",
   "execution_count": 143,
   "metadata": {},
   "outputs": [
    {
     "data": {
      "text/plain": [
       "['foo', 'bar', 'baz', 'qux']"
      ]
     },
     "execution_count": 143,
     "metadata": {},
     "output_type": "execute_result"
    }
   ],
   "source": [
    "regex = re.compile('\\s+')\n",
    "regex.split(text)"
   ]
  },
  {
   "cell_type": "code",
   "execution_count": 144,
   "metadata": {},
   "outputs": [
    {
     "data": {
      "text/plain": [
       "['    ', '\\t ', '  \\t']"
      ]
     },
     "execution_count": 144,
     "metadata": {},
     "output_type": "execute_result"
    }
   ],
   "source": [
    "regex.findall(text)"
   ]
  },
  {
   "cell_type": "code",
   "execution_count": 145,
   "metadata": {},
   "outputs": [
    {
     "data": {
      "text/plain": [
       "['dave@google.com', 'steve@gmail.com', 'rob@gmail.com', 'ryan@yahoo.com']"
      ]
     },
     "execution_count": 145,
     "metadata": {},
     "output_type": "execute_result"
    }
   ],
   "source": [
    "# 2\n",
    "text = \"\"\"Dave dave@google.com\n",
    "Steve steve@gmail.com\n",
    "Rob rob@gmail.com\n",
    "Ryan ryan@yahoo.com\n",
    "\"\"\"\n",
    "pattern = r'[A-Z0-9._%+-]+@[A-Z0-9.-]+\\.[A-Z]{2,4}'\n",
    "\n",
    "# re.IGNORECASE 的作用是使正则表达式对大小写不敏感\n",
    "regex = re.compile(pattern, flags=re.IGNORECASE)\n",
    "\n",
    "regex.findall(text)"
   ]
  },
  {
   "cell_type": "code",
   "execution_count": 146,
   "metadata": {},
   "outputs": [
    {
     "name": "stdout",
     "output_type": "stream",
     "text": [
      "<_sre.SRE_Match object; span=(5, 20), match='dave@google.com'>\n"
     ]
    }
   ],
   "source": [
    "m = regex.search(text)\n",
    "print(m)"
   ]
  },
  {
   "cell_type": "code",
   "execution_count": 147,
   "metadata": {},
   "outputs": [
    {
     "data": {
      "text/plain": [
       "'dave@google.com'"
      ]
     },
     "execution_count": 147,
     "metadata": {},
     "output_type": "execute_result"
    }
   ],
   "source": [
    "text[m.start():m.end()]"
   ]
  },
  {
   "cell_type": "code",
   "execution_count": 148,
   "metadata": {},
   "outputs": [
    {
     "name": "stdout",
     "output_type": "stream",
     "text": [
      "None\n"
     ]
    }
   ],
   "source": [
    "print(regex.match(text))"
   ]
  },
  {
   "cell_type": "code",
   "execution_count": 149,
   "metadata": {},
   "outputs": [
    {
     "name": "stdout",
     "output_type": "stream",
     "text": [
      "Dave REDACTED\n",
      "Steve REDACTED\n",
      "Rob REDACTED\n",
      "Ryan REDACTED\n",
      "\n"
     ]
    }
   ],
   "source": [
    "print(regex.sub('REDACTED', text))"
   ]
  },
  {
   "cell_type": "code",
   "execution_count": 150,
   "metadata": {},
   "outputs": [
    {
     "data": {
      "text/plain": [
       "('wesm', 'bright', 'net')"
      ]
     },
     "execution_count": 150,
     "metadata": {},
     "output_type": "execute_result"
    }
   ],
   "source": [
    "# 3\n",
    "pattern = r'([A-Z0-9._%+-]+)@([A-Z0-9.-]+)\\.([A-Z]{2,4})'\n",
    "regex = re.compile(pattern, flags=re.IGNORECASE)\n",
    "\n",
    "m = regex.match('wesm@bright.net')\n",
    "m.groups()"
   ]
  },
  {
   "cell_type": "code",
   "execution_count": 151,
   "metadata": {},
   "outputs": [
    {
     "data": {
      "text/plain": [
       "[('dave', 'google', 'com'),\n",
       " ('steve', 'gmail', 'com'),\n",
       " ('rob', 'gmail', 'com'),\n",
       " ('ryan', 'yahoo', 'com')]"
      ]
     },
     "execution_count": 151,
     "metadata": {},
     "output_type": "execute_result"
    }
   ],
   "source": [
    "regex.findall(text)"
   ]
  },
  {
   "cell_type": "code",
   "execution_count": 152,
   "metadata": {},
   "outputs": [
    {
     "name": "stdout",
     "output_type": "stream",
     "text": [
      "Dave Username: dave, Domain: google, Suffix: com\n",
      "Steve Username: steve, Domain: gmail, Suffix: com\n",
      "Rob Username: rob, Domain: gmail, Suffix: com\n",
      "Ryan Username: ryan, Domain: yahoo, Suffix: com\n",
      "\n"
     ]
    }
   ],
   "source": [
    "print(regex.sub(r'Username: \\1, Domain: \\2, Suffix: \\3', text))"
   ]
  },
  {
   "cell_type": "code",
   "execution_count": 153,
   "metadata": {},
   "outputs": [
    {
     "data": {
      "text/plain": [
       "{'domain': 'bright', 'suffix': 'net', 'username': 'wesm'}"
      ]
     },
     "execution_count": 153,
     "metadata": {},
     "output_type": "execute_result"
    }
   ],
   "source": [
    "# 4\n",
    "regex = re.compile(r\"\"\"\n",
    "    (?P<username>[A-Z0-9._%+-]+)\n",
    "    @\n",
    "    (?P<domain>[A-Z0-9.-]+)\n",
    "    \\.\n",
    "    (?P<suffix>[A-Z]{2,4})\"\"\", flags=re.IGNORECASE | re.VERBOSE)\n",
    "\n",
    "m = regex.match('wesm@bright.net')\n",
    "m.groupdict()"
   ]
  },
  {
   "cell_type": "markdown",
   "metadata": {},
   "source": [
    "# pandas中矢量化的字符串函数"
   ]
  },
  {
   "cell_type": "code",
   "execution_count": 154,
   "metadata": {},
   "outputs": [
    {
     "name": "stdout",
     "output_type": "stream",
     "text": [
      "Dave     dave@google.com\n",
      "Rob        rob@gmail.com\n",
      "Steve    steve@gmail.com\n",
      "Wes                  NaN\n",
      "dtype: object\n"
     ]
    }
   ],
   "source": [
    "data = {'Dave': 'dave@google.com', 'Steve': 'steve@gmail.com',\n",
    "        'Rob': 'rob@gmail.com', 'Wes': np.nan}\n",
    "data = Series(data)\n",
    "print(data)"
   ]
  },
  {
   "cell_type": "code",
   "execution_count": 155,
   "metadata": {},
   "outputs": [
    {
     "data": {
      "text/plain": [
       "Dave     False\n",
       "Rob      False\n",
       "Steve    False\n",
       "Wes       True\n",
       "dtype: bool"
      ]
     },
     "execution_count": 155,
     "metadata": {},
     "output_type": "execute_result"
    }
   ],
   "source": [
    "data.isnull()"
   ]
  },
  {
   "cell_type": "code",
   "execution_count": 156,
   "metadata": {},
   "outputs": [
    {
     "data": {
      "text/plain": [
       "Dave     False\n",
       "Rob       True\n",
       "Steve     True\n",
       "Wes        NaN\n",
       "dtype: object"
      ]
     },
     "execution_count": 156,
     "metadata": {},
     "output_type": "execute_result"
    }
   ],
   "source": [
    "data.str.contains('gmail')"
   ]
  },
  {
   "cell_type": "code",
   "execution_count": 157,
   "metadata": {},
   "outputs": [
    {
     "data": {
      "text/plain": [
       "Dave     [(dave, google, com)]\n",
       "Rob        [(rob, gmail, com)]\n",
       "Steve    [(steve, gmail, com)]\n",
       "Wes                        NaN\n",
       "dtype: object"
      ]
     },
     "execution_count": 157,
     "metadata": {},
     "output_type": "execute_result"
    }
   ],
   "source": [
    "data.str.findall(pattern, flags=re.IGNORECASE)"
   ]
  },
  {
   "cell_type": "code",
   "execution_count": 158,
   "metadata": {},
   "outputs": [
    {
     "name": "stdout",
     "output_type": "stream",
     "text": [
      "Dave     True\n",
      "Rob      True\n",
      "Steve    True\n",
      "Wes       NaN\n",
      "dtype: object\n"
     ]
    }
   ],
   "source": [
    "matches = data.str.match(pattern, flags=re.IGNORECASE)\n",
    "print(matches)"
   ]
  },
  {
   "cell_type": "code",
   "execution_count": 159,
   "metadata": {},
   "outputs": [
    {
     "data": {
      "text/plain": [
       "Dave    NaN\n",
       "Rob     NaN\n",
       "Steve   NaN\n",
       "Wes     NaN\n",
       "dtype: float64"
      ]
     },
     "execution_count": 159,
     "metadata": {},
     "output_type": "execute_result"
    }
   ],
   "source": [
    "matches.str.get(1)"
   ]
  },
  {
   "cell_type": "code",
   "execution_count": 160,
   "metadata": {},
   "outputs": [
    {
     "data": {
      "text/plain": [
       "Dave    NaN\n",
       "Rob     NaN\n",
       "Steve   NaN\n",
       "Wes     NaN\n",
       "dtype: float64"
      ]
     },
     "execution_count": 160,
     "metadata": {},
     "output_type": "execute_result"
    }
   ],
   "source": [
    "matches.str[0]"
   ]
  },
  {
   "cell_type": "code",
   "execution_count": 161,
   "metadata": {},
   "outputs": [
    {
     "data": {
      "text/plain": [
       "Dave     dave@\n",
       "Rob      rob@g\n",
       "Steve    steve\n",
       "Wes        NaN\n",
       "dtype: object"
      ]
     },
     "execution_count": 161,
     "metadata": {},
     "output_type": "execute_result"
    }
   ],
   "source": [
    "data.str[:5]"
   ]
  },
  {
   "cell_type": "markdown",
   "metadata": {},
   "source": [
    "# 示例：USDA食品数据库"
   ]
  },
  {
   "cell_type": "code",
   "execution_count": 162,
   "metadata": {},
   "outputs": [
    {
     "data": {
      "text/plain": [
       "6636"
      ]
     },
     "execution_count": 162,
     "metadata": {},
     "output_type": "execute_result"
    }
   ],
   "source": [
    "'''\n",
    "{\n",
    "  \"id\": 21441,\n",
    "  \"description\": \"KENTUCKY FRIED CHICKEN, Fried Chicken, EXTRA CRISPY,\n",
    "Wing, meat and skin with breading\",\n",
    "  \"tags\": [\"KFC\"],\n",
    "  \"manufacturer\": \"Kentucky Fried Chicken\",\n",
    "  \"group\": \"Fast Foods\",\n",
    "  \"portions\": [\n",
    "    {\n",
    "      \"amount\": 1,\n",
    "      \"unit\": \"wing, with skin\",\n",
    "      \"grams\": 68.0\n",
    "    },\n",
    "\n",
    "    ...\n",
    "  ],\n",
    "  \"nutrients\": [\n",
    "    {\n",
    "      \"value\": 20.8,\n",
    "      \"units\": \"g\",\n",
    "      \"description\": \"Protein\",\n",
    "      \"group\": \"Composition\"\n",
    "    },\n",
    "\n",
    "    ...\n",
    "  ]\n",
    "}\n",
    "'''\n",
    "\n",
    "import json\n",
    "\n",
    "db = json.load(open('data/foods-2011-10-03.json'))\n",
    "len(db)"
   ]
  },
  {
   "cell_type": "code",
   "execution_count": 163,
   "metadata": {},
   "outputs": [
    {
     "data": {
      "text/plain": [
       "dict_keys(['id', 'description', 'tags', 'manufacturer', 'group', 'portions', 'nutrients'])"
      ]
     },
     "execution_count": 163,
     "metadata": {},
     "output_type": "execute_result"
    }
   ],
   "source": [
    "db[0].keys()"
   ]
  },
  {
   "cell_type": "code",
   "execution_count": 164,
   "metadata": {},
   "outputs": [
    {
     "data": {
      "text/plain": [
       "{'description': 'Protein',\n",
       " 'group': 'Composition',\n",
       " 'units': 'g',\n",
       " 'value': 25.18}"
      ]
     },
     "execution_count": 164,
     "metadata": {},
     "output_type": "execute_result"
    }
   ],
   "source": [
    "db[0]['nutrients'][0]"
   ]
  },
  {
   "cell_type": "code",
   "execution_count": 165,
   "metadata": {},
   "outputs": [
    {
     "data": {
      "text/html": [
       "<div>\n",
       "<style>\n",
       "    .dataframe thead tr:only-child th {\n",
       "        text-align: right;\n",
       "    }\n",
       "\n",
       "    .dataframe thead th {\n",
       "        text-align: left;\n",
       "    }\n",
       "\n",
       "    .dataframe tbody tr th {\n",
       "        vertical-align: top;\n",
       "    }\n",
       "</style>\n",
       "<table border=\"1\" class=\"dataframe\">\n",
       "  <thead>\n",
       "    <tr style=\"text-align: right;\">\n",
       "      <th></th>\n",
       "      <th>description</th>\n",
       "      <th>group</th>\n",
       "      <th>units</th>\n",
       "      <th>value</th>\n",
       "    </tr>\n",
       "  </thead>\n",
       "  <tbody>\n",
       "    <tr>\n",
       "      <th>0</th>\n",
       "      <td>Protein</td>\n",
       "      <td>Composition</td>\n",
       "      <td>g</td>\n",
       "      <td>25.18</td>\n",
       "    </tr>\n",
       "    <tr>\n",
       "      <th>1</th>\n",
       "      <td>Total lipid (fat)</td>\n",
       "      <td>Composition</td>\n",
       "      <td>g</td>\n",
       "      <td>29.20</td>\n",
       "    </tr>\n",
       "    <tr>\n",
       "      <th>2</th>\n",
       "      <td>Carbohydrate, by difference</td>\n",
       "      <td>Composition</td>\n",
       "      <td>g</td>\n",
       "      <td>3.06</td>\n",
       "    </tr>\n",
       "    <tr>\n",
       "      <th>3</th>\n",
       "      <td>Ash</td>\n",
       "      <td>Other</td>\n",
       "      <td>g</td>\n",
       "      <td>3.28</td>\n",
       "    </tr>\n",
       "    <tr>\n",
       "      <th>4</th>\n",
       "      <td>Energy</td>\n",
       "      <td>Energy</td>\n",
       "      <td>kcal</td>\n",
       "      <td>376.00</td>\n",
       "    </tr>\n",
       "    <tr>\n",
       "      <th>5</th>\n",
       "      <td>Water</td>\n",
       "      <td>Composition</td>\n",
       "      <td>g</td>\n",
       "      <td>39.28</td>\n",
       "    </tr>\n",
       "    <tr>\n",
       "      <th>6</th>\n",
       "      <td>Energy</td>\n",
       "      <td>Energy</td>\n",
       "      <td>kJ</td>\n",
       "      <td>1573.00</td>\n",
       "    </tr>\n",
       "  </tbody>\n",
       "</table>\n",
       "</div>"
      ],
      "text/plain": [
       "                   description        group units    value\n",
       "0                      Protein  Composition     g    25.18\n",
       "1            Total lipid (fat)  Composition     g    29.20\n",
       "2  Carbohydrate, by difference  Composition     g     3.06\n",
       "3                          Ash        Other     g     3.28\n",
       "4                       Energy       Energy  kcal   376.00\n",
       "5                        Water  Composition     g    39.28\n",
       "6                       Energy       Energy    kJ  1573.00"
      ]
     },
     "execution_count": 165,
     "metadata": {},
     "output_type": "execute_result"
    }
   ],
   "source": [
    "nutrients = DataFrame(db[0]['nutrients'])\n",
    "nutrients[:7]"
   ]
  },
  {
   "cell_type": "code",
   "execution_count": 166,
   "metadata": {},
   "outputs": [
    {
     "data": {
      "text/html": [
       "<div>\n",
       "<style>\n",
       "    .dataframe thead tr:only-child th {\n",
       "        text-align: right;\n",
       "    }\n",
       "\n",
       "    .dataframe thead th {\n",
       "        text-align: left;\n",
       "    }\n",
       "\n",
       "    .dataframe tbody tr th {\n",
       "        vertical-align: top;\n",
       "    }\n",
       "</style>\n",
       "<table border=\"1\" class=\"dataframe\">\n",
       "  <thead>\n",
       "    <tr style=\"text-align: right;\">\n",
       "      <th></th>\n",
       "      <th>description</th>\n",
       "      <th>group</th>\n",
       "      <th>id</th>\n",
       "      <th>manufacturer</th>\n",
       "    </tr>\n",
       "  </thead>\n",
       "  <tbody>\n",
       "    <tr>\n",
       "      <th>0</th>\n",
       "      <td>Cheese, caraway</td>\n",
       "      <td>Dairy and Egg Products</td>\n",
       "      <td>1008</td>\n",
       "      <td></td>\n",
       "    </tr>\n",
       "    <tr>\n",
       "      <th>1</th>\n",
       "      <td>Cheese, cheddar</td>\n",
       "      <td>Dairy and Egg Products</td>\n",
       "      <td>1009</td>\n",
       "      <td></td>\n",
       "    </tr>\n",
       "    <tr>\n",
       "      <th>2</th>\n",
       "      <td>Cheese, edam</td>\n",
       "      <td>Dairy and Egg Products</td>\n",
       "      <td>1018</td>\n",
       "      <td></td>\n",
       "    </tr>\n",
       "    <tr>\n",
       "      <th>3</th>\n",
       "      <td>Cheese, feta</td>\n",
       "      <td>Dairy and Egg Products</td>\n",
       "      <td>1019</td>\n",
       "      <td></td>\n",
       "    </tr>\n",
       "    <tr>\n",
       "      <th>4</th>\n",
       "      <td>Cheese, mozzarella, part skim milk</td>\n",
       "      <td>Dairy and Egg Products</td>\n",
       "      <td>1028</td>\n",
       "      <td></td>\n",
       "    </tr>\n",
       "  </tbody>\n",
       "</table>\n",
       "</div>"
      ],
      "text/plain": [
       "                          description                   group    id  \\\n",
       "0                     Cheese, caraway  Dairy and Egg Products  1008   \n",
       "1                     Cheese, cheddar  Dairy and Egg Products  1009   \n",
       "2                        Cheese, edam  Dairy and Egg Products  1018   \n",
       "3                        Cheese, feta  Dairy and Egg Products  1019   \n",
       "4  Cheese, mozzarella, part skim milk  Dairy and Egg Products  1028   \n",
       "\n",
       "  manufacturer  \n",
       "0               \n",
       "1               \n",
       "2               \n",
       "3               \n",
       "4               "
      ]
     },
     "execution_count": 166,
     "metadata": {},
     "output_type": "execute_result"
    }
   ],
   "source": [
    "info_keys = ['description', 'group', 'id', 'manufacturer']\n",
    "info = DataFrame(db, columns=info_keys)\n",
    "\n",
    "info[:5]"
   ]
  },
  {
   "cell_type": "code",
   "execution_count": 167,
   "metadata": {},
   "outputs": [
    {
     "data": {
      "text/plain": [
       "Vegetables and Vegetable Products    812\n",
       "Beef Products                        618\n",
       "Baked Products                       496\n",
       "Breakfast Cereals                    403\n",
       "Fast Foods                           365\n",
       "Legumes and Legume Products          365\n",
       "Lamb, Veal, and Game Products        345\n",
       "Sweets                               341\n",
       "Fruits and Fruit Juices              328\n",
       "Pork Products                        328\n",
       "Name: group, dtype: int64"
      ]
     },
     "execution_count": 167,
     "metadata": {},
     "output_type": "execute_result"
    }
   ],
   "source": [
    "pd.value_counts(info.group)[:10]"
   ]
  },
  {
   "cell_type": "code",
   "execution_count": 168,
   "metadata": {},
   "outputs": [
    {
     "name": "stdout",
     "output_type": "stream",
     "text": [
      "                               description        group    units     value  \\\n",
      "0                                  Protein  Composition        g    25.180   \n",
      "1                        Total lipid (fat)  Composition        g    29.200   \n",
      "2              Carbohydrate, by difference  Composition        g     3.060   \n",
      "3                                      Ash        Other        g     3.280   \n",
      "4                                   Energy       Energy     kcal   376.000   \n",
      "5                                    Water  Composition        g    39.280   \n",
      "6                                   Energy       Energy       kJ  1573.000   \n",
      "7                     Fiber, total dietary  Composition        g     0.000   \n",
      "8                              Calcium, Ca     Elements       mg   673.000   \n",
      "9                                 Iron, Fe     Elements       mg     0.640   \n",
      "10                           Magnesium, Mg     Elements       mg    22.000   \n",
      "11                           Phosphorus, P     Elements       mg   490.000   \n",
      "12                            Potassium, K     Elements       mg    93.000   \n",
      "13                              Sodium, Na     Elements       mg   690.000   \n",
      "14                                Zinc, Zn     Elements       mg     2.940   \n",
      "15                              Copper, Cu     Elements       mg     0.024   \n",
      "16                           Manganese, Mn     Elements       mg     0.021   \n",
      "17                            Selenium, Se     Elements      mcg    14.500   \n",
      "18                           Vitamin A, IU     Vitamins       IU  1054.000   \n",
      "19                                 Retinol     Vitamins      mcg   262.000   \n",
      "20                          Vitamin A, RAE     Vitamins  mcg_RAE   271.000   \n",
      "21          Vitamin C, total ascorbic acid     Vitamins       mg     0.000   \n",
      "22                                 Thiamin     Vitamins       mg     0.031   \n",
      "23                              Riboflavin     Vitamins       mg     0.450   \n",
      "24                                  Niacin     Vitamins       mg     0.180   \n",
      "25                        Pantothenic acid     Vitamins       mg     0.190   \n",
      "26                             Vitamin B-6     Vitamins       mg     0.074   \n",
      "27                           Folate, total     Vitamins      mcg    18.000   \n",
      "28                            Vitamin B-12     Vitamins      mcg     0.270   \n",
      "29                              Folic acid     Vitamins      mcg     0.000   \n",
      "...                                    ...          ...      ...       ...   \n",
      "389325                        Selenium, Se     Elements      mcg     1.100   \n",
      "389326                       Vitamin A, IU     Vitamins       IU     5.000   \n",
      "389327                             Retinol     Vitamins      mcg     0.000   \n",
      "389328                      Vitamin A, RAE     Vitamins  mcg_RAE     0.000   \n",
      "389329                      Carotene, beta     Vitamins      mcg     2.000   \n",
      "389330                     Carotene, alpha     Vitamins      mcg     2.000   \n",
      "389331        Vitamin E (alpha-tocopherol)     Vitamins       mg     0.250   \n",
      "389332                           Vitamin D     Vitamins       IU     0.000   \n",
      "389333                 Vitamin D (D2 + D3)     Vitamins      mcg     0.000   \n",
      "389334                 Cryptoxanthin, beta     Vitamins      mcg     0.000   \n",
      "389335                            Lycopene     Vitamins      mcg     0.000   \n",
      "389336                 Lutein + zeaxanthin     Vitamins      mcg    20.000   \n",
      "389337      Vitamin C, total ascorbic acid     Vitamins       mg    21.900   \n",
      "389338                             Thiamin     Vitamins       mg     0.020   \n",
      "389339                          Riboflavin     Vitamins       mg     0.060   \n",
      "389340                              Niacin     Vitamins       mg     0.540   \n",
      "389341                         Vitamin B-6     Vitamins       mg     0.260   \n",
      "389342                       Folate, total     Vitamins      mcg    17.000   \n",
      "389343                        Vitamin B-12     Vitamins      mcg     0.000   \n",
      "389344                      Choline, total     Vitamins       mg     4.100   \n",
      "389345           Vitamin K (phylloquinone)     Vitamins      mcg     0.500   \n",
      "389346                          Folic acid     Vitamins      mcg     0.000   \n",
      "389347                        Folate, food     Vitamins      mcg    17.000   \n",
      "389348                         Folate, DFE     Vitamins  mcg_DFE    17.000   \n",
      "389349                    Vitamin E, added     Vitamins       mg     0.000   \n",
      "389350                 Vitamin B-12, added     Vitamins      mcg     0.000   \n",
      "389351                         Cholesterol        Other       mg     0.000   \n",
      "389352        Fatty acids, total saturated        Other        g     0.072   \n",
      "389353  Fatty acids, total monounsaturated        Other        g     0.028   \n",
      "389354  Fatty acids, total polyunsaturated        Other        g     0.041   \n",
      "\n",
      "           id  \n",
      "0        1008  \n",
      "1        1008  \n",
      "2        1008  \n",
      "3        1008  \n",
      "4        1008  \n",
      "5        1008  \n",
      "6        1008  \n",
      "7        1008  \n",
      "8        1008  \n",
      "9        1008  \n",
      "10       1008  \n",
      "11       1008  \n",
      "12       1008  \n",
      "13       1008  \n",
      "14       1008  \n",
      "15       1008  \n",
      "16       1008  \n",
      "17       1008  \n",
      "18       1008  \n",
      "19       1008  \n",
      "20       1008  \n",
      "21       1008  \n",
      "22       1008  \n",
      "23       1008  \n",
      "24       1008  \n",
      "25       1008  \n",
      "26       1008  \n",
      "27       1008  \n",
      "28       1008  \n",
      "29       1008  \n",
      "...       ...  \n",
      "389325  43546  \n",
      "389326  43546  \n",
      "389327  43546  \n",
      "389328  43546  \n",
      "389329  43546  \n",
      "389330  43546  \n",
      "389331  43546  \n",
      "389332  43546  \n",
      "389333  43546  \n",
      "389334  43546  \n",
      "389335  43546  \n",
      "389336  43546  \n",
      "389337  43546  \n",
      "389338  43546  \n",
      "389339  43546  \n",
      "389340  43546  \n",
      "389341  43546  \n",
      "389342  43546  \n",
      "389343  43546  \n",
      "389344  43546  \n",
      "389345  43546  \n",
      "389346  43546  \n",
      "389347  43546  \n",
      "389348  43546  \n",
      "389349  43546  \n",
      "389350  43546  \n",
      "389351  43546  \n",
      "389352  43546  \n",
      "389353  43546  \n",
      "389354  43546  \n",
      "\n",
      "[389355 rows x 5 columns]\n"
     ]
    }
   ],
   "source": [
    "nutrients = []\n",
    "\n",
    "for rec in db:\n",
    "    fnuts = DataFrame(rec['nutrients'])\n",
    "    fnuts['id'] = rec['id']\n",
    "    nutrients.append(fnuts)\n",
    "\n",
    "nutrients = pd.concat(nutrients, ignore_index=True)\n",
    "\n",
    "print(nutrients)"
   ]
  },
  {
   "cell_type": "code",
   "execution_count": 169,
   "metadata": {},
   "outputs": [
    {
     "data": {
      "text/plain": [
       "14179"
      ]
     },
     "execution_count": 169,
     "metadata": {},
     "output_type": "execute_result"
    }
   ],
   "source": [
    "# 数据中有重复的数据\n",
    "nutrients.duplicated().sum()"
   ]
  },
  {
   "cell_type": "code",
   "execution_count": 170,
   "metadata": {
    "collapsed": true
   },
   "outputs": [],
   "source": [
    "# 去重\n",
    "nutrients = nutrients.drop_duplicates()"
   ]
  },
  {
   "cell_type": "code",
   "execution_count": 171,
   "metadata": {},
   "outputs": [
    {
     "name": "stdout",
     "output_type": "stream",
     "text": [
      "                                                   food  \\\n",
      "0                                       Cheese, caraway   \n",
      "1                                       Cheese, cheddar   \n",
      "2                                          Cheese, edam   \n",
      "3                                          Cheese, feta   \n",
      "4                    Cheese, mozzarella, part skim milk   \n",
      "5      Cheese, mozzarella, part skim milk, low moisture   \n",
      "6                                        Cheese, romano   \n",
      "7                                     Cheese, roquefort   \n",
      "8     Cheese spread, pasteurized process, american, ...   \n",
      "9                           Cream, fluid, half and half   \n",
      "10    Sour dressing, non-butterfat, cultured, filled...   \n",
      "11    Milk, filled, fluid, with blend of hydrogenate...   \n",
      "12    Cream substitute, liquid, with lauric acid oil...   \n",
      "13                           Cream substitute, powdered   \n",
      "14                  Milk, producer, fluid, 3.7% milkfat   \n",
      "15    Milk, reduced fat, fluid, 2% milkfat, with add...   \n",
      "16    Milk, reduced fat, fluid, 2% milkfat, with add...   \n",
      "17    Milk, reduced fat, fluid, 2% milkfat, protein ...   \n",
      "18    Milk, lowfat, fluid, 1% milkfat, with added vi...   \n",
      "19    Milk, lowfat, fluid, 1% milkfat, with added no...   \n",
      "20    Milk, lowfat, fluid, 1% milkfat, protein forti...   \n",
      "21    Milk, nonfat, fluid, with added vitamin A and ...   \n",
      "22    Milk, nonfat, fluid, with added nonfat milk so...   \n",
      "23    Milk, nonfat, fluid, protein fortified, with a...   \n",
      "24            Milk, buttermilk, fluid, cultured, lowfat   \n",
      "25                              Milk, low sodium, fluid   \n",
      "26               Milk, dry, whole, with added vitamin D   \n",
      "27    Milk, dry, nonfat, regular, without added vita...   \n",
      "28    Milk, dry, nonfat, instant, with added vitamin...   \n",
      "29                   Milk, dry, nonfat, calcium reduced   \n",
      "...                                                 ...   \n",
      "6606  Beef, tenderloin, steak, separable lean only, ...   \n",
      "6607  Beef, top sirloin, steak, separable lean only,...   \n",
      "6608  Beef, short loin, top loin, steak, separable l...   \n",
      "6609  Beef, chuck, arm pot roast, separable lean onl...   \n",
      "6610  Beef, brisket, flat half, separable lean only,...   \n",
      "6611  Beef, chuck, arm pot roast, separable lean onl...   \n",
      "6612  Beef, brisket, flat half, separable lean only,...   \n",
      "6613  Beef, round, eye of round, roast, separable le...   \n",
      "6614  Beef, round, top round, steak, separable lean ...   \n",
      "6615  Beef, round, bottom round, roast, separable le...   \n",
      "6616  Beef, rib, small end (ribs 10-12), separable l...   \n",
      "6617  CAMPBELL Soup Company, CAMPBELL'S Red and Whit...   \n",
      "6618  CAMPBELL Soup Company, CAMPBELL's Red and Whit...   \n",
      "6619  CAMPBELL Soup Company, CAMPBELL'S SELECT Soups...   \n",
      "6620  CAMPBELL Soup Company, CAMPBELL'S SOUP AT HAND...   \n",
      "6621  CAMPBELL Soup Company, CAMPBELL'S SOUP AT HAND...   \n",
      "6622  CAMPBELL Soup Company, CAMPBELL'S SELECT Gold ...   \n",
      "6623  CAMPBELL Soup Company, CAMPBELL'S SELECT Gold ...   \n",
      "6624  CAMPBELL Soup Company, CAMPBELL'S SELECT Gold ...   \n",
      "6625  CAMPBELL Soup Company, CAMPBELL'S Red and Whit...   \n",
      "6626  CAMPBELL Soup Company, V8 Vegetable Juice, Ess...   \n",
      "6627  CAMPBELL Soup Company, V8 Vegetable Juice, Spi...   \n",
      "6628  CAMPBELL Soup Company, PACE, Jalapenos Nacho S...   \n",
      "6629  CAMPBELL Soup Company, V8 60% Vegetable Juice,...   \n",
      "6630  CAMPBELL Soup Company, V8 Vegetable Juice, Low...   \n",
      "6631                             Bologna, beef, low fat   \n",
      "6632  Turkey and pork sausage, fresh, bulk, patty or...   \n",
      "6633                              Babyfood, juice, pear   \n",
      "6634         Babyfood, dessert, banana yogurt, strained   \n",
      "6635              Babyfood, banana no tapioca, strained   \n",
      "\n",
      "                                 fgroup     id       manufacturer  \n",
      "0                Dairy and Egg Products   1008                     \n",
      "1                Dairy and Egg Products   1009                     \n",
      "2                Dairy and Egg Products   1018                     \n",
      "3                Dairy and Egg Products   1019                     \n",
      "4                Dairy and Egg Products   1028                     \n",
      "5                Dairy and Egg Products   1029                     \n",
      "6                Dairy and Egg Products   1038                     \n",
      "7                Dairy and Egg Products   1039                     \n",
      "8                Dairy and Egg Products   1048                     \n",
      "9                Dairy and Egg Products   1049                     \n",
      "10               Dairy and Egg Products   1058                     \n",
      "11               Dairy and Egg Products   1059                     \n",
      "12               Dairy and Egg Products   1068                     \n",
      "13               Dairy and Egg Products   1069                     \n",
      "14               Dairy and Egg Products   1078                     \n",
      "15               Dairy and Egg Products   1079               None  \n",
      "16               Dairy and Egg Products   1080                     \n",
      "17               Dairy and Egg Products   1081                     \n",
      "18               Dairy and Egg Products   1082                     \n",
      "19               Dairy and Egg Products   1083                     \n",
      "20               Dairy and Egg Products   1084                     \n",
      "21               Dairy and Egg Products   1085                     \n",
      "22               Dairy and Egg Products   1086                     \n",
      "23               Dairy and Egg Products   1087                     \n",
      "24               Dairy and Egg Products   1088                     \n",
      "25               Dairy and Egg Products   1089                     \n",
      "26               Dairy and Egg Products   1090                     \n",
      "27               Dairy and Egg Products   1091                     \n",
      "28               Dairy and Egg Products   1092                     \n",
      "29               Dairy and Egg Products   1093                     \n",
      "...                                 ...    ...                ...  \n",
      "6606                      Beef Products  23628                     \n",
      "6607                      Beef Products  23629                     \n",
      "6608                      Beef Products  23630                     \n",
      "6609                      Beef Products  23631                     \n",
      "6610                      Beef Products  23632                     \n",
      "6611                      Beef Products  23633                     \n",
      "6612                      Beef Products  23634                     \n",
      "6613                      Beef Products  23635                     \n",
      "6614                      Beef Products  23636                     \n",
      "6615                      Beef Products  23637                     \n",
      "6616                      Beef Products  23638                     \n",
      "6617         Soups, Sauces, and Gravies  27015  Campbell Soup Co.  \n",
      "6618         Soups, Sauces, and Gravies  27016  Campbell Soup Co.  \n",
      "6619         Soups, Sauces, and Gravies  27021  Campbell Soup Co.  \n",
      "6620         Soups, Sauces, and Gravies  27022  Campbell Soup Co.  \n",
      "6621         Soups, Sauces, and Gravies  27023  Campbell Soup Co.  \n",
      "6622         Soups, Sauces, and Gravies  27024  Campbell Soup Co.  \n",
      "6623         Soups, Sauces, and Gravies  27025  Campbell Soup Co.  \n",
      "6624         Soups, Sauces, and Gravies  27026  Campbell Soup Co.  \n",
      "6625         Soups, Sauces, and Gravies  27032  Campbell Soup Co.  \n",
      "6626  Vegetables and Vegetable Products  31010  Campbell Soup Co.  \n",
      "6627  Vegetables and Vegetable Products  31013  Campbell Soup Co.  \n",
      "6628  Vegetables and Vegetable Products  31014  Campbell Soup Co.  \n",
      "6629  Vegetables and Vegetable Products  31016  Campbell Soup Co.  \n",
      "6630  Vegetables and Vegetable Products  31017  Campbell Soup Co.  \n",
      "6631        Sausages and Luncheon Meats  42161                     \n",
      "6632        Sausages and Luncheon Meats  42173                     \n",
      "6633                         Baby Foods  43408               None  \n",
      "6634                         Baby Foods  43539               None  \n",
      "6635                         Baby Foods  43546               None  \n",
      "\n",
      "[6636 rows x 4 columns]\n"
     ]
    }
   ],
   "source": [
    "col_mapping = {'description': 'food',\n",
    "               'group': 'fgroup'}\n",
    "info = info.rename(columns=col_mapping, copy=False)\n",
    "print(info)"
   ]
  },
  {
   "cell_type": "code",
   "execution_count": 172,
   "metadata": {},
   "outputs": [
    {
     "name": "stdout",
     "output_type": "stream",
     "text": [
      "                                  nutrient     nutgroup    units     value  \\\n",
      "0                                  Protein  Composition        g    25.180   \n",
      "1                        Total lipid (fat)  Composition        g    29.200   \n",
      "2              Carbohydrate, by difference  Composition        g     3.060   \n",
      "3                                      Ash        Other        g     3.280   \n",
      "4                                   Energy       Energy     kcal   376.000   \n",
      "5                                    Water  Composition        g    39.280   \n",
      "6                                   Energy       Energy       kJ  1573.000   \n",
      "7                     Fiber, total dietary  Composition        g     0.000   \n",
      "8                              Calcium, Ca     Elements       mg   673.000   \n",
      "9                                 Iron, Fe     Elements       mg     0.640   \n",
      "10                           Magnesium, Mg     Elements       mg    22.000   \n",
      "11                           Phosphorus, P     Elements       mg   490.000   \n",
      "12                            Potassium, K     Elements       mg    93.000   \n",
      "13                              Sodium, Na     Elements       mg   690.000   \n",
      "14                                Zinc, Zn     Elements       mg     2.940   \n",
      "15                              Copper, Cu     Elements       mg     0.024   \n",
      "16                           Manganese, Mn     Elements       mg     0.021   \n",
      "17                            Selenium, Se     Elements      mcg    14.500   \n",
      "18                           Vitamin A, IU     Vitamins       IU  1054.000   \n",
      "19                                 Retinol     Vitamins      mcg   262.000   \n",
      "20                          Vitamin A, RAE     Vitamins  mcg_RAE   271.000   \n",
      "21          Vitamin C, total ascorbic acid     Vitamins       mg     0.000   \n",
      "22                                 Thiamin     Vitamins       mg     0.031   \n",
      "23                              Riboflavin     Vitamins       mg     0.450   \n",
      "24                                  Niacin     Vitamins       mg     0.180   \n",
      "25                        Pantothenic acid     Vitamins       mg     0.190   \n",
      "26                             Vitamin B-6     Vitamins       mg     0.074   \n",
      "27                           Folate, total     Vitamins      mcg    18.000   \n",
      "28                            Vitamin B-12     Vitamins      mcg     0.270   \n",
      "29                              Folic acid     Vitamins      mcg     0.000   \n",
      "...                                    ...          ...      ...       ...   \n",
      "389325                        Selenium, Se     Elements      mcg     1.100   \n",
      "389326                       Vitamin A, IU     Vitamins       IU     5.000   \n",
      "389327                             Retinol     Vitamins      mcg     0.000   \n",
      "389328                      Vitamin A, RAE     Vitamins  mcg_RAE     0.000   \n",
      "389329                      Carotene, beta     Vitamins      mcg     2.000   \n",
      "389330                     Carotene, alpha     Vitamins      mcg     2.000   \n",
      "389331        Vitamin E (alpha-tocopherol)     Vitamins       mg     0.250   \n",
      "389332                           Vitamin D     Vitamins       IU     0.000   \n",
      "389333                 Vitamin D (D2 + D3)     Vitamins      mcg     0.000   \n",
      "389334                 Cryptoxanthin, beta     Vitamins      mcg     0.000   \n",
      "389335                            Lycopene     Vitamins      mcg     0.000   \n",
      "389336                 Lutein + zeaxanthin     Vitamins      mcg    20.000   \n",
      "389337      Vitamin C, total ascorbic acid     Vitamins       mg    21.900   \n",
      "389338                             Thiamin     Vitamins       mg     0.020   \n",
      "389339                          Riboflavin     Vitamins       mg     0.060   \n",
      "389340                              Niacin     Vitamins       mg     0.540   \n",
      "389341                         Vitamin B-6     Vitamins       mg     0.260   \n",
      "389342                       Folate, total     Vitamins      mcg    17.000   \n",
      "389343                        Vitamin B-12     Vitamins      mcg     0.000   \n",
      "389344                      Choline, total     Vitamins       mg     4.100   \n",
      "389345           Vitamin K (phylloquinone)     Vitamins      mcg     0.500   \n",
      "389346                          Folic acid     Vitamins      mcg     0.000   \n",
      "389347                        Folate, food     Vitamins      mcg    17.000   \n",
      "389348                         Folate, DFE     Vitamins  mcg_DFE    17.000   \n",
      "389349                    Vitamin E, added     Vitamins       mg     0.000   \n",
      "389350                 Vitamin B-12, added     Vitamins      mcg     0.000   \n",
      "389351                         Cholesterol        Other       mg     0.000   \n",
      "389352        Fatty acids, total saturated        Other        g     0.072   \n",
      "389353  Fatty acids, total monounsaturated        Other        g     0.028   \n",
      "389354  Fatty acids, total polyunsaturated        Other        g     0.041   \n",
      "\n",
      "           id  \n",
      "0        1008  \n",
      "1        1008  \n",
      "2        1008  \n",
      "3        1008  \n",
      "4        1008  \n",
      "5        1008  \n",
      "6        1008  \n",
      "7        1008  \n",
      "8        1008  \n",
      "9        1008  \n",
      "10       1008  \n",
      "11       1008  \n",
      "12       1008  \n",
      "13       1008  \n",
      "14       1008  \n",
      "15       1008  \n",
      "16       1008  \n",
      "17       1008  \n",
      "18       1008  \n",
      "19       1008  \n",
      "20       1008  \n",
      "21       1008  \n",
      "22       1008  \n",
      "23       1008  \n",
      "24       1008  \n",
      "25       1008  \n",
      "26       1008  \n",
      "27       1008  \n",
      "28       1008  \n",
      "29       1008  \n",
      "...       ...  \n",
      "389325  43546  \n",
      "389326  43546  \n",
      "389327  43546  \n",
      "389328  43546  \n",
      "389329  43546  \n",
      "389330  43546  \n",
      "389331  43546  \n",
      "389332  43546  \n",
      "389333  43546  \n",
      "389334  43546  \n",
      "389335  43546  \n",
      "389336  43546  \n",
      "389337  43546  \n",
      "389338  43546  \n",
      "389339  43546  \n",
      "389340  43546  \n",
      "389341  43546  \n",
      "389342  43546  \n",
      "389343  43546  \n",
      "389344  43546  \n",
      "389345  43546  \n",
      "389346  43546  \n",
      "389347  43546  \n",
      "389348  43546  \n",
      "389349  43546  \n",
      "389350  43546  \n",
      "389351  43546  \n",
      "389352  43546  \n",
      "389353  43546  \n",
      "389354  43546  \n",
      "\n",
      "[375176 rows x 5 columns]\n"
     ]
    }
   ],
   "source": [
    "col_mapping = {'description': 'nutrient',\n",
    "               'group': 'nutgroup'}\n",
    "nutrients = nutrients.rename(columns=col_mapping, copy=False)\n",
    "print(nutrients)"
   ]
  },
  {
   "cell_type": "code",
   "execution_count": 173,
   "metadata": {},
   "outputs": [
    {
     "name": "stdout",
     "output_type": "stream",
     "text": [
      "                                  nutrient     nutgroup    units     value  \\\n",
      "0                                  Protein  Composition        g    25.180   \n",
      "1                        Total lipid (fat)  Composition        g    29.200   \n",
      "2              Carbohydrate, by difference  Composition        g     3.060   \n",
      "3                                      Ash        Other        g     3.280   \n",
      "4                                   Energy       Energy     kcal   376.000   \n",
      "5                                    Water  Composition        g    39.280   \n",
      "6                                   Energy       Energy       kJ  1573.000   \n",
      "7                     Fiber, total dietary  Composition        g     0.000   \n",
      "8                              Calcium, Ca     Elements       mg   673.000   \n",
      "9                                 Iron, Fe     Elements       mg     0.640   \n",
      "10                           Magnesium, Mg     Elements       mg    22.000   \n",
      "11                           Phosphorus, P     Elements       mg   490.000   \n",
      "12                            Potassium, K     Elements       mg    93.000   \n",
      "13                              Sodium, Na     Elements       mg   690.000   \n",
      "14                                Zinc, Zn     Elements       mg     2.940   \n",
      "15                              Copper, Cu     Elements       mg     0.024   \n",
      "16                           Manganese, Mn     Elements       mg     0.021   \n",
      "17                            Selenium, Se     Elements      mcg    14.500   \n",
      "18                           Vitamin A, IU     Vitamins       IU  1054.000   \n",
      "19                                 Retinol     Vitamins      mcg   262.000   \n",
      "20                          Vitamin A, RAE     Vitamins  mcg_RAE   271.000   \n",
      "21          Vitamin C, total ascorbic acid     Vitamins       mg     0.000   \n",
      "22                                 Thiamin     Vitamins       mg     0.031   \n",
      "23                              Riboflavin     Vitamins       mg     0.450   \n",
      "24                                  Niacin     Vitamins       mg     0.180   \n",
      "25                        Pantothenic acid     Vitamins       mg     0.190   \n",
      "26                             Vitamin B-6     Vitamins       mg     0.074   \n",
      "27                           Folate, total     Vitamins      mcg    18.000   \n",
      "28                            Vitamin B-12     Vitamins      mcg     0.270   \n",
      "29                              Folic acid     Vitamins      mcg     0.000   \n",
      "...                                    ...          ...      ...       ...   \n",
      "375146                        Selenium, Se     Elements      mcg     1.100   \n",
      "375147                       Vitamin A, IU     Vitamins       IU     5.000   \n",
      "375148                             Retinol     Vitamins      mcg     0.000   \n",
      "375149                      Vitamin A, RAE     Vitamins  mcg_RAE     0.000   \n",
      "375150                      Carotene, beta     Vitamins      mcg     2.000   \n",
      "375151                     Carotene, alpha     Vitamins      mcg     2.000   \n",
      "375152        Vitamin E (alpha-tocopherol)     Vitamins       mg     0.250   \n",
      "375153                           Vitamin D     Vitamins       IU     0.000   \n",
      "375154                 Vitamin D (D2 + D3)     Vitamins      mcg     0.000   \n",
      "375155                 Cryptoxanthin, beta     Vitamins      mcg     0.000   \n",
      "375156                            Lycopene     Vitamins      mcg     0.000   \n",
      "375157                 Lutein + zeaxanthin     Vitamins      mcg    20.000   \n",
      "375158      Vitamin C, total ascorbic acid     Vitamins       mg    21.900   \n",
      "375159                             Thiamin     Vitamins       mg     0.020   \n",
      "375160                          Riboflavin     Vitamins       mg     0.060   \n",
      "375161                              Niacin     Vitamins       mg     0.540   \n",
      "375162                         Vitamin B-6     Vitamins       mg     0.260   \n",
      "375163                       Folate, total     Vitamins      mcg    17.000   \n",
      "375164                        Vitamin B-12     Vitamins      mcg     0.000   \n",
      "375165                      Choline, total     Vitamins       mg     4.100   \n",
      "375166           Vitamin K (phylloquinone)     Vitamins      mcg     0.500   \n",
      "375167                          Folic acid     Vitamins      mcg     0.000   \n",
      "375168                        Folate, food     Vitamins      mcg    17.000   \n",
      "375169                         Folate, DFE     Vitamins  mcg_DFE    17.000   \n",
      "375170                    Vitamin E, added     Vitamins       mg     0.000   \n",
      "375171                 Vitamin B-12, added     Vitamins      mcg     0.000   \n",
      "375172                         Cholesterol        Other       mg     0.000   \n",
      "375173        Fatty acids, total saturated        Other        g     0.072   \n",
      "375174  Fatty acids, total monounsaturated        Other        g     0.028   \n",
      "375175  Fatty acids, total polyunsaturated        Other        g     0.041   \n",
      "\n",
      "           id                                   food                  fgroup  \\\n",
      "0        1008                        Cheese, caraway  Dairy and Egg Products   \n",
      "1        1008                        Cheese, caraway  Dairy and Egg Products   \n",
      "2        1008                        Cheese, caraway  Dairy and Egg Products   \n",
      "3        1008                        Cheese, caraway  Dairy and Egg Products   \n",
      "4        1008                        Cheese, caraway  Dairy and Egg Products   \n",
      "5        1008                        Cheese, caraway  Dairy and Egg Products   \n",
      "6        1008                        Cheese, caraway  Dairy and Egg Products   \n",
      "7        1008                        Cheese, caraway  Dairy and Egg Products   \n",
      "8        1008                        Cheese, caraway  Dairy and Egg Products   \n",
      "9        1008                        Cheese, caraway  Dairy and Egg Products   \n",
      "10       1008                        Cheese, caraway  Dairy and Egg Products   \n",
      "11       1008                        Cheese, caraway  Dairy and Egg Products   \n",
      "12       1008                        Cheese, caraway  Dairy and Egg Products   \n",
      "13       1008                        Cheese, caraway  Dairy and Egg Products   \n",
      "14       1008                        Cheese, caraway  Dairy and Egg Products   \n",
      "15       1008                        Cheese, caraway  Dairy and Egg Products   \n",
      "16       1008                        Cheese, caraway  Dairy and Egg Products   \n",
      "17       1008                        Cheese, caraway  Dairy and Egg Products   \n",
      "18       1008                        Cheese, caraway  Dairy and Egg Products   \n",
      "19       1008                        Cheese, caraway  Dairy and Egg Products   \n",
      "20       1008                        Cheese, caraway  Dairy and Egg Products   \n",
      "21       1008                        Cheese, caraway  Dairy and Egg Products   \n",
      "22       1008                        Cheese, caraway  Dairy and Egg Products   \n",
      "23       1008                        Cheese, caraway  Dairy and Egg Products   \n",
      "24       1008                        Cheese, caraway  Dairy and Egg Products   \n",
      "25       1008                        Cheese, caraway  Dairy and Egg Products   \n",
      "26       1008                        Cheese, caraway  Dairy and Egg Products   \n",
      "27       1008                        Cheese, caraway  Dairy and Egg Products   \n",
      "28       1008                        Cheese, caraway  Dairy and Egg Products   \n",
      "29       1008                        Cheese, caraway  Dairy and Egg Products   \n",
      "...       ...                                    ...                     ...   \n",
      "375146  43546  Babyfood, banana no tapioca, strained              Baby Foods   \n",
      "375147  43546  Babyfood, banana no tapioca, strained              Baby Foods   \n",
      "375148  43546  Babyfood, banana no tapioca, strained              Baby Foods   \n",
      "375149  43546  Babyfood, banana no tapioca, strained              Baby Foods   \n",
      "375150  43546  Babyfood, banana no tapioca, strained              Baby Foods   \n",
      "375151  43546  Babyfood, banana no tapioca, strained              Baby Foods   \n",
      "375152  43546  Babyfood, banana no tapioca, strained              Baby Foods   \n",
      "375153  43546  Babyfood, banana no tapioca, strained              Baby Foods   \n",
      "375154  43546  Babyfood, banana no tapioca, strained              Baby Foods   \n",
      "375155  43546  Babyfood, banana no tapioca, strained              Baby Foods   \n",
      "375156  43546  Babyfood, banana no tapioca, strained              Baby Foods   \n",
      "375157  43546  Babyfood, banana no tapioca, strained              Baby Foods   \n",
      "375158  43546  Babyfood, banana no tapioca, strained              Baby Foods   \n",
      "375159  43546  Babyfood, banana no tapioca, strained              Baby Foods   \n",
      "375160  43546  Babyfood, banana no tapioca, strained              Baby Foods   \n",
      "375161  43546  Babyfood, banana no tapioca, strained              Baby Foods   \n",
      "375162  43546  Babyfood, banana no tapioca, strained              Baby Foods   \n",
      "375163  43546  Babyfood, banana no tapioca, strained              Baby Foods   \n",
      "375164  43546  Babyfood, banana no tapioca, strained              Baby Foods   \n",
      "375165  43546  Babyfood, banana no tapioca, strained              Baby Foods   \n",
      "375166  43546  Babyfood, banana no tapioca, strained              Baby Foods   \n",
      "375167  43546  Babyfood, banana no tapioca, strained              Baby Foods   \n",
      "375168  43546  Babyfood, banana no tapioca, strained              Baby Foods   \n",
      "375169  43546  Babyfood, banana no tapioca, strained              Baby Foods   \n",
      "375170  43546  Babyfood, banana no tapioca, strained              Baby Foods   \n",
      "375171  43546  Babyfood, banana no tapioca, strained              Baby Foods   \n",
      "375172  43546  Babyfood, banana no tapioca, strained              Baby Foods   \n",
      "375173  43546  Babyfood, banana no tapioca, strained              Baby Foods   \n",
      "375174  43546  Babyfood, banana no tapioca, strained              Baby Foods   \n",
      "375175  43546  Babyfood, banana no tapioca, strained              Baby Foods   \n",
      "\n",
      "       manufacturer  \n",
      "0                    \n",
      "1                    \n",
      "2                    \n",
      "3                    \n",
      "4                    \n",
      "5                    \n",
      "6                    \n",
      "7                    \n",
      "8                    \n",
      "9                    \n",
      "10                   \n",
      "11                   \n",
      "12                   \n",
      "13                   \n",
      "14                   \n",
      "15                   \n",
      "16                   \n",
      "17                   \n",
      "18                   \n",
      "19                   \n",
      "20                   \n",
      "21                   \n",
      "22                   \n",
      "23                   \n",
      "24                   \n",
      "25                   \n",
      "26                   \n",
      "27                   \n",
      "28                   \n",
      "29                   \n",
      "...             ...  \n",
      "375146         None  \n",
      "375147         None  \n",
      "375148         None  \n",
      "375149         None  \n",
      "375150         None  \n",
      "375151         None  \n",
      "375152         None  \n",
      "375153         None  \n",
      "375154         None  \n",
      "375155         None  \n",
      "375156         None  \n",
      "375157         None  \n",
      "375158         None  \n",
      "375159         None  \n",
      "375160         None  \n",
      "375161         None  \n",
      "375162         None  \n",
      "375163         None  \n",
      "375164         None  \n",
      "375165         None  \n",
      "375166         None  \n",
      "375167         None  \n",
      "375168         None  \n",
      "375169         None  \n",
      "375170         None  \n",
      "375171         None  \n",
      "375172         None  \n",
      "375173         None  \n",
      "375174         None  \n",
      "375175         None  \n",
      "\n",
      "[375176 rows x 8 columns]\n"
     ]
    }
   ],
   "source": [
    "ndata = pd.merge(nutrients, info, on='id', how='outer')\n",
    "print(ndata)"
   ]
  },
  {
   "cell_type": "code",
   "execution_count": 174,
   "metadata": {},
   "outputs": [
    {
     "data": {
      "text/plain": [
       "nutrient                                       Glycine\n",
       "nutgroup                                   Amino Acids\n",
       "units                                                g\n",
       "value                                             0.04\n",
       "id                                                6158\n",
       "food            Soup, tomato bisque, canned, condensed\n",
       "fgroup                      Soups, Sauces, and Gravies\n",
       "manufacturer                                          \n",
       "Name: 30000, dtype: object"
      ]
     },
     "execution_count": 174,
     "metadata": {},
     "output_type": "execute_result"
    }
   ],
   "source": [
    "ndata.loc[30000]"
   ]
  },
  {
   "cell_type": "code",
   "execution_count": 175,
   "metadata": {},
   "outputs": [
    {
     "name": "stdout",
     "output_type": "stream",
     "text": [
      "nutrient          fgroup                           \n",
      "Adjusted Protein  Sweets                               12.9000\n",
      "                  Vegetables and Vegetable Products     2.1800\n",
      "Alanine           Baby Foods                            0.0850\n",
      "                  Baked Products                        0.2480\n",
      "                  Beef Products                         1.5500\n",
      "                  Beverages                             0.0030\n",
      "                  Breakfast Cereals                     0.3110\n",
      "                  Cereal Grains and Pasta               0.3730\n",
      "                  Dairy and Egg Products                0.2710\n",
      "                  Ethnic Foods                          1.2900\n",
      "                  Fast Foods                            0.5140\n",
      "                  Fats and Oils                         0.0000\n",
      "                  Finfish and Shellfish Products        1.2180\n",
      "                  Fruits and Fruit Juices               0.0270\n",
      "                  Lamb, Veal, and Game Products         1.4080\n",
      "                  Legumes and Legume Products           0.4100\n",
      "                  Meals, Entrees, and Sidedishes        0.3270\n",
      "                  Nut and Seed Products                 0.7345\n",
      "                  Pork Products                         1.3070\n",
      "                  Poultry Products                      1.3940\n",
      "                  Restaurant Foods                      0.4650\n",
      "                  Sausages and Luncheon Meats           0.9420\n",
      "                  Snacks                                0.4335\n",
      "                  Soups, Sauces, and Gravies            0.0650\n",
      "                  Spices and Herbs                      0.5550\n",
      "                  Sweets                                0.1020\n",
      "                  Vegetables and Vegetable Products     0.0840\n",
      "Alcohol, ethyl    Baby Foods                            0.0000\n",
      "                  Baked Products                        0.0000\n",
      "                  Beef Products                         0.0000\n",
      "                                                        ...   \n",
      "Water             Snacks                                3.5200\n",
      "                  Soups, Sauces, and Gravies           85.9000\n",
      "                  Spices and Herbs                     43.6700\n",
      "                  Sweets                                9.0500\n",
      "                  Vegetables and Vegetable Products    89.1950\n",
      "Zinc, Zn          Baby Foods                            0.5900\n",
      "                  Baked Products                        0.6600\n",
      "                  Beef Products                         5.3900\n",
      "                  Beverages                             0.0400\n",
      "                  Breakfast Cereals                     2.8850\n",
      "                  Cereal Grains and Pasta               1.0900\n",
      "                  Dairy and Egg Products                1.3900\n",
      "                  Ethnic Foods                          1.0450\n",
      "                  Fast Foods                            1.2500\n",
      "                  Fats and Oils                         0.0200\n",
      "                  Finfish and Shellfish Products        0.6700\n",
      "                  Fruits and Fruit Juices               0.1000\n",
      "                  Lamb, Veal, and Game Products         3.9400\n",
      "                  Legumes and Legume Products           1.1400\n",
      "                  Meals, Entrees, and Sidedishes        0.6300\n",
      "                  Nut and Seed Products                 3.2900\n",
      "                  Pork Products                         2.3200\n",
      "                  Poultry Products                      2.5000\n",
      "                  Restaurant Foods                      0.8000\n",
      "                  Sausages and Luncheon Meats           2.1300\n",
      "                  Snacks                                1.4700\n",
      "                  Soups, Sauces, and Gravies            0.2000\n",
      "                  Spices and Herbs                      2.7500\n",
      "                  Sweets                                0.3600\n",
      "                  Vegetables and Vegetable Products     0.3300\n",
      "Name: value, Length: 2246, dtype: float64\n"
     ]
    }
   ],
   "source": [
    "result = ndata.groupby(['nutrient', 'fgroup'])['value'].quantile(0.5)\n",
    "print(result)"
   ]
  },
  {
   "cell_type": "code",
   "execution_count": 176,
   "metadata": {},
   "outputs": [
    {
     "data": {
      "text/plain": [
       "<matplotlib.axes._subplots.AxesSubplot at 0x2156ce3c748>"
      ]
     },
     "execution_count": 176,
     "metadata": {},
     "output_type": "execute_result"
    }
   ],
   "source": [
    "# result['Zinc, Zn'].order().plot(kind='barh') #AttributeError: 'Series' object has no attribute 'order'\n",
    "result['Zinc, Zn'].sort_values().plot(kind='barh')"
   ]
  },
  {
   "cell_type": "code",
   "execution_count": 177,
   "metadata": {},
   "outputs": [
    {
     "name": "stdout",
     "output_type": "stream",
     "text": [
      "                                                 value  \\\n",
      "nutgroup    nutrient                                     \n",
      "Amino Acids Alanine                              8.009   \n",
      "            Arginine                             7.436   \n",
      "            Aspartic acid                       10.203   \n",
      "            Cystine                              1.307   \n",
      "            Glutamic acid                       17.452   \n",
      "            Glycine                             19.049   \n",
      "            Histidine                            2.999   \n",
      "            Hydroxyproline                       0.803   \n",
      "            Isoleucine                           4.300   \n",
      "            Leucine                              7.200   \n",
      "            Lysine                               6.690   \n",
      "            Methionine                           1.859   \n",
      "            Phenylalanine                        4.600   \n",
      "            Proline                             12.295   \n",
      "            Serine                               4.600   \n",
      "            Threonine                            3.300   \n",
      "            Tryptophan                           1.600   \n",
      "            Tyrosine                             3.300   \n",
      "            Valine                               4.500   \n",
      "Composition Adjusted Protein                    12.900   \n",
      "            Carbohydrate, by difference        100.000   \n",
      "            Fiber, total dietary                79.000   \n",
      "            Protein                             88.320   \n",
      "            Sugars, total                       99.800   \n",
      "            Total lipid (fat)                  100.000   \n",
      "            Water                              100.000   \n",
      "Elements    Calcium, Ca                       7364.000   \n",
      "            Copper, Cu                          15.050   \n",
      "            Fluoride, F                        584.000   \n",
      "            Iron, Fe                            87.470   \n",
      "...                                                ...   \n",
      "Vitamins    Cryptoxanthin, beta               6186.000   \n",
      "            Dihydrophylloquinone               103.800   \n",
      "            Folate, DFE                       2630.000   \n",
      "            Folate, food                      2340.000   \n",
      "            Folate, total                     2340.000   \n",
      "            Folic acid                        1538.000   \n",
      "            Lutein + zeaxanthin              39550.000   \n",
      "            Lycopene                         46260.000   \n",
      "            Menaquinone-4                       33.200   \n",
      "            Niacin                              97.000   \n",
      "            Pantothenic acid                    35.000   \n",
      "            Retinol                          30000.000   \n",
      "            Riboflavin                          14.300   \n",
      "            Thiamin                             20.000   \n",
      "            Tocopherol, beta                     6.490   \n",
      "            Tocopherol, delta                   30.880   \n",
      "            Tocopherol, gamma                  100.880   \n",
      "            Vitamin A, IU                   100000.000   \n",
      "            Vitamin A, RAE                   30000.000   \n",
      "            Vitamin B-12                        98.890   \n",
      "            Vitamin B-12, added                 24.000   \n",
      "            Vitamin B-6                         12.000   \n",
      "            Vitamin C, total ascorbic acid    2400.000   \n",
      "            Vitamin D                        10000.000   \n",
      "            Vitamin D (D2 + D3)                250.000   \n",
      "            Vitamin D2 (ergocalciferol)         28.100   \n",
      "            Vitamin D3 (cholecalciferol)        27.400   \n",
      "            Vitamin E (alpha-tocopherol)       149.400   \n",
      "            Vitamin E, added                    46.550   \n",
      "            Vitamin K (phylloquinone)         1714.500   \n",
      "\n",
      "                                                                                         food  \n",
      "nutgroup    nutrient                                                                           \n",
      "Amino Acids Alanine                                         Gelatins, dry powder, unsweetened  \n",
      "            Arginine                                             Seeds, sesame flour, low-fat  \n",
      "            Aspartic acid                                                 Soy protein isolate  \n",
      "            Cystine                              Seeds, cottonseed flour, low fat (glandless)  \n",
      "            Glutamic acid                                                 Soy protein isolate  \n",
      "            Glycine                                         Gelatins, dry powder, unsweetened  \n",
      "            Histidine                              Whale, beluga, meat, dried (Alaska Native)  \n",
      "            Hydroxyproline                  KENTUCKY FRIED CHICKEN, Fried Chicken, ORIGINA...  \n",
      "            Isoleucine                      Soy protein isolate, PROTEIN TECHNOLOGIES INTE...  \n",
      "            Leucine                         Soy protein isolate, PROTEIN TECHNOLOGIES INTE...  \n",
      "            Lysine                          Seal, bearded (Oogruk), meat, dried (Alaska Na...  \n",
      "            Methionine                                  Fish, cod, Atlantic, dried and salted  \n",
      "            Phenylalanine                   Soy protein isolate, PROTEIN TECHNOLOGIES INTE...  \n",
      "            Proline                                         Gelatins, dry powder, unsweetened  \n",
      "            Serine                          Soy protein isolate, PROTEIN TECHNOLOGIES INTE...  \n",
      "            Threonine                       Soy protein isolate, PROTEIN TECHNOLOGIES INTE...  \n",
      "            Tryptophan                       Sea lion, Steller, meat with fat (Alaska Native)  \n",
      "            Tyrosine                        Soy protein isolate, PROTEIN TECHNOLOGIES INTE...  \n",
      "            Valine                          Soy protein isolate, PROTEIN TECHNOLOGIES INTE...  \n",
      "Composition Adjusted Protein                           Baking chocolate, unsweetened, squares  \n",
      "            Carbohydrate, by difference           Sweeteners, tabletop, fructose, dry, powder  \n",
      "            Fiber, total dietary                                             Corn bran, crude  \n",
      "            Protein                         Soy protein isolate, potassium type, crude pro...  \n",
      "            Sugars, total                                                  Sugars, granulated  \n",
      "            Total lipid (fat)                                                 Oil, wheat germ  \n",
      "            Water                                               Water, bottled, POLAND SPRING  \n",
      "Elements    Calcium, Ca                     Leavening agents, baking powder, double-acting...  \n",
      "            Copper, Cu                      Veal, variety meats and by-products, liver, co...  \n",
      "            Fluoride, F                     Tea, instant, sweetened with sugar, lemon-flav...  \n",
      "            Iron, Fe                            Salad dressing, russian dressing, low calorie  \n",
      "...                                                                                       ...  \n",
      "Vitamins    Cryptoxanthin, beta                                               Spices, paprika  \n",
      "            Dihydrophylloquinone            Margarine, 80% fat, stick, includes regular an...  \n",
      "            Folate, DFE                            Cereals ready-to-eat, QUAKER, CAP'N CRUNCH  \n",
      "            Folate, food                         Leavening agents, yeast, baker's, active dry  \n",
      "            Folate, total                        Leavening agents, yeast, baker's, active dry  \n",
      "            Folic acid                             Cereals ready-to-eat, QUAKER, CAP'N CRUNCH  \n",
      "            Lutein + zeaxanthin                                                     Kale, raw  \n",
      "            Lycopene                                                            Tomato powder  \n",
      "            Menaquinone-4                   Chicken, broilers or fryers, drumstick, meat a...  \n",
      "            Niacin                                                       Yeast extract spread  \n",
      "            Pantothenic acid                Cereals ready-to-eat, KELLOGG, KELLOGG'S Compl...  \n",
      "            Retinol                                                       Fish oil, cod liver  \n",
      "            Riboflavin                                                   Yeast extract spread  \n",
      "            Thiamin                         MORNINGSTAR FARMS Hot and Spicy Veggie Sausage...  \n",
      "            Tocopherol, beta                Yellow pond lily, Wocas, dried seeds (Pacific ...  \n",
      "            Tocopherol, delta                 Oil, cooking and salad, ENOVA, 80% diglycerides  \n",
      "            Tocopherol, gamma                 Oil, cooking and salad, ENOVA, 80% diglycerides  \n",
      "            Vitamin A, IU                                                 Fish oil, cod liver  \n",
      "            Vitamin A, RAE                                                Fish oil, cod liver  \n",
      "            Vitamin B-12                    Mollusks, clam, mixed species, cooked, moist heat  \n",
      "            Vitamin B-12, added             Cereals ready-to-eat, KELLOGG, KELLOGG'S ALL-B...  \n",
      "            Vitamin B-6                     Cereals ready-to-eat, KELLOGG, KELLOGG'S ALL-B...  \n",
      "            Vitamin C, total ascorbic acid  Orange-flavor drink, breakfast type, low calor...  \n",
      "            Vitamin D                                                     Fish oil, cod liver  \n",
      "            Vitamin D (D2 + D3)                                           Fish oil, cod liver  \n",
      "            Vitamin D2 (ergocalciferol)                               Mushrooms, maitake, raw  \n",
      "            Vitamin D3 (cholecalciferol)                        Fish, halibut, Greenland, raw  \n",
      "            Vitamin E (alpha-tocopherol)                                      Oil, wheat germ  \n",
      "            Vitamin E, added                Cereals ready-to-eat, GENERAL MILLS, Multi-Gra...  \n",
      "            Vitamin K (phylloquinone)                                    Spices, sage, ground  \n",
      "\n",
      "[94 rows x 2 columns]\n"
     ]
    }
   ],
   "source": [
    "by_nutrient = ndata.groupby(['nutgroup', 'nutrient'])\n",
    "\n",
    "get_maximum = lambda x: x.xs(x.value.idxmax())\n",
    "get_minimum = lambda x: x.xs(x.value.idxmin())\n",
    "\n",
    "max_foods = by_nutrient.apply(get_maximum)[['value', 'food']]\n",
    "print(max_foods)"
   ]
  },
  {
   "cell_type": "code",
   "execution_count": 178,
   "metadata": {},
   "outputs": [
    {
     "data": {
      "text/plain": [
       "nutrient\n",
       "Alanine                           Gelatins, dry powder, unsweetened\n",
       "Arginine                               Seeds, sesame flour, low-fat\n",
       "Aspartic acid                                   Soy protein isolate\n",
       "Cystine                Seeds, cottonseed flour, low fat (glandless)\n",
       "Glutamic acid                                   Soy protein isolate\n",
       "Glycine                           Gelatins, dry powder, unsweetened\n",
       "Histidine                Whale, beluga, meat, dried (Alaska Native)\n",
       "Hydroxyproline    KENTUCKY FRIED CHICKEN, Fried Chicken, ORIGINA...\n",
       "Isoleucine        Soy protein isolate, PROTEIN TECHNOLOGIES INTE...\n",
       "Leucine           Soy protein isolate, PROTEIN TECHNOLOGIES INTE...\n",
       "Lysine            Seal, bearded (Oogruk), meat, dried (Alaska Na...\n",
       "Methionine                    Fish, cod, Atlantic, dried and salted\n",
       "Phenylalanine     Soy protein isolate, PROTEIN TECHNOLOGIES INTE...\n",
       "Proline                           Gelatins, dry powder, unsweetened\n",
       "Serine            Soy protein isolate, PROTEIN TECHNOLOGIES INTE...\n",
       "Threonine         Soy protein isolate, PROTEIN TECHNOLOGIES INTE...\n",
       "Tryptophan         Sea lion, Steller, meat with fat (Alaska Native)\n",
       "Tyrosine          Soy protein isolate, PROTEIN TECHNOLOGIES INTE...\n",
       "Valine            Soy protein isolate, PROTEIN TECHNOLOGIES INTE...\n",
       "Name: food, dtype: object"
      ]
     },
     "execution_count": 178,
     "metadata": {},
     "output_type": "execute_result"
    }
   ],
   "source": [
    "max_foods.loc['Amino Acids']['food']"
   ]
  },
  {
   "cell_type": "markdown",
   "metadata": {},
   "source": [
    "参考资料：炼数成金Python数据分析课程"
   ]
  }
 ],
 "metadata": {
  "kernelspec": {
   "display_name": "Python 3",
   "language": "python",
   "name": "python3"
  },
  "language_info": {
   "codemirror_mode": {
    "name": "ipython",
    "version": 3
   },
   "file_extension": ".py",
   "mimetype": "text/x-python",
   "name": "python",
   "nbconvert_exporter": "python",
   "pygments_lexer": "ipython3",
   "version": "3.6.1"
  }
 },
 "nbformat": 4,
 "nbformat_minor": 2
}
