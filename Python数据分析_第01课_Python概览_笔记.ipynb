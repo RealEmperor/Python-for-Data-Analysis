{
 "cells": [
  {
   "cell_type": "markdown",
   "metadata": {},
   "source": [
    "# 变量类型\n",
    "\n",
    "## 打印"
   ]
  },
  {
   "cell_type": "code",
   "execution_count": 1,
   "metadata": {},
   "outputs": [
    {
     "name": "stdout",
     "output_type": "stream",
     "text": [
      "Hello, Python!\n"
     ]
    }
   ],
   "source": [
    "# 打印\n",
    "print(\"Hello, Python!\")"
   ]
  },
  {
   "cell_type": "markdown",
   "metadata": {},
   "source": [
    "## 行和缩进"
   ]
  },
  {
   "cell_type": "code",
   "execution_count": 2,
   "metadata": {},
   "outputs": [
    {
     "name": "stdout",
     "output_type": "stream",
     "text": [
      "True\n"
     ]
    }
   ],
   "source": [
    "# 行和缩进\n",
    "if True:\n",
    "    print(\"True\")\n",
    "else:\n",
    "    print(\"False\")"
   ]
  },
  {
   "cell_type": "code",
   "execution_count": 3,
   "metadata": {},
   "outputs": [
    {
     "ename": "IndentationError",
     "evalue": "unexpected indent (<ipython-input-3-d9287ace04e4>, line 7)",
     "traceback": [
      "\u001b[1;36m  File \u001b[1;32m\"<ipython-input-3-d9287ace04e4>\"\u001b[1;36m, line \u001b[1;32m7\u001b[0m\n\u001b[1;33m    print(\"False\")\u001b[0m\n\u001b[1;37m    ^\u001b[0m\n\u001b[1;31mIndentationError\u001b[0m\u001b[1;31m:\u001b[0m unexpected indent\n"
     ],
     "output_type": "error"
    }
   ],
   "source": [
    "if True:\n",
    "    print(\"Answer\")\n",
    "    print(\"True\")\n",
    "else:\n",
    "    print(\"Answer\")\n",
    "    # 没有严格缩进，在执行时报错\n",
    "     print(\"False\")"
   ]
  },
  {
   "cell_type": "markdown",
   "metadata": {},
   "source": [
    "## 多行语句"
   ]
  },
  {
   "cell_type": "code",
   "execution_count": 4,
   "metadata": {},
   "outputs": [
    {
     "name": "stdout",
     "output_type": "stream",
     "text": [
      "6\n"
     ]
    }
   ],
   "source": [
    "# 多行语句\n",
    "item_one = 1\n",
    "item_two = 2\n",
    "item_three = 3\n",
    "total = item_one + \\\n",
    "        item_two + \\\n",
    "        item_three\n",
    "print(total)"
   ]
  },
  {
   "cell_type": "code",
   "execution_count": 5,
   "metadata": {},
   "outputs": [
    {
     "data": {
      "text/plain": [
       "['Monday', 'Tuesday', 'Wednesday', 'Thursday', 'Friday']"
      ]
     },
     "execution_count": 5,
     "metadata": {},
     "output_type": "execute_result"
    }
   ],
   "source": [
    "days = ['Monday', 'Tuesday', 'Wednesday',\n",
    "        'Thursday', 'Friday']\n",
    "days"
   ]
  },
  {
   "cell_type": "markdown",
   "metadata": {},
   "source": [
    "## 引号"
   ]
  },
  {
   "cell_type": "code",
   "execution_count": 6,
   "metadata": {},
   "outputs": [
    {
     "name": "stdout",
     "output_type": "stream",
     "text": [
      "word\n",
      "这是一个句子。\n",
      "这是一个段落。\n",
      "包含了多个语句\n"
     ]
    }
   ],
   "source": [
    "# 引号\n",
    "word = 'word'\n",
    "sentence = \"这是一个句子。\"\n",
    "paragraph = \"\"\"这是一个段落。\n",
    "包含了多个语句\"\"\"\n",
    "print(word)\n",
    "print(sentence)\n",
    "print(paragraph)"
   ]
  },
  {
   "cell_type": "markdown",
   "metadata": {},
   "source": [
    "## 注释"
   ]
  },
  {
   "cell_type": "code",
   "execution_count": null,
   "metadata": {
    "collapsed": true
   },
   "outputs": [],
   "source": [
    "# 注释\n",
    "# 第一个注释\n",
    "print(\"Hello, Python!\")  # 第二个注释\n",
    "name = \"Madisetti\"  # 这是一个注释\n",
    "\n",
    "'''\n",
    "这是多行注释，使用单引号。\n",
    "这是多行注释，使用单引号。\n",
    "这是多行注释，使用单引号。\n",
    "'''\n",
    "\n",
    "\"\"\"\n",
    "这是多行注释，使用双引号。\n",
    "这是多行注释，使用双引号。\n",
    "这是多行注释，使用双引号。\n",
    "\"\"\""
   ]
  },
  {
   "cell_type": "markdown",
   "metadata": {},
   "source": [
    "## 空行"
   ]
  },
  {
   "cell_type": "code",
   "execution_count": null,
   "metadata": {
    "collapsed": true
   },
   "outputs": [],
   "source": [
    "# 空行\n",
    "eval(input(\"\\n\\nPress the enter key to exit.\"))"
   ]
  },
  {
   "cell_type": "code",
   "execution_count": 9,
   "metadata": {},
   "outputs": [
    {
     "name": "stdout",
     "output_type": "stream",
     "text": [
      "foo\n"
     ]
    }
   ],
   "source": [
    "import sys\n",
    "\n",
    "x = 'foo'\n",
    "sys.stdout.write(x + '\\n')"
   ]
  },
  {
   "cell_type": "markdown",
   "metadata": {},
   "source": [
    "## 码组"
   ]
  },
  {
   "cell_type": "code",
   "execution_count": null,
   "metadata": {
    "collapsed": true
   },
   "outputs": [],
   "source": [
    "# 码组\n",
    "'''\n",
    "if expression : \n",
    "   suite \n",
    "elif expression :  \n",
    "   suite  \n",
    "else :  \n",
    "   suite \n",
    "'''"
   ]
  },
  {
   "cell_type": "markdown",
   "metadata": {},
   "source": [
    "## 帮助"
   ]
  },
  {
   "cell_type": "code",
   "execution_count": 11,
   "metadata": {},
   "outputs": [
    {
     "name": "stdout",
     "output_type": "stream",
     "text": [
      "Help on method write in module ipykernel.iostream:\n",
      "\n",
      "write(string) method of ipykernel.iostream.OutStream instance\n",
      "    Write string to stream.\n",
      "    Returns the number of characters written (which is always equal to\n",
      "    the length of the string).\n",
      "\n"
     ]
    }
   ],
   "source": [
    "# 帮助\n",
    "help(sys.stdout.write)"
   ]
  },
  {
   "cell_type": "markdown",
   "metadata": {
    "collapsed": true
   },
   "source": [
    "## 变量赋值"
   ]
  },
  {
   "cell_type": "code",
   "execution_count": 12,
   "metadata": {},
   "outputs": [
    {
     "name": "stdout",
     "output_type": "stream",
     "text": [
      "100\n",
      "1000.0\n",
      "John\n",
      "1 1 1\n",
      "1 2 john\n"
     ]
    }
   ],
   "source": [
    "# 变量赋值\n",
    "counter = 100  # 赋值整型变量\n",
    "miles = 1000.0  # 浮点型\n",
    "name = \"John\"  # 字符串\n",
    "\n",
    "print(counter)\n",
    "print(miles)\n",
    "print(name)\n",
    "\n",
    "a = b = c = 1\n",
    "print(a, b, c)\n",
    "a, b, c = 1, 2, \"john\"\n",
    "print(a, b, c)"
   ]
  },
  {
   "cell_type": "markdown",
   "metadata": {},
   "source": [
    "## 数字"
   ]
  },
  {
   "cell_type": "code",
   "execution_count": 13,
   "metadata": {
    "collapsed": true
   },
   "outputs": [],
   "source": [
    "# 数字\n",
    "var1 = 1\n",
    "var2 = 10"
   ]
  },
  {
   "cell_type": "markdown",
   "metadata": {},
   "source": [
    "## 删除"
   ]
  },
  {
   "cell_type": "code",
   "execution_count": 14,
   "metadata": {
    "collapsed": true
   },
   "outputs": [],
   "source": [
    "#  删除 del var1[,var2[,var3[....,varN]]]]\n",
    "var = 5896419821\n",
    "var_a = 0.22\n",
    "var_b = 3e2\n",
    "del var\n",
    "del var_a, var_b"
   ]
  },
  {
   "cell_type": "markdown",
   "metadata": {},
   "source": [
    "## 字符串"
   ]
  },
  {
   "cell_type": "code",
   "execution_count": 15,
   "metadata": {},
   "outputs": [
    {
     "name": "stdout",
     "output_type": "stream",
     "text": [
      "love\n",
      "pytho\n",
      "Hello World!\n",
      "H\n",
      "llo\n",
      "llo World!\n",
      "Hello World!Hello World!\n",
      "Hello World!TEST\n"
     ]
    }
   ],
   "source": [
    "# 字符串\n",
    "# s=\"a1a2•••an\"(n>=0)\n",
    "s = 'ilovepython'\n",
    "print((s[1:5]))\n",
    "print((s[5:-1]))\n",
    "\n",
    "str = 'Hello World!'\n",
    "print(str)  # 输出完整字符串\n",
    "print(str[0])  # 输出字符串中的第一个字符\n",
    "print(str[2:5])  # 输出字符串中第三个至第五个之间的字符串\n",
    "print(str[2:])  # 输出从第三个字符开始的字符串\n",
    "print(str * 2)  # 输出字符串两次\n",
    "print(str + \"TEST\")  # 输出连接的字符串"
   ]
  },
  {
   "cell_type": "markdown",
   "metadata": {},
   "source": [
    "## 列表"
   ]
  },
  {
   "cell_type": "code",
   "execution_count": 16,
   "metadata": {},
   "outputs": [
    {
     "name": "stdout",
     "output_type": "stream",
     "text": [
      "['abcd', 786, 2.23, 'john', 70.2]\n",
      "abcd\n",
      "[786, 2.23]\n",
      "[2.23, 'john', 70.2]\n",
      "[123, 'john', 123, 'john']\n",
      "['abcd', 786, 2.23, 'john', 70.2, 123, 'john']\n"
     ]
    }
   ],
   "source": [
    "# 列表\n",
    "list = ['abcd', 786, 2.23, 'john', 70.2]\n",
    "tinylist = [123, 'john']\n",
    "\n",
    "print(list)  # 输出完整列表\n",
    "print(list[0])  # 输出列表的第一个元素\n",
    "print(list[1:3])  # 输出第二个至第三个的元素 \n",
    "print(list[2:])  # 输出从第三个开始至列表末尾的所有元素\n",
    "print(tinylist * 2)  # 输出列表两次\n",
    "print(list + tinylist)  # 打印组合的列表"
   ]
  },
  {
   "cell_type": "markdown",
   "metadata": {},
   "source": [
    "## 元组"
   ]
  },
  {
   "cell_type": "code",
   "execution_count": 17,
   "metadata": {},
   "outputs": [
    {
     "name": "stdout",
     "output_type": "stream",
     "text": [
      "('abcd', 786, 2.23, 'john', 70.2)\n",
      "abcd\n",
      "(786, 2.23)\n",
      "(2.23, 'john', 70.2)\n",
      "(123, 'john', 123, 'john')\n",
      "('abcd', 786, 2.23, 'john', 70.2, 123, 'john')\n"
     ]
    },
    {
     "ename": "TypeError",
     "evalue": "'tuple' object does not support item assignment",
     "traceback": [
      "\u001b[1;31m---------------------------------------------------------------------------\u001b[0m",
      "\u001b[1;31mTypeError\u001b[0m                                 Traceback (most recent call last)",
      "\u001b[1;32m<ipython-input-17-db0548b12b81>\u001b[0m in \u001b[0;36m<module>\u001b[1;34m()\u001b[0m\n\u001b[0;32m     12\u001b[0m \u001b[0mtuple\u001b[0m \u001b[1;33m=\u001b[0m \u001b[1;33m(\u001b[0m\u001b[1;34m'abcd'\u001b[0m\u001b[1;33m,\u001b[0m \u001b[1;36m786\u001b[0m\u001b[1;33m,\u001b[0m \u001b[1;36m2.23\u001b[0m\u001b[1;33m,\u001b[0m \u001b[1;34m'john'\u001b[0m\u001b[1;33m,\u001b[0m \u001b[1;36m70.2\u001b[0m\u001b[1;33m)\u001b[0m\u001b[1;33m\u001b[0m\u001b[0m\n\u001b[0;32m     13\u001b[0m \u001b[0mlist\u001b[0m \u001b[1;33m=\u001b[0m \u001b[1;33m[\u001b[0m\u001b[1;34m'abcd'\u001b[0m\u001b[1;33m,\u001b[0m \u001b[1;36m786\u001b[0m\u001b[1;33m,\u001b[0m \u001b[1;36m2.23\u001b[0m\u001b[1;33m,\u001b[0m \u001b[1;34m'john'\u001b[0m\u001b[1;33m,\u001b[0m \u001b[1;36m70.2\u001b[0m\u001b[1;33m]\u001b[0m\u001b[1;33m\u001b[0m\u001b[0m\n\u001b[1;32m---> 14\u001b[1;33m \u001b[0mtuple\u001b[0m\u001b[1;33m[\u001b[0m\u001b[1;36m2\u001b[0m\u001b[1;33m]\u001b[0m \u001b[1;33m=\u001b[0m \u001b[1;36m1000\u001b[0m  \u001b[1;31m# 元组中是非法应用\u001b[0m\u001b[1;33m\u001b[0m\u001b[0m\n\u001b[0m\u001b[0;32m     15\u001b[0m \u001b[0mlist\u001b[0m\u001b[1;33m[\u001b[0m\u001b[1;36m2\u001b[0m\u001b[1;33m]\u001b[0m \u001b[1;33m=\u001b[0m \u001b[1;36m1000\u001b[0m  \u001b[1;31m# 列表中是合法应用\u001b[0m\u001b[1;33m\u001b[0m\u001b[0m\n",
      "\u001b[1;31mTypeError\u001b[0m: 'tuple' object does not support item assignment"
     ],
     "output_type": "error"
    }
   ],
   "source": [
    "# 元组\n",
    "tuple = ('abcd', 786, 2.23, 'john', 70.2)\n",
    "tinytuple = (123, 'john')\n",
    "\n",
    "print(tuple)  # 输出完整元组\n",
    "print(tuple[0])  # 输出元组的第一个元素\n",
    "print(tuple[1:3])  # 输出第二个至第三个的元素 \n",
    "print(tuple[2:])  # 输出从第三个开始至列表末尾的所有元素\n",
    "print(tinytuple * 2)  # 输出元组两次\n",
    "print(tuple + tinytuple)  # 打印组合的元组\n",
    "\n",
    "tuple = ('abcd', 786, 2.23, 'john', 70.2)\n",
    "list = ['abcd', 786, 2.23, 'john', 70.2]\n",
    "tuple[2] = 1000  # 元组中是非法应用\n",
    "list[2] = 1000  # 列表中是合法应用"
   ]
  },
  {
   "cell_type": "markdown",
   "metadata": {},
   "source": [
    "## 字典"
   ]
  },
  {
   "cell_type": "code",
   "execution_count": null,
   "metadata": {},
   "outputs": [],
   "source": [
    "# 字典\n",
    "dict = {}\n",
    "dict['one'] = \"This is one\"\n",
    "dict[2] = \"This is two\"\n",
    "\n",
    "tinydict = {'name': 'john', 'code': 6734, 'dept': 'sales'}\n",
    "\n",
    "print(dict['one'])  # 输出键为'one' 的值\n",
    "print(dict[2])  # 输出键为 2 的值\n",
    "print(tinydict)  # 输出完整的字典\n",
    "print(list(tinydict.keys()))  # 输出所有键\n",
    "print(list(tinydict.values()))  # 输出所有值"
   ]
  },
  {
   "cell_type": "markdown",
   "metadata": {},
   "source": [
    "# 运算符\n",
    "\n",
    "算术运算符"
   ]
  },
  {
   "cell_type": "code",
   "execution_count": 19,
   "metadata": {
    "collapsed": true
   },
   "outputs": [
    {
     "name": "stdout",
     "output_type": "stream",
     "text": [
      "Line 1 - Value of c is  31\n",
      "Line 2 - Value of c is  11\n",
      "Line 3 - Value of c is  210\n",
      "Line 4 - Value of c is  2.1\n",
      "Line 5 - Value of c is  1\n",
      "Line 6 - Value of c is  8\n",
      "Line 7 - Value of c is  2\n"
     ]
    }
   ],
   "source": [
    "# 算术运算符\n",
    "a = 21\n",
    "b = 10\n",
    "c = 0\n",
    "\n",
    "c = a + b\n",
    "print(\"Line 1 - Value of c is \", c)\n",
    "\n",
    "c = a - b\n",
    "print(\"Line 2 - Value of c is \", c)\n",
    "\n",
    "c = a * b\n",
    "print(\"Line 3 - Value of c is \", c)\n",
    "\n",
    "c = a / b\n",
    "print(\"Line 4 - Value of c is \", c)\n",
    "\n",
    "c = a % b\n",
    "print(\"Line 5 - Value of c is \", c)\n",
    "\n",
    "a = 2\n",
    "b = 3\n",
    "c = a ** b\n",
    "print(\"Line 6 - Value of c is \", c)\n",
    "\n",
    "a = 10\n",
    "b = 5\n",
    "c = a // b\n",
    "print(\"Line 7 - Value of c is \", c)"
   ]
  },
  {
   "cell_type": "markdown",
   "metadata": {},
   "source": [
    "## 比较运算符"
   ]
  },
  {
   "cell_type": "code",
   "execution_count": 20,
   "metadata": {
    "collapsed": true
   },
   "outputs": [
    {
     "name": "stdout",
     "output_type": "stream",
     "text": [
      "Line 1 - a is not equal to b\n",
      "Line 2 - a is not equal to b\n",
      "Line 3 - a is not equal to b\n",
      "Line 4 - a is not less than b\n",
      "Line 5 - a is greater than b\n",
      "Line 6 - a is either less than or equal to  b\n",
      "Line 7 - b is either greater than  or equal to b\n"
     ]
    }
   ],
   "source": [
    "# 比较运算符\n",
    "a = 21\n",
    "b = 10\n",
    "c = 0\n",
    "\n",
    "if (a == b):\n",
    "    print(\"Line 1 - a is equal to b\")\n",
    "else:\n",
    "    print(\"Line 1 - a is not equal to b\")\n",
    "\n",
    "if (a != b):\n",
    "    print(\"Line 2 - a is not equal to b\")\n",
    "else:\n",
    "    print(\"Line 2 - a is equal to b\")\n",
    "\n",
    "if (a != b):\n",
    "    print(\"Line 3 - a is not equal to b\")\n",
    "else:\n",
    "    print(\"Line 3 - a is equal to b\")\n",
    "\n",
    "if (a < b):\n",
    "    print(\"Line 4 - a is less than b\")\n",
    "else:\n",
    "    print(\"Line 4 - a is not less than b\")\n",
    "\n",
    "if (a > b):\n",
    "    print(\"Line 5 - a is greater than b\")\n",
    "else:\n",
    "    print(\"Line 5 - a is not greater than b\")\n",
    "\n",
    "a = 5\n",
    "b = 20\n",
    "if (a <= b):\n",
    "    print(\"Line 6 - a is either less than or equal to  b\")\n",
    "else:\n",
    "    print(\"Line 6 - a is neither less than nor equal to  b\")\n",
    "\n",
    "if (b >= a):\n",
    "    print(\"Line 7 - b is either greater than  or equal to b\")\n",
    "else:\n",
    "    print(\"Line 7 - b is neither greater than  nor equal to b\")"
   ]
  },
  {
   "cell_type": "markdown",
   "metadata": {},
   "source": [
    "## 赋值运算符"
   ]
  },
  {
   "cell_type": "code",
   "execution_count": 21,
   "metadata": {
    "collapsed": true
   },
   "outputs": [
    {
     "name": "stdout",
     "output_type": "stream",
     "text": [
      "Line 1 - Value of c is  31\n",
      "Line 2 - Value of c is  52\n",
      "Line 3 - Value of c is  1092\n",
      "Line 4 - Value of c is  52.0\n",
      "Line 5 - Value of c is  2\n",
      "Line 6 - Value of c is  2097152\n",
      "Line 7 - Value of c is  99864\n"
     ]
    }
   ],
   "source": [
    "# 赋值运算符\n",
    "a = 21\n",
    "b = 10\n",
    "c = 0\n",
    "\n",
    "c = a + b\n",
    "print(\"Line 1 - Value of c is \", c)\n",
    "\n",
    "c += a\n",
    "print(\"Line 2 - Value of c is \", c)\n",
    "\n",
    "c *= a\n",
    "print(\"Line 3 - Value of c is \", c)\n",
    "\n",
    "c /= a\n",
    "print(\"Line 4 - Value of c is \", c)\n",
    "\n",
    "c = 2\n",
    "c %= a\n",
    "print(\"Line 5 - Value of c is \", c)\n",
    "\n",
    "c **= a\n",
    "print(\"Line 6 - Value of c is \", c)\n",
    "\n",
    "c //= a\n",
    "print(\"Line 7 - Value of c is \", c)"
   ]
  },
  {
   "cell_type": "markdown",
   "metadata": {},
   "source": [
    "## 位运算符"
   ]
  },
  {
   "cell_type": "code",
   "execution_count": 22,
   "metadata": {
    "collapsed": true
   },
   "outputs": [
    {
     "name": "stdout",
     "output_type": "stream",
     "text": [
      "Line 1 - Value of c is  12\n",
      "Line 2 - Value of c is  61\n",
      "Line 3 - Value of c is  49\n",
      "Line 4 - Value of c is  -61\n",
      "Line 5 - Value of c is  240\n",
      "Line 6 - Value of c is  15\n"
     ]
    }
   ],
   "source": [
    "# 位运算符\n",
    "a = 60  # 60 = 0011 1100 \n",
    "b = 13  # 13 = 0000 1101 \n",
    "c = 0\n",
    "\n",
    "c = a & b  # 12 = 0000 1100\n",
    "print(\"Line 1 - Value of c is \", c)\n",
    "\n",
    "c = a | b  # 61 = 0011 1101 \n",
    "print(\"Line 2 - Value of c is \", c)\n",
    "\n",
    "c = a ^ b  # 49 = 0011 0001\n",
    "print(\"Line 3 - Value of c is \", c)\n",
    "\n",
    "c = ~a  # -61 = 1100 0011\n",
    "print(\"Line 4 - Value of c is \", c)\n",
    "\n",
    "c = a << 2  # 240 = 1111 0000\n",
    "print(\"Line 5 - Value of c is \", c)\n",
    "\n",
    "c = a >> 2  # 15 = 0000 1111\n",
    "print(\"Line 6 - Value of c is \", c)"
   ]
  },
  {
   "cell_type": "markdown",
   "metadata": {},
   "source": [
    "## 逻辑运算符"
   ]
  },
  {
   "cell_type": "code",
   "execution_count": 23,
   "metadata": {
    "collapsed": true
   },
   "outputs": [
    {
     "name": "stdout",
     "output_type": "stream",
     "text": [
      "Line 1 - a and b are true\n",
      "Line 2 - Either a is true or b is true or both are true\n",
      "Line 3 - Either a is not true or b is not true\n",
      "Line 4 - Either a is true or b is true or both are true\n",
      "Line 5 - Either a is not true or b is  not true or both are not true\n"
     ]
    }
   ],
   "source": [
    "# 逻辑运算符\n",
    "a = 10\n",
    "b = 20\n",
    "c = 0\n",
    "\n",
    "if (a and b):\n",
    "    print(\"Line 1 - a and b are true\")\n",
    "else:\n",
    "    print(\"Line 1 - Either a is not true or b is not true\")\n",
    "\n",
    "if (a or b):\n",
    "    print(\"Line 2 - Either a is true or b is true or both are true\")\n",
    "else:\n",
    "    print(\"Line 2 - Neither a is true nor b is true\")\n",
    "\n",
    "a = 0\n",
    "if (a and b):\n",
    "    print(\"Line 3 - a and b are true\")\n",
    "else:\n",
    "    print(\"Line 3 - Either a is not true or b is not true\")\n",
    "\n",
    "if (a or b):\n",
    "    print(\"Line 4 - Either a is true or b is true or both are true\")\n",
    "else:\n",
    "    print(\"Line 4 - Neither a is true nor b is true\")\n",
    "\n",
    "if not (a and b):\n",
    "    print(\"Line 5 - Either a is not true or b is  not true or both are not true\")\n",
    "else:\n",
    "    print(\"Line 5 - a and b are true\")"
   ]
  },
  {
   "cell_type": "markdown",
   "metadata": {},
   "source": [
    "## 成员运算符"
   ]
  },
  {
   "cell_type": "code",
   "execution_count": 24,
   "metadata": {
    "collapsed": true
   },
   "outputs": [
    {
     "name": "stdout",
     "output_type": "stream",
     "text": [
      "Line 1 - a is not available in the given list\n",
      "Line 2 - b is not available in the given list\n",
      "Line 3 - a is available in the given list\n"
     ]
    }
   ],
   "source": [
    "# 成员运算符\n",
    "a = 10\n",
    "b = 20\n",
    "list = [1, 2, 3, 4, 5]\n",
    "\n",
    "if (a in list):\n",
    "    print(\"Line 1 - a is available in the given list\")\n",
    "else:\n",
    "    print(\"Line 1 - a is not available in the given list\")\n",
    "\n",
    "if (b not in list):\n",
    "    print(\"Line 2 - b is not available in the given list\")\n",
    "else:\n",
    "    print(\"Line 2 - b is available in the given list\")\n",
    "\n",
    "a = 2\n",
    "if (a in list):\n",
    "    print(\"Line 3 - a is available in the given list\")\n",
    "else:\n",
    "    print(\"Line 3 - a is not available in the given list\")"
   ]
  },
  {
   "cell_type": "markdown",
   "metadata": {},
   "source": [
    "## 身份运算符"
   ]
  },
  {
   "cell_type": "code",
   "execution_count": 25,
   "metadata": {
    "collapsed": true
   },
   "outputs": [
    {
     "name": "stdout",
     "output_type": "stream",
     "text": [
      "Line 1 - a and b have same identity\n",
      "Line 2 - a and b have same identity\n",
      "Line 3 - a and b do not have same identity\n",
      "Line 4 - a and b do not have same identity\n"
     ]
    }
   ],
   "source": [
    "# 身份运算符\n",
    "a = 20\n",
    "b = 20\n",
    "\n",
    "if (a is b):\n",
    "    print(\"Line 1 - a and b have same identity\")\n",
    "else:\n",
    "    print(\"Line 1 - a and b do not have same identity\")\n",
    "\n",
    "if (id(a) == id(b)):\n",
    "    print(\"Line 2 - a and b have same identity\")\n",
    "else:\n",
    "    print(\"Line 2 - a and b do not have same identity\")\n",
    "\n",
    "b = 30\n",
    "if (a is b):\n",
    "    print(\"Line 3 - a and b have same identity\")\n",
    "else:\n",
    "    print(\"Line 3 - a and b do not have same identity\")\n",
    "\n",
    "if (a is not b):\n",
    "    print(\"Line 4 - a and b do not have same identity\")\n",
    "else:\n",
    "    print(\"Line 4 - a and b have same identity\")"
   ]
  },
  {
   "cell_type": "markdown",
   "metadata": {},
   "source": [
    "## 运算符优先级"
   ]
  },
  {
   "cell_type": "code",
   "execution_count": 26,
   "metadata": {
    "collapsed": true
   },
   "outputs": [
    {
     "name": "stdout",
     "output_type": "stream",
     "text": [
      "Value of (a + b) * c / d is  90.0\n",
      "Value of ((a + b) * c) / d is  90.0\n",
      "Value of (a + b) * (c / d) is  90.0\n",
      "Value of a + (b * c) / d is  50.0\n"
     ]
    }
   ],
   "source": [
    "# 运算符优先级\n",
    "a = 20\n",
    "b = 10\n",
    "c = 15\n",
    "d = 5\n",
    "e = 0\n",
    "\n",
    "e = (a + b) * c / d  # ( 30 * 15 ) / 5\n",
    "print(\"Value of (a + b) * c / d is \", e)\n",
    "\n",
    "e = ((a + b) * c) / d  # (30 * 15 ) / 5\n",
    "print(\"Value of ((a + b) * c) / d is \", e)\n",
    "\n",
    "e = (a + b) * (c / d)  # (30) * (15/5)\n",
    "print(\"Value of (a + b) * (c / d) is \", e)\n",
    "\n",
    "e = a + (b * c) / d  # 20 + (150/5)\n",
    "print(\"Value of a + (b * c) / d is \", e)"
   ]
  },
  {
   "cell_type": "markdown",
   "metadata": {},
   "source": [
    "参考资料：炼数成金Python数据分析课程"
   ]
  }
 ],
 "metadata": {
  "kernelspec": {
   "display_name": "Python 3",
   "language": "python",
   "name": "python3"
  },
  "language_info": {
   "codemirror_mode": {
    "name": "ipython",
    "version": 3
   },
   "file_extension": ".py",
   "mimetype": "text/x-python",
   "name": "python",
   "nbconvert_exporter": "python",
   "pygments_lexer": "ipython3",
   "version": "3.6.1"
  }
 },
 "nbformat": 4,
 "nbformat_minor": 1
}
